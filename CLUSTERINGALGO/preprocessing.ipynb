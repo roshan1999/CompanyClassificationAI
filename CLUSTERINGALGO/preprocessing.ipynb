{
 "cells": [
  {
   "cell_type": "markdown",
   "metadata": {},
   "source": [
    "# COMPANY CLASSIFICATION - **using clustering Algo** #\n",
    "## ---------START OF DATA PROCESSING------- #"
   ]
  },
  {
   "cell_type": "code",
   "execution_count": 73,
   "metadata": {
    "collapsed": true
   },
   "outputs": [],
   "source": [
    "import pandas as pd"
   ]
  },
  {
   "cell_type": "code",
   "execution_count": 74,
   "metadata": {
    "collapsed": true
   },
   "outputs": [],
   "source": [
    "df = pd.read_csv('testdata.csv')"
   ]
  },
  {
   "cell_type": "code",
   "execution_count": 75,
   "metadata": {
    "collapsed": false,
    "scrolled": true
   },
   "outputs": [
    {
     "data": {
      "text/html": [
       "<div>\n",
       "<table border=\"1\" class=\"dataframe\">\n",
       "  <thead>\n",
       "    <tr style=\"text-align: right;\">\n",
       "      <th></th>\n",
       "      <th>housing_flg</th>\n",
       "      <th>Google’s First Url</th>\n",
       "      <th>Unnamed: 2</th>\n",
       "      <th>Unnamed: 3</th>\n",
       "      <th>Unnamed: 4</th>\n",
       "      <th>Unnamed: 5</th>\n",
       "    </tr>\n",
       "  </thead>\n",
       "  <tbody>\n",
       "    <tr>\n",
       "      <th>0</th>\n",
       "      <td>NaN</td>\n",
       "      <td>NaN</td>\n",
       "      <td>NaN</td>\n",
       "      <td>NaN</td>\n",
       "      <td>NaN</td>\n",
       "      <td>NaN</td>\n",
       "    </tr>\n",
       "    <tr>\n",
       "      <th>1</th>\n",
       "      <td>AADHAR HOUSING FINAN</td>\n",
       "      <td>https://aadharhousing.com/</td>\n",
       "      <td>NaN</td>\n",
       "      <td>NaN</td>\n",
       "      <td>NaN</td>\n",
       "      <td>NaN</td>\n",
       "    </tr>\n",
       "    <tr>\n",
       "      <th>2</th>\n",
       "      <td>AAMAADMIPARTY</td>\n",
       "      <td>https://aamaadmiparty.org/</td>\n",
       "      <td>NaN</td>\n",
       "      <td>NaN</td>\n",
       "      <td>NaN</td>\n",
       "      <td>NaN</td>\n",
       "    </tr>\n",
       "    <tr>\n",
       "      <th>3</th>\n",
       "      <td>Aavas Financiers Lim</td>\n",
       "      <td>https://www.aavas.in/</td>\n",
       "      <td>NaN</td>\n",
       "      <td>NaN</td>\n",
       "      <td>NaN</td>\n",
       "      <td>NaN</td>\n",
       "    </tr>\n",
       "    <tr>\n",
       "      <th>4</th>\n",
       "      <td>ABHIPRA CAPITAL LTD</td>\n",
       "      <td>https://www.abhipra.com/</td>\n",
       "      <td>NaN</td>\n",
       "      <td>NaN</td>\n",
       "      <td>NaN</td>\n",
       "      <td>NaN</td>\n",
       "    </tr>\n",
       "  </tbody>\n",
       "</table>\n",
       "</div>"
      ],
      "text/plain": [
       "            housing_flg          Google’s First Url Unnamed: 2 Unnamed: 3  \\\n",
       "0                   NaN                         NaN        NaN        NaN   \n",
       "1  AADHAR HOUSING FINAN  https://aadharhousing.com/        NaN        NaN   \n",
       "2         AAMAADMIPARTY  https://aamaadmiparty.org/        NaN        NaN   \n",
       "3  Aavas Financiers Lim       https://www.aavas.in/        NaN        NaN   \n",
       "4   ABHIPRA CAPITAL LTD    https://www.abhipra.com/        NaN        NaN   \n",
       "\n",
       "  Unnamed: 4 Unnamed: 5  \n",
       "0        NaN        NaN  \n",
       "1        NaN        NaN  \n",
       "2        NaN        NaN  \n",
       "3        NaN        NaN  \n",
       "4        NaN        NaN  "
      ]
     },
     "execution_count": 75,
     "metadata": {},
     "output_type": "execute_result"
    }
   ],
   "source": [
    "df.head()"
   ]
  },
  {
   "cell_type": "code",
   "execution_count": 76,
   "metadata": {
    "collapsed": false,
    "scrolled": false
   },
   "outputs": [
    {
     "data": {
      "text/html": [
       "<div>\n",
       "<table border=\"1\" class=\"dataframe\">\n",
       "  <thead>\n",
       "    <tr style=\"text-align: right;\">\n",
       "      <th></th>\n",
       "      <th>housing_flg</th>\n",
       "      <th>Google’s First Url</th>\n",
       "      <th>Unnamed: 2</th>\n",
       "      <th>Unnamed: 3</th>\n",
       "      <th>Unnamed: 4</th>\n",
       "      <th>Unnamed: 5</th>\n",
       "    </tr>\n",
       "  </thead>\n",
       "  <tbody>\n",
       "    <tr>\n",
       "      <th>count</th>\n",
       "      <td>1375</td>\n",
       "      <td>1326</td>\n",
       "      <td>4</td>\n",
       "      <td>2</td>\n",
       "      <td>2</td>\n",
       "      <td>2</td>\n",
       "    </tr>\n",
       "    <tr>\n",
       "      <th>unique</th>\n",
       "      <td>1355</td>\n",
       "      <td>748</td>\n",
       "      <td>3</td>\n",
       "      <td>1</td>\n",
       "      <td>1</td>\n",
       "      <td>1</td>\n",
       "    </tr>\n",
       "    <tr>\n",
       "      <th>top</th>\n",
       "      <td>CNRB</td>\n",
       "      <td>https://www.herofincorp.com/</td>\n",
       "      <td>state-delhi</td>\n",
       "      <td>district-new-delhi</td>\n",
       "      <td>branch-racpc-delhi</td>\n",
       "      <td>ifsccode-SBIN0004492.cms</td>\n",
       "    </tr>\n",
       "    <tr>\n",
       "      <th>freq</th>\n",
       "      <td>3</td>\n",
       "      <td>12</td>\n",
       "      <td>2</td>\n",
       "      <td>2</td>\n",
       "      <td>2</td>\n",
       "      <td>2</td>\n",
       "    </tr>\n",
       "  </tbody>\n",
       "</table>\n",
       "</div>"
      ],
      "text/plain": [
       "       housing_flg            Google’s First Url   Unnamed: 2  \\\n",
       "count         1375                          1326            4   \n",
       "unique        1355                           748            3   \n",
       "top          CNRB   https://www.herofincorp.com/  state-delhi   \n",
       "freq             3                            12            2   \n",
       "\n",
       "                Unnamed: 3          Unnamed: 4                Unnamed: 5  \n",
       "count                    2                   2                         2  \n",
       "unique                   1                   1                         1  \n",
       "top     district-new-delhi  branch-racpc-delhi  ifsccode-SBIN0004492.cms  \n",
       "freq                     2                   2                         2  "
      ]
     },
     "execution_count": 76,
     "metadata": {},
     "output_type": "execute_result"
    }
   ],
   "source": [
    "df.describe()"
   ]
  },
  {
   "cell_type": "code",
   "execution_count": 77,
   "metadata": {
    "collapsed": false
   },
   "outputs": [],
   "source": [
    "td = df.columns.str.contains('^Unnamed')"
   ]
  },
  {
   "cell_type": "code",
   "execution_count": 78,
   "metadata": {
    "collapsed": false
   },
   "outputs": [],
   "source": [
    "df = df.loc[:,~td]"
   ]
  },
  {
   "cell_type": "code",
   "execution_count": 79,
   "metadata": {
    "collapsed": false,
    "scrolled": true
   },
   "outputs": [
    {
     "data": {
      "text/html": [
       "<div>\n",
       "<table border=\"1\" class=\"dataframe\">\n",
       "  <thead>\n",
       "    <tr style=\"text-align: right;\">\n",
       "      <th></th>\n",
       "      <th>housing_flg</th>\n",
       "      <th>Google’s First Url</th>\n",
       "    </tr>\n",
       "  </thead>\n",
       "  <tbody>\n",
       "    <tr>\n",
       "      <th>0</th>\n",
       "      <td>NaN</td>\n",
       "      <td>NaN</td>\n",
       "    </tr>\n",
       "    <tr>\n",
       "      <th>1</th>\n",
       "      <td>AADHAR HOUSING FINAN</td>\n",
       "      <td>https://aadharhousing.com/</td>\n",
       "    </tr>\n",
       "    <tr>\n",
       "      <th>2</th>\n",
       "      <td>AAMAADMIPARTY</td>\n",
       "      <td>https://aamaadmiparty.org/</td>\n",
       "    </tr>\n",
       "    <tr>\n",
       "      <th>3</th>\n",
       "      <td>Aavas Financiers Lim</td>\n",
       "      <td>https://www.aavas.in/</td>\n",
       "    </tr>\n",
       "    <tr>\n",
       "      <th>4</th>\n",
       "      <td>ABHIPRA CAPITAL LTD</td>\n",
       "      <td>https://www.abhipra.com/</td>\n",
       "    </tr>\n",
       "  </tbody>\n",
       "</table>\n",
       "</div>"
      ],
      "text/plain": [
       "            housing_flg          Google’s First Url\n",
       "0                   NaN                         NaN\n",
       "1  AADHAR HOUSING FINAN  https://aadharhousing.com/\n",
       "2         AAMAADMIPARTY  https://aamaadmiparty.org/\n",
       "3  Aavas Financiers Lim       https://www.aavas.in/\n",
       "4   ABHIPRA CAPITAL LTD    https://www.abhipra.com/"
      ]
     },
     "execution_count": 79,
     "metadata": {},
     "output_type": "execute_result"
    }
   ],
   "source": [
    "df.head()"
   ]
  },
  {
   "cell_type": "code",
   "execution_count": 80,
   "metadata": {
    "collapsed": false
   },
   "outputs": [
    {
     "data": {
      "text/html": [
       "<div>\n",
       "<table border=\"1\" class=\"dataframe\">\n",
       "  <thead>\n",
       "    <tr style=\"text-align: right;\">\n",
       "      <th></th>\n",
       "      <th>housing_flg</th>\n",
       "      <th>Google’s First Url</th>\n",
       "    </tr>\n",
       "  </thead>\n",
       "  <tbody>\n",
       "    <tr>\n",
       "      <th>count</th>\n",
       "      <td>1375</td>\n",
       "      <td>1326</td>\n",
       "    </tr>\n",
       "    <tr>\n",
       "      <th>unique</th>\n",
       "      <td>1355</td>\n",
       "      <td>748</td>\n",
       "    </tr>\n",
       "    <tr>\n",
       "      <th>top</th>\n",
       "      <td>CNRB</td>\n",
       "      <td>https://www.herofincorp.com/</td>\n",
       "    </tr>\n",
       "    <tr>\n",
       "      <th>freq</th>\n",
       "      <td>3</td>\n",
       "      <td>12</td>\n",
       "    </tr>\n",
       "  </tbody>\n",
       "</table>\n",
       "</div>"
      ],
      "text/plain": [
       "       housing_flg            Google’s First Url\n",
       "count         1375                          1326\n",
       "unique        1355                           748\n",
       "top          CNRB   https://www.herofincorp.com/\n",
       "freq             3                            12"
      ]
     },
     "execution_count": 80,
     "metadata": {},
     "output_type": "execute_result"
    }
   ],
   "source": [
    "df.describe()"
   ]
  },
  {
   "cell_type": "code",
   "execution_count": 81,
   "metadata": {
    "collapsed": false
   },
   "outputs": [],
   "source": [
    "df = df.dropna(subset=['housing_flg'])"
   ]
  },
  {
   "cell_type": "code",
   "execution_count": 82,
   "metadata": {
    "collapsed": false,
    "scrolled": false
   },
   "outputs": [
    {
     "data": {
      "text/html": [
       "<div>\n",
       "<table border=\"1\" class=\"dataframe\">\n",
       "  <thead>\n",
       "    <tr style=\"text-align: right;\">\n",
       "      <th></th>\n",
       "      <th>housing_flg</th>\n",
       "      <th>Google’s First Url</th>\n",
       "    </tr>\n",
       "  </thead>\n",
       "  <tbody>\n",
       "    <tr>\n",
       "      <th>1</th>\n",
       "      <td>False</td>\n",
       "      <td>False</td>\n",
       "    </tr>\n",
       "    <tr>\n",
       "      <th>2</th>\n",
       "      <td>False</td>\n",
       "      <td>False</td>\n",
       "    </tr>\n",
       "    <tr>\n",
       "      <th>3</th>\n",
       "      <td>False</td>\n",
       "      <td>False</td>\n",
       "    </tr>\n",
       "    <tr>\n",
       "      <th>4</th>\n",
       "      <td>False</td>\n",
       "      <td>False</td>\n",
       "    </tr>\n",
       "    <tr>\n",
       "      <th>5</th>\n",
       "      <td>False</td>\n",
       "      <td>False</td>\n",
       "    </tr>\n",
       "  </tbody>\n",
       "</table>\n",
       "</div>"
      ],
      "text/plain": [
       "  housing_flg Google’s First Url\n",
       "1       False              False\n",
       "2       False              False\n",
       "3       False              False\n",
       "4       False              False\n",
       "5       False              False"
      ]
     },
     "execution_count": 82,
     "metadata": {},
     "output_type": "execute_result"
    }
   ],
   "source": [
    "df.isnull().head()"
   ]
  },
  {
   "cell_type": "code",
   "execution_count": 83,
   "metadata": {
    "collapsed": false
   },
   "outputs": [],
   "source": [
    "col1 = df.iloc[:,0]"
   ]
  },
  {
   "cell_type": "code",
   "execution_count": 84,
   "metadata": {
    "collapsed": true
   },
   "outputs": [],
   "source": [
    "col1 = pd.DataFrame(col1)"
   ]
  },
  {
   "cell_type": "code",
   "execution_count": 85,
   "metadata": {
    "collapsed": false
   },
   "outputs": [
    {
     "data": {
      "text/html": [
       "<div>\n",
       "<table border=\"1\" class=\"dataframe\">\n",
       "  <thead>\n",
       "    <tr style=\"text-align: right;\">\n",
       "      <th></th>\n",
       "      <th>housing_flg</th>\n",
       "    </tr>\n",
       "  </thead>\n",
       "  <tbody>\n",
       "    <tr>\n",
       "      <th>1</th>\n",
       "      <td>AADHAR HOUSING FINAN</td>\n",
       "    </tr>\n",
       "    <tr>\n",
       "      <th>2</th>\n",
       "      <td>AAMAADMIPARTY</td>\n",
       "    </tr>\n",
       "    <tr>\n",
       "      <th>3</th>\n",
       "      <td>Aavas Financiers Lim</td>\n",
       "    </tr>\n",
       "    <tr>\n",
       "      <th>4</th>\n",
       "      <td>ABHIPRA CAPITAL LTD</td>\n",
       "    </tr>\n",
       "    <tr>\n",
       "      <th>5</th>\n",
       "      <td>ANDB</td>\n",
       "    </tr>\n",
       "  </tbody>\n",
       "</table>\n",
       "</div>"
      ],
      "text/plain": [
       "            housing_flg\n",
       "1  AADHAR HOUSING FINAN\n",
       "2         AAMAADMIPARTY\n",
       "3  Aavas Financiers Lim\n",
       "4   ABHIPRA CAPITAL LTD\n",
       "5                 ANDB "
      ]
     },
     "execution_count": 85,
     "metadata": {},
     "output_type": "execute_result"
    }
   ],
   "source": [
    "col1.head()"
   ]
  },
  {
   "cell_type": "code",
   "execution_count": 86,
   "metadata": {
    "collapsed": false
   },
   "outputs": [],
   "source": [
    "df = df.rename( columns = {df.columns[1]:\"Link\"})"
   ]
  },
  {
   "cell_type": "code",
   "execution_count": 87,
   "metadata": {
    "collapsed": true
   },
   "outputs": [],
   "source": [
    "from googlesearch import search"
   ]
  },
  {
   "cell_type": "code",
   "execution_count": 91,
   "metadata": {
    "collapsed": true
   },
   "outputs": [
    {
     "name": "stdout",
     "output_type": "stream",
     "text": [
      "ALANKITASSMTLTD\n",
      "BD SBICCMB PYMT\n",
      "CBIMHAEMPLOYEECOOPTH\n",
      "CTDAIMLFIE\n",
      "CTEDELHOUE\n",
      "CTRELIANEE\n",
      "DELHICOOPOPHOFICORLD\n",
      "DRIVEHIMALAYANTHDVLP\n",
      "EquitableRetailAdvan\n",
      "INDBULLSHOUFINLTD\n",
      "INDUSEASYFUNDS\n",
      "LOANDEPTCENPAHUUTBI\n",
      "MAHINAMAHINFINSERLD\n",
      "MAHNIMAHINFINSERLD\n",
      "OHEALERHEALTHCARESER\n",
      "Realigarehousingdevl\n",
      "RETAILASSTOPSIDFB\n",
      "ADITYABIRLAHOSFINLTD \n",
      "AEGOLIFINSCOMPLTD \n",
      "EDELWETOKLIFINSCOLTD \n",
      "EquitableRetailAdvan \n",
      "MAHINAMAHINFINSERLD \n",
      "MAHNIMAHINFINSERLD \n",
      "OHEALERHEALTHCARESER \n",
      "RETASSTOPIDFB \n",
      "INDOSTRACAPT \n",
      "WEALTHINDFINSERPLD \n",
      "BJAJALZLICINH\n",
      "INDOSTRACAPT\n",
      "IPRUESIGN\n",
      "SNAPVISULEAS\n",
      "TPAXIS CRYOBANK ECS\n",
      "WEALTHINDFINSERPLD\n"
     ]
    }
   ],
   "source": [
    "#performs a final search for the nan values and replaces in the columns.\n",
    "#only 36 nan remaining.\n",
    "count = 0\n",
    "for val,row in df.iterrows():\n",
    "        if(str(row[df.columns[1]])==('nan')):\n",
    "            query = str(row[df.columns[0]])\n",
    "            print(query)\n",
    "            for j in search(query,tld = 'com',num = 10, stop =1,pause = 2):\n",
    "                row[df.columns[1]]= j\n",
    "                print(j)\n",
    "                count = count+1\n",
    "                print(row[df.columns[1]])"
   ]
  },
  {
   "cell_type": "code",
   "execution_count": 92,
   "metadata": {
    "collapsed": false
   },
   "outputs": [],
   "source": [
    "col3 = pd.DataFrame()"
   ]
  },
  {
   "cell_type": "code",
   "execution_count": 93,
   "metadata": {
    "collapsed": false
   },
   "outputs": [],
   "source": [
    "lst = list()\n",
    "for val,row in df.iterrows():\n",
    "    if(str(row[df.columns[1]])=='nan'):\n",
    "        lst.append(row[df.columns[0]])"
   ]
  },
  {
   "cell_type": "code",
   "execution_count": 94,
   "metadata": {
    "collapsed": false
   },
   "outputs": [
    {
     "data": {
      "text/html": [
       "<div>\n",
       "<table border=\"1\" class=\"dataframe\">\n",
       "  <thead>\n",
       "    <tr style=\"text-align: right;\">\n",
       "      <th></th>\n",
       "      <th>No LINK Company</th>\n",
       "    </tr>\n",
       "  </thead>\n",
       "  <tbody>\n",
       "    <tr>\n",
       "      <th>0</th>\n",
       "      <td>ALANKITASSMTLTD</td>\n",
       "    </tr>\n",
       "    <tr>\n",
       "      <th>1</th>\n",
       "      <td>BD SBICCMB PYMT</td>\n",
       "    </tr>\n",
       "    <tr>\n",
       "      <th>2</th>\n",
       "      <td>CBIMHAEMPLOYEECOOPTH</td>\n",
       "    </tr>\n",
       "    <tr>\n",
       "      <th>3</th>\n",
       "      <td>CTDAIMLFIE</td>\n",
       "    </tr>\n",
       "    <tr>\n",
       "      <th>4</th>\n",
       "      <td>CTEDELHOUE</td>\n",
       "    </tr>\n",
       "  </tbody>\n",
       "</table>\n",
       "</div>"
      ],
      "text/plain": [
       "        No LINK Company\n",
       "0       ALANKITASSMTLTD\n",
       "1       BD SBICCMB PYMT\n",
       "2  CBIMHAEMPLOYEECOOPTH\n",
       "3            CTDAIMLFIE\n",
       "4            CTEDELHOUE"
      ]
     },
     "execution_count": 94,
     "metadata": {},
     "output_type": "execute_result"
    }
   ],
   "source": [
    "col3 = pd.DataFrame(lst)\n",
    "\n",
    "col3.rename(columns={0:'No LINK Company'}).head()\n",
    "#col3 holds all nan linked companies"
   ]
  },
  {
   "cell_type": "code",
   "execution_count": 95,
   "metadata": {
    "collapsed": false
   },
   "outputs": [
    {
     "data": {
      "text/html": [
       "<div>\n",
       "<table border=\"1\" class=\"dataframe\">\n",
       "  <thead>\n",
       "    <tr style=\"text-align: right;\">\n",
       "      <th></th>\n",
       "      <th>housing_flg</th>\n",
       "      <th>Link</th>\n",
       "    </tr>\n",
       "  </thead>\n",
       "  <tbody>\n",
       "    <tr>\n",
       "      <th>count</th>\n",
       "      <td>1342</td>\n",
       "      <td>1342</td>\n",
       "    </tr>\n",
       "    <tr>\n",
       "      <th>unique</th>\n",
       "      <td>1322</td>\n",
       "      <td>760</td>\n",
       "    </tr>\n",
       "    <tr>\n",
       "      <th>top</th>\n",
       "      <td>CNRB</td>\n",
       "      <td>https://www.herofincorp.com/</td>\n",
       "    </tr>\n",
       "    <tr>\n",
       "      <th>freq</th>\n",
       "      <td>3</td>\n",
       "      <td>12</td>\n",
       "    </tr>\n",
       "  </tbody>\n",
       "</table>\n",
       "</div>"
      ],
      "text/plain": [
       "       housing_flg                          Link\n",
       "count         1342                          1342\n",
       "unique        1322                           760\n",
       "top          CNRB   https://www.herofincorp.com/\n",
       "freq             3                            12"
      ]
     },
     "execution_count": 95,
     "metadata": {},
     "output_type": "execute_result"
    }
   ],
   "source": [
    "df = df.dropna(subset=[df.columns[1]])\n",
    "df.describe()\n",
    "#dropped all nan links with rows"
   ]
  },
  {
   "cell_type": "markdown",
   "metadata": {},
   "source": [
    "## Data is removed of missing links\n",
    "### *col3* holds the rows with missing links.\n",
    "### df holds the rows with valid links."
   ]
  },
  {
   "cell_type": "markdown",
   "metadata": {},
   "source": [
    "# USING WORDNINJA ON COL3 :3"
   ]
  },
  {
   "cell_type": "code",
   "execution_count": 96,
   "metadata": {
    "collapsed": true
   },
   "outputs": [],
   "source": [
    "import wordninja"
   ]
  },
  {
   "cell_type": "code",
   "execution_count": 97,
   "metadata": {
    "collapsed": false
   },
   "outputs": [
    {
     "data": {
      "text/html": [
       "<div>\n",
       "<table border=\"1\" class=\"dataframe\">\n",
       "  <thead>\n",
       "    <tr style=\"text-align: right;\">\n",
       "      <th></th>\n",
       "      <th>0</th>\n",
       "    </tr>\n",
       "  </thead>\n",
       "  <tbody>\n",
       "    <tr>\n",
       "      <th>0</th>\n",
       "      <td>ALANKITASSMTLTD</td>\n",
       "    </tr>\n",
       "    <tr>\n",
       "      <th>1</th>\n",
       "      <td>BD SBICCMB PYMT</td>\n",
       "    </tr>\n",
       "    <tr>\n",
       "      <th>2</th>\n",
       "      <td>CBIMHAEMPLOYEECOOPTH</td>\n",
       "    </tr>\n",
       "    <tr>\n",
       "      <th>3</th>\n",
       "      <td>CTDAIMLFIE</td>\n",
       "    </tr>\n",
       "    <tr>\n",
       "      <th>4</th>\n",
       "      <td>CTEDELHOUE</td>\n",
       "    </tr>\n",
       "  </tbody>\n",
       "</table>\n",
       "</div>"
      ],
      "text/plain": [
       "                      0\n",
       "0       ALANKITASSMTLTD\n",
       "1       BD SBICCMB PYMT\n",
       "2  CBIMHAEMPLOYEECOOPTH\n",
       "3            CTDAIMLFIE\n",
       "4            CTEDELHOUE"
      ]
     },
     "execution_count": 97,
     "metadata": {},
     "output_type": "execute_result"
    }
   ],
   "source": [
    "col3.head()"
   ]
  },
  {
   "cell_type": "code",
   "execution_count": 23,
   "metadata": {
    "collapsed": false
   },
   "outputs": [],
   "source": [
    "lst = list()\n",
    "for val,row in col3.iterrows():\n",
    "    lst.append(row[col3.columns[0]])"
   ]
  },
  {
   "cell_type": "code",
   "execution_count": 24,
   "metadata": {
    "collapsed": false
   },
   "outputs": [],
   "source": [
    "lst2 = list();\n",
    "for i in lst:\n",
    "    lst2.append(wordninja.split(i))"
   ]
  },
  {
   "cell_type": "code",
   "execution_count": 25,
   "metadata": {
    "collapsed": false,
    "scrolled": true
   },
   "outputs": [],
   "source": [
    "lst3 = list()\n",
    "for i in lst2:\n",
    "    str = ''\n",
    "    for j in i:\n",
    "        str+=j+' '\n",
    "    lst3.append(str)"
   ]
  },
  {
   "cell_type": "code",
   "execution_count": 26,
   "metadata": {
    "collapsed": false
   },
   "outputs": [],
   "source": [
    "altmiss = pd.DataFrame(lst3)"
   ]
  },
  {
   "cell_type": "code",
   "execution_count": 27,
   "metadata": {
    "collapsed": true
   },
   "outputs": [],
   "source": [
    "altmiss['link']=' '"
   ]
  },
  {
   "cell_type": "code",
   "execution_count": 28,
   "metadata": {
    "collapsed": false,
    "scrolled": true
   },
   "outputs": [
    {
     "name": "stdout",
     "output_type": "stream",
     "text": [
      "ADITYA BIR LA HOS FIN LTD \n",
      "https://abfl.adityabirlacapital.com/Pages/Individual/Contact-Us/Locate-Us.aspx\n",
      "https://abfl.adityabirlacapital.com/Pages/Individual/Contact-Us/Locate-Us.aspx\n",
      "ALAN KIT AS SMT LTD \n",
      "https://www.alankit.in/company-overview.aspx\n",
      "https://www.alankit.in/company-overview.aspx\n",
      "BD BSE S RAJE \n",
      "https://www.bseindia.com/members/client_funding.aspx\n",
      "https://www.bseindia.com/members/client_funding.aspx\n",
      "BD KAR VY ST BR L \n",
      "http://www.espncricinfo.com/team/_/id/25/bangladesh/\n",
      "http://www.espncricinfo.com/team/_/id/25/bangladesh/\n",
      "BD S BIC CMB PY MT \n",
      "https://www.academia.edu/37701638/Cosmological_tests_with_the_Joint_Lightcurve_Analysis\n",
      "https://www.academia.edu/37701638/Cosmological_tests_with_the_Joint_Lightcurve_Analysis\n",
      "CB IMH A EMPLOYEE COOP TH \n",
      "https://www.sncf.coop/affiliates-directory/110-singapore-statutory-boards-employees-co-operative-thrift-loan-society-limited\n",
      "https://www.sncf.coop/affiliates-directory/110-singapore-statutory-boards-employees-co-operative-thrift-loan-society-limited\n",
      "C TD AIM L FIE \n",
      "https://ec.europa.eu/health/sites/health/files/files/eudralex/vol-2/b/update_200805/ctd_05-2008_en.pdf\n",
      "https://ec.europa.eu/health/sites/health/files/files/eudralex/vol-2/b/update_200805/ctd_05-2008_en.pdf\n",
      "CTE DEL HOU E \n",
      "https://www.wallerisd.net/domain/78\n",
      "https://www.wallerisd.net/domain/78\n",
      "C TR ELIANE E \n",
      "https://www.facebook.com/public/Eliane-Souza\n",
      "https://www.facebook.com/public/Eliane-Souza\n",
      "DELHI COOP OPH OF IC OR LD \n",
      "http://delhi.gov.in/wps/wcm/connect/DoIT_RCS/rcs/home\n",
      "http://delhi.gov.in/wps/wcm/connect/DoIT_RCS/rcs/home\n",
      "DRIVE HIMALAYAN TH DV LP \n",
      "http://himalayanroads.com/\n",
      "http://himalayanroads.com/\n",
      "Equitable Retail Adv an \n",
      "https://www.zaubacorp.com/company/EQUITABLE-RETAIL-ADVANTAGE-PRIVATE-LIMITED/U52590DL2016PTC306058\n",
      "https://www.zaubacorp.com/company/EQUITABLE-RETAIL-ADVANTAGE-PRIVATE-LIMITED/U52590DL2016PTC306058\n",
      "IN D BULL SHOU FIN LTD \n",
      "https://www.glassdoor.com/Reviews/Red-Bull-Finance-Reviews-EI_IE12190.0,8_KO9,16.htm\n",
      "https://www.glassdoor.com/Reviews/Red-Bull-Finance-Reviews-EI_IE12190.0,8_KO9,16.htm\n",
      "INDUS EASY FUNDS \n",
      "https://www.indusind.com/\n",
      "https://www.indusind.com/\n",
      "LOAN DEPT C EN PAH UUT BI \n",
      "https://www.diversivore.com/smoky-dried-chili-salsa-kuut-bi-ik/\n",
      "https://www.diversivore.com/smoky-dried-chili-salsa-kuut-bi-ik/\n",
      "MAH IN A MAH IN FINS ER LD \n",
      "https://www.intercel.eu/questions-and-answers/what-is-amp-hour-milliamp-hour/\n",
      "https://www.intercel.eu/questions-and-answers/what-is-amp-hour-milliamp-hour/\n",
      "MAH NI MAH IN FINS ER LD \n",
      "https://www.seekersguidance.org/answers/general-counsel/what-is-the-difference-between-barakah-hasanah-and-nimah/\n",
      "https://www.seekersguidance.org/answers/general-counsel/what-is-the-difference-between-barakah-hasanah-and-nimah/\n",
      "O HEALER HEALTHCARE SER \n",
      "https://www.portea.com/\n",
      "https://www.portea.com/\n",
      "Real ig are housing dev l \n",
      "https://www.hud.gov/\n",
      "https://www.hud.gov/\n",
      "RETAIL AS STOPS I DFB \n",
      "https://timesofindia.indiatimes.com/business/india-business/ws-retail-stops-selling-on-flipkarts-platform/articleshow/65265764.cms\n",
      "https://timesofindia.indiatimes.com/business/india-business/ws-retail-stops-selling-on-flipkarts-platform/articleshow/65265764.cms\n",
      "ADITYA BIR LA HOS FIN LTD \n",
      "https://abfl.adityabirlacapital.com/Pages/Individual/Contact-Us/Locate-Us.aspx\n",
      "https://abfl.adityabirlacapital.com/Pages/Individual/Contact-Us/Locate-Us.aspx\n",
      "A EGOLI FINS COMP LTD \n",
      "https://www.alamy.com/prod-db-subzero-film-entertainment-altitude-film-entertainment-egoli-tossell-film-dr-big-game-de-jalmari-helander-2014-fingbusa-avec-ray-stevenson-action-image219284992.html\n",
      "https://www.alamy.com/prod-db-subzero-film-entertainment-altitude-film-entertainment-egoli-tossell-film-dr-big-game-de-jalmari-helander-2014-fingbusa-avec-ray-stevenson-action-image219284992.html\n",
      "EDEL WE TO KLI FINS COLT D \n",
      "http://www.coltgroupamerica.com/solarfin-metal-louvers.html\n",
      "http://www.coltgroupamerica.com/solarfin-metal-louvers.html\n",
      "Equitable Retail Adv an \n",
      "https://www.zaubacorp.com/company/EQUITABLE-RETAIL-ADVANTAGE-PRIVATE-LIMITED/U52590DL2016PTC306058\n",
      "https://www.zaubacorp.com/company/EQUITABLE-RETAIL-ADVANTAGE-PRIVATE-LIMITED/U52590DL2016PTC306058\n",
      "MAH IN A MAH IN FINS ER LD \n",
      "https://www.intercel.eu/questions-and-answers/what-is-amp-hour-milliamp-hour/\n",
      "https://www.intercel.eu/questions-and-answers/what-is-amp-hour-milliamp-hour/\n",
      "MAH NI MAH IN FINS ER LD \n",
      "https://www.seekersguidance.org/answers/general-counsel/what-is-the-difference-between-barakah-hasanah-and-nimah/\n",
      "https://www.seekersguidance.org/answers/general-counsel/what-is-the-difference-between-barakah-hasanah-and-nimah/\n",
      "O HEALER HEALTHCARE SER \n",
      "https://www.portea.com/\n",
      "https://www.portea.com/\n",
      "RET AS STOP I DFB \n",
      "https://www.gettyimages.co.uk/photos/bayer-04-leverkusen-v-bayern-muenchen-dfb-cup-semi-final\n",
      "https://www.gettyimages.co.uk/photos/bayer-04-leverkusen-v-bayern-muenchen-dfb-cup-semi-final\n",
      "INDO STRA CAPT \n",
      "https://www.indostarcapital.com/\n",
      "https://www.indostarcapital.com/\n",
      "WEALTH IN D FINS ERP LD \n",
      "http://www.elysys.com/\n",
      "http://www.elysys.com/\n",
      "BJ AJA LZL IC IN H \n",
      "https://www.youtube.com/watch?v=zhAWof-aMs8\n",
      "https://www.youtube.com/watch?v=zhAWof-aMs8\n",
      "INDO STRA CAPT \n",
      "https://www.indostarcapital.com/\n",
      "https://www.indostarcapital.com/\n",
      "I PRUE SIGN \n",
      "https://www.iciciprulife.com/\n",
      "https://www.iciciprulife.com/\n",
      "SNAP VIS ULE AS \n",
      "https://www.epa.gov/snap\n",
      "https://www.epa.gov/snap\n",
      "TP AXIS CRY O BANK EC S \n",
      "https://www.axisbank.com/bank-smart/internet-banking/transfer-funds/electronic-clearing-service/about-this-service\n",
      "https://www.axisbank.com/bank-smart/internet-banking/transfer-funds/electronic-clearing-service/about-this-service\n",
      "WEALTH IN D FINS ERP LD \n",
      "http://www.elysys.com/\n",
      "http://www.elysys.com/\n"
     ]
    }
   ],
   "source": [
    "for val,row in altmiss.iterrows():\n",
    "    query = row[altmiss.columns[0]]\n",
    "    print(query)\n",
    "    for j in search(query,tld = 'com',num = 10, stop =1,pause = 2):\n",
    "        row[altmiss.columns[1]]= j\n",
    "        print(j)\n",
    "        count = count+1\n",
    "        print(row[altmiss.columns[1]])"
   ]
  },
  {
   "cell_type": "code",
   "execution_count": 29,
   "metadata": {
    "collapsed": false
   },
   "outputs": [
    {
     "data": {
      "text/html": [
       "<div>\n",
       "<table border=\"1\" class=\"dataframe\">\n",
       "  <thead>\n",
       "    <tr style=\"text-align: right;\">\n",
       "      <th></th>\n",
       "      <th>Company</th>\n",
       "      <th>Link</th>\n",
       "    </tr>\n",
       "  </thead>\n",
       "  <tbody>\n",
       "    <tr>\n",
       "      <th>count</th>\n",
       "      <td>36</td>\n",
       "      <td>36</td>\n",
       "    </tr>\n",
       "    <tr>\n",
       "      <th>unique</th>\n",
       "      <td>29</td>\n",
       "      <td>29</td>\n",
       "    </tr>\n",
       "    <tr>\n",
       "      <th>top</th>\n",
       "      <td>INDO STRA CAPT</td>\n",
       "      <td>https://abfl.adityabirlacapital.com/Pages/Indi...</td>\n",
       "    </tr>\n",
       "    <tr>\n",
       "      <th>freq</th>\n",
       "      <td>2</td>\n",
       "      <td>2</td>\n",
       "    </tr>\n",
       "  </tbody>\n",
       "</table>\n",
       "</div>"
      ],
      "text/plain": [
       "                Company                                               Link\n",
       "count                36                                                 36\n",
       "unique               29                                                 29\n",
       "top     INDO STRA CAPT   https://abfl.adityabirlacapital.com/Pages/Indi...\n",
       "freq                  2                                                  2"
      ]
     },
     "execution_count": 29,
     "metadata": {},
     "output_type": "execute_result"
    }
   ],
   "source": [
    "altmiss = altmiss.rename(columns = {altmiss.columns[0]:'Company',altmiss.columns[1]:'Link'})\n",
    "\n",
    "altmiss.describe()"
   ]
  },
  {
   "cell_type": "code",
   "execution_count": 30,
   "metadata": {
    "collapsed": false
   },
   "outputs": [
    {
     "data": {
      "text/html": [
       "<div>\n",
       "<table border=\"1\" class=\"dataframe\">\n",
       "  <thead>\n",
       "    <tr style=\"text-align: right;\">\n",
       "      <th></th>\n",
       "      <th>Company</th>\n",
       "      <th>Link</th>\n",
       "    </tr>\n",
       "  </thead>\n",
       "  <tbody>\n",
       "    <tr>\n",
       "      <th>count</th>\n",
       "      <td>1339</td>\n",
       "      <td>1339</td>\n",
       "    </tr>\n",
       "    <tr>\n",
       "      <th>unique</th>\n",
       "      <td>1319</td>\n",
       "      <td>757</td>\n",
       "    </tr>\n",
       "    <tr>\n",
       "      <th>top</th>\n",
       "      <td>CNRB</td>\n",
       "      <td>https://www.herofincorp.com/</td>\n",
       "    </tr>\n",
       "    <tr>\n",
       "      <th>freq</th>\n",
       "      <td>3</td>\n",
       "      <td>12</td>\n",
       "    </tr>\n",
       "  </tbody>\n",
       "</table>\n",
       "</div>"
      ],
      "text/plain": [
       "       Company                          Link\n",
       "count     1339                          1339\n",
       "unique    1319                           757\n",
       "top      CNRB   https://www.herofincorp.com/\n",
       "freq         3                            12"
      ]
     },
     "execution_count": 30,
     "metadata": {},
     "output_type": "execute_result"
    }
   ],
   "source": [
    "df = df.rename(columns = {df.columns[0]:'Company',df.columns[1]:'Link'})\n",
    "df.describe()"
   ]
  },
  {
   "cell_type": "code",
   "execution_count": 31,
   "metadata": {
    "collapsed": false
   },
   "outputs": [
    {
     "data": {
      "text/html": [
       "<div>\n",
       "<table border=\"1\" class=\"dataframe\">\n",
       "  <thead>\n",
       "    <tr style=\"text-align: right;\">\n",
       "      <th></th>\n",
       "      <th>Company</th>\n",
       "      <th>Link</th>\n",
       "    </tr>\n",
       "  </thead>\n",
       "  <tbody>\n",
       "    <tr>\n",
       "      <th>count</th>\n",
       "      <td>1375</td>\n",
       "      <td>1375</td>\n",
       "    </tr>\n",
       "    <tr>\n",
       "      <th>unique</th>\n",
       "      <td>1348</td>\n",
       "      <td>784</td>\n",
       "    </tr>\n",
       "    <tr>\n",
       "      <th>top</th>\n",
       "      <td>KKBK</td>\n",
       "      <td>https://www.herofincorp.com/</td>\n",
       "    </tr>\n",
       "    <tr>\n",
       "      <th>freq</th>\n",
       "      <td>3</td>\n",
       "      <td>12</td>\n",
       "    </tr>\n",
       "  </tbody>\n",
       "</table>\n",
       "</div>"
      ],
      "text/plain": [
       "       Company                          Link\n",
       "count     1375                          1375\n",
       "unique    1348                           784\n",
       "top      KKBK   https://www.herofincorp.com/\n",
       "freq         3                            12"
      ]
     },
     "execution_count": 31,
     "metadata": {},
     "output_type": "execute_result"
    }
   ],
   "source": [
    "mp = df.append(altmiss)\n",
    "#MP HOLDS FINAL VALUES ALONG WITH ALTERED MISSING VALUES\n",
    "\n",
    "mp.describe()"
   ]
  },
  {
   "cell_type": "markdown",
   "metadata": {},
   "source": [
    "## FOUND MISSING VALUES - LINK with 100% rate -\n",
    "### STORED IN MP"
   ]
  },
  {
   "cell_type": "code",
   "execution_count": 32,
   "metadata": {
    "collapsed": false
   },
   "outputs": [],
   "source": [
    "duplicateColsDF = mp[mp.duplicated(subset = [mp.columns[1]])] #GETTING ALL DUPLICATES WITH RESPECT TO ONLY COLUMNS\n",
    "duplicateColsDF.describe()\n",
    "#value = 591\n",
    "duplicateRowsDF = mp[mp.duplicated(subset = [mp.columns[0]])] #GETTING ALL DUPLICATES WITH RESPECT TO ONLY ROWS\n",
    "#value = 27\n",
    "duplicateDF = mp[mp.duplicated()] #GETTING ALL DUPLICATES WITH RESPECT TO COLUMN AND ROWS\n",
    "#value = 20"
   ]
  },
  {
   "cell_type": "code",
   "execution_count": 57,
   "metadata": {
    "collapsed": false,
    "scrolled": true
   },
   "outputs": [],
   "source": [
    "mp2 = mp.drop_duplicates()\n",
    "mp2.sort_index(axis = 1,inplace = True)"
   ]
  },
  {
   "cell_type": "code",
   "execution_count": 60,
   "metadata": {
    "collapsed": false
   },
   "outputs": [],
   "source": [
    "mp2.to_csv(path_or_buf='/home/roshan/Desktop/INTERNSHIP/CLUSTERINGALGO/missing_replaced_rem_dup.csv',columns=['Company','Link'],index=False)"
   ]
  },
  {
   "cell_type": "markdown",
   "metadata": {},
   "source": [
    "# REMOVED DUPLICATE VALUES AND STORED IN MP2 CONVERTED TO csv FORMAT"
   ]
  },
  {
   "cell_type": "markdown",
   "metadata": {},
   "source": [
    "# -----------------------------------------------------------------------------------------------------------"
   ]
  },
  {
   "cell_type": "markdown",
   "metadata": {},
   "source": [
    "# Retrieving RELiABLE content"
   ]
  },
  {
   "cell_type": "code",
   "execution_count": 1,
   "metadata": {
    "collapsed": true
   },
   "outputs": [],
   "source": [
    "import pandas as pd"
   ]
  },
  {
   "cell_type": "code",
   "execution_count": 2,
   "metadata": {
    "collapsed": false
   },
   "outputs": [],
   "source": [
    "newdf = pd.read_csv('missing_replaced_rem_dup.csv')"
   ]
  },
  {
   "cell_type": "code",
   "execution_count": 3,
   "metadata": {
    "collapsed": false,
    "scrolled": true
   },
   "outputs": [
    {
     "data": {
      "text/html": [
       "<div>\n",
       "<table border=\"1\" class=\"dataframe\">\n",
       "  <thead>\n",
       "    <tr style=\"text-align: right;\">\n",
       "      <th></th>\n",
       "      <th>Company</th>\n",
       "      <th>Link</th>\n",
       "    </tr>\n",
       "  </thead>\n",
       "  <tbody>\n",
       "    <tr>\n",
       "      <th>0</th>\n",
       "      <td>AADHAR HOUSING FINAN</td>\n",
       "      <td>https://aadharhousing.com/</td>\n",
       "    </tr>\n",
       "    <tr>\n",
       "      <th>1</th>\n",
       "      <td>AAMAADMIPARTY</td>\n",
       "      <td>https://aamaadmiparty.org/</td>\n",
       "    </tr>\n",
       "    <tr>\n",
       "      <th>2</th>\n",
       "      <td>Aavas Financiers Lim</td>\n",
       "      <td>https://www.aavas.in/</td>\n",
       "    </tr>\n",
       "    <tr>\n",
       "      <th>3</th>\n",
       "      <td>ABHIPRA CAPITAL LTD</td>\n",
       "      <td>https://www.abhipra.com/</td>\n",
       "    </tr>\n",
       "    <tr>\n",
       "      <th>4</th>\n",
       "      <td>ANDB</td>\n",
       "      <td>https://www.onlineandhrabank.net.in/BankAwayRe...</td>\n",
       "    </tr>\n",
       "  </tbody>\n",
       "</table>\n",
       "</div>"
      ],
      "text/plain": [
       "                Company                                               Link\n",
       "0  AADHAR HOUSING FINAN                         https://aadharhousing.com/\n",
       "1         AAMAADMIPARTY                         https://aamaadmiparty.org/\n",
       "2  Aavas Financiers Lim                              https://www.aavas.in/\n",
       "3   ABHIPRA CAPITAL LTD                           https://www.abhipra.com/\n",
       "4                 ANDB   https://www.onlineandhrabank.net.in/BankAwayRe..."
      ]
     },
     "execution_count": 3,
     "metadata": {},
     "output_type": "execute_result"
    }
   ],
   "source": [
    "newdf.head()"
   ]
  },
  {
   "cell_type": "code",
   "execution_count": 4,
   "metadata": {
    "collapsed": false
   },
   "outputs": [],
   "source": [
    "newdf.insert(2,'Title',0)"
   ]
  },
  {
   "cell_type": "code",
   "execution_count": 5,
   "metadata": {
    "collapsed": false,
    "scrolled": false
   },
   "outputs": [
    {
     "data": {
      "text/html": [
       "<div>\n",
       "<table border=\"1\" class=\"dataframe\">\n",
       "  <thead>\n",
       "    <tr style=\"text-align: right;\">\n",
       "      <th></th>\n",
       "      <th>Company</th>\n",
       "      <th>Link</th>\n",
       "      <th>Title</th>\n",
       "    </tr>\n",
       "  </thead>\n",
       "  <tbody>\n",
       "    <tr>\n",
       "      <th>0</th>\n",
       "      <td>AADHAR HOUSING FINAN</td>\n",
       "      <td>https://aadharhousing.com/</td>\n",
       "      <td>0</td>\n",
       "    </tr>\n",
       "    <tr>\n",
       "      <th>1</th>\n",
       "      <td>AAMAADMIPARTY</td>\n",
       "      <td>https://aamaadmiparty.org/</td>\n",
       "      <td>0</td>\n",
       "    </tr>\n",
       "    <tr>\n",
       "      <th>2</th>\n",
       "      <td>Aavas Financiers Lim</td>\n",
       "      <td>https://www.aavas.in/</td>\n",
       "      <td>0</td>\n",
       "    </tr>\n",
       "    <tr>\n",
       "      <th>3</th>\n",
       "      <td>ABHIPRA CAPITAL LTD</td>\n",
       "      <td>https://www.abhipra.com/</td>\n",
       "      <td>0</td>\n",
       "    </tr>\n",
       "    <tr>\n",
       "      <th>4</th>\n",
       "      <td>ANDB</td>\n",
       "      <td>https://www.onlineandhrabank.net.in/BankAwayRe...</td>\n",
       "      <td>0</td>\n",
       "    </tr>\n",
       "  </tbody>\n",
       "</table>\n",
       "</div>"
      ],
      "text/plain": [
       "                Company                                               Link  \\\n",
       "0  AADHAR HOUSING FINAN                         https://aadharhousing.com/   \n",
       "1         AAMAADMIPARTY                         https://aamaadmiparty.org/   \n",
       "2  Aavas Financiers Lim                              https://www.aavas.in/   \n",
       "3   ABHIPRA CAPITAL LTD                           https://www.abhipra.com/   \n",
       "4                 ANDB   https://www.onlineandhrabank.net.in/BankAwayRe...   \n",
       "\n",
       "   Title  \n",
       "0      0  \n",
       "1      0  \n",
       "2      0  \n",
       "3      0  \n",
       "4      0  "
      ]
     },
     "execution_count": 5,
     "metadata": {},
     "output_type": "execute_result"
    }
   ],
   "source": [
    "newdf.head()"
   ]
  },
  {
   "cell_type": "code",
   "execution_count": 6,
   "metadata": {
    "collapsed": false
   },
   "outputs": [
    {
     "data": {
      "text/html": [
       "<div>\n",
       "<table border=\"1\" class=\"dataframe\">\n",
       "  <thead>\n",
       "    <tr style=\"text-align: right;\">\n",
       "      <th></th>\n",
       "      <th>Company</th>\n",
       "      <th>Link</th>\n",
       "      <th>Title</th>\n",
       "    </tr>\n",
       "  </thead>\n",
       "  <tbody>\n",
       "    <tr>\n",
       "      <th>0</th>\n",
       "      <td>AADHAR HOUSING FINAN</td>\n",
       "      <td>https://aadharhousing.com/</td>\n",
       "      <td>0</td>\n",
       "    </tr>\n",
       "    <tr>\n",
       "      <th>1</th>\n",
       "      <td>AAMAADMIPARTY</td>\n",
       "      <td>https://aamaadmiparty.org/</td>\n",
       "      <td>0</td>\n",
       "    </tr>\n",
       "    <tr>\n",
       "      <th>2</th>\n",
       "      <td>Aavas Financiers Lim</td>\n",
       "      <td>https://www.aavas.in/</td>\n",
       "      <td>0</td>\n",
       "    </tr>\n",
       "    <tr>\n",
       "      <th>3</th>\n",
       "      <td>ABHIPRA CAPITAL LTD</td>\n",
       "      <td>https://www.abhipra.com/</td>\n",
       "      <td>0</td>\n",
       "    </tr>\n",
       "    <tr>\n",
       "      <th>4</th>\n",
       "      <td>ANDB</td>\n",
       "      <td>https://www.onlineandhrabank.net.in/BankAwayRe...</td>\n",
       "      <td>0</td>\n",
       "    </tr>\n",
       "  </tbody>\n",
       "</table>\n",
       "</div>"
      ],
      "text/plain": [
       "                Company                                               Link  \\\n",
       "0  AADHAR HOUSING FINAN                         https://aadharhousing.com/   \n",
       "1         AAMAADMIPARTY                         https://aamaadmiparty.org/   \n",
       "2  Aavas Financiers Lim                              https://www.aavas.in/   \n",
       "3   ABHIPRA CAPITAL LTD                           https://www.abhipra.com/   \n",
       "4                 ANDB   https://www.onlineandhrabank.net.in/BankAwayRe...   \n",
       "\n",
       "   Title  \n",
       "0      0  \n",
       "1      0  \n",
       "2      0  \n",
       "3      0  \n",
       "4      0  "
      ]
     },
     "execution_count": 6,
     "metadata": {},
     "output_type": "execute_result"
    }
   ],
   "source": [
    "workdf = newdf.head(50)\n",
    "workdf.head()"
   ]
  },
  {
   "cell_type": "code",
   "execution_count": 7,
   "metadata": {
    "collapsed": true
   },
   "outputs": [],
   "source": [
    "from urllib.parse import urlparse"
   ]
  },
  {
   "cell_type": "markdown",
   "metadata": {},
   "source": [
    "### OBTAINING NAME FROM ACRONYM (LIMITATION: WORKS ONLY FOR THE ACROnYMS that are IFSC code)"
   ]
  },
  {
   "cell_type": "code",
   "execution_count": 8,
   "metadata": {
    "collapsed": false,
    "scrolled": true
   },
   "outputs": [],
   "source": [
    "from googlesearch import search\n",
    "from bs4 import BeautifulSoup\n",
    "import requests\n",
    "import urllib.request"
   ]
  },
  {
   "cell_type": "code",
   "execution_count": 9,
   "metadata": {
    "collapsed": false
   },
   "outputs": [
    {
     "name": "stderr",
     "output_type": "stream",
     "text": [
      "/home/roshan/anaconda3/lib/python3.5/site-packages/ipykernel/__main__.py:17: SettingWithCopyWarning: \n",
      "A value is trying to be set on a copy of a slice from a DataFrame\n",
      "\n",
      "See the caveats in the documentation: http://pandas.pydata.org/pandas-docs/stable/indexing.html#indexing-view-versus-copy\n",
      "/home/roshan/anaconda3/lib/python3.5/site-packages/pandas/core/indexing.py:132: SettingWithCopyWarning: \n",
      "A value is trying to be set on a copy of a slice from a DataFrame\n",
      "\n",
      "See the caveats in the documentation: http://pandas.pydata.org/pandas-docs/stable/indexing.html#indexing-view-versus-copy\n",
      "  self._setitem_with_indexer(indexer, value)\n",
      "/home/roshan/anaconda3/lib/python3.5/site-packages/pandas/core/series.py:729: SettingWithCopyWarning: \n",
      "A value is trying to be set on a copy of a slice from a DataFrame\n",
      "\n",
      "See the caveats in the documentation: http://pandas.pydata.org/pandas-docs/stable/indexing.html#indexing-view-versus-copy\n",
      "  self.loc[key] = value\n",
      "/home/roshan/anaconda3/lib/python3.5/site-packages/IPython/core/interactiveshell.py:2881: SettingWithCopyWarning: \n",
      "A value is trying to be set on a copy of a slice from a DataFrame\n",
      "\n",
      "See the caveats in the documentation: http://pandas.pydata.org/pandas-docs/stable/indexing.html#indexing-view-versus-copy\n",
      "  exec(code_obj, self.user_global_ns, self.user_ns)\n"
     ]
    },
    {
     "name": "stdout",
     "output_type": "stream",
     "text": [
      "ANDB  <class 'str'>\n",
      "https://www.ifsccodebank.com/search-by-IFSC-code.aspx?IFSCCode=ANDB \n",
      "BARB  <class 'str'>\n",
      "https://www.ifsccodebank.com/search-by-IFSC-code.aspx?IFSCCode=BARB \n",
      "BKID  <class 'str'>\n",
      "https://www.ifsccodebank.com/search-by-IFSC-code.aspx?IFSCCode=BKID \n",
      "CITI  <class 'str'>\n",
      "https://www.ifsccodebank.com/search-by-IFSC-code.aspx?IFSCCode=CITI \n",
      "CNRB  <class 'str'>\n",
      "https://www.ifsccodebank.com/search-by-IFSC-code.aspx?IFSCCode=CNRB \n",
      "CORP  <class 'str'>\n",
      "https://www.ifsccodebank.com/search-by-IFSC-code.aspx?IFSCCode=CORP \n",
      "HDFC  <class 'str'>\n",
      "https://www.ifsccodebank.com/search-by-IFSC-code.aspx?IFSCCode=HDFC \n",
      "HSBC  <class 'str'>\n",
      "https://www.ifsccodebank.com/search-by-IFSC-code.aspx?IFSCCode=HSBC \n",
      "IBKL  <class 'str'>\n",
      "https://www.ifsccodebank.com/search-by-IFSC-code.aspx?IFSCCode=IBKL \n",
      "ICIC  <class 'str'>\n",
      "https://www.ifsccodebank.com/search-by-IFSC-code.aspx?IFSCCode=ICIC \n",
      "IDIB  <class 'str'>\n",
      "https://www.ifsccodebank.com/search-by-IFSC-code.aspx?IFSCCode=IDIB \n",
      "IOBA  <class 'str'>\n",
      "https://www.ifsccodebank.com/search-by-IFSC-code.aspx?IFSCCode=IOBA \n",
      "KKBK  <class 'str'>\n",
      "https://www.ifsccodebank.com/search-by-IFSC-code.aspx?IFSCCode=KKBK \n",
      "MAHB  <class 'str'>\n",
      "https://www.ifsccodebank.com/search-by-IFSC-code.aspx?IFSCCode=MAHB \n",
      "ORBC  <class 'str'>\n",
      "https://www.ifsccodebank.com/search-by-IFSC-code.aspx?IFSCCode=ORBC \n",
      "PSIB  <class 'str'>\n",
      "https://www.ifsccodebank.com/search-by-IFSC-code.aspx?IFSCCode=PSIB \n",
      "SBIN  <class 'str'>\n",
      "https://www.ifsccodebank.com/search-by-IFSC-code.aspx?IFSCCode=SBIN \n",
      "SBTR  <class 'str'>\n",
      "https://www.ifsccodebank.com/search-by-IFSC-code.aspx?IFSCCode=SBTR \n",
      "SCBL  <class 'str'>\n",
      "https://www.ifsccodebank.com/search-by-IFSC-code.aspx?IFSCCode=SCBL \n",
      "SIBL  <class 'str'>\n",
      "https://www.ifsccodebank.com/search-by-IFSC-code.aspx?IFSCCode=SIBL \n",
      "SYNB  <class 'str'>\n",
      "https://www.ifsccodebank.com/search-by-IFSC-code.aspx?IFSCCode=SYNB \n",
      "UBIN  <class 'str'>\n",
      "https://www.ifsccodebank.com/search-by-IFSC-code.aspx?IFSCCode=UBIN \n",
      "UCBA  <class 'str'>\n",
      "https://www.ifsccodebank.com/search-by-IFSC-code.aspx?IFSCCode=UCBA \n",
      "UTIB  <class 'str'>\n",
      "https://www.ifsccodebank.com/search-by-IFSC-code.aspx?IFSCCode=UTIB \n",
      "VIJB  <class 'str'>\n",
      "https://www.ifsccodebank.com/search-by-IFSC-code.aspx?IFSCCode=VIJB \n",
      "YESB  <class 'str'>\n",
      "https://www.ifsccodebank.com/search-by-IFSC-code.aspx?IFSCCode=YESB \n",
      "ACHAL <class 'str'>\n",
      "https://www.ifsccodebank.com/search-by-IFSC-code.aspx?IFSCCode=ACHAL\n",
      "ACHIN <class 'str'>\n",
      "https://www.ifsccodebank.com/search-by-IFSC-code.aspx?IFSCCode=ACHIN\n"
     ]
    }
   ],
   "source": [
    "for i,j in workdf.iterrows():\n",
    "    if(len(workdf['Company'][i]))<=5:\n",
    "        str_list = list('https://www.ifsccodebank.com/search-by-IFSC-code.aspx?IFSCCode=')\n",
    "        link2 = workdf['Company'][i]\n",
    "        print(link2,type(link2))\n",
    "        str_list.append(link2)\n",
    "        url = ''.join(str_list)\n",
    "        print(url)\n",
    "        response = requests.get(''.join(str_list))\n",
    "        soup = BeautifulSoup(response.text,'html.parser')\n",
    "        t = soup.get_text()\n",
    "        r = t[t.find(link2)+7:]\n",
    "        workdf['Title'][i] = (r[:r.find('-')-5].strip())\n",
    "        for j in search(str(workdf['Title'][i]),stop = 1):\n",
    "            workdf['Link'][i] = j\n",
    "    else:\n",
    "        workdf['Title'][i] = 'err'\n"
   ]
  },
  {
   "cell_type": "code",
   "execution_count": 10,
   "metadata": {
    "collapsed": false,
    "scrolled": true
   },
   "outputs": [
    {
     "data": {
      "text/html": [
       "<div>\n",
       "<table border=\"1\" class=\"dataframe\">\n",
       "  <thead>\n",
       "    <tr style=\"text-align: right;\">\n",
       "      <th></th>\n",
       "      <th>Company</th>\n",
       "      <th>Link</th>\n",
       "      <th>Title</th>\n",
       "    </tr>\n",
       "  </thead>\n",
       "  <tbody>\n",
       "    <tr>\n",
       "      <th>0</th>\n",
       "      <td>AADHAR HOUSING FINAN</td>\n",
       "      <td>https://aadharhousing.com/</td>\n",
       "      <td>err</td>\n",
       "    </tr>\n",
       "    <tr>\n",
       "      <th>1</th>\n",
       "      <td>AAMAADMIPARTY</td>\n",
       "      <td>https://aamaadmiparty.org/</td>\n",
       "      <td>err</td>\n",
       "    </tr>\n",
       "    <tr>\n",
       "      <th>2</th>\n",
       "      <td>Aavas Financiers Lim</td>\n",
       "      <td>https://www.aavas.in/</td>\n",
       "      <td>err</td>\n",
       "    </tr>\n",
       "    <tr>\n",
       "      <th>3</th>\n",
       "      <td>ABHIPRA CAPITAL LTD</td>\n",
       "      <td>https://www.abhipra.com/</td>\n",
       "      <td>err</td>\n",
       "    </tr>\n",
       "    <tr>\n",
       "      <th>4</th>\n",
       "      <td>ANDB</td>\n",
       "      <td>https://www.andhrabank.in/</td>\n",
       "      <td>andhra bank</td>\n",
       "    </tr>\n",
       "    <tr>\n",
       "      <th>5</th>\n",
       "      <td>BARB</td>\n",
       "      <td>https://www.bankofbaroda.in/</td>\n",
       "      <td>bank of baroda</td>\n",
       "    </tr>\n",
       "    <tr>\n",
       "      <th>6</th>\n",
       "      <td>BKID</td>\n",
       "      <td>https://www.bankofindia.co.in/</td>\n",
       "      <td>bank of india</td>\n",
       "    </tr>\n",
       "    <tr>\n",
       "      <th>7</th>\n",
       "      <td>CITI</td>\n",
       "      <td>https://www.online.citibank.co.in/</td>\n",
       "      <td>citibank</td>\n",
       "    </tr>\n",
       "    <tr>\n",
       "      <th>8</th>\n",
       "      <td>CNRB</td>\n",
       "      <td>https://www.canarabank.in/</td>\n",
       "      <td>canara bank</td>\n",
       "    </tr>\n",
       "    <tr>\n",
       "      <th>9</th>\n",
       "      <td>CORP</td>\n",
       "      <td>https://www.ifsccodebank.com/</td>\n",
       "      <td>ifsccodebank.com\\r\\n\\n\\r\\n        /*site.css*/...</td>\n",
       "    </tr>\n",
       "    <tr>\n",
       "      <th>10</th>\n",
       "      <td>DR FILE DTD</td>\n",
       "      <td>https://web-in-security.blogspot.com/2016/03/x...</td>\n",
       "      <td>err</td>\n",
       "    </tr>\n",
       "    <tr>\n",
       "      <th>11</th>\n",
       "      <td>DR TPZ DT</td>\n",
       "      <td>https://www.flipkart.com/dynosure-doctor-dt-si...</td>\n",
       "      <td>err</td>\n",
       "    </tr>\n",
       "    <tr>\n",
       "      <th>12</th>\n",
       "      <td>HDFC</td>\n",
       "      <td>https://www.hdfcbank.com/</td>\n",
       "      <td>hdfc bank</td>\n",
       "    </tr>\n",
       "    <tr>\n",
       "      <th>13</th>\n",
       "      <td>HSBC</td>\n",
       "      <td>https://www.hsbc.co.in/</td>\n",
       "      <td>hsbc</td>\n",
       "    </tr>\n",
       "    <tr>\n",
       "      <th>14</th>\n",
       "      <td>IBKL</td>\n",
       "      <td>https://www.idbi.com/index.asp</td>\n",
       "      <td>idbi</td>\n",
       "    </tr>\n",
       "    <tr>\n",
       "      <th>15</th>\n",
       "      <td>ICIC</td>\n",
       "      <td>https://www.icicibank.com/</td>\n",
       "      <td>icici</td>\n",
       "    </tr>\n",
       "    <tr>\n",
       "      <th>16</th>\n",
       "      <td>IDIB</td>\n",
       "      <td>https://www.indianbank.net.in/</td>\n",
       "      <td>indian bank</td>\n",
       "    </tr>\n",
       "    <tr>\n",
       "      <th>17</th>\n",
       "      <td>IOBA</td>\n",
       "      <td>https://www.iob.in/</td>\n",
       "      <td>indian overseas bank</td>\n",
       "    </tr>\n",
       "    <tr>\n",
       "      <th>18</th>\n",
       "      <td>KKBK</td>\n",
       "      <td>https://www.kotak.com/en.html</td>\n",
       "      <td>kotak bank</td>\n",
       "    </tr>\n",
       "    <tr>\n",
       "      <th>19</th>\n",
       "      <td>MAHB</td>\n",
       "      <td>https://www.bankofmaharashtra.in/</td>\n",
       "      <td>bank of maharashtra</td>\n",
       "    </tr>\n",
       "    <tr>\n",
       "      <th>20</th>\n",
       "      <td>ORBC</td>\n",
       "      <td>https://www.obcindia.co.in/</td>\n",
       "      <td>oriental bank of commerce</td>\n",
       "    </tr>\n",
       "    <tr>\n",
       "      <th>21</th>\n",
       "      <td>PSIB</td>\n",
       "      <td>https://www.psbindia.com/</td>\n",
       "      <td>punjab and sind bank</td>\n",
       "    </tr>\n",
       "    <tr>\n",
       "      <th>22</th>\n",
       "      <td>SBIN</td>\n",
       "      <td>https://www.onlinesbi.com/</td>\n",
       "      <td>sbi</td>\n",
       "    </tr>\n",
       "    <tr>\n",
       "      <th>23</th>\n",
       "      <td>SBTR</td>\n",
       "      <td>https://bankifsccode.com/STATE_BANK_OF_TRAVANCORE</td>\n",
       "      <td>state bank of travancore</td>\n",
       "    </tr>\n",
       "    <tr>\n",
       "      <th>24</th>\n",
       "      <td>SCBL</td>\n",
       "      <td>https://www.sc.com/in/</td>\n",
       "      <td>standard chartered bank</td>\n",
       "    </tr>\n",
       "    <tr>\n",
       "      <th>25</th>\n",
       "      <td>SIBL</td>\n",
       "      <td>https://www.southindianbank.com/</td>\n",
       "      <td>south indian bank</td>\n",
       "    </tr>\n",
       "    <tr>\n",
       "      <th>26</th>\n",
       "      <td>SYNB</td>\n",
       "      <td>https://www.syndicatebank.in/</td>\n",
       "      <td>syndicate bank</td>\n",
       "    </tr>\n",
       "    <tr>\n",
       "      <th>27</th>\n",
       "      <td>UBIN</td>\n",
       "      <td>https://www.unionbankofindia.co.in/</td>\n",
       "      <td>union bank</td>\n",
       "    </tr>\n",
       "    <tr>\n",
       "      <th>28</th>\n",
       "      <td>UCBA</td>\n",
       "      <td>https://www.ucobank.com/</td>\n",
       "      <td>uco bank</td>\n",
       "    </tr>\n",
       "    <tr>\n",
       "      <th>29</th>\n",
       "      <td>UTIB</td>\n",
       "      <td>https://www.axisbank.com/</td>\n",
       "      <td>axis bank</td>\n",
       "    </tr>\n",
       "    <tr>\n",
       "      <th>30</th>\n",
       "      <td>VIJB</td>\n",
       "      <td>https://www.vijayabank.com/</td>\n",
       "      <td>vijaya bank</td>\n",
       "    </tr>\n",
       "    <tr>\n",
       "      <th>31</th>\n",
       "      <td>YESB</td>\n",
       "      <td>https://www.yesbank.in/</td>\n",
       "      <td>yes bank</td>\n",
       "    </tr>\n",
       "    <tr>\n",
       "      <th>32</th>\n",
       "      <td>ACHAL</td>\n",
       "      <td>https://www.ifsccodebank.com/</td>\n",
       "      <td>ifsccodebank.com\\r\\n\\n\\r\\n        /*site.css*/...</td>\n",
       "    </tr>\n",
       "    <tr>\n",
       "      <th>33</th>\n",
       "      <td>ACHAL AND ACHAL</td>\n",
       "      <td>https://www.youtube.com/watch?v=0M9a3XoQFnc</td>\n",
       "      <td>err</td>\n",
       "    </tr>\n",
       "    <tr>\n",
       "      <th>34</th>\n",
       "      <td>ACHAL CHIT O</td>\n",
       "      <td>http://www.mca.gov.in/DataPortal/Ministry/Data...</td>\n",
       "      <td>err</td>\n",
       "    </tr>\n",
       "    <tr>\n",
       "      <th>35</th>\n",
       "      <td>ACHAL CHITTS</td>\n",
       "      <td>https://www.zaubacorp.com/company/ACHAL-CHITS-...</td>\n",
       "      <td>err</td>\n",
       "    </tr>\n",
       "    <tr>\n",
       "      <th>36</th>\n",
       "      <td>ACHAL GOYAL</td>\n",
       "      <td>https://www.facebook.com/public/Achal-Goyal</td>\n",
       "      <td>err</td>\n",
       "    </tr>\n",
       "    <tr>\n",
       "      <th>37</th>\n",
       "      <td>ACHALA</td>\n",
       "      <td>https://www.himalayanart.org/search/set.cfm?se...</td>\n",
       "      <td>err</td>\n",
       "    </tr>\n",
       "    <tr>\n",
       "      <th>38</th>\n",
       "      <td>ACHALA KULSHRESTHA</td>\n",
       "      <td>https://www.facebook.com/public/Achala-Kul</td>\n",
       "      <td>err</td>\n",
       "    </tr>\n",
       "    <tr>\n",
       "      <th>39</th>\n",
       "      <td>ACHAY LAL</td>\n",
       "      <td>https://www.facebook.com/public/Achay-Lal</td>\n",
       "      <td>err</td>\n",
       "    </tr>\n",
       "    <tr>\n",
       "      <th>40</th>\n",
       "      <td>ACHDR FTPZ DT</td>\n",
       "      <td>https://www.nelito.com/digital-banking/nach-mm...</td>\n",
       "      <td>err</td>\n",
       "    </tr>\n",
       "    <tr>\n",
       "      <th>41</th>\n",
       "      <td>ACHDRTPZ A</td>\n",
       "      <td>http://www.fxlog.co.uk/history/achdr</td>\n",
       "      <td>err</td>\n",
       "    </tr>\n",
       "    <tr>\n",
       "      <th>42</th>\n",
       "      <td>ACHDRTPZ DT</td>\n",
       "      <td>http://www.ni.com/example/31215/en/</td>\n",
       "      <td>err</td>\n",
       "    </tr>\n",
       "    <tr>\n",
       "      <th>43</th>\n",
       "      <td>ACHHRI TANGRI</td>\n",
       "      <td>http://finediningindian.com/2017/03/11/how-to-...</td>\n",
       "      <td>err</td>\n",
       "    </tr>\n",
       "    <tr>\n",
       "      <th>44</th>\n",
       "      <td>ACHIEVERS HOME</td>\n",
       "      <td>http://achievershome.com/</td>\n",
       "      <td>err</td>\n",
       "    </tr>\n",
       "    <tr>\n",
       "      <th>45</th>\n",
       "      <td>ACHIN</td>\n",
       "      <td>https://www.ifsccodebank.com/union-bank-ifsc-c...</td>\n",
       "      <td>ifsccodebank.com\\r\\n\\n\\r\\n        /*site.css*/...</td>\n",
       "    </tr>\n",
       "    <tr>\n",
       "      <th>46</th>\n",
       "      <td>ACHIN</td>\n",
       "      <td>https://en.wikipedia.org/wiki/Achin_District</td>\n",
       "      <td>err</td>\n",
       "    </tr>\n",
       "    <tr>\n",
       "      <th>47</th>\n",
       "      <td>ACHIN GARG</td>\n",
       "      <td>https://www.facebook.com/public/Achin-Garg</td>\n",
       "      <td>err</td>\n",
       "    </tr>\n",
       "    <tr>\n",
       "      <th>48</th>\n",
       "      <td>ACHIN KUMAR</td>\n",
       "      <td>https://in.linkedin.com/in/achinkumar</td>\n",
       "      <td>err</td>\n",
       "    </tr>\n",
       "    <tr>\n",
       "      <th>49</th>\n",
       "      <td>ACHLA PAHWA</td>\n",
       "      <td>https://www.facebook.com/achlapahwa.diarykepan...</td>\n",
       "      <td>err</td>\n",
       "    </tr>\n",
       "  </tbody>\n",
       "</table>\n",
       "</div>"
      ],
      "text/plain": [
       "                 Company                                               Link  \\\n",
       "0   AADHAR HOUSING FINAN                         https://aadharhousing.com/   \n",
       "1          AAMAADMIPARTY                         https://aamaadmiparty.org/   \n",
       "2   Aavas Financiers Lim                              https://www.aavas.in/   \n",
       "3    ABHIPRA CAPITAL LTD                           https://www.abhipra.com/   \n",
       "4                  ANDB                          https://www.andhrabank.in/   \n",
       "5                  BARB                        https://www.bankofbaroda.in/   \n",
       "6                  BKID                      https://www.bankofindia.co.in/   \n",
       "7                  CITI                  https://www.online.citibank.co.in/   \n",
       "8                  CNRB                          https://www.canarabank.in/   \n",
       "9                  CORP                       https://www.ifsccodebank.com/   \n",
       "10          DR FILE DTD   https://web-in-security.blogspot.com/2016/03/x...   \n",
       "11            DR TPZ DT   https://www.flipkart.com/dynosure-doctor-dt-si...   \n",
       "12                 HDFC                           https://www.hdfcbank.com/   \n",
       "13                 HSBC                             https://www.hsbc.co.in/   \n",
       "14                 IBKL                      https://www.idbi.com/index.asp   \n",
       "15                 ICIC                          https://www.icicibank.com/   \n",
       "16                 IDIB                      https://www.indianbank.net.in/   \n",
       "17                 IOBA                                 https://www.iob.in/   \n",
       "18                 KKBK                       https://www.kotak.com/en.html   \n",
       "19                 MAHB                   https://www.bankofmaharashtra.in/   \n",
       "20                 ORBC                         https://www.obcindia.co.in/   \n",
       "21                 PSIB                           https://www.psbindia.com/   \n",
       "22                 SBIN                          https://www.onlinesbi.com/   \n",
       "23                 SBTR   https://bankifsccode.com/STATE_BANK_OF_TRAVANCORE   \n",
       "24                 SCBL                              https://www.sc.com/in/   \n",
       "25                 SIBL                    https://www.southindianbank.com/   \n",
       "26                 SYNB                       https://www.syndicatebank.in/   \n",
       "27                 UBIN                 https://www.unionbankofindia.co.in/   \n",
       "28                 UCBA                            https://www.ucobank.com/   \n",
       "29                 UTIB                           https://www.axisbank.com/   \n",
       "30                 VIJB                         https://www.vijayabank.com/   \n",
       "31                 YESB                             https://www.yesbank.in/   \n",
       "32                 ACHAL                      https://www.ifsccodebank.com/   \n",
       "33       ACHAL AND ACHAL        https://www.youtube.com/watch?v=0M9a3XoQFnc   \n",
       "34          ACHAL CHIT O  http://www.mca.gov.in/DataPortal/Ministry/Data...   \n",
       "35          ACHAL CHITTS  https://www.zaubacorp.com/company/ACHAL-CHITS-...   \n",
       "36           ACHAL GOYAL        https://www.facebook.com/public/Achal-Goyal   \n",
       "37                ACHALA  https://www.himalayanart.org/search/set.cfm?se...   \n",
       "38    ACHALA KULSHRESTHA         https://www.facebook.com/public/Achala-Kul   \n",
       "39            ACHAY LAL           https://www.facebook.com/public/Achay-Lal   \n",
       "40        ACHDR FTPZ DT   https://www.nelito.com/digital-banking/nach-mm...   \n",
       "41           ACHDRTPZ A                http://www.fxlog.co.uk/history/achdr   \n",
       "42          ACHDRTPZ DT                 http://www.ni.com/example/31215/en/   \n",
       "43         ACHHRI TANGRI  http://finediningindian.com/2017/03/11/how-to-...   \n",
       "44        ACHIEVERS HOME                          http://achievershome.com/   \n",
       "45                 ACHIN  https://www.ifsccodebank.com/union-bank-ifsc-c...   \n",
       "46                ACHIN        https://en.wikipedia.org/wiki/Achin_District   \n",
       "47           ACHIN GARG          https://www.facebook.com/public/Achin-Garg   \n",
       "48           ACHIN KUMAR              https://in.linkedin.com/in/achinkumar   \n",
       "49           ACHLA PAHWA  https://www.facebook.com/achlapahwa.diarykepan...   \n",
       "\n",
       "                                                Title  \n",
       "0                                                 err  \n",
       "1                                                 err  \n",
       "2                                                 err  \n",
       "3                                                 err  \n",
       "4                                         andhra bank  \n",
       "5                                      bank of baroda  \n",
       "6                                       bank of india  \n",
       "7                                            citibank  \n",
       "8                                         canara bank  \n",
       "9   ifsccodebank.com\\r\\n\\n\\r\\n        /*site.css*/...  \n",
       "10                                                err  \n",
       "11                                                err  \n",
       "12                                          hdfc bank  \n",
       "13                                               hsbc  \n",
       "14                                               idbi  \n",
       "15                                              icici  \n",
       "16                                        indian bank  \n",
       "17                               indian overseas bank  \n",
       "18                                         kotak bank  \n",
       "19                                bank of maharashtra  \n",
       "20                          oriental bank of commerce  \n",
       "21                               punjab and sind bank  \n",
       "22                                                sbi  \n",
       "23                           state bank of travancore  \n",
       "24                            standard chartered bank  \n",
       "25                                  south indian bank  \n",
       "26                                     syndicate bank  \n",
       "27                                         union bank  \n",
       "28                                           uco bank  \n",
       "29                                          axis bank  \n",
       "30                                        vijaya bank  \n",
       "31                                           yes bank  \n",
       "32  ifsccodebank.com\\r\\n\\n\\r\\n        /*site.css*/...  \n",
       "33                                                err  \n",
       "34                                                err  \n",
       "35                                                err  \n",
       "36                                                err  \n",
       "37                                                err  \n",
       "38                                                err  \n",
       "39                                                err  \n",
       "40                                                err  \n",
       "41                                                err  \n",
       "42                                                err  \n",
       "43                                                err  \n",
       "44                                                err  \n",
       "45  ifsccodebank.com\\r\\n\\n\\r\\n        /*site.css*/...  \n",
       "46                                                err  \n",
       "47                                                err  \n",
       "48                                                err  \n",
       "49                                                err  "
      ]
     },
     "execution_count": 10,
     "metadata": {},
     "output_type": "execute_result"
    }
   ],
   "source": [
    "workdf"
   ]
  },
  {
   "cell_type": "markdown",
   "metadata": {},
   "source": [
    "### FOR non-acronym companies --- OBTAINING TITLE from LINK(column - WEBPAGE) TITLE"
   ]
  },
  {
   "cell_type": "code",
   "execution_count": 11,
   "metadata": {
    "collapsed": false
   },
   "outputs": [
    {
     "name": "stdout",
     "output_type": "stream",
     "text": [
      "https://aadharhousing.com/\n"
     ]
    },
    {
     "name": "stderr",
     "output_type": "stream",
     "text": [
      "/home/roshan/.local/lib/python3.5/site-packages/urllib3/connectionpool.py:851: InsecureRequestWarning: Unverified HTTPS request is being made. Adding certificate verification is strongly advised. See: https://urllib3.readthedocs.io/en/latest/advanced-usage.html#ssl-warnings\n",
      "  InsecureRequestWarning)\n"
     ]
    },
    {
     "name": "stdout",
     "output_type": "stream",
     "text": [
      "Aadhar Housing Finance Ltd: Home Loan | House Loan | Housing Loan Finance Company in India\n",
      "1\n",
      "https://aamaadmiparty.org/\n"
     ]
    },
    {
     "name": "stderr",
     "output_type": "stream",
     "text": [
      "/home/roshan/anaconda3/lib/python3.5/site-packages/IPython/core/interactiveshell.py:2881: SettingWithCopyWarning: \n",
      "A value is trying to be set on a copy of a slice from a DataFrame\n",
      "\n",
      "See the caveats in the documentation: http://pandas.pydata.org/pandas-docs/stable/indexing.html#indexing-view-versus-copy\n",
      "  exec(code_obj, self.user_global_ns, self.user_ns)\n",
      "/home/roshan/.local/lib/python3.5/site-packages/urllib3/connectionpool.py:851: InsecureRequestWarning: Unverified HTTPS request is being made. Adding certificate verification is strongly advised. See: https://urllib3.readthedocs.io/en/latest/advanced-usage.html#ssl-warnings\n",
      "  InsecureRequestWarning)\n"
     ]
    },
    {
     "name": "stdout",
     "output_type": "stream",
     "text": [
      "Aam Aadmi Party – भ्रष्टाचार मुक्त भारत हमारी मांग नहीं हमारी जिद्द है । जय हिन्द\n",
      "2\n",
      "https://www.aavas.in/\n"
     ]
    },
    {
     "name": "stderr",
     "output_type": "stream",
     "text": [
      "/home/roshan/.local/lib/python3.5/site-packages/urllib3/connectionpool.py:851: InsecureRequestWarning: Unverified HTTPS request is being made. Adding certificate verification is strongly advised. See: https://urllib3.readthedocs.io/en/latest/advanced-usage.html#ssl-warnings\n",
      "  InsecureRequestWarning)\n"
     ]
    },
    {
     "name": "stdout",
     "output_type": "stream",
     "text": [
      "Aavas Financiers Limited - Home Loan, Home Loan Finance\r\n",
      "\tCompany in India\n",
      "3\n",
      "https://www.abhipra.com/\n"
     ]
    },
    {
     "name": "stderr",
     "output_type": "stream",
     "text": [
      "/home/roshan/.local/lib/python3.5/site-packages/urllib3/connectionpool.py:851: InsecureRequestWarning: Unverified HTTPS request is being made. Adding certificate verification is strongly advised. See: https://urllib3.readthedocs.io/en/latest/advanced-usage.html#ssl-warnings\n",
      "  InsecureRequestWarning)\n"
     ]
    },
    {
     "name": "stdout",
     "output_type": "stream",
     "text": [
      "Abhipra - One stop Financial Hub\n",
      "4\n",
      "https://www.ifsccodebank.com/\n"
     ]
    },
    {
     "name": "stderr",
     "output_type": "stream",
     "text": [
      "/home/roshan/.local/lib/python3.5/site-packages/urllib3/connectionpool.py:851: InsecureRequestWarning: Unverified HTTPS request is being made. Adding certificate verification is strongly advised. See: https://urllib3.readthedocs.io/en/latest/advanced-usage.html#ssl-warnings\n",
      "  InsecureRequestWarning)\n"
     ]
    },
    {
     "name": "stdout",
     "output_type": "stream",
     "text": [
      "\r\n",
      "\tIFSC code | IFSC codes | find IFSC code | List of IFSC codes | NEFT IFSC | RTGS IFSC | IMPS IFSC\r\n",
      "\n",
      "5\n",
      "https://web-in-security.blogspot.com/2016/03/xxe-cheat-sheet.html\n"
     ]
    },
    {
     "name": "stderr",
     "output_type": "stream",
     "text": [
      "/home/roshan/.local/lib/python3.5/site-packages/urllib3/connectionpool.py:851: InsecureRequestWarning: Unverified HTTPS request is being made. Adding certificate verification is strongly advised. See: https://urllib3.readthedocs.io/en/latest/advanced-usage.html#ssl-warnings\n",
      "  InsecureRequestWarning)\n"
     ]
    },
    {
     "name": "stdout",
     "output_type": "stream",
     "text": [
      "DTD Cheat Sheet\n",
      "6\n",
      "https://www.flipkart.com/dynosure-doctor-dt-sino-japan-bp-monitor/p/itmefstkasxdtzpy\n"
     ]
    },
    {
     "name": "stderr",
     "output_type": "stream",
     "text": [
      "/home/roshan/.local/lib/python3.5/site-packages/urllib3/connectionpool.py:851: InsecureRequestWarning: Unverified HTTPS request is being made. Adding certificate verification is strongly advised. See: https://urllib3.readthedocs.io/en/latest/advanced-usage.html#ssl-warnings\n",
      "  InsecureRequestWarning)\n"
     ]
    },
    {
     "name": "stdout",
     "output_type": "stream",
     "text": [
      "Dynosure Doctor Dt Sino Japan Bp Monitor - Dynosure : Flipkart.com\n",
      "7\n",
      "https://www.ifsccodebank.com/\n"
     ]
    },
    {
     "name": "stderr",
     "output_type": "stream",
     "text": [
      "/home/roshan/.local/lib/python3.5/site-packages/urllib3/connectionpool.py:851: InsecureRequestWarning: Unverified HTTPS request is being made. Adding certificate verification is strongly advised. See: https://urllib3.readthedocs.io/en/latest/advanced-usage.html#ssl-warnings\n",
      "  InsecureRequestWarning)\n"
     ]
    },
    {
     "name": "stdout",
     "output_type": "stream",
     "text": [
      "\r\n",
      "\tIFSC code | IFSC codes | find IFSC code | List of IFSC codes | NEFT IFSC | RTGS IFSC | IMPS IFSC\r\n",
      "\n",
      "8\n",
      "https://www.youtube.com/watch?v=0M9a3XoQFnc\n"
     ]
    },
    {
     "name": "stderr",
     "output_type": "stream",
     "text": [
      "/home/roshan/.local/lib/python3.5/site-packages/urllib3/connectionpool.py:851: InsecureRequestWarning: Unverified HTTPS request is being made. Adding certificate verification is strongly advised. See: https://urllib3.readthedocs.io/en/latest/advanced-usage.html#ssl-warnings\n",
      "  InsecureRequestWarning)\n"
     ]
    },
    {
     "name": "stdout",
     "output_type": "stream",
     "text": [
      "ACHAL PAYSA ~ অচল পয়সা - YouTube\n",
      "9\n",
      "http://www.mca.gov.in/DataPortal/Ministry/DataPortal/Chit_Fund_Companies_1.pdf\n",
      "403 Forbidden\n",
      "10\n",
      "https://www.zaubacorp.com/company/ACHAL-CHITS-PRIVATE-LIMITED/U65992DL2004PTC126192\n"
     ]
    },
    {
     "name": "stderr",
     "output_type": "stream",
     "text": [
      "/home/roshan/.local/lib/python3.5/site-packages/urllib3/connectionpool.py:851: InsecureRequestWarning: Unverified HTTPS request is being made. Adding certificate verification is strongly advised. See: https://urllib3.readthedocs.io/en/latest/advanced-usage.html#ssl-warnings\n",
      "  InsecureRequestWarning)\n"
     ]
    },
    {
     "name": "stdout",
     "output_type": "stream",
     "text": [
      "ACHAL CHITS PRIVATE LIMITED - Company, directors and contact details | Zauba Corp\n",
      "11\n",
      "https://www.facebook.com/public/Achal-Goyal\n"
     ]
    },
    {
     "name": "stderr",
     "output_type": "stream",
     "text": [
      "/home/roshan/.local/lib/python3.5/site-packages/urllib3/connectionpool.py:851: InsecureRequestWarning: Unverified HTTPS request is being made. Adding certificate verification is strongly advised. See: https://urllib3.readthedocs.io/en/latest/advanced-usage.html#ssl-warnings\n",
      "  InsecureRequestWarning)\n"
     ]
    },
    {
     "name": "stdout",
     "output_type": "stream",
     "text": [
      "Achal Goyal ಪರಿಚಯ ಪುಟಗಳು | Facebook\n",
      "12\n",
      "https://www.himalayanart.org/search/set.cfm?setID=199\n"
     ]
    },
    {
     "name": "stderr",
     "output_type": "stream",
     "text": [
      "/home/roshan/.local/lib/python3.5/site-packages/urllib3/connectionpool.py:851: InsecureRequestWarning: Unverified HTTPS request is being made. Adding certificate verification is strongly advised. See: https://urllib3.readthedocs.io/en/latest/advanced-usage.html#ssl-warnings\n",
      "  InsecureRequestWarning)\n"
     ]
    },
    {
     "name": "stdout",
     "output_type": "stream",
     "text": [
      "Buddhist Deity: Achala Main Page\n",
      "13\n",
      "https://www.facebook.com/public/Achala-Kul\n"
     ]
    },
    {
     "name": "stderr",
     "output_type": "stream",
     "text": [
      "/home/roshan/.local/lib/python3.5/site-packages/urllib3/connectionpool.py:851: InsecureRequestWarning: Unverified HTTPS request is being made. Adding certificate verification is strongly advised. See: https://urllib3.readthedocs.io/en/latest/advanced-usage.html#ssl-warnings\n",
      "  InsecureRequestWarning)\n"
     ]
    },
    {
     "name": "stdout",
     "output_type": "stream",
     "text": [
      "Achala Kul ಪರಿಚಯ ಪುಟಗಳು | Facebook\n",
      "14\n",
      "https://www.facebook.com/public/Achay-Lal\n"
     ]
    },
    {
     "name": "stderr",
     "output_type": "stream",
     "text": [
      "/home/roshan/.local/lib/python3.5/site-packages/urllib3/connectionpool.py:851: InsecureRequestWarning: Unverified HTTPS request is being made. Adding certificate verification is strongly advised. See: https://urllib3.readthedocs.io/en/latest/advanced-usage.html#ssl-warnings\n",
      "  InsecureRequestWarning)\n"
     ]
    },
    {
     "name": "stdout",
     "output_type": "stream",
     "text": [
      "Achay Lal ಪರಿಚಯ ಪುಟಗಳು | Facebook\n",
      "15\n",
      "https://www.nelito.com/digital-banking/nach-mms.html\n"
     ]
    },
    {
     "name": "stderr",
     "output_type": "stream",
     "text": [
      "/home/roshan/.local/lib/python3.5/site-packages/urllib3/connectionpool.py:851: InsecureRequestWarning: Unverified HTTPS request is being made. Adding certificate verification is strongly advised. See: https://urllib3.readthedocs.io/en/latest/advanced-usage.html#ssl-warnings\n",
      "  InsecureRequestWarning)\n"
     ]
    },
    {
     "name": "stdout",
     "output_type": "stream",
     "text": [
      "ACH Payment Processing | Mandate Management System by Nelito\n",
      "16\n",
      "http://www.fxlog.co.uk/history/achdr\n",
      "achdr - archive number of all transactions on Forex market 2010-2016\n",
      "17\n",
      "http://www.ni.com/example/31215/en/\n",
      "J1939 Transport Protocol Reference Example - National Instruments\n",
      "18\n",
      "http://finediningindian.com/2017/03/11/how-to-make-achari-chicken-tangdi-kabab-party-food/\n"
     ]
    },
    {
     "name": "stderr",
     "output_type": "stream",
     "text": [
      "/home/roshan/.local/lib/python3.5/site-packages/urllib3/connectionpool.py:851: InsecureRequestWarning: Unverified HTTPS request is being made. Adding certificate verification is strongly advised. See: https://urllib3.readthedocs.io/en/latest/advanced-usage.html#ssl-warnings\n",
      "  InsecureRequestWarning)\n"
     ]
    },
    {
     "name": "stdout",
     "output_type": "stream",
     "text": [
      "How to Make Achari Chicken Tangdi Kabab | Party Food | Finediningindian\n",
      "19\n",
      "http://achievershome.com/\n",
      "\n",
      "\tAchievers Home Public School | A Co - Educational Senior Secondry School | Managed By Manmohan Singh Ahluwalia Education Society\n",
      "\n",
      "20\n",
      "https://www.ifsccodebank.com/union-bank-ifsc-code/97/b1\n"
     ]
    },
    {
     "name": "stderr",
     "output_type": "stream",
     "text": [
      "/home/roshan/.local/lib/python3.5/site-packages/urllib3/connectionpool.py:851: InsecureRequestWarning: Unverified HTTPS request is being made. Adding certificate verification is strongly advised. See: https://urllib3.readthedocs.io/en/latest/advanced-usage.html#ssl-warnings\n",
      "  InsecureRequestWarning)\n"
     ]
    },
    {
     "name": "stdout",
     "output_type": "stream",
     "text": [
      "\r\n",
      "\tunion bank ifsc code | union bank of india ifsc code \r\n",
      "\n",
      "21\n",
      "https://en.wikipedia.org/wiki/Achin_District\n"
     ]
    },
    {
     "name": "stderr",
     "output_type": "stream",
     "text": [
      "/home/roshan/.local/lib/python3.5/site-packages/urllib3/connectionpool.py:851: InsecureRequestWarning: Unverified HTTPS request is being made. Adding certificate verification is strongly advised. See: https://urllib3.readthedocs.io/en/latest/advanced-usage.html#ssl-warnings\n",
      "  InsecureRequestWarning)\n"
     ]
    },
    {
     "name": "stdout",
     "output_type": "stream",
     "text": [
      "Achin District - Wikipedia\n",
      "22\n",
      "https://www.facebook.com/public/Achin-Garg\n"
     ]
    },
    {
     "name": "stderr",
     "output_type": "stream",
     "text": [
      "/home/roshan/.local/lib/python3.5/site-packages/urllib3/connectionpool.py:851: InsecureRequestWarning: Unverified HTTPS request is being made. Adding certificate verification is strongly advised. See: https://urllib3.readthedocs.io/en/latest/advanced-usage.html#ssl-warnings\n",
      "  InsecureRequestWarning)\n"
     ]
    },
    {
     "name": "stdout",
     "output_type": "stream",
     "text": [
      "Achin Garg ಪರಿಚಯ ಪುಟಗಳು | Facebook\n",
      "23\n",
      "https://in.linkedin.com/in/achinkumar\n"
     ]
    },
    {
     "name": "stderr",
     "output_type": "stream",
     "text": [
      "/home/roshan/.local/lib/python3.5/site-packages/urllib3/connectionpool.py:851: InsecureRequestWarning: Unverified HTTPS request is being made. Adding certificate verification is strongly advised. See: https://urllib3.readthedocs.io/en/latest/advanced-usage.html#ssl-warnings\n",
      "  InsecureRequestWarning)\n"
     ]
    },
    {
     "name": "stdout",
     "output_type": "stream",
     "text": [
      "https://www.facebook.com/achlapahwa.diarykepanne.blogspot.in/\n"
     ]
    },
    {
     "name": "stderr",
     "output_type": "stream",
     "text": [
      "/home/roshan/.local/lib/python3.5/site-packages/urllib3/connectionpool.py:851: InsecureRequestWarning: Unverified HTTPS request is being made. Adding certificate verification is strongly advised. See: https://urllib3.readthedocs.io/en/latest/advanced-usage.html#ssl-warnings\n",
      "  InsecureRequestWarning)\n"
     ]
    },
    {
     "name": "stdout",
     "output_type": "stream",
     "text": [
      "Diary ke Panne by Achla Pahwa - ಮುಖಪುಟ | Facebook\n",
      "24\n",
      "24\n"
     ]
    }
   ],
   "source": [
    "count = 0\n",
    "for i,j in workdf.iterrows():\n",
    "    if workdf['Title'][i]=='err' or workdf['Title'][i].startswith('ifsccode') or workdf['Title'][i]=='0':\n",
    "        url = workdf['Link'][i]\n",
    "        print(url)\n",
    "        try:\n",
    "            response = requests.get(url,verify = False)\n",
    "            soup = BeautifulSoup(response.text,\"html.parser\")\n",
    "            print(soup.title.text)\n",
    "            workdf['Title'][i]= soup.title.text\n",
    "            count = count+1\n",
    "            print(count)\n",
    "        except:\n",
    "            workdf['Title'][i]= '-1'\n",
    "            continue\n",
    "print(count)"
   ]
  },
  {
   "cell_type": "markdown",
   "metadata": {},
   "source": [
    "### OBTAINING BANK NAME FROM LINKS THAT HAVE TITLE 'IFSC'"
   ]
  },
  {
   "cell_type": "code",
   "execution_count": 12,
   "metadata": {
    "collapsed": false,
    "scrolled": false
   },
   "outputs": [
    {
     "name": "stderr",
     "output_type": "stream",
     "text": [
      "/home/roshan/anaconda3/lib/python3.5/site-packages/IPython/core/interactiveshell.py:2881: SettingWithCopyWarning: \n",
      "A value is trying to be set on a copy of a slice from a DataFrame\n",
      "\n",
      "See the caveats in the documentation: http://pandas.pydata.org/pandas-docs/stable/indexing.html#indexing-view-versus-copy\n",
      "  exec(code_obj, self.user_global_ns, self.user_ns)\n"
     ]
    }
   ],
   "source": [
    "for i,j in workdf.iterrows():\n",
    "    if 'IFSC' in str(workdf['Title'][i]) or workdf['Title'][i]==-1:\n",
    "        query = workdf['Company'][i] + 'Bank'\n",
    "        for j in search(query,stop = 1):\n",
    "            workdf['Link'][i] = j\n",
    "        workdf['Title'][i] = '0'"
   ]
  },
  {
   "cell_type": "code",
   "execution_count": 13,
   "metadata": {
    "collapsed": false,
    "scrolled": false
   },
   "outputs": [
    {
     "data": {
      "text/html": [
       "<div>\n",
       "<table border=\"1\" class=\"dataframe\">\n",
       "  <thead>\n",
       "    <tr style=\"text-align: right;\">\n",
       "      <th></th>\n",
       "      <th>Company</th>\n",
       "      <th>Link</th>\n",
       "      <th>Title</th>\n",
       "    </tr>\n",
       "  </thead>\n",
       "  <tbody>\n",
       "    <tr>\n",
       "      <th>0</th>\n",
       "      <td>AADHAR HOUSING FINAN</td>\n",
       "      <td>https://aadharhousing.com/</td>\n",
       "      <td>Aadhar Housing Finance Ltd: Home Loan | House ...</td>\n",
       "    </tr>\n",
       "    <tr>\n",
       "      <th>1</th>\n",
       "      <td>AAMAADMIPARTY</td>\n",
       "      <td>https://aamaadmiparty.org/</td>\n",
       "      <td>Aam Aadmi Party – भ्रष्टाचार मुक्त भारत हमारी ...</td>\n",
       "    </tr>\n",
       "    <tr>\n",
       "      <th>2</th>\n",
       "      <td>Aavas Financiers Lim</td>\n",
       "      <td>https://www.aavas.in/</td>\n",
       "      <td>Aavas Financiers Limited - Home Loan, Home Loa...</td>\n",
       "    </tr>\n",
       "    <tr>\n",
       "      <th>3</th>\n",
       "      <td>ABHIPRA CAPITAL LTD</td>\n",
       "      <td>https://www.abhipra.com/</td>\n",
       "      <td>Abhipra - One stop Financial Hub</td>\n",
       "    </tr>\n",
       "    <tr>\n",
       "      <th>4</th>\n",
       "      <td>ANDB</td>\n",
       "      <td>https://www.andhrabank.in/</td>\n",
       "      <td>andhra bank</td>\n",
       "    </tr>\n",
       "    <tr>\n",
       "      <th>5</th>\n",
       "      <td>BARB</td>\n",
       "      <td>https://www.bankofbaroda.in/</td>\n",
       "      <td>bank of baroda</td>\n",
       "    </tr>\n",
       "    <tr>\n",
       "      <th>6</th>\n",
       "      <td>BKID</td>\n",
       "      <td>https://www.bankofindia.co.in/</td>\n",
       "      <td>bank of india</td>\n",
       "    </tr>\n",
       "    <tr>\n",
       "      <th>7</th>\n",
       "      <td>CITI</td>\n",
       "      <td>https://www.online.citibank.co.in/</td>\n",
       "      <td>citibank</td>\n",
       "    </tr>\n",
       "    <tr>\n",
       "      <th>8</th>\n",
       "      <td>CNRB</td>\n",
       "      <td>https://www.canarabank.in/</td>\n",
       "      <td>canara bank</td>\n",
       "    </tr>\n",
       "    <tr>\n",
       "      <th>9</th>\n",
       "      <td>CORP</td>\n",
       "      <td>https://www.corpbank.com/</td>\n",
       "      <td>0</td>\n",
       "    </tr>\n",
       "    <tr>\n",
       "      <th>10</th>\n",
       "      <td>DR FILE DTD</td>\n",
       "      <td>https://web-in-security.blogspot.com/2016/03/x...</td>\n",
       "      <td>DTD Cheat Sheet</td>\n",
       "    </tr>\n",
       "    <tr>\n",
       "      <th>11</th>\n",
       "      <td>DR TPZ DT</td>\n",
       "      <td>https://www.flipkart.com/dynosure-doctor-dt-si...</td>\n",
       "      <td>Dynosure Doctor Dt Sino Japan Bp Monitor - Dyn...</td>\n",
       "    </tr>\n",
       "    <tr>\n",
       "      <th>12</th>\n",
       "      <td>HDFC</td>\n",
       "      <td>https://www.hdfcbank.com/</td>\n",
       "      <td>hdfc bank</td>\n",
       "    </tr>\n",
       "    <tr>\n",
       "      <th>13</th>\n",
       "      <td>HSBC</td>\n",
       "      <td>https://www.hsbc.co.in/</td>\n",
       "      <td>hsbc</td>\n",
       "    </tr>\n",
       "    <tr>\n",
       "      <th>14</th>\n",
       "      <td>IBKL</td>\n",
       "      <td>https://www.idbi.com/index.asp</td>\n",
       "      <td>idbi</td>\n",
       "    </tr>\n",
       "    <tr>\n",
       "      <th>15</th>\n",
       "      <td>ICIC</td>\n",
       "      <td>https://www.icicibank.com/</td>\n",
       "      <td>icici</td>\n",
       "    </tr>\n",
       "    <tr>\n",
       "      <th>16</th>\n",
       "      <td>IDIB</td>\n",
       "      <td>https://www.indianbank.net.in/</td>\n",
       "      <td>indian bank</td>\n",
       "    </tr>\n",
       "    <tr>\n",
       "      <th>17</th>\n",
       "      <td>IOBA</td>\n",
       "      <td>https://www.iob.in/</td>\n",
       "      <td>indian overseas bank</td>\n",
       "    </tr>\n",
       "    <tr>\n",
       "      <th>18</th>\n",
       "      <td>KKBK</td>\n",
       "      <td>https://www.kotak.com/en.html</td>\n",
       "      <td>kotak bank</td>\n",
       "    </tr>\n",
       "    <tr>\n",
       "      <th>19</th>\n",
       "      <td>MAHB</td>\n",
       "      <td>https://www.bankofmaharashtra.in/</td>\n",
       "      <td>bank of maharashtra</td>\n",
       "    </tr>\n",
       "    <tr>\n",
       "      <th>20</th>\n",
       "      <td>ORBC</td>\n",
       "      <td>https://www.obcindia.co.in/</td>\n",
       "      <td>oriental bank of commerce</td>\n",
       "    </tr>\n",
       "    <tr>\n",
       "      <th>21</th>\n",
       "      <td>PSIB</td>\n",
       "      <td>https://www.psbindia.com/</td>\n",
       "      <td>punjab and sind bank</td>\n",
       "    </tr>\n",
       "    <tr>\n",
       "      <th>22</th>\n",
       "      <td>SBIN</td>\n",
       "      <td>https://www.onlinesbi.com/</td>\n",
       "      <td>sbi</td>\n",
       "    </tr>\n",
       "    <tr>\n",
       "      <th>23</th>\n",
       "      <td>SBTR</td>\n",
       "      <td>https://bankifsccode.com/STATE_BANK_OF_TRAVANCORE</td>\n",
       "      <td>state bank of travancore</td>\n",
       "    </tr>\n",
       "    <tr>\n",
       "      <th>24</th>\n",
       "      <td>SCBL</td>\n",
       "      <td>https://www.sc.com/in/</td>\n",
       "      <td>standard chartered bank</td>\n",
       "    </tr>\n",
       "    <tr>\n",
       "      <th>25</th>\n",
       "      <td>SIBL</td>\n",
       "      <td>https://www.southindianbank.com/</td>\n",
       "      <td>south indian bank</td>\n",
       "    </tr>\n",
       "    <tr>\n",
       "      <th>26</th>\n",
       "      <td>SYNB</td>\n",
       "      <td>https://www.syndicatebank.in/</td>\n",
       "      <td>syndicate bank</td>\n",
       "    </tr>\n",
       "    <tr>\n",
       "      <th>27</th>\n",
       "      <td>UBIN</td>\n",
       "      <td>https://www.unionbankofindia.co.in/</td>\n",
       "      <td>union bank</td>\n",
       "    </tr>\n",
       "    <tr>\n",
       "      <th>28</th>\n",
       "      <td>UCBA</td>\n",
       "      <td>https://www.ucobank.com/</td>\n",
       "      <td>uco bank</td>\n",
       "    </tr>\n",
       "    <tr>\n",
       "      <th>29</th>\n",
       "      <td>UTIB</td>\n",
       "      <td>https://www.axisbank.com/</td>\n",
       "      <td>axis bank</td>\n",
       "    </tr>\n",
       "    <tr>\n",
       "      <th>30</th>\n",
       "      <td>VIJB</td>\n",
       "      <td>https://www.vijayabank.com/</td>\n",
       "      <td>vijaya bank</td>\n",
       "    </tr>\n",
       "    <tr>\n",
       "      <th>31</th>\n",
       "      <td>YESB</td>\n",
       "      <td>https://www.yesbank.in/</td>\n",
       "      <td>yes bank</td>\n",
       "    </tr>\n",
       "    <tr>\n",
       "      <th>32</th>\n",
       "      <td>ACHAL</td>\n",
       "      <td>https://sharechat.com/post/yAVyeAd</td>\n",
       "      <td>0</td>\n",
       "    </tr>\n",
       "    <tr>\n",
       "      <th>33</th>\n",
       "      <td>ACHAL AND ACHAL</td>\n",
       "      <td>https://www.youtube.com/watch?v=0M9a3XoQFnc</td>\n",
       "      <td>ACHAL PAYSA ~ অচল পয়সা - YouTube</td>\n",
       "    </tr>\n",
       "    <tr>\n",
       "      <th>34</th>\n",
       "      <td>ACHAL CHIT O</td>\n",
       "      <td>http://www.mca.gov.in/DataPortal/Ministry/Data...</td>\n",
       "      <td>403 Forbidden</td>\n",
       "    </tr>\n",
       "    <tr>\n",
       "      <th>35</th>\n",
       "      <td>ACHAL CHITTS</td>\n",
       "      <td>https://www.zaubacorp.com/company/ACHAL-CHITS-...</td>\n",
       "      <td>ACHAL CHITS PRIVATE LIMITED - Company, directo...</td>\n",
       "    </tr>\n",
       "    <tr>\n",
       "      <th>36</th>\n",
       "      <td>ACHAL GOYAL</td>\n",
       "      <td>https://www.facebook.com/public/Achal-Goyal</td>\n",
       "      <td>Achal Goyal ಪರಿಚಯ ಪುಟಗಳು | Facebook</td>\n",
       "    </tr>\n",
       "    <tr>\n",
       "      <th>37</th>\n",
       "      <td>ACHALA</td>\n",
       "      <td>https://www.himalayanart.org/search/set.cfm?se...</td>\n",
       "      <td>Buddhist Deity: Achala Main Page</td>\n",
       "    </tr>\n",
       "    <tr>\n",
       "      <th>38</th>\n",
       "      <td>ACHALA KULSHRESTHA</td>\n",
       "      <td>https://www.facebook.com/public/Achala-Kul</td>\n",
       "      <td>Achala Kul ಪರಿಚಯ ಪುಟಗಳು | Facebook</td>\n",
       "    </tr>\n",
       "    <tr>\n",
       "      <th>39</th>\n",
       "      <td>ACHAY LAL</td>\n",
       "      <td>https://www.facebook.com/public/Achay-Lal</td>\n",
       "      <td>Achay Lal ಪರಿಚಯ ಪುಟಗಳು | Facebook</td>\n",
       "    </tr>\n",
       "    <tr>\n",
       "      <th>40</th>\n",
       "      <td>ACHDR FTPZ DT</td>\n",
       "      <td>https://www.nelito.com/digital-banking/nach-mm...</td>\n",
       "      <td>ACH Payment Processing | Mandate Management Sy...</td>\n",
       "    </tr>\n",
       "    <tr>\n",
       "      <th>41</th>\n",
       "      <td>ACHDRTPZ A</td>\n",
       "      <td>http://www.fxlog.co.uk/history/achdr</td>\n",
       "      <td>achdr - archive number of all transactions on ...</td>\n",
       "    </tr>\n",
       "    <tr>\n",
       "      <th>42</th>\n",
       "      <td>ACHDRTPZ DT</td>\n",
       "      <td>http://www.ni.com/example/31215/en/</td>\n",
       "      <td>J1939 Transport Protocol Reference Example - N...</td>\n",
       "    </tr>\n",
       "    <tr>\n",
       "      <th>43</th>\n",
       "      <td>ACHHRI TANGRI</td>\n",
       "      <td>http://finediningindian.com/2017/03/11/how-to-...</td>\n",
       "      <td>How to Make Achari Chicken Tangdi Kabab | Part...</td>\n",
       "    </tr>\n",
       "    <tr>\n",
       "      <th>44</th>\n",
       "      <td>ACHIEVERS HOME</td>\n",
       "      <td>http://achievershome.com/</td>\n",
       "      <td>\\r\\n\\tAchievers Home Public School | A Co - Ed...</td>\n",
       "    </tr>\n",
       "    <tr>\n",
       "      <th>45</th>\n",
       "      <td>ACHIN</td>\n",
       "      <td>https://www.ifsccodebank.com/union-bank-ifsc-c...</td>\n",
       "      <td>\\r\\n\\tunion bank ifsc code | union bank of ind...</td>\n",
       "    </tr>\n",
       "    <tr>\n",
       "      <th>46</th>\n",
       "      <td>ACHIN</td>\n",
       "      <td>https://en.wikipedia.org/wiki/Achin_District</td>\n",
       "      <td>Achin District - Wikipedia</td>\n",
       "    </tr>\n",
       "    <tr>\n",
       "      <th>47</th>\n",
       "      <td>ACHIN GARG</td>\n",
       "      <td>https://www.facebook.com/public/Achin-Garg</td>\n",
       "      <td>Achin Garg ಪರಿಚಯ ಪುಟಗಳು | Facebook</td>\n",
       "    </tr>\n",
       "    <tr>\n",
       "      <th>48</th>\n",
       "      <td>ACHIN KUMAR</td>\n",
       "      <td>https://in.linkedin.com/in/achinkumar</td>\n",
       "      <td>-1</td>\n",
       "    </tr>\n",
       "    <tr>\n",
       "      <th>49</th>\n",
       "      <td>ACHLA PAHWA</td>\n",
       "      <td>https://www.facebook.com/achlapahwa.diarykepan...</td>\n",
       "      <td>Diary ke Panne by Achla Pahwa - ಮುಖಪುಟ | Facebook</td>\n",
       "    </tr>\n",
       "  </tbody>\n",
       "</table>\n",
       "</div>"
      ],
      "text/plain": [
       "                 Company                                               Link  \\\n",
       "0   AADHAR HOUSING FINAN                         https://aadharhousing.com/   \n",
       "1          AAMAADMIPARTY                         https://aamaadmiparty.org/   \n",
       "2   Aavas Financiers Lim                              https://www.aavas.in/   \n",
       "3    ABHIPRA CAPITAL LTD                           https://www.abhipra.com/   \n",
       "4                  ANDB                          https://www.andhrabank.in/   \n",
       "5                  BARB                        https://www.bankofbaroda.in/   \n",
       "6                  BKID                      https://www.bankofindia.co.in/   \n",
       "7                  CITI                  https://www.online.citibank.co.in/   \n",
       "8                  CNRB                          https://www.canarabank.in/   \n",
       "9                  CORP                           https://www.corpbank.com/   \n",
       "10          DR FILE DTD   https://web-in-security.blogspot.com/2016/03/x...   \n",
       "11            DR TPZ DT   https://www.flipkart.com/dynosure-doctor-dt-si...   \n",
       "12                 HDFC                           https://www.hdfcbank.com/   \n",
       "13                 HSBC                             https://www.hsbc.co.in/   \n",
       "14                 IBKL                      https://www.idbi.com/index.asp   \n",
       "15                 ICIC                          https://www.icicibank.com/   \n",
       "16                 IDIB                      https://www.indianbank.net.in/   \n",
       "17                 IOBA                                 https://www.iob.in/   \n",
       "18                 KKBK                       https://www.kotak.com/en.html   \n",
       "19                 MAHB                   https://www.bankofmaharashtra.in/   \n",
       "20                 ORBC                         https://www.obcindia.co.in/   \n",
       "21                 PSIB                           https://www.psbindia.com/   \n",
       "22                 SBIN                          https://www.onlinesbi.com/   \n",
       "23                 SBTR   https://bankifsccode.com/STATE_BANK_OF_TRAVANCORE   \n",
       "24                 SCBL                              https://www.sc.com/in/   \n",
       "25                 SIBL                    https://www.southindianbank.com/   \n",
       "26                 SYNB                       https://www.syndicatebank.in/   \n",
       "27                 UBIN                 https://www.unionbankofindia.co.in/   \n",
       "28                 UCBA                            https://www.ucobank.com/   \n",
       "29                 UTIB                           https://www.axisbank.com/   \n",
       "30                 VIJB                         https://www.vijayabank.com/   \n",
       "31                 YESB                             https://www.yesbank.in/   \n",
       "32                 ACHAL                 https://sharechat.com/post/yAVyeAd   \n",
       "33       ACHAL AND ACHAL        https://www.youtube.com/watch?v=0M9a3XoQFnc   \n",
       "34          ACHAL CHIT O  http://www.mca.gov.in/DataPortal/Ministry/Data...   \n",
       "35          ACHAL CHITTS  https://www.zaubacorp.com/company/ACHAL-CHITS-...   \n",
       "36           ACHAL GOYAL        https://www.facebook.com/public/Achal-Goyal   \n",
       "37                ACHALA  https://www.himalayanart.org/search/set.cfm?se...   \n",
       "38    ACHALA KULSHRESTHA         https://www.facebook.com/public/Achala-Kul   \n",
       "39            ACHAY LAL           https://www.facebook.com/public/Achay-Lal   \n",
       "40        ACHDR FTPZ DT   https://www.nelito.com/digital-banking/nach-mm...   \n",
       "41           ACHDRTPZ A                http://www.fxlog.co.uk/history/achdr   \n",
       "42          ACHDRTPZ DT                 http://www.ni.com/example/31215/en/   \n",
       "43         ACHHRI TANGRI  http://finediningindian.com/2017/03/11/how-to-...   \n",
       "44        ACHIEVERS HOME                          http://achievershome.com/   \n",
       "45                 ACHIN  https://www.ifsccodebank.com/union-bank-ifsc-c...   \n",
       "46                ACHIN        https://en.wikipedia.org/wiki/Achin_District   \n",
       "47           ACHIN GARG          https://www.facebook.com/public/Achin-Garg   \n",
       "48           ACHIN KUMAR              https://in.linkedin.com/in/achinkumar   \n",
       "49           ACHLA PAHWA  https://www.facebook.com/achlapahwa.diarykepan...   \n",
       "\n",
       "                                                Title  \n",
       "0   Aadhar Housing Finance Ltd: Home Loan | House ...  \n",
       "1   Aam Aadmi Party – भ्रष्टाचार मुक्त भारत हमारी ...  \n",
       "2   Aavas Financiers Limited - Home Loan, Home Loa...  \n",
       "3                    Abhipra - One stop Financial Hub  \n",
       "4                                         andhra bank  \n",
       "5                                      bank of baroda  \n",
       "6                                       bank of india  \n",
       "7                                            citibank  \n",
       "8                                         canara bank  \n",
       "9                                                   0  \n",
       "10                                    DTD Cheat Sheet  \n",
       "11  Dynosure Doctor Dt Sino Japan Bp Monitor - Dyn...  \n",
       "12                                          hdfc bank  \n",
       "13                                               hsbc  \n",
       "14                                               idbi  \n",
       "15                                              icici  \n",
       "16                                        indian bank  \n",
       "17                               indian overseas bank  \n",
       "18                                         kotak bank  \n",
       "19                                bank of maharashtra  \n",
       "20                          oriental bank of commerce  \n",
       "21                               punjab and sind bank  \n",
       "22                                                sbi  \n",
       "23                           state bank of travancore  \n",
       "24                            standard chartered bank  \n",
       "25                                  south indian bank  \n",
       "26                                     syndicate bank  \n",
       "27                                         union bank  \n",
       "28                                           uco bank  \n",
       "29                                          axis bank  \n",
       "30                                        vijaya bank  \n",
       "31                                           yes bank  \n",
       "32                                                  0  \n",
       "33                   ACHAL PAYSA ~ অচল পয়সা - YouTube  \n",
       "34                                      403 Forbidden  \n",
       "35  ACHAL CHITS PRIVATE LIMITED - Company, directo...  \n",
       "36                Achal Goyal ಪರಿಚಯ ಪುಟಗಳು | Facebook  \n",
       "37                   Buddhist Deity: Achala Main Page  \n",
       "38                 Achala Kul ಪರಿಚಯ ಪುಟಗಳು | Facebook  \n",
       "39                  Achay Lal ಪರಿಚಯ ಪುಟಗಳು | Facebook  \n",
       "40  ACH Payment Processing | Mandate Management Sy...  \n",
       "41  achdr - archive number of all transactions on ...  \n",
       "42  J1939 Transport Protocol Reference Example - N...  \n",
       "43  How to Make Achari Chicken Tangdi Kabab | Part...  \n",
       "44  \\r\\n\\tAchievers Home Public School | A Co - Ed...  \n",
       "45  \\r\\n\\tunion bank ifsc code | union bank of ind...  \n",
       "46                         Achin District - Wikipedia  \n",
       "47                 Achin Garg ಪರಿಚಯ ಪುಟಗಳು | Facebook  \n",
       "48                                                 -1  \n",
       "49  Diary ke Panne by Achla Pahwa - ಮುಖಪುಟ | Facebook  "
      ]
     },
     "execution_count": 13,
     "metadata": {},
     "output_type": "execute_result"
    }
   ],
   "source": [
    "workdf"
   ]
  },
  {
   "cell_type": "markdown",
   "metadata": {},
   "source": [
    "### ACCURACY - approx(30/50)"
   ]
  },
  {
   "cell_type": "code",
   "execution_count": 14,
   "metadata": {
    "collapsed": false,
    "scrolled": true
   },
   "outputs": [
    {
     "data": {
      "text/html": [
       "<div>\n",
       "<table border=\"1\" class=\"dataframe\">\n",
       "  <thead>\n",
       "    <tr style=\"text-align: right;\">\n",
       "      <th></th>\n",
       "      <th>Company</th>\n",
       "      <th>Link</th>\n",
       "      <th>Title</th>\n",
       "    </tr>\n",
       "  </thead>\n",
       "  <tbody>\n",
       "    <tr>\n",
       "      <th>0</th>\n",
       "      <td>AADHAR HOUSING FINAN</td>\n",
       "      <td>https://aadharhousing.com/</td>\n",
       "      <td>Aadhar Housing Finance Ltd: Home Loan | House ...</td>\n",
       "    </tr>\n",
       "    <tr>\n",
       "      <th>1</th>\n",
       "      <td>AAMAADMIPARTY</td>\n",
       "      <td>https://aamaadmiparty.org/</td>\n",
       "      <td>Aam Aadmi Party – भ्रष्टाचार मुक्त भारत हमारी ...</td>\n",
       "    </tr>\n",
       "    <tr>\n",
       "      <th>2</th>\n",
       "      <td>Aavas Financiers Lim</td>\n",
       "      <td>https://www.aavas.in/</td>\n",
       "      <td>Aavas Financiers Limited - Home Loan, Home Loa...</td>\n",
       "    </tr>\n",
       "    <tr>\n",
       "      <th>3</th>\n",
       "      <td>ABHIPRA CAPITAL LTD</td>\n",
       "      <td>https://www.abhipra.com/</td>\n",
       "      <td>Abhipra - One stop Financial Hub</td>\n",
       "    </tr>\n",
       "    <tr>\n",
       "      <th>4</th>\n",
       "      <td>ANDB</td>\n",
       "      <td>https://www.andhrabank.in/</td>\n",
       "      <td>andhra bank</td>\n",
       "    </tr>\n",
       "    <tr>\n",
       "      <th>5</th>\n",
       "      <td>BARB</td>\n",
       "      <td>https://www.bankofbaroda.in/</td>\n",
       "      <td>bank of baroda</td>\n",
       "    </tr>\n",
       "    <tr>\n",
       "      <th>6</th>\n",
       "      <td>BKID</td>\n",
       "      <td>https://www.bankofindia.co.in/</td>\n",
       "      <td>bank of india</td>\n",
       "    </tr>\n",
       "    <tr>\n",
       "      <th>7</th>\n",
       "      <td>CITI</td>\n",
       "      <td>https://www.online.citibank.co.in/</td>\n",
       "      <td>citibank</td>\n",
       "    </tr>\n",
       "    <tr>\n",
       "      <th>8</th>\n",
       "      <td>CNRB</td>\n",
       "      <td>https://www.canarabank.in/</td>\n",
       "      <td>canara bank</td>\n",
       "    </tr>\n",
       "    <tr>\n",
       "      <th>9</th>\n",
       "      <td>CORP</td>\n",
       "      <td>https://www.corpbank.com/</td>\n",
       "      <td>0</td>\n",
       "    </tr>\n",
       "    <tr>\n",
       "      <th>10</th>\n",
       "      <td>DR FILE DTD</td>\n",
       "      <td>https://web-in-security.blogspot.com/2016/03/x...</td>\n",
       "      <td>DTD Cheat Sheet</td>\n",
       "    </tr>\n",
       "    <tr>\n",
       "      <th>11</th>\n",
       "      <td>DR TPZ DT</td>\n",
       "      <td>https://www.flipkart.com/dynosure-doctor-dt-si...</td>\n",
       "      <td>Dynosure Doctor Dt Sino Japan Bp Monitor - Dyn...</td>\n",
       "    </tr>\n",
       "    <tr>\n",
       "      <th>12</th>\n",
       "      <td>HDFC</td>\n",
       "      <td>https://www.hdfcbank.com/</td>\n",
       "      <td>hdfc bank</td>\n",
       "    </tr>\n",
       "    <tr>\n",
       "      <th>13</th>\n",
       "      <td>HSBC</td>\n",
       "      <td>https://www.hsbc.co.in/</td>\n",
       "      <td>hsbc</td>\n",
       "    </tr>\n",
       "    <tr>\n",
       "      <th>14</th>\n",
       "      <td>IBKL</td>\n",
       "      <td>https://www.idbi.com/index.asp</td>\n",
       "      <td>idbi</td>\n",
       "    </tr>\n",
       "    <tr>\n",
       "      <th>15</th>\n",
       "      <td>ICIC</td>\n",
       "      <td>https://www.icicibank.com/</td>\n",
       "      <td>icici</td>\n",
       "    </tr>\n",
       "    <tr>\n",
       "      <th>16</th>\n",
       "      <td>IDIB</td>\n",
       "      <td>https://www.indianbank.net.in/</td>\n",
       "      <td>indian bank</td>\n",
       "    </tr>\n",
       "    <tr>\n",
       "      <th>17</th>\n",
       "      <td>IOBA</td>\n",
       "      <td>https://www.iob.in/</td>\n",
       "      <td>indian overseas bank</td>\n",
       "    </tr>\n",
       "    <tr>\n",
       "      <th>18</th>\n",
       "      <td>KKBK</td>\n",
       "      <td>https://www.kotak.com/en.html</td>\n",
       "      <td>kotak bank</td>\n",
       "    </tr>\n",
       "    <tr>\n",
       "      <th>19</th>\n",
       "      <td>MAHB</td>\n",
       "      <td>https://www.bankofmaharashtra.in/</td>\n",
       "      <td>bank of maharashtra</td>\n",
       "    </tr>\n",
       "    <tr>\n",
       "      <th>20</th>\n",
       "      <td>ORBC</td>\n",
       "      <td>https://www.obcindia.co.in/</td>\n",
       "      <td>oriental bank of commerce</td>\n",
       "    </tr>\n",
       "    <tr>\n",
       "      <th>21</th>\n",
       "      <td>PSIB</td>\n",
       "      <td>https://www.psbindia.com/</td>\n",
       "      <td>punjab and sind bank</td>\n",
       "    </tr>\n",
       "    <tr>\n",
       "      <th>22</th>\n",
       "      <td>SBIN</td>\n",
       "      <td>https://www.onlinesbi.com/</td>\n",
       "      <td>sbi</td>\n",
       "    </tr>\n",
       "    <tr>\n",
       "      <th>23</th>\n",
       "      <td>SBTR</td>\n",
       "      <td>https://bankifsccode.com/STATE_BANK_OF_TRAVANCORE</td>\n",
       "      <td>state bank of travancore</td>\n",
       "    </tr>\n",
       "    <tr>\n",
       "      <th>24</th>\n",
       "      <td>SCBL</td>\n",
       "      <td>https://www.sc.com/in/</td>\n",
       "      <td>standard chartered bank</td>\n",
       "    </tr>\n",
       "    <tr>\n",
       "      <th>25</th>\n",
       "      <td>SIBL</td>\n",
       "      <td>https://www.southindianbank.com/</td>\n",
       "      <td>south indian bank</td>\n",
       "    </tr>\n",
       "    <tr>\n",
       "      <th>26</th>\n",
       "      <td>SYNB</td>\n",
       "      <td>https://www.syndicatebank.in/</td>\n",
       "      <td>syndicate bank</td>\n",
       "    </tr>\n",
       "    <tr>\n",
       "      <th>27</th>\n",
       "      <td>UBIN</td>\n",
       "      <td>https://www.unionbankofindia.co.in/</td>\n",
       "      <td>union bank</td>\n",
       "    </tr>\n",
       "    <tr>\n",
       "      <th>28</th>\n",
       "      <td>UCBA</td>\n",
       "      <td>https://www.ucobank.com/</td>\n",
       "      <td>uco bank</td>\n",
       "    </tr>\n",
       "    <tr>\n",
       "      <th>29</th>\n",
       "      <td>UTIB</td>\n",
       "      <td>https://www.axisbank.com/</td>\n",
       "      <td>axis bank</td>\n",
       "    </tr>\n",
       "    <tr>\n",
       "      <th>30</th>\n",
       "      <td>VIJB</td>\n",
       "      <td>https://www.vijayabank.com/</td>\n",
       "      <td>vijaya bank</td>\n",
       "    </tr>\n",
       "    <tr>\n",
       "      <th>31</th>\n",
       "      <td>YESB</td>\n",
       "      <td>https://www.yesbank.in/</td>\n",
       "      <td>yes bank</td>\n",
       "    </tr>\n",
       "  </tbody>\n",
       "</table>\n",
       "</div>"
      ],
      "text/plain": [
       "                 Company                                               Link  \\\n",
       "0   AADHAR HOUSING FINAN                         https://aadharhousing.com/   \n",
       "1          AAMAADMIPARTY                         https://aamaadmiparty.org/   \n",
       "2   Aavas Financiers Lim                              https://www.aavas.in/   \n",
       "3    ABHIPRA CAPITAL LTD                           https://www.abhipra.com/   \n",
       "4                  ANDB                          https://www.andhrabank.in/   \n",
       "5                  BARB                        https://www.bankofbaroda.in/   \n",
       "6                  BKID                      https://www.bankofindia.co.in/   \n",
       "7                  CITI                  https://www.online.citibank.co.in/   \n",
       "8                  CNRB                          https://www.canarabank.in/   \n",
       "9                  CORP                           https://www.corpbank.com/   \n",
       "10          DR FILE DTD   https://web-in-security.blogspot.com/2016/03/x...   \n",
       "11            DR TPZ DT   https://www.flipkart.com/dynosure-doctor-dt-si...   \n",
       "12                 HDFC                           https://www.hdfcbank.com/   \n",
       "13                 HSBC                             https://www.hsbc.co.in/   \n",
       "14                 IBKL                      https://www.idbi.com/index.asp   \n",
       "15                 ICIC                          https://www.icicibank.com/   \n",
       "16                 IDIB                      https://www.indianbank.net.in/   \n",
       "17                 IOBA                                 https://www.iob.in/   \n",
       "18                 KKBK                       https://www.kotak.com/en.html   \n",
       "19                 MAHB                   https://www.bankofmaharashtra.in/   \n",
       "20                 ORBC                         https://www.obcindia.co.in/   \n",
       "21                 PSIB                           https://www.psbindia.com/   \n",
       "22                 SBIN                          https://www.onlinesbi.com/   \n",
       "23                 SBTR   https://bankifsccode.com/STATE_BANK_OF_TRAVANCORE   \n",
       "24                 SCBL                              https://www.sc.com/in/   \n",
       "25                 SIBL                    https://www.southindianbank.com/   \n",
       "26                 SYNB                       https://www.syndicatebank.in/   \n",
       "27                 UBIN                 https://www.unionbankofindia.co.in/   \n",
       "28                 UCBA                            https://www.ucobank.com/   \n",
       "29                 UTIB                           https://www.axisbank.com/   \n",
       "30                 VIJB                         https://www.vijayabank.com/   \n",
       "31                 YESB                             https://www.yesbank.in/   \n",
       "\n",
       "                                                Title  \n",
       "0   Aadhar Housing Finance Ltd: Home Loan | House ...  \n",
       "1   Aam Aadmi Party – भ्रष्टाचार मुक्त भारत हमारी ...  \n",
       "2   Aavas Financiers Limited - Home Loan, Home Loa...  \n",
       "3                    Abhipra - One stop Financial Hub  \n",
       "4                                         andhra bank  \n",
       "5                                      bank of baroda  \n",
       "6                                       bank of india  \n",
       "7                                            citibank  \n",
       "8                                         canara bank  \n",
       "9                                                   0  \n",
       "10                                    DTD Cheat Sheet  \n",
       "11  Dynosure Doctor Dt Sino Japan Bp Monitor - Dyn...  \n",
       "12                                          hdfc bank  \n",
       "13                                               hsbc  \n",
       "14                                               idbi  \n",
       "15                                              icici  \n",
       "16                                        indian bank  \n",
       "17                               indian overseas bank  \n",
       "18                                         kotak bank  \n",
       "19                                bank of maharashtra  \n",
       "20                          oriental bank of commerce  \n",
       "21                               punjab and sind bank  \n",
       "22                                                sbi  \n",
       "23                           state bank of travancore  \n",
       "24                            standard chartered bank  \n",
       "25                                  south indian bank  \n",
       "26                                     syndicate bank  \n",
       "27                                         union bank  \n",
       "28                                           uco bank  \n",
       "29                                          axis bank  \n",
       "30                                        vijaya bank  \n",
       "31                                           yes bank  "
      ]
     },
     "execution_count": 14,
     "metadata": {},
     "output_type": "execute_result"
    }
   ],
   "source": [
    "work2df = workdf.head(32)\n",
    "\n",
    "work2df"
   ]
  },
  {
   "cell_type": "markdown",
   "metadata": {},
   "source": [
    "## FOR BETTER DATA -- OBTAINING INFO FROM WIKI.. WHEREVER POSSIBLE"
   ]
  },
  {
   "cell_type": "code",
   "execution_count": 15,
   "metadata": {
    "collapsed": false,
    "scrolled": false
   },
   "outputs": [
    {
     "name": "stderr",
     "output_type": "stream",
     "text": [
      "/home/roshan/anaconda3/lib/python3.5/site-packages/ipykernel/__main__.py:1: SettingWithCopyWarning: \n",
      "A value is trying to be set on a copy of a slice from a DataFrame.\n",
      "Try using .loc[row_indexer,col_indexer] = value instead\n",
      "\n",
      "See the caveats in the documentation: http://pandas.pydata.org/pandas-docs/stable/indexing.html#indexing-view-versus-copy\n",
      "  if __name__ == '__main__':\n",
      "/home/roshan/anaconda3/lib/python3.5/site-packages/ipykernel/__main__.py:5: SettingWithCopyWarning: \n",
      "A value is trying to be set on a copy of a slice from a DataFrame\n",
      "\n",
      "See the caveats in the documentation: http://pandas.pydata.org/pandas-docs/stable/indexing.html#indexing-view-versus-copy\n",
      "/home/roshan/anaconda3/lib/python3.5/site-packages/pandas/core/indexing.py:132: SettingWithCopyWarning: \n",
      "A value is trying to be set on a copy of a slice from a DataFrame\n",
      "\n",
      "See the caveats in the documentation: http://pandas.pydata.org/pandas-docs/stable/indexing.html#indexing-view-versus-copy\n",
      "  self._setitem_with_indexer(indexer, value)\n",
      "/home/roshan/anaconda3/lib/python3.5/site-packages/pandas/core/series.py:729: SettingWithCopyWarning: \n",
      "A value is trying to be set on a copy of a slice from a DataFrame\n",
      "\n",
      "See the caveats in the documentation: http://pandas.pydata.org/pandas-docs/stable/indexing.html#indexing-view-versus-copy\n",
      "  self.loc[key] = value\n",
      "/home/roshan/anaconda3/lib/python3.5/site-packages/IPython/core/interactiveshell.py:2881: SettingWithCopyWarning: \n",
      "A value is trying to be set on a copy of a slice from a DataFrame\n",
      "\n",
      "See the caveats in the documentation: http://pandas.pydata.org/pandas-docs/stable/indexing.html#indexing-view-versus-copy\n",
      "  exec(code_obj, self.user_global_ns, self.user_ns)\n"
     ]
    },
    {
     "data": {
      "text/html": [
       "<div>\n",
       "<table border=\"1\" class=\"dataframe\">\n",
       "  <thead>\n",
       "    <tr style=\"text-align: right;\">\n",
       "      <th></th>\n",
       "      <th>Company</th>\n",
       "      <th>Link</th>\n",
       "      <th>Title</th>\n",
       "      <th>WIKI</th>\n",
       "    </tr>\n",
       "  </thead>\n",
       "  <tbody>\n",
       "    <tr>\n",
       "      <th>0</th>\n",
       "      <td>AADHAR HOUSING FINAN</td>\n",
       "      <td>https://aadharhousing.com/</td>\n",
       "      <td>Aadhar Housing Finance Ltd: Home Loan | House ...</td>\n",
       "      <td>https://aadharhousing.com/</td>\n",
       "    </tr>\n",
       "    <tr>\n",
       "      <th>1</th>\n",
       "      <td>AAMAADMIPARTY</td>\n",
       "      <td>https://aamaadmiparty.org/</td>\n",
       "      <td>Aam Aadmi Party – भ्रष्टाचार मुक्त भारत हमारी ...</td>\n",
       "      <td>https://aamaadmiparty.org/</td>\n",
       "    </tr>\n",
       "    <tr>\n",
       "      <th>2</th>\n",
       "      <td>Aavas Financiers Lim</td>\n",
       "      <td>https://www.aavas.in/</td>\n",
       "      <td>Aavas Financiers Limited - Home Loan, Home Loa...</td>\n",
       "      <td>https://www.aavas.in/</td>\n",
       "    </tr>\n",
       "    <tr>\n",
       "      <th>3</th>\n",
       "      <td>ABHIPRA CAPITAL LTD</td>\n",
       "      <td>https://www.abhipra.com/</td>\n",
       "      <td>Abhipra - One stop Financial Hub</td>\n",
       "      <td>https://www.abhipra.com/</td>\n",
       "    </tr>\n",
       "    <tr>\n",
       "      <th>4</th>\n",
       "      <td>ANDB</td>\n",
       "      <td>https://www.andhrabank.in/</td>\n",
       "      <td>andhra bank</td>\n",
       "      <td>https://en.wikipedia.org/wiki/Andhra_Bank</td>\n",
       "    </tr>\n",
       "    <tr>\n",
       "      <th>5</th>\n",
       "      <td>BARB</td>\n",
       "      <td>https://www.bankofbaroda.in/</td>\n",
       "      <td>bank of baroda</td>\n",
       "      <td>https://en.wikipedia.org/wiki/Bank_of_Baroda</td>\n",
       "    </tr>\n",
       "    <tr>\n",
       "      <th>6</th>\n",
       "      <td>BKID</td>\n",
       "      <td>https://www.bankofindia.co.in/</td>\n",
       "      <td>bank of india</td>\n",
       "      <td>https://en.wikipedia.org/wiki/Bank_of_India</td>\n",
       "    </tr>\n",
       "    <tr>\n",
       "      <th>7</th>\n",
       "      <td>CITI</td>\n",
       "      <td>https://www.online.citibank.co.in/</td>\n",
       "      <td>citibank</td>\n",
       "      <td>https://en.wikipedia.org/wiki/Citibank</td>\n",
       "    </tr>\n",
       "    <tr>\n",
       "      <th>8</th>\n",
       "      <td>CNRB</td>\n",
       "      <td>https://www.canarabank.in/</td>\n",
       "      <td>canara bank</td>\n",
       "      <td>https://en.wikipedia.org/wiki/Canara_Bank</td>\n",
       "    </tr>\n",
       "    <tr>\n",
       "      <th>9</th>\n",
       "      <td>CORP</td>\n",
       "      <td>https://www.corpbank.com/</td>\n",
       "      <td>0</td>\n",
       "      <td>https://www.corpbank.com/</td>\n",
       "    </tr>\n",
       "    <tr>\n",
       "      <th>10</th>\n",
       "      <td>DR FILE DTD</td>\n",
       "      <td>https://web-in-security.blogspot.com/2016/03/x...</td>\n",
       "      <td>DTD Cheat Sheet</td>\n",
       "      <td>https://en.wikipedia.org/wiki/Document_type_de...</td>\n",
       "    </tr>\n",
       "    <tr>\n",
       "      <th>11</th>\n",
       "      <td>DR TPZ DT</td>\n",
       "      <td>https://www.flipkart.com/dynosure-doctor-dt-si...</td>\n",
       "      <td>Dynosure Doctor Dt Sino Japan Bp Monitor - Dyn...</td>\n",
       "      <td>https://www.flipkart.com/dynosure-doctor-dt-si...</td>\n",
       "    </tr>\n",
       "    <tr>\n",
       "      <th>12</th>\n",
       "      <td>HDFC</td>\n",
       "      <td>https://www.hdfcbank.com/</td>\n",
       "      <td>hdfc bank</td>\n",
       "      <td>https://en.wikipedia.org/wiki/HDFC_Bank</td>\n",
       "    </tr>\n",
       "    <tr>\n",
       "      <th>13</th>\n",
       "      <td>HSBC</td>\n",
       "      <td>https://www.hsbc.co.in/</td>\n",
       "      <td>hsbc</td>\n",
       "      <td>https://en.wikipedia.org/wiki/HSBC</td>\n",
       "    </tr>\n",
       "    <tr>\n",
       "      <th>14</th>\n",
       "      <td>IBKL</td>\n",
       "      <td>https://www.idbi.com/index.asp</td>\n",
       "      <td>idbi</td>\n",
       "      <td>https://en.wikipedia.org/wiki/IDBI_Bank</td>\n",
       "    </tr>\n",
       "    <tr>\n",
       "      <th>15</th>\n",
       "      <td>ICIC</td>\n",
       "      <td>https://www.icicibank.com/</td>\n",
       "      <td>icici</td>\n",
       "      <td>https://en.wikipedia.org/wiki/ICICI_Bank</td>\n",
       "    </tr>\n",
       "    <tr>\n",
       "      <th>16</th>\n",
       "      <td>IDIB</td>\n",
       "      <td>https://www.indianbank.net.in/</td>\n",
       "      <td>indian bank</td>\n",
       "      <td>https://en.wikipedia.org/wiki/Indian_Bank</td>\n",
       "    </tr>\n",
       "    <tr>\n",
       "      <th>17</th>\n",
       "      <td>IOBA</td>\n",
       "      <td>https://www.iob.in/</td>\n",
       "      <td>indian overseas bank</td>\n",
       "      <td>https://en.wikipedia.org/wiki/Indian_Overseas_...</td>\n",
       "    </tr>\n",
       "    <tr>\n",
       "      <th>18</th>\n",
       "      <td>KKBK</td>\n",
       "      <td>https://www.kotak.com/en.html</td>\n",
       "      <td>kotak bank</td>\n",
       "      <td>https://en.wikipedia.org/wiki/Kotak_Mahindra_Bank</td>\n",
       "    </tr>\n",
       "    <tr>\n",
       "      <th>19</th>\n",
       "      <td>MAHB</td>\n",
       "      <td>https://www.bankofmaharashtra.in/</td>\n",
       "      <td>bank of maharashtra</td>\n",
       "      <td>https://en.wikipedia.org/wiki/Bank_of_Maharashtra</td>\n",
       "    </tr>\n",
       "    <tr>\n",
       "      <th>20</th>\n",
       "      <td>ORBC</td>\n",
       "      <td>https://www.obcindia.co.in/</td>\n",
       "      <td>oriental bank of commerce</td>\n",
       "      <td>https://en.wikipedia.org/wiki/Oriental_Bank_of...</td>\n",
       "    </tr>\n",
       "    <tr>\n",
       "      <th>21</th>\n",
       "      <td>PSIB</td>\n",
       "      <td>https://www.psbindia.com/</td>\n",
       "      <td>punjab and sind bank</td>\n",
       "      <td>https://en.wikipedia.org/wiki/Punjab_%26_Sind_...</td>\n",
       "    </tr>\n",
       "    <tr>\n",
       "      <th>22</th>\n",
       "      <td>SBIN</td>\n",
       "      <td>https://www.onlinesbi.com/</td>\n",
       "      <td>sbi</td>\n",
       "      <td>https://en.wikipedia.org/wiki/State_Bank_of_India</td>\n",
       "    </tr>\n",
       "    <tr>\n",
       "      <th>23</th>\n",
       "      <td>SBTR</td>\n",
       "      <td>https://bankifsccode.com/STATE_BANK_OF_TRAVANCORE</td>\n",
       "      <td>state bank of travancore</td>\n",
       "      <td>https://en.wikipedia.org/wiki/State_Bank_of_Tr...</td>\n",
       "    </tr>\n",
       "    <tr>\n",
       "      <th>24</th>\n",
       "      <td>SCBL</td>\n",
       "      <td>https://www.sc.com/in/</td>\n",
       "      <td>standard chartered bank</td>\n",
       "      <td>https://en.wikipedia.org/wiki/Standard_Chartered</td>\n",
       "    </tr>\n",
       "    <tr>\n",
       "      <th>25</th>\n",
       "      <td>SIBL</td>\n",
       "      <td>https://www.southindianbank.com/</td>\n",
       "      <td>south indian bank</td>\n",
       "      <td>https://en.wikipedia.org/wiki/South_Indian_Bank</td>\n",
       "    </tr>\n",
       "    <tr>\n",
       "      <th>26</th>\n",
       "      <td>SYNB</td>\n",
       "      <td>https://www.syndicatebank.in/</td>\n",
       "      <td>syndicate bank</td>\n",
       "      <td>https://en.wikipedia.org/wiki/Syndicate_Bank</td>\n",
       "    </tr>\n",
       "    <tr>\n",
       "      <th>27</th>\n",
       "      <td>UBIN</td>\n",
       "      <td>https://www.unionbankofindia.co.in/</td>\n",
       "      <td>union bank</td>\n",
       "      <td>https://en.wikipedia.org/wiki/Union_Bank_of_India</td>\n",
       "    </tr>\n",
       "    <tr>\n",
       "      <th>28</th>\n",
       "      <td>UCBA</td>\n",
       "      <td>https://www.ucobank.com/</td>\n",
       "      <td>uco bank</td>\n",
       "      <td>https://en.wikipedia.org/wiki/UCO_Bank</td>\n",
       "    </tr>\n",
       "    <tr>\n",
       "      <th>29</th>\n",
       "      <td>UTIB</td>\n",
       "      <td>https://www.axisbank.com/</td>\n",
       "      <td>axis bank</td>\n",
       "      <td>https://en.wikipedia.org/wiki/Axis_Bank</td>\n",
       "    </tr>\n",
       "    <tr>\n",
       "      <th>30</th>\n",
       "      <td>VIJB</td>\n",
       "      <td>https://www.vijayabank.com/</td>\n",
       "      <td>vijaya bank</td>\n",
       "      <td>https://en.wikipedia.org/wiki/Vijaya_Bank</td>\n",
       "    </tr>\n",
       "    <tr>\n",
       "      <th>31</th>\n",
       "      <td>YESB</td>\n",
       "      <td>https://www.yesbank.in/</td>\n",
       "      <td>yes bank</td>\n",
       "      <td>https://en.wikipedia.org/wiki/Yes_Bank</td>\n",
       "    </tr>\n",
       "  </tbody>\n",
       "</table>\n",
       "</div>"
      ],
      "text/plain": [
       "                 Company                                               Link  \\\n",
       "0   AADHAR HOUSING FINAN                         https://aadharhousing.com/   \n",
       "1          AAMAADMIPARTY                         https://aamaadmiparty.org/   \n",
       "2   Aavas Financiers Lim                              https://www.aavas.in/   \n",
       "3    ABHIPRA CAPITAL LTD                           https://www.abhipra.com/   \n",
       "4                  ANDB                          https://www.andhrabank.in/   \n",
       "5                  BARB                        https://www.bankofbaroda.in/   \n",
       "6                  BKID                      https://www.bankofindia.co.in/   \n",
       "7                  CITI                  https://www.online.citibank.co.in/   \n",
       "8                  CNRB                          https://www.canarabank.in/   \n",
       "9                  CORP                           https://www.corpbank.com/   \n",
       "10          DR FILE DTD   https://web-in-security.blogspot.com/2016/03/x...   \n",
       "11            DR TPZ DT   https://www.flipkart.com/dynosure-doctor-dt-si...   \n",
       "12                 HDFC                           https://www.hdfcbank.com/   \n",
       "13                 HSBC                             https://www.hsbc.co.in/   \n",
       "14                 IBKL                      https://www.idbi.com/index.asp   \n",
       "15                 ICIC                          https://www.icicibank.com/   \n",
       "16                 IDIB                      https://www.indianbank.net.in/   \n",
       "17                 IOBA                                 https://www.iob.in/   \n",
       "18                 KKBK                       https://www.kotak.com/en.html   \n",
       "19                 MAHB                   https://www.bankofmaharashtra.in/   \n",
       "20                 ORBC                         https://www.obcindia.co.in/   \n",
       "21                 PSIB                           https://www.psbindia.com/   \n",
       "22                 SBIN                          https://www.onlinesbi.com/   \n",
       "23                 SBTR   https://bankifsccode.com/STATE_BANK_OF_TRAVANCORE   \n",
       "24                 SCBL                              https://www.sc.com/in/   \n",
       "25                 SIBL                    https://www.southindianbank.com/   \n",
       "26                 SYNB                       https://www.syndicatebank.in/   \n",
       "27                 UBIN                 https://www.unionbankofindia.co.in/   \n",
       "28                 UCBA                            https://www.ucobank.com/   \n",
       "29                 UTIB                           https://www.axisbank.com/   \n",
       "30                 VIJB                         https://www.vijayabank.com/   \n",
       "31                 YESB                             https://www.yesbank.in/   \n",
       "\n",
       "                                                Title  \\\n",
       "0   Aadhar Housing Finance Ltd: Home Loan | House ...   \n",
       "1   Aam Aadmi Party – भ्रष्टाचार मुक्त भारत हमारी ...   \n",
       "2   Aavas Financiers Limited - Home Loan, Home Loa...   \n",
       "3                    Abhipra - One stop Financial Hub   \n",
       "4                                         andhra bank   \n",
       "5                                      bank of baroda   \n",
       "6                                       bank of india   \n",
       "7                                            citibank   \n",
       "8                                         canara bank   \n",
       "9                                                   0   \n",
       "10                                    DTD Cheat Sheet   \n",
       "11  Dynosure Doctor Dt Sino Japan Bp Monitor - Dyn...   \n",
       "12                                          hdfc bank   \n",
       "13                                               hsbc   \n",
       "14                                               idbi   \n",
       "15                                              icici   \n",
       "16                                        indian bank   \n",
       "17                               indian overseas bank   \n",
       "18                                         kotak bank   \n",
       "19                                bank of maharashtra   \n",
       "20                          oriental bank of commerce   \n",
       "21                               punjab and sind bank   \n",
       "22                                                sbi   \n",
       "23                           state bank of travancore   \n",
       "24                            standard chartered bank   \n",
       "25                                  south indian bank   \n",
       "26                                     syndicate bank   \n",
       "27                                         union bank   \n",
       "28                                           uco bank   \n",
       "29                                          axis bank   \n",
       "30                                        vijaya bank   \n",
       "31                                           yes bank   \n",
       "\n",
       "                                                 WIKI  \n",
       "0                          https://aadharhousing.com/  \n",
       "1                          https://aamaadmiparty.org/  \n",
       "2                               https://www.aavas.in/  \n",
       "3                            https://www.abhipra.com/  \n",
       "4           https://en.wikipedia.org/wiki/Andhra_Bank  \n",
       "5        https://en.wikipedia.org/wiki/Bank_of_Baroda  \n",
       "6         https://en.wikipedia.org/wiki/Bank_of_India  \n",
       "7              https://en.wikipedia.org/wiki/Citibank  \n",
       "8           https://en.wikipedia.org/wiki/Canara_Bank  \n",
       "9                           https://www.corpbank.com/  \n",
       "10  https://en.wikipedia.org/wiki/Document_type_de...  \n",
       "11  https://www.flipkart.com/dynosure-doctor-dt-si...  \n",
       "12            https://en.wikipedia.org/wiki/HDFC_Bank  \n",
       "13                 https://en.wikipedia.org/wiki/HSBC  \n",
       "14            https://en.wikipedia.org/wiki/IDBI_Bank  \n",
       "15           https://en.wikipedia.org/wiki/ICICI_Bank  \n",
       "16          https://en.wikipedia.org/wiki/Indian_Bank  \n",
       "17  https://en.wikipedia.org/wiki/Indian_Overseas_...  \n",
       "18  https://en.wikipedia.org/wiki/Kotak_Mahindra_Bank  \n",
       "19  https://en.wikipedia.org/wiki/Bank_of_Maharashtra  \n",
       "20  https://en.wikipedia.org/wiki/Oriental_Bank_of...  \n",
       "21  https://en.wikipedia.org/wiki/Punjab_%26_Sind_...  \n",
       "22  https://en.wikipedia.org/wiki/State_Bank_of_India  \n",
       "23  https://en.wikipedia.org/wiki/State_Bank_of_Tr...  \n",
       "24   https://en.wikipedia.org/wiki/Standard_Chartered  \n",
       "25    https://en.wikipedia.org/wiki/South_Indian_Bank  \n",
       "26       https://en.wikipedia.org/wiki/Syndicate_Bank  \n",
       "27  https://en.wikipedia.org/wiki/Union_Bank_of_India  \n",
       "28             https://en.wikipedia.org/wiki/UCO_Bank  \n",
       "29            https://en.wikipedia.org/wiki/Axis_Bank  \n",
       "30          https://en.wikipedia.org/wiki/Vijaya_Bank  \n",
       "31             https://en.wikipedia.org/wiki/Yes_Bank  "
      ]
     },
     "execution_count": 15,
     "metadata": {},
     "output_type": "execute_result"
    }
   ],
   "source": [
    "work2df['WIKI']=0\n",
    "for i,j in work2df.iterrows():\n",
    "    query=work2df['Title'][i] + 'Wikipedia'\n",
    "    for j in search(query,stop = 1):\n",
    "        work2df['WIKI'][i] = j\n",
    "    if('wikipedia' not in str(work2df['WIKI'][i])):\n",
    "        work2df['WIKI'][i] = work2df['Link'][i]\n",
    "work2df"
   ]
  },
  {
   "cell_type": "markdown",
   "metadata": {},
   "source": [
    "## OBTAINING CONTENT FROM WIKI ==> or if not available ==> from OFFICIAL LINK"
   ]
  },
  {
   "cell_type": "code",
   "execution_count": 16,
   "metadata": {
    "collapsed": false
   },
   "outputs": [
    {
     "name": "stderr",
     "output_type": "stream",
     "text": [
      "/home/roshan/anaconda3/lib/python3.5/site-packages/ipykernel/__main__.py:1: SettingWithCopyWarning: \n",
      "A value is trying to be set on a copy of a slice from a DataFrame.\n",
      "Try using .loc[row_indexer,col_indexer] = value instead\n",
      "\n",
      "See the caveats in the documentation: http://pandas.pydata.org/pandas-docs/stable/indexing.html#indexing-view-versus-copy\n",
      "  if __name__ == '__main__':\n"
     ]
    },
    {
     "name": "stdout",
     "output_type": "stream",
     "text": [
      "https://aadharhousing.com/\n"
     ]
    },
    {
     "name": "stderr",
     "output_type": "stream",
     "text": [
      "/home/roshan/.local/lib/python3.5/site-packages/urllib3/connectionpool.py:851: InsecureRequestWarning: Unverified HTTPS request is being made. Adding certificate verification is strongly advised. See: https://urllib3.readthedocs.io/en/latest/advanced-usage.html#ssl-warnings\n",
      "  InsecureRequestWarning)\n",
      "/home/roshan/anaconda3/lib/python3.5/site-packages/ipykernel/__main__.py:10: SettingWithCopyWarning: \n",
      "A value is trying to be set on a copy of a slice from a DataFrame\n",
      "\n",
      "See the caveats in the documentation: http://pandas.pydata.org/pandas-docs/stable/indexing.html#indexing-view-versus-copy\n",
      "/home/roshan/anaconda3/lib/python3.5/site-packages/pandas/core/indexing.py:132: SettingWithCopyWarning: \n",
      "A value is trying to be set on a copy of a slice from a DataFrame\n",
      "\n",
      "See the caveats in the documentation: http://pandas.pydata.org/pandas-docs/stable/indexing.html#indexing-view-versus-copy\n",
      "  self._setitem_with_indexer(indexer, value)\n",
      "/home/roshan/anaconda3/lib/python3.5/site-packages/pandas/core/series.py:729: SettingWithCopyWarning: \n",
      "A value is trying to be set on a copy of a slice from a DataFrame\n",
      "\n",
      "See the caveats in the documentation: http://pandas.pydata.org/pandas-docs/stable/indexing.html#indexing-view-versus-copy\n",
      "  self.loc[key] = value\n",
      "/home/roshan/anaconda3/lib/python3.5/site-packages/IPython/core/interactiveshell.py:2881: SettingWithCopyWarning: \n",
      "A value is trying to be set on a copy of a slice from a DataFrame\n",
      "\n",
      "See the caveats in the documentation: http://pandas.pydata.org/pandas-docs/stable/indexing.html#indexing-view-versus-copy\n",
      "  exec(code_obj, self.user_global_ns, self.user_ns)\n"
     ]
    },
    {
     "name": "stdout",
     "output_type": "stream",
     "text": [
      "https://aamaadmiparty.org/\n"
     ]
    },
    {
     "name": "stderr",
     "output_type": "stream",
     "text": [
      "/home/roshan/.local/lib/python3.5/site-packages/urllib3/connectionpool.py:851: InsecureRequestWarning: Unverified HTTPS request is being made. Adding certificate verification is strongly advised. See: https://urllib3.readthedocs.io/en/latest/advanced-usage.html#ssl-warnings\n",
      "  InsecureRequestWarning)\n"
     ]
    },
    {
     "name": "stdout",
     "output_type": "stream",
     "text": [
      "https://www.aavas.in/\n"
     ]
    },
    {
     "name": "stderr",
     "output_type": "stream",
     "text": [
      "/home/roshan/.local/lib/python3.5/site-packages/urllib3/connectionpool.py:851: InsecureRequestWarning: Unverified HTTPS request is being made. Adding certificate verification is strongly advised. See: https://urllib3.readthedocs.io/en/latest/advanced-usage.html#ssl-warnings\n",
      "  InsecureRequestWarning)\n"
     ]
    },
    {
     "name": "stdout",
     "output_type": "stream",
     "text": [
      "https://www.abhipra.com/\n"
     ]
    },
    {
     "name": "stderr",
     "output_type": "stream",
     "text": [
      "/home/roshan/.local/lib/python3.5/site-packages/urllib3/connectionpool.py:851: InsecureRequestWarning: Unverified HTTPS request is being made. Adding certificate verification is strongly advised. See: https://urllib3.readthedocs.io/en/latest/advanced-usage.html#ssl-warnings\n",
      "  InsecureRequestWarning)\n"
     ]
    },
    {
     "name": "stdout",
     "output_type": "stream",
     "text": [
      "https://en.wikipedia.org/wiki/Andhra_Bank\n"
     ]
    },
    {
     "name": "stderr",
     "output_type": "stream",
     "text": [
      "/home/roshan/.local/lib/python3.5/site-packages/urllib3/connectionpool.py:851: InsecureRequestWarning: Unverified HTTPS request is being made. Adding certificate verification is strongly advised. See: https://urllib3.readthedocs.io/en/latest/advanced-usage.html#ssl-warnings\n",
      "  InsecureRequestWarning)\n"
     ]
    },
    {
     "name": "stdout",
     "output_type": "stream",
     "text": [
      "Andhra Bank (BSE: 532418, NSE: ANDHRABANK)  is a medium-sized public sector bank (PSB) of India, with a network of 2885 branches, 4 extension counters, 38 satellite offices and 3798 automated teller machines (ATMs) as of 31 March 2019.[7] During 2011–12, the bank entered the states of Tripura and Himachal Pradesh. The bank now operates in 25 states and three Union Territories. Andhra Bank has its headquarters in Hyderabad, Telangana, India.\n",
      "\n",
      "https://en.wikipedia.org/wiki/Bank_of_Baroda\n"
     ]
    },
    {
     "name": "stderr",
     "output_type": "stream",
     "text": [
      "/home/roshan/.local/lib/python3.5/site-packages/urllib3/connectionpool.py:851: InsecureRequestWarning: Unverified HTTPS request is being made. Adding certificate verification is strongly advised. See: https://urllib3.readthedocs.io/en/latest/advanced-usage.html#ssl-warnings\n",
      "  InsecureRequestWarning)\n"
     ]
    },
    {
     "name": "stdout",
     "output_type": "stream",
     "text": [
      "Bank of Baroda (BoB) is an Indian multinational, public sector banking and financial services company. It is owned by Government of India.\n",
      "\n",
      "https://en.wikipedia.org/wiki/Bank_of_India\n"
     ]
    },
    {
     "name": "stderr",
     "output_type": "stream",
     "text": [
      "/home/roshan/.local/lib/python3.5/site-packages/urllib3/connectionpool.py:851: InsecureRequestWarning: Unverified HTTPS request is being made. Adding certificate verification is strongly advised. See: https://urllib3.readthedocs.io/en/latest/advanced-usage.html#ssl-warnings\n",
      "  InsecureRequestWarning)\n"
     ]
    },
    {
     "name": "stdout",
     "output_type": "stream",
     "text": [
      "Bank of India (BOI) is commercial bank with headquarters at Bandra Kurla complex, Mumbai and it is one of the top 5 banks in India. Founded in 1906, it has been government-owned since nationalisation in 1969. Bank of India has 5100 branches as on 31 January 2017, including 56 offices outside India, which includes five subsidiaries, five representative offices, and one joint venture.[5] BoI is a founder member of SWIFT (Society for Worldwide Inter Bank Financial Telecommunications), which facilitates provision of cost-effective financialprocessing and communication services.\n",
      "\n",
      "https://en.wikipedia.org/wiki/Citibank\n"
     ]
    },
    {
     "name": "stderr",
     "output_type": "stream",
     "text": [
      "/home/roshan/.local/lib/python3.5/site-packages/urllib3/connectionpool.py:851: InsecureRequestWarning: Unverified HTTPS request is being made. Adding certificate verification is strongly advised. See: https://urllib3.readthedocs.io/en/latest/advanced-usage.html#ssl-warnings\n",
      "  InsecureRequestWarning)\n"
     ]
    },
    {
     "name": "stdout",
     "output_type": "stream",
     "text": [
      "Citibank is the consumer division of financial services multinational Citigroup.[2] Citibank was founded in 1812 as the City Bank of New York, and later became  First National City Bank of New York. Citibank provides credit cards, mortgages, personal loans, commercial loans, and lines of credit.\n",
      "\n",
      "https://en.wikipedia.org/wiki/Canara_Bank\n"
     ]
    },
    {
     "name": "stderr",
     "output_type": "stream",
     "text": [
      "/home/roshan/.local/lib/python3.5/site-packages/urllib3/connectionpool.py:851: InsecureRequestWarning: Unverified HTTPS request is being made. Adding certificate verification is strongly advised. See: https://urllib3.readthedocs.io/en/latest/advanced-usage.html#ssl-warnings\n",
      "  InsecureRequestWarning)\n"
     ]
    },
    {
     "name": "stdout",
     "output_type": "stream",
     "text": [
      "Canara Bank is one of the largest public sector banks owned by the Government of India. It is headquartered in Bengaluru. It was established at Mangalore in 1906 by Ammembal Subba Rao Pai. It is one of the oldest public sector banks in the country. The government nationalized the bank in 1969. As of 31 March 2019, the bank had a network of 6310 branches and more than 8851 ATMs which is spread across 4467 centers. The bank also has offices abroad in London, Hong Kong, Moscow, Shanghai, Dubai, Tanzania and New York.[5]\n",
      "\n",
      "https://www.corpbank.com/\n"
     ]
    },
    {
     "name": "stderr",
     "output_type": "stream",
     "text": [
      "/home/roshan/.local/lib/python3.5/site-packages/urllib3/connectionpool.py:851: InsecureRequestWarning: Unverified HTTPS request is being made. Adding certificate verification is strongly advised. See: https://urllib3.readthedocs.io/en/latest/advanced-usage.html#ssl-warnings\n",
      "  InsecureRequestWarning)\n"
     ]
    },
    {
     "name": "stdout",
     "output_type": "stream",
     "text": [
      "https://en.wikipedia.org/wiki/Document_type_definition\n"
     ]
    },
    {
     "name": "stderr",
     "output_type": "stream",
     "text": [
      "/home/roshan/.local/lib/python3.5/site-packages/urllib3/connectionpool.py:851: InsecureRequestWarning: Unverified HTTPS request is being made. Adding certificate verification is strongly advised. See: https://urllib3.readthedocs.io/en/latest/advanced-usage.html#ssl-warnings\n",
      "  InsecureRequestWarning)\n"
     ]
    },
    {
     "name": "stdout",
     "output_type": "stream",
     "text": [
      "A DTD defines the valid building blocks of an XML document. It defines the document structure with a list of validated elements and attributes. A DTD can be declared inline inside an XML document, or as an external reference.[1]\n",
      "\n",
      "https://www.flipkart.com/dynosure-doctor-dt-sino-japan-bp-monitor/p/itmefstkasxdtzpy\n"
     ]
    },
    {
     "name": "stderr",
     "output_type": "stream",
     "text": [
      "/home/roshan/.local/lib/python3.5/site-packages/urllib3/connectionpool.py:851: InsecureRequestWarning: Unverified HTTPS request is being made. Adding certificate verification is strongly advised. See: https://urllib3.readthedocs.io/en/latest/advanced-usage.html#ssl-warnings\n",
      "  InsecureRequestWarning)\n"
     ]
    },
    {
     "name": "stdout",
     "output_type": "stream",
     "text": [
      "https://en.wikipedia.org/wiki/HDFC_Bank\n"
     ]
    },
    {
     "name": "stderr",
     "output_type": "stream",
     "text": [
      "/home/roshan/.local/lib/python3.5/site-packages/urllib3/connectionpool.py:851: InsecureRequestWarning: Unverified HTTPS request is being made. Adding certificate verification is strongly advised. See: https://urllib3.readthedocs.io/en/latest/advanced-usage.html#ssl-warnings\n",
      "  InsecureRequestWarning)\n"
     ]
    },
    {
     "name": "stdout",
     "output_type": "stream",
     "text": [
      "HDFC Bank Limited (Housing Development Finance Corporation) is an Indian banking and financial services company headquartered in Mumbai,  Maharashtra. It has 88,253 permanent employees as of 31 March 2018[8] and has a presence in Bahrain, Hong Kong and Dubai.[9] HDFC Bank is  India’s largest private sector lender by assets.[10] It is the largest bank in India by market capitalization as of February 2016.[11] It was ranked 69th in 2016 BrandZ Top 100 Most Valuable Global Brands.[12]\n",
      "\n",
      "https://en.wikipedia.org/wiki/HSBC\n"
     ]
    },
    {
     "name": "stderr",
     "output_type": "stream",
     "text": [
      "/home/roshan/.local/lib/python3.5/site-packages/urllib3/connectionpool.py:851: InsecureRequestWarning: Unverified HTTPS request is being made. Adding certificate verification is strongly advised. See: https://urllib3.readthedocs.io/en/latest/advanced-usage.html#ssl-warnings\n",
      "  InsecureRequestWarning)\n"
     ]
    },
    {
     "name": "stdout",
     "output_type": "stream",
     "text": [
      "HSBC Holdings plc  is a British[6] multinational banking and financial services holding company. It was the 7th largest bank in the world by 2018, and the largest in Europe, with total assets of US$2.558 trillion (as of December 2018[update]). HSBC traces its origin to a hong in Hong Kong, and its present form was established in London by the Hongkong and Shanghai Banking Corporation to act as a new group holding company in 1991.[7][8] The origins of the bank lie mainly in Hong Kong and to a lesser extent in Shanghai, where branches were first opened in 1865.[1] The HSBC name is derived from the initials of the Hongkong and Shanghai Banking Corporation.[9] The company was first formally incorporated in 1866.[10]\n",
      "\n",
      "https://en.wikipedia.org/wiki/IDBI_Bank\n"
     ]
    },
    {
     "name": "stderr",
     "output_type": "stream",
     "text": [
      "/home/roshan/.local/lib/python3.5/site-packages/urllib3/connectionpool.py:851: InsecureRequestWarning: Unverified HTTPS request is being made. Adding certificate verification is strongly advised. See: https://urllib3.readthedocs.io/en/latest/advanced-usage.html#ssl-warnings\n",
      "  InsecureRequestWarning)\n"
     ]
    },
    {
     "name": "stdout",
     "output_type": "stream",
     "text": [
      "Industrial Development Bank of India (IDBI) was established in 1964 by an Act to provide credit and other financial facilities for the development of the fledgling Indian industry. Initially it operated as a subsidiary of Reserve Bank of India RBI transferred it to GOI . Many institutes of national importance finds their roots in IDBI like Sidbi, Exim bank, NSE and NSDL. The war cry for reforms in financial space saw GOI reducing its stake in the bank in the year 2019. At present, Life Insurance Corporation\n",
      " of India holds 51% stake in  IDBI Bank. For the first quarter of the current financial year 2017-18, the bank reported a net loss of Rs.853 crore compared to a profit of Rs.241 crore during the corresponding period last financial year. In the fourth quarter of financial year 2016-17, the bank had reported a loss of Rs.3,200 crore.\n",
      "While the reported loss was lower than the preceding quarter, bad loans continued to surge. In the quarter ending September 2017 the bank bounced back with a loss of Rs.198 crore compared to a loss of over Rs.2,000 crore in the previous quarter. The bank is expected to return to profit in the upcoming financial year.\n",
      "\n",
      "https://en.wikipedia.org/wiki/ICICI_Bank\n"
     ]
    },
    {
     "name": "stderr",
     "output_type": "stream",
     "text": [
      "/home/roshan/.local/lib/python3.5/site-packages/urllib3/connectionpool.py:851: InsecureRequestWarning: Unverified HTTPS request is being made. Adding certificate verification is strongly advised. See: https://urllib3.readthedocs.io/en/latest/advanced-usage.html#ssl-warnings\n",
      "  InsecureRequestWarning)\n"
     ]
    },
    {
     "name": "stdout",
     "output_type": "stream",
     "text": [
      "ICICI Bank Limited is an Indian multinational banking and financial services company headquartered in Mumbai, Maharashtra with its registered office in Vadodara, Gujarat. As of 2018[update], ICICI Bank is the second largest bank in India in terms of assets and market capitalisation. It offers a wide range of banking products and financial services for corporate and retail customers through a variety of delivery channels and specialised subsidiaries in the areas of investment banking, life, non-life insurance, venture capital and asset management. As on March 31, 2018, the bank has a network of 4867 branches and 14367 ATMs across India and has a presence in 17 countries including India.[4]\n",
      "\n",
      "https://en.wikipedia.org/wiki/Indian_Bank\n"
     ]
    },
    {
     "name": "stderr",
     "output_type": "stream",
     "text": [
      "/home/roshan/.local/lib/python3.5/site-packages/urllib3/connectionpool.py:851: InsecureRequestWarning: Unverified HTTPS request is being made. Adding certificate verification is strongly advised. See: https://urllib3.readthedocs.io/en/latest/advanced-usage.html#ssl-warnings\n",
      "  InsecureRequestWarning)\n"
     ]
    },
    {
     "name": "stdout",
     "output_type": "stream",
     "text": [
      "Indian Bank[2][3][4] is an Indian state-owned financial services company established in 1907 and headquartered in Chennai, India. It has 20,924 employees, 2900 branches with 2861 ATMs and 1014 cash deposit machines and is one of the top performing public sector banks in India. Total business of the bank has touched Rs.4.30 lakh Crores as on 31 March 2019.Bank's Information Systems & Security processes certified with ISO27001:2013 standard and is among very few Banks certified worldwide. It has overseas branches in Colombo and Singapore including a Foreign Currency Banking Unit at Colombo and Jaffna. It has 227 Overseas Correspondent banks in 75 countries. Since 1969 the Government of India has owned the bank.\n",
      "\n",
      "https://en.wikipedia.org/wiki/Indian_Overseas_Bank\n"
     ]
    },
    {
     "name": "stderr",
     "output_type": "stream",
     "text": [
      "/home/roshan/.local/lib/python3.5/site-packages/urllib3/connectionpool.py:851: InsecureRequestWarning: Unverified HTTPS request is being made. Adding certificate verification is strongly advised. See: https://urllib3.readthedocs.io/en/latest/advanced-usage.html#ssl-warnings\n",
      "  InsecureRequestWarning)\n"
     ]
    },
    {
     "name": "stdout",
     "output_type": "stream",
     "text": [
      "Indian Overseas Bank (IOB) is a major public sector bank based in Chennai, India, with about 3,400 domestic branches, including 1,150 branches in Tamil Nadu, 3 extension counters, and 8 branches and offices overseas as of 31 October 2017. Indian Overseas Bank has an ISO certified in-house information technology department, which had developed the software that its branches used to provide online banking to customers earlier. The bank has achieved 100 percent networking status as well as 100 percent CBS status for its branches. IOB has a network of about 3,300 ATMs all over India. IOB has branches in Hong Kong, Singapore, Colombo, Seoul, and Bangkok. It has representative offices in Guangzhou, Vietnam, and Dubai. IOB also is part-owner of a joint-venture bank in Malaysia.\n",
      "\n",
      "https://en.wikipedia.org/wiki/Kotak_Mahindra_Bank\n"
     ]
    },
    {
     "name": "stderr",
     "output_type": "stream",
     "text": [
      "/home/roshan/.local/lib/python3.5/site-packages/urllib3/connectionpool.py:851: InsecureRequestWarning: Unverified HTTPS request is being made. Adding certificate verification is strongly advised. See: https://urllib3.readthedocs.io/en/latest/advanced-usage.html#ssl-warnings\n",
      "  InsecureRequestWarning)\n"
     ]
    },
    {
     "name": "stdout",
     "output_type": "stream",
     "text": [
      "Kotak Mahindra Bank is an Indian private sector bank headquartered in Mumbai, Maharashtra, India. In February 2003, Reserve Bank of India (RBI) issued the licence to Kotak Mahindra Finance Ltd., the group's flagship company, to carry on banking business.[2]\n",
      "\n",
      "https://en.wikipedia.org/wiki/Bank_of_Maharashtra\n"
     ]
    },
    {
     "name": "stderr",
     "output_type": "stream",
     "text": [
      "/home/roshan/.local/lib/python3.5/site-packages/urllib3/connectionpool.py:851: InsecureRequestWarning: Unverified HTTPS request is being made. Adding certificate verification is strongly advised. See: https://urllib3.readthedocs.io/en/latest/advanced-usage.html#ssl-warnings\n",
      "  InsecureRequestWarning)\n"
     ]
    },
    {
     "name": "stdout",
     "output_type": "stream",
     "text": [
      "Bank of Maharashtra is a major public sector bank in India. Government of India holds 87.01% of the total shares.[5] The bank has 15 million customers across the length and breadth of the country served through 1897 branches as of 5 April 2016. It has largest network of branches by any public sector bank in the state of Maharashtra.[6]\n",
      "\n",
      "https://en.wikipedia.org/wiki/Oriental_Bank_of_Commerce\n"
     ]
    },
    {
     "name": "stderr",
     "output_type": "stream",
     "text": [
      "/home/roshan/.local/lib/python3.5/site-packages/urllib3/connectionpool.py:851: InsecureRequestWarning: Unverified HTTPS request is being made. Adding certificate verification is strongly advised. See: https://urllib3.readthedocs.io/en/latest/advanced-usage.html#ssl-warnings\n",
      "  InsecureRequestWarning)\n"
     ]
    },
    {
     "name": "stdout",
     "output_type": "stream",
     "text": [
      "Oriental Bank of Commerce is an India-based bank established in Lahore (then the city of United India, and currently in Pakistan), is one of the public sector banks in India. It is one of the promising public sector banks in India headquartered at Gurugram, India. It has approximately 2700 branches and 2621 ATMs pan India.\n",
      "\n",
      "https://en.wikipedia.org/wiki/Punjab_%26_Sind_Bank\n"
     ]
    },
    {
     "name": "stderr",
     "output_type": "stream",
     "text": [
      "/home/roshan/.local/lib/python3.5/site-packages/urllib3/connectionpool.py:851: InsecureRequestWarning: Unverified HTTPS request is being made. Adding certificate verification is strongly advised. See: https://urllib3.readthedocs.io/en/latest/advanced-usage.html#ssl-warnings\n",
      "  InsecureRequestWarning)\n"
     ]
    },
    {
     "name": "stdout",
     "output_type": "stream",
     "text": [
      "Punjab & Sind Bank is a government-owned bank (79.62%), with headquarters in New Delhi. Of its 1554 branches spread throughout India, 623 branches are in Punjab state. Net NPA is 6.93% for the year ending 2017-18. The bank's operating profit for the year ending 2017-18 is Rs. 1144.71 crores. Total business of the bank was Rs. 1,71,464.95 crores for the year ending 2017-18. The net worth of the bank as on 31.03.18 is Rs. 4733.96 crore.\n",
      "\n",
      "https://en.wikipedia.org/wiki/State_Bank_of_India\n"
     ]
    },
    {
     "name": "stderr",
     "output_type": "stream",
     "text": [
      "/home/roshan/.local/lib/python3.5/site-packages/urllib3/connectionpool.py:851: InsecureRequestWarning: Unverified HTTPS request is being made. Adding certificate verification is strongly advised. See: https://urllib3.readthedocs.io/en/latest/advanced-usage.html#ssl-warnings\n",
      "  InsecureRequestWarning)\n"
     ]
    },
    {
     "name": "stdout",
     "output_type": "stream",
     "text": [
      "The State Bank of India (SBI) is an Indian multinational, public sector banking and financial services statutory body. It is a government corporation  statutory body headquartered in Mumbai, Maharashtra. SBI is ranked as 216th in the Fortune Global 500 list of the world's biggest corporations of 2018. It is the largest bank in India with a 23% market share in assets, besides a share of one-fourth of the total loan and deposits market.[5][6]\n",
      "\n",
      "https://en.wikipedia.org/wiki/State_Bank_of_Travancore\n"
     ]
    },
    {
     "name": "stderr",
     "output_type": "stream",
     "text": [
      "/home/roshan/.local/lib/python3.5/site-packages/urllib3/connectionpool.py:851: InsecureRequestWarning: Unverified HTTPS request is being made. Adding certificate verification is strongly advised. See: https://urllib3.readthedocs.io/en/latest/advanced-usage.html#ssl-warnings\n",
      "  InsecureRequestWarning)\n"
     ]
    },
    {
     "name": "stdout",
     "output_type": "stream",
     "text": [
      "State Bank of Travancore (SBT) was a major Indian bank headquartered in Thiruvananthapuram, Kerala, and was a major associate of State Bank of India.\n",
      "\n",
      "https://en.wikipedia.org/wiki/Standard_Chartered\n"
     ]
    },
    {
     "name": "stderr",
     "output_type": "stream",
     "text": [
      "/home/roshan/.local/lib/python3.5/site-packages/urllib3/connectionpool.py:851: InsecureRequestWarning: Unverified HTTPS request is being made. Adding certificate verification is strongly advised. See: https://urllib3.readthedocs.io/en/latest/advanced-usage.html#ssl-warnings\n",
      "  InsecureRequestWarning)\n"
     ]
    },
    {
     "name": "stdout",
     "output_type": "stream",
     "text": [
      "Standard Chartered PLC is a British multinational banking and financial services company headquartered in London, England. It operates a network of more than 1,200 branches and outlets (including subsidiaries, associates and joint ventures) across more than 70 countries and employs around 87,000 people. It is a universal bank with operations in consumer, corporate and institutional banking, and treasury services. Despite its UK base, it does not conduct retail banking in the UK, and around 90% of its profits come from Asia, Africa and the Middle East.\n",
      "\n",
      "https://en.wikipedia.org/wiki/South_Indian_Bank\n"
     ]
    },
    {
     "name": "stderr",
     "output_type": "stream",
     "text": [
      "/home/roshan/.local/lib/python3.5/site-packages/urllib3/connectionpool.py:851: InsecureRequestWarning: Unverified HTTPS request is being made. Adding certificate verification is strongly advised. See: https://urllib3.readthedocs.io/en/latest/advanced-usage.html#ssl-warnings\n",
      "  InsecureRequestWarning)\n"
     ]
    },
    {
     "name": "stdout",
     "output_type": "stream",
     "text": [
      "South Indian Bank Limited (SIB) (BSE: 532218, NSE: SOUTHBANK) is a major private sector bank headquartered at Thrissur in Kerala, India. South Indian Bank has 857 branches, 4 service branches,54 ext.counters\n",
      "and 20 Regional Offices spread across more than 27 states and 3 union territories in India. It has set up 1334[2] ATMs and 42 Bulk Note Acceptor/Cash Deposit Machines all over India.\n",
      "\n",
      "https://en.wikipedia.org/wiki/Syndicate_Bank\n"
     ]
    },
    {
     "name": "stderr",
     "output_type": "stream",
     "text": [
      "/home/roshan/.local/lib/python3.5/site-packages/urllib3/connectionpool.py:851: InsecureRequestWarning: Unverified HTTPS request is being made. Adding certificate verification is strongly advised. See: https://urllib3.readthedocs.io/en/latest/advanced-usage.html#ssl-warnings\n",
      "  InsecureRequestWarning)\n"
     ]
    },
    {
     "name": "stdout",
     "output_type": "stream",
     "text": [
      "Syndicate Bank is one of the oldest and major commercial banks of India. It was founded by T M A Pai, Upendra Pai and Vaman Kudva. At the time of its establishment, the bank was known as Canara Industrial and Banking Syndicate Limited. The bank, along with 13 major commercial banks of India, was nationalised on 19 July 1969, by the Government of India. The Bank have headquarter in the university town of Manipal, India.\n",
      "\n",
      "https://en.wikipedia.org/wiki/Union_Bank_of_India\n"
     ]
    },
    {
     "name": "stderr",
     "output_type": "stream",
     "text": [
      "/home/roshan/.local/lib/python3.5/site-packages/urllib3/connectionpool.py:851: InsecureRequestWarning: Unverified HTTPS request is being made. Adding certificate verification is strongly advised. See: https://urllib3.readthedocs.io/en/latest/advanced-usage.html#ssl-warnings\n",
      "  InsecureRequestWarning)\n"
     ]
    },
    {
     "name": "stdout",
     "output_type": "stream",
     "text": [
      "Union Bank of India (UBI; BSE: 532477) is one of the largest government-owned banks of India; the government owns over 90% of its share capital. It is listed on the Forbes 2000, and has assets of US$13.45 billion. UBI has around 4,300 branches. Four of these are overseas in Hong Kong, Dubai, Antwerp, and Sydney. UBI also has representative offices at Shanghai, Beijing and Abu Dhabi. Lastly, UBI operates in the United Kingdom through its wholly owned subsidiary, Union Bank of India (UK).\n",
      "\n",
      "https://en.wikipedia.org/wiki/UCO_Bank\n"
     ]
    },
    {
     "name": "stderr",
     "output_type": "stream",
     "text": [
      "/home/roshan/.local/lib/python3.5/site-packages/urllib3/connectionpool.py:851: InsecureRequestWarning: Unverified HTTPS request is being made. Adding certificate verification is strongly advised. See: https://urllib3.readthedocs.io/en/latest/advanced-usage.html#ssl-warnings\n",
      "  InsecureRequestWarning)\n"
     ]
    },
    {
     "name": "stdout",
     "output_type": "stream",
     "text": [
      "UCO Bank, formerly United Commercial Bank, established in 1943 in Kolkata, is a major government-owned commercial bank of India. During FY 2013-14, its total business was ₹ 4.55 lakh crore. Based on 2014 data, it is ranked 1860 on Forbes Global 2000 List. UCO Bank was ranked 294th among India's most trusted brands according to the Brand Trust Report 2014, a study conducted by Trust Research Advisory.[2] It was a rise of 796 ranks considering it was listed at the 1090th position among India's most trusted brands in the Brand trust Report 2013.[3] As of 30 March 2017[update] the bank had 4,000 plus service units 49 zonal offices spread all over India. It also has two overseas branches in Singapore and Hong Kong. UCO Bank's headquarters is on BTM Sarani, Kolkata.\n",
      "\n",
      "https://en.wikipedia.org/wiki/Axis_Bank\n"
     ]
    },
    {
     "name": "stderr",
     "output_type": "stream",
     "text": [
      "/home/roshan/.local/lib/python3.5/site-packages/urllib3/connectionpool.py:851: InsecureRequestWarning: Unverified HTTPS request is being made. Adding certificate verification is strongly advised. See: https://urllib3.readthedocs.io/en/latest/advanced-usage.html#ssl-warnings\n",
      "  InsecureRequestWarning)\n"
     ]
    },
    {
     "name": "stdout",
     "output_type": "stream",
     "text": [
      "Axis Bank is the third-largest of the private-sector banks in India offering a comprehensive suite of financial products. The bank has its head office in Mumbai, Maharashtra. It has 4050 branches, 11,801 ATMs and 4,917 cash recyclers spread across the country as on 31 March 2019 and nine international offices. The bank employs over 55,000 people and had a market capitalization of ₹1.31 trillion (US$19 billion) (as on 31 March 2018).[2] It sells financial services to large and mid-size corporates, SME and retail businesses.[1]\n",
      "\n",
      "https://en.wikipedia.org/wiki/Vijaya_Bank\n"
     ]
    },
    {
     "name": "stderr",
     "output_type": "stream",
     "text": [
      "/home/roshan/.local/lib/python3.5/site-packages/urllib3/connectionpool.py:851: InsecureRequestWarning: Unverified HTTPS request is being made. Adding certificate verification is strongly advised. See: https://urllib3.readthedocs.io/en/latest/advanced-usage.html#ssl-warnings\n",
      "  InsecureRequestWarning)\n"
     ]
    },
    {
     "name": "stdout",
     "output_type": "stream",
     "text": [
      "Vijaya Bank[2][3][4] was a public sector bank with its corporate office in Bengaluru, Karnataka, India. It was one of the nationalised banks in India. The bank offered a wide range of financial products and services to customers through its various delivery channels. The bank had a network of 2031 branches (as of March 2017) throughout the country and over 4000 customer touch points including 2001 ATMs.[5][6]\n",
      "\n",
      "https://en.wikipedia.org/wiki/Yes_Bank\n"
     ]
    },
    {
     "name": "stderr",
     "output_type": "stream",
     "text": [
      "/home/roshan/.local/lib/python3.5/site-packages/urllib3/connectionpool.py:851: InsecureRequestWarning: Unverified HTTPS request is being made. Adding certificate verification is strongly advised. See: https://urllib3.readthedocs.io/en/latest/advanced-usage.html#ssl-warnings\n",
      "  InsecureRequestWarning)\n"
     ]
    },
    {
     "name": "stdout",
     "output_type": "stream",
     "text": [
      "Yes Bank Limited is India's fourth largest private sector bank, founded by Rana Kapoor and Ashok Kapur in 2004.[4] It primarily operates as a corporate bank, with retail banking and also asset management as subsidiary functions.[5]\n",
      "\n"
     ]
    }
   ],
   "source": [
    "work2df['Content'] = 0\n",
    "for i,j in work2df.iterrows():\n",
    "    url = work2df['WIKI'][i]\n",
    "    print(url)\n",
    "    response = requests.get(url,verify = False)\n",
    "    soup = BeautifulSoup(response.text,'html.parser')\n",
    "    t= soup.find('p')\n",
    "    r = t.find_next_sibling('p')\n",
    "    if 'NoneType'in str(type(r)):\n",
    "        work2df['Content'][i] = t.text\n",
    "    else:\n",
    "        if r.text.strip() == '':\n",
    "            y=r.find_next_sibling('p')\n",
    "            print(y.text)\n",
    "            work2df['Content'][i] = y.text\n",
    "        else:\n",
    "            print(r.text)\n",
    "            work2df['Content'][i] = r.text"
   ]
  },
  {
   "cell_type": "code",
   "execution_count": 17,
   "metadata": {
    "collapsed": false,
    "scrolled": true
   },
   "outputs": [
    {
     "data": {
      "text/html": [
       "<div>\n",
       "<table border=\"1\" class=\"dataframe\">\n",
       "  <thead>\n",
       "    <tr style=\"text-align: right;\">\n",
       "      <th></th>\n",
       "      <th>Company</th>\n",
       "      <th>Link</th>\n",
       "      <th>Title</th>\n",
       "      <th>WIKI</th>\n",
       "      <th>Content</th>\n",
       "    </tr>\n",
       "  </thead>\n",
       "  <tbody>\n",
       "    <tr>\n",
       "      <th>0</th>\n",
       "      <td>AADHAR HOUSING FINAN</td>\n",
       "      <td>https://aadharhousing.com/</td>\n",
       "      <td>Aadhar Housing Finance Ltd: Home Loan | House ...</td>\n",
       "      <td>https://aadharhousing.com/</td>\n",
       "      <td>Copyright 2017. Aadhar Housing Finance Limited...</td>\n",
       "    </tr>\n",
       "    <tr>\n",
       "      <th>1</th>\n",
       "      <td>AAMAADMIPARTY</td>\n",
       "      <td>https://aamaadmiparty.org/</td>\n",
       "      <td>Aam Aadmi Party – भ्रष्टाचार मुक्त भारत हमारी ...</td>\n",
       "      <td>https://aamaadmiparty.org/</td>\n",
       "      <td>ले कर रहेंगे पूर्ण राज्य ! With full statehood...</td>\n",
       "    </tr>\n",
       "    <tr>\n",
       "      <th>2</th>\n",
       "      <td>Aavas Financiers Lim</td>\n",
       "      <td>https://www.aavas.in/</td>\n",
       "      <td>Aavas Financiers Limited - Home Loan, Home Loa...</td>\n",
       "      <td>https://www.aavas.in/</td>\n",
       "      <td>\\n\\nCARE ratings has upgraded the Long term ra...</td>\n",
       "    </tr>\n",
       "    <tr>\n",
       "      <th>3</th>\n",
       "      <td>ABHIPRA CAPITAL LTD</td>\n",
       "      <td>https://www.abhipra.com/</td>\n",
       "      <td>Abhipra - One stop Financial Hub</td>\n",
       "      <td>https://www.abhipra.com/</td>\n",
       "      <td>Complete Financial Market Services under one roof</td>\n",
       "    </tr>\n",
       "    <tr>\n",
       "      <th>4</th>\n",
       "      <td>ANDB</td>\n",
       "      <td>https://www.andhrabank.in/</td>\n",
       "      <td>andhra bank</td>\n",
       "      <td>https://en.wikipedia.org/wiki/Andhra_Bank</td>\n",
       "      <td>Andhra Bank (BSE: 532418, NSE: ANDHRABANK)  is...</td>\n",
       "    </tr>\n",
       "    <tr>\n",
       "      <th>5</th>\n",
       "      <td>BARB</td>\n",
       "      <td>https://www.bankofbaroda.in/</td>\n",
       "      <td>bank of baroda</td>\n",
       "      <td>https://en.wikipedia.org/wiki/Bank_of_Baroda</td>\n",
       "      <td>Bank of Baroda (BoB) is an Indian multinationa...</td>\n",
       "    </tr>\n",
       "    <tr>\n",
       "      <th>6</th>\n",
       "      <td>BKID</td>\n",
       "      <td>https://www.bankofindia.co.in/</td>\n",
       "      <td>bank of india</td>\n",
       "      <td>https://en.wikipedia.org/wiki/Bank_of_India</td>\n",
       "      <td>Bank of India (BOI) is commercial bank with he...</td>\n",
       "    </tr>\n",
       "    <tr>\n",
       "      <th>7</th>\n",
       "      <td>CITI</td>\n",
       "      <td>https://www.online.citibank.co.in/</td>\n",
       "      <td>citibank</td>\n",
       "      <td>https://en.wikipedia.org/wiki/Citibank</td>\n",
       "      <td>Citibank is the consumer division of financial...</td>\n",
       "    </tr>\n",
       "    <tr>\n",
       "      <th>8</th>\n",
       "      <td>CNRB</td>\n",
       "      <td>https://www.canarabank.in/</td>\n",
       "      <td>canara bank</td>\n",
       "      <td>https://en.wikipedia.org/wiki/Canara_Bank</td>\n",
       "      <td>Canara Bank is one of the largest public secto...</td>\n",
       "    </tr>\n",
       "    <tr>\n",
       "      <th>9</th>\n",
       "      <td>CORP</td>\n",
       "      <td>https://www.corpbank.com/</td>\n",
       "      <td>0</td>\n",
       "      <td>https://www.corpbank.com/</td>\n",
       "      <td></td>\n",
       "    </tr>\n",
       "    <tr>\n",
       "      <th>10</th>\n",
       "      <td>DR FILE DTD</td>\n",
       "      <td>https://web-in-security.blogspot.com/2016/03/x...</td>\n",
       "      <td>DTD Cheat Sheet</td>\n",
       "      <td>https://en.wikipedia.org/wiki/Document_type_de...</td>\n",
       "      <td>A DTD defines the valid building blocks of an ...</td>\n",
       "    </tr>\n",
       "    <tr>\n",
       "      <th>11</th>\n",
       "      <td>DR TPZ DT</td>\n",
       "      <td>https://www.flipkart.com/dynosure-doctor-dt-si...</td>\n",
       "      <td>Dynosure Doctor Dt Sino Japan Bp Monitor - Dyn...</td>\n",
       "      <td>https://www.flipkart.com/dynosure-doctor-dt-si...</td>\n",
       "      <td>Dynosure Doctor Dt Sino Japan Bp Monitor (Black)</td>\n",
       "    </tr>\n",
       "    <tr>\n",
       "      <th>12</th>\n",
       "      <td>HDFC</td>\n",
       "      <td>https://www.hdfcbank.com/</td>\n",
       "      <td>hdfc bank</td>\n",
       "      <td>https://en.wikipedia.org/wiki/HDFC_Bank</td>\n",
       "      <td>HDFC Bank Limited (Housing Development Finance...</td>\n",
       "    </tr>\n",
       "    <tr>\n",
       "      <th>13</th>\n",
       "      <td>HSBC</td>\n",
       "      <td>https://www.hsbc.co.in/</td>\n",
       "      <td>hsbc</td>\n",
       "      <td>https://en.wikipedia.org/wiki/HSBC</td>\n",
       "      <td>HSBC Holdings plc  is a British[6] multination...</td>\n",
       "    </tr>\n",
       "    <tr>\n",
       "      <th>14</th>\n",
       "      <td>IBKL</td>\n",
       "      <td>https://www.idbi.com/index.asp</td>\n",
       "      <td>idbi</td>\n",
       "      <td>https://en.wikipedia.org/wiki/IDBI_Bank</td>\n",
       "      <td>Industrial Development Bank of India (IDBI) wa...</td>\n",
       "    </tr>\n",
       "    <tr>\n",
       "      <th>15</th>\n",
       "      <td>ICIC</td>\n",
       "      <td>https://www.icicibank.com/</td>\n",
       "      <td>icici</td>\n",
       "      <td>https://en.wikipedia.org/wiki/ICICI_Bank</td>\n",
       "      <td>ICICI Bank Limited is an Indian multinational ...</td>\n",
       "    </tr>\n",
       "    <tr>\n",
       "      <th>16</th>\n",
       "      <td>IDIB</td>\n",
       "      <td>https://www.indianbank.net.in/</td>\n",
       "      <td>indian bank</td>\n",
       "      <td>https://en.wikipedia.org/wiki/Indian_Bank</td>\n",
       "      <td>Indian Bank[2][3][4] is an Indian state-owned ...</td>\n",
       "    </tr>\n",
       "    <tr>\n",
       "      <th>17</th>\n",
       "      <td>IOBA</td>\n",
       "      <td>https://www.iob.in/</td>\n",
       "      <td>indian overseas bank</td>\n",
       "      <td>https://en.wikipedia.org/wiki/Indian_Overseas_...</td>\n",
       "      <td>Indian Overseas Bank (IOB) is a major public s...</td>\n",
       "    </tr>\n",
       "    <tr>\n",
       "      <th>18</th>\n",
       "      <td>KKBK</td>\n",
       "      <td>https://www.kotak.com/en.html</td>\n",
       "      <td>kotak bank</td>\n",
       "      <td>https://en.wikipedia.org/wiki/Kotak_Mahindra_Bank</td>\n",
       "      <td>Kotak Mahindra Bank is an Indian private secto...</td>\n",
       "    </tr>\n",
       "    <tr>\n",
       "      <th>19</th>\n",
       "      <td>MAHB</td>\n",
       "      <td>https://www.bankofmaharashtra.in/</td>\n",
       "      <td>bank of maharashtra</td>\n",
       "      <td>https://en.wikipedia.org/wiki/Bank_of_Maharashtra</td>\n",
       "      <td>Bank of Maharashtra is a major public sector b...</td>\n",
       "    </tr>\n",
       "    <tr>\n",
       "      <th>20</th>\n",
       "      <td>ORBC</td>\n",
       "      <td>https://www.obcindia.co.in/</td>\n",
       "      <td>oriental bank of commerce</td>\n",
       "      <td>https://en.wikipedia.org/wiki/Oriental_Bank_of...</td>\n",
       "      <td>Oriental Bank of Commerce is an India-based ba...</td>\n",
       "    </tr>\n",
       "    <tr>\n",
       "      <th>21</th>\n",
       "      <td>PSIB</td>\n",
       "      <td>https://www.psbindia.com/</td>\n",
       "      <td>punjab and sind bank</td>\n",
       "      <td>https://en.wikipedia.org/wiki/Punjab_%26_Sind_...</td>\n",
       "      <td>Punjab &amp; Sind Bank is a government-owned bank ...</td>\n",
       "    </tr>\n",
       "    <tr>\n",
       "      <th>22</th>\n",
       "      <td>SBIN</td>\n",
       "      <td>https://www.onlinesbi.com/</td>\n",
       "      <td>sbi</td>\n",
       "      <td>https://en.wikipedia.org/wiki/State_Bank_of_India</td>\n",
       "      <td>The State Bank of India (SBI) is an Indian mul...</td>\n",
       "    </tr>\n",
       "    <tr>\n",
       "      <th>23</th>\n",
       "      <td>SBTR</td>\n",
       "      <td>https://bankifsccode.com/STATE_BANK_OF_TRAVANCORE</td>\n",
       "      <td>state bank of travancore</td>\n",
       "      <td>https://en.wikipedia.org/wiki/State_Bank_of_Tr...</td>\n",
       "      <td>State Bank of Travancore (SBT) was a major Ind...</td>\n",
       "    </tr>\n",
       "    <tr>\n",
       "      <th>24</th>\n",
       "      <td>SCBL</td>\n",
       "      <td>https://www.sc.com/in/</td>\n",
       "      <td>standard chartered bank</td>\n",
       "      <td>https://en.wikipedia.org/wiki/Standard_Chartered</td>\n",
       "      <td>Standard Chartered PLC is a British multinatio...</td>\n",
       "    </tr>\n",
       "    <tr>\n",
       "      <th>25</th>\n",
       "      <td>SIBL</td>\n",
       "      <td>https://www.southindianbank.com/</td>\n",
       "      <td>south indian bank</td>\n",
       "      <td>https://en.wikipedia.org/wiki/South_Indian_Bank</td>\n",
       "      <td>South Indian Bank Limited (SIB) (BSE: 532218, ...</td>\n",
       "    </tr>\n",
       "    <tr>\n",
       "      <th>26</th>\n",
       "      <td>SYNB</td>\n",
       "      <td>https://www.syndicatebank.in/</td>\n",
       "      <td>syndicate bank</td>\n",
       "      <td>https://en.wikipedia.org/wiki/Syndicate_Bank</td>\n",
       "      <td>Syndicate Bank is one of the oldest and major ...</td>\n",
       "    </tr>\n",
       "    <tr>\n",
       "      <th>27</th>\n",
       "      <td>UBIN</td>\n",
       "      <td>https://www.unionbankofindia.co.in/</td>\n",
       "      <td>union bank</td>\n",
       "      <td>https://en.wikipedia.org/wiki/Union_Bank_of_India</td>\n",
       "      <td>Union Bank of India (UBI; BSE: 532477) is one ...</td>\n",
       "    </tr>\n",
       "    <tr>\n",
       "      <th>28</th>\n",
       "      <td>UCBA</td>\n",
       "      <td>https://www.ucobank.com/</td>\n",
       "      <td>uco bank</td>\n",
       "      <td>https://en.wikipedia.org/wiki/UCO_Bank</td>\n",
       "      <td>UCO Bank, formerly United Commercial Bank, est...</td>\n",
       "    </tr>\n",
       "    <tr>\n",
       "      <th>29</th>\n",
       "      <td>UTIB</td>\n",
       "      <td>https://www.axisbank.com/</td>\n",
       "      <td>axis bank</td>\n",
       "      <td>https://en.wikipedia.org/wiki/Axis_Bank</td>\n",
       "      <td>Axis Bank is the third-largest of the private-...</td>\n",
       "    </tr>\n",
       "    <tr>\n",
       "      <th>30</th>\n",
       "      <td>VIJB</td>\n",
       "      <td>https://www.vijayabank.com/</td>\n",
       "      <td>vijaya bank</td>\n",
       "      <td>https://en.wikipedia.org/wiki/Vijaya_Bank</td>\n",
       "      <td>Vijaya Bank[2][3][4] was a public sector bank ...</td>\n",
       "    </tr>\n",
       "    <tr>\n",
       "      <th>31</th>\n",
       "      <td>YESB</td>\n",
       "      <td>https://www.yesbank.in/</td>\n",
       "      <td>yes bank</td>\n",
       "      <td>https://en.wikipedia.org/wiki/Yes_Bank</td>\n",
       "      <td>Yes Bank Limited is India's fourth largest pri...</td>\n",
       "    </tr>\n",
       "  </tbody>\n",
       "</table>\n",
       "</div>"
      ],
      "text/plain": [
       "                 Company                                               Link  \\\n",
       "0   AADHAR HOUSING FINAN                         https://aadharhousing.com/   \n",
       "1          AAMAADMIPARTY                         https://aamaadmiparty.org/   \n",
       "2   Aavas Financiers Lim                              https://www.aavas.in/   \n",
       "3    ABHIPRA CAPITAL LTD                           https://www.abhipra.com/   \n",
       "4                  ANDB                          https://www.andhrabank.in/   \n",
       "5                  BARB                        https://www.bankofbaroda.in/   \n",
       "6                  BKID                      https://www.bankofindia.co.in/   \n",
       "7                  CITI                  https://www.online.citibank.co.in/   \n",
       "8                  CNRB                          https://www.canarabank.in/   \n",
       "9                  CORP                           https://www.corpbank.com/   \n",
       "10          DR FILE DTD   https://web-in-security.blogspot.com/2016/03/x...   \n",
       "11            DR TPZ DT   https://www.flipkart.com/dynosure-doctor-dt-si...   \n",
       "12                 HDFC                           https://www.hdfcbank.com/   \n",
       "13                 HSBC                             https://www.hsbc.co.in/   \n",
       "14                 IBKL                      https://www.idbi.com/index.asp   \n",
       "15                 ICIC                          https://www.icicibank.com/   \n",
       "16                 IDIB                      https://www.indianbank.net.in/   \n",
       "17                 IOBA                                 https://www.iob.in/   \n",
       "18                 KKBK                       https://www.kotak.com/en.html   \n",
       "19                 MAHB                   https://www.bankofmaharashtra.in/   \n",
       "20                 ORBC                         https://www.obcindia.co.in/   \n",
       "21                 PSIB                           https://www.psbindia.com/   \n",
       "22                 SBIN                          https://www.onlinesbi.com/   \n",
       "23                 SBTR   https://bankifsccode.com/STATE_BANK_OF_TRAVANCORE   \n",
       "24                 SCBL                              https://www.sc.com/in/   \n",
       "25                 SIBL                    https://www.southindianbank.com/   \n",
       "26                 SYNB                       https://www.syndicatebank.in/   \n",
       "27                 UBIN                 https://www.unionbankofindia.co.in/   \n",
       "28                 UCBA                            https://www.ucobank.com/   \n",
       "29                 UTIB                           https://www.axisbank.com/   \n",
       "30                 VIJB                         https://www.vijayabank.com/   \n",
       "31                 YESB                             https://www.yesbank.in/   \n",
       "\n",
       "                                                Title  \\\n",
       "0   Aadhar Housing Finance Ltd: Home Loan | House ...   \n",
       "1   Aam Aadmi Party – भ्रष्टाचार मुक्त भारत हमारी ...   \n",
       "2   Aavas Financiers Limited - Home Loan, Home Loa...   \n",
       "3                    Abhipra - One stop Financial Hub   \n",
       "4                                         andhra bank   \n",
       "5                                      bank of baroda   \n",
       "6                                       bank of india   \n",
       "7                                            citibank   \n",
       "8                                         canara bank   \n",
       "9                                                   0   \n",
       "10                                    DTD Cheat Sheet   \n",
       "11  Dynosure Doctor Dt Sino Japan Bp Monitor - Dyn...   \n",
       "12                                          hdfc bank   \n",
       "13                                               hsbc   \n",
       "14                                               idbi   \n",
       "15                                              icici   \n",
       "16                                        indian bank   \n",
       "17                               indian overseas bank   \n",
       "18                                         kotak bank   \n",
       "19                                bank of maharashtra   \n",
       "20                          oriental bank of commerce   \n",
       "21                               punjab and sind bank   \n",
       "22                                                sbi   \n",
       "23                           state bank of travancore   \n",
       "24                            standard chartered bank   \n",
       "25                                  south indian bank   \n",
       "26                                     syndicate bank   \n",
       "27                                         union bank   \n",
       "28                                           uco bank   \n",
       "29                                          axis bank   \n",
       "30                                        vijaya bank   \n",
       "31                                           yes bank   \n",
       "\n",
       "                                                 WIKI  \\\n",
       "0                          https://aadharhousing.com/   \n",
       "1                          https://aamaadmiparty.org/   \n",
       "2                               https://www.aavas.in/   \n",
       "3                            https://www.abhipra.com/   \n",
       "4           https://en.wikipedia.org/wiki/Andhra_Bank   \n",
       "5        https://en.wikipedia.org/wiki/Bank_of_Baroda   \n",
       "6         https://en.wikipedia.org/wiki/Bank_of_India   \n",
       "7              https://en.wikipedia.org/wiki/Citibank   \n",
       "8           https://en.wikipedia.org/wiki/Canara_Bank   \n",
       "9                           https://www.corpbank.com/   \n",
       "10  https://en.wikipedia.org/wiki/Document_type_de...   \n",
       "11  https://www.flipkart.com/dynosure-doctor-dt-si...   \n",
       "12            https://en.wikipedia.org/wiki/HDFC_Bank   \n",
       "13                 https://en.wikipedia.org/wiki/HSBC   \n",
       "14            https://en.wikipedia.org/wiki/IDBI_Bank   \n",
       "15           https://en.wikipedia.org/wiki/ICICI_Bank   \n",
       "16          https://en.wikipedia.org/wiki/Indian_Bank   \n",
       "17  https://en.wikipedia.org/wiki/Indian_Overseas_...   \n",
       "18  https://en.wikipedia.org/wiki/Kotak_Mahindra_Bank   \n",
       "19  https://en.wikipedia.org/wiki/Bank_of_Maharashtra   \n",
       "20  https://en.wikipedia.org/wiki/Oriental_Bank_of...   \n",
       "21  https://en.wikipedia.org/wiki/Punjab_%26_Sind_...   \n",
       "22  https://en.wikipedia.org/wiki/State_Bank_of_India   \n",
       "23  https://en.wikipedia.org/wiki/State_Bank_of_Tr...   \n",
       "24   https://en.wikipedia.org/wiki/Standard_Chartered   \n",
       "25    https://en.wikipedia.org/wiki/South_Indian_Bank   \n",
       "26       https://en.wikipedia.org/wiki/Syndicate_Bank   \n",
       "27  https://en.wikipedia.org/wiki/Union_Bank_of_India   \n",
       "28             https://en.wikipedia.org/wiki/UCO_Bank   \n",
       "29            https://en.wikipedia.org/wiki/Axis_Bank   \n",
       "30          https://en.wikipedia.org/wiki/Vijaya_Bank   \n",
       "31             https://en.wikipedia.org/wiki/Yes_Bank   \n",
       "\n",
       "                                              Content  \n",
       "0   Copyright 2017. Aadhar Housing Finance Limited...  \n",
       "1   ले कर रहेंगे पूर्ण राज्य ! With full statehood...  \n",
       "2   \\n\\nCARE ratings has upgraded the Long term ra...  \n",
       "3   Complete Financial Market Services under one roof  \n",
       "4   Andhra Bank (BSE: 532418, NSE: ANDHRABANK)  is...  \n",
       "5   Bank of Baroda (BoB) is an Indian multinationa...  \n",
       "6   Bank of India (BOI) is commercial bank with he...  \n",
       "7   Citibank is the consumer division of financial...  \n",
       "8   Canara Bank is one of the largest public secto...  \n",
       "9                                                      \n",
       "10  A DTD defines the valid building blocks of an ...  \n",
       "11   Dynosure Doctor Dt Sino Japan Bp Monitor (Black)  \n",
       "12  HDFC Bank Limited (Housing Development Finance...  \n",
       "13  HSBC Holdings plc  is a British[6] multination...  \n",
       "14  Industrial Development Bank of India (IDBI) wa...  \n",
       "15  ICICI Bank Limited is an Indian multinational ...  \n",
       "16  Indian Bank[2][3][4] is an Indian state-owned ...  \n",
       "17  Indian Overseas Bank (IOB) is a major public s...  \n",
       "18  Kotak Mahindra Bank is an Indian private secto...  \n",
       "19  Bank of Maharashtra is a major public sector b...  \n",
       "20  Oriental Bank of Commerce is an India-based ba...  \n",
       "21  Punjab & Sind Bank is a government-owned bank ...  \n",
       "22  The State Bank of India (SBI) is an Indian mul...  \n",
       "23  State Bank of Travancore (SBT) was a major Ind...  \n",
       "24  Standard Chartered PLC is a British multinatio...  \n",
       "25  South Indian Bank Limited (SIB) (BSE: 532218, ...  \n",
       "26  Syndicate Bank is one of the oldest and major ...  \n",
       "27  Union Bank of India (UBI; BSE: 532477) is one ...  \n",
       "28  UCO Bank, formerly United Commercial Bank, est...  \n",
       "29  Axis Bank is the third-largest of the private-...  \n",
       "30  Vijaya Bank[2][3][4] was a public sector bank ...  \n",
       "31  Yes Bank Limited is India's fourth largest pri...  "
      ]
     },
     "execution_count": 17,
     "metadata": {},
     "output_type": "execute_result"
    }
   ],
   "source": [
    "\n",
    "work2df"
   ]
  },
  {
   "cell_type": "code",
   "execution_count": null,
   "metadata": {
    "collapsed": true
   },
   "outputs": [],
   "source": [
    "work2df.to_csv(path_or_buf='/home/roshan/Desktop/INTERNSHIP/CLUSTERINGALGO/.csv',columns=['Company','Link'],index=False)"
   ]
  },
  {
   "cell_type": "markdown",
   "metadata": {},
   "source": [
    "###  Data_Cleaning ==>"
   ]
  },
  {
   "cell_type": "markdown",
   "metadata": {},
   "source": [
    "#### CREATING FUNCTION because all document must be cleaned (here document is same as content column of DATAFRAME "
   ]
  },
  {
   "cell_type": "code",
   "execution_count": 2,
   "metadata": {
    "collapsed": true
   },
   "outputs": [],
   "source": [
    "import pandas as pd"
   ]
  },
  {
   "cell_type": "code",
   "execution_count": 10,
   "metadata": {
    "collapsed": false
   },
   "outputs": [
    {
     "data": {
      "text/html": [
       "<div>\n",
       "<table border=\"1\" class=\"dataframe\">\n",
       "  <thead>\n",
       "    <tr style=\"text-align: right;\">\n",
       "      <th></th>\n",
       "      <th>Company</th>\n",
       "      <th>Link</th>\n",
       "      <th>Title</th>\n",
       "      <th>WIKI</th>\n",
       "      <th>Content</th>\n",
       "    </tr>\n",
       "  </thead>\n",
       "  <tbody>\n",
       "    <tr>\n",
       "      <th>0</th>\n",
       "      <td>AADHAR HOUSING FINAN</td>\n",
       "      <td>https://aadharhousing.com/</td>\n",
       "      <td>Aadhar Housing Finance Ltd: Home Loan | House ...</td>\n",
       "      <td>https://aadharhousing.com/</td>\n",
       "      <td>Copyright 2017. Aadhar Housing Finance Limited...</td>\n",
       "    </tr>\n",
       "    <tr>\n",
       "      <th>1</th>\n",
       "      <td>AAMAADMIPARTY</td>\n",
       "      <td>https://aamaadmiparty.org/</td>\n",
       "      <td>Aam Aadmi Party – भ्रष्टाचार मुक्त भारत हमारी ...</td>\n",
       "      <td>https://aamaadmiparty.org/</td>\n",
       "      <td>ले कर रहेंगे पूर्ण राज्य ! With full statehood...</td>\n",
       "    </tr>\n",
       "    <tr>\n",
       "      <th>2</th>\n",
       "      <td>Aavas Financiers Lim</td>\n",
       "      <td>https://www.aavas.in/</td>\n",
       "      <td>Aavas Financiers Limited - Home Loan, Home Loa...</td>\n",
       "      <td>https://www.aavas.in/</td>\n",
       "      <td>\\n\\nCARE ratings has upgraded the Long term ra...</td>\n",
       "    </tr>\n",
       "    <tr>\n",
       "      <th>3</th>\n",
       "      <td>ABHIPRA CAPITAL LTD</td>\n",
       "      <td>https://www.abhipra.com/</td>\n",
       "      <td>Abhipra - One stop Financial Hub</td>\n",
       "      <td>https://www.abhipra.com/</td>\n",
       "      <td>Complete Financial Market Services under one roof</td>\n",
       "    </tr>\n",
       "    <tr>\n",
       "      <th>4</th>\n",
       "      <td>ANDB</td>\n",
       "      <td>https://www.andhrabank.in/</td>\n",
       "      <td>andhra bank</td>\n",
       "      <td>https://en.wikipedia.org/wiki/Andhra_Bank</td>\n",
       "      <td>Andhra Bank (BSE: 532418, NSE: ANDHRABANK)  is...</td>\n",
       "    </tr>\n",
       "    <tr>\n",
       "      <th>5</th>\n",
       "      <td>BARB</td>\n",
       "      <td>https://www.bankofbaroda.in/</td>\n",
       "      <td>bank of baroda</td>\n",
       "      <td>https://en.wikipedia.org/wiki/Bank_of_Baroda</td>\n",
       "      <td>Bank of Baroda (BoB) is an Indian multinationa...</td>\n",
       "    </tr>\n",
       "    <tr>\n",
       "      <th>6</th>\n",
       "      <td>BKID</td>\n",
       "      <td>https://www.bankofindia.co.in/</td>\n",
       "      <td>bank of india</td>\n",
       "      <td>https://en.wikipedia.org/wiki/Bank_of_India</td>\n",
       "      <td>Bank of India (BOI) is commercial bank with he...</td>\n",
       "    </tr>\n",
       "    <tr>\n",
       "      <th>7</th>\n",
       "      <td>CITI</td>\n",
       "      <td>https://www.online.citibank.co.in/</td>\n",
       "      <td>citibank</td>\n",
       "      <td>https://en.wikipedia.org/wiki/Citibank</td>\n",
       "      <td>Citibank is the consumer division of financial...</td>\n",
       "    </tr>\n",
       "    <tr>\n",
       "      <th>8</th>\n",
       "      <td>CNRB</td>\n",
       "      <td>https://www.canarabank.in/</td>\n",
       "      <td>canara bank</td>\n",
       "      <td>https://en.wikipedia.org/wiki/Canara_Bank</td>\n",
       "      <td>Canara Bank is one of the largest public secto...</td>\n",
       "    </tr>\n",
       "    <tr>\n",
       "      <th>9</th>\n",
       "      <td>CORP</td>\n",
       "      <td>https://www.corpbank.com/</td>\n",
       "      <td>0</td>\n",
       "      <td>https://www.corpbank.com/</td>\n",
       "      <td>NaN</td>\n",
       "    </tr>\n",
       "    <tr>\n",
       "      <th>10</th>\n",
       "      <td>DR FILE DTD</td>\n",
       "      <td>https://web-in-security.blogspot.com/2016/03/x...</td>\n",
       "      <td>DTD Cheat Sheet</td>\n",
       "      <td>https://en.wikipedia.org/wiki/Document_type_de...</td>\n",
       "      <td>A DTD defines the valid building blocks of an ...</td>\n",
       "    </tr>\n",
       "    <tr>\n",
       "      <th>11</th>\n",
       "      <td>DR TPZ DT</td>\n",
       "      <td>https://www.flipkart.com/dynosure-doctor-dt-si...</td>\n",
       "      <td>Dynosure Doctor Dt Sino Japan Bp Monitor - Dyn...</td>\n",
       "      <td>https://www.flipkart.com/dynosure-doctor-dt-si...</td>\n",
       "      <td>Dynosure Doctor Dt Sino Japan Bp Monitor (Black)</td>\n",
       "    </tr>\n",
       "    <tr>\n",
       "      <th>12</th>\n",
       "      <td>HDFC</td>\n",
       "      <td>https://www.hdfcbank.com/</td>\n",
       "      <td>hdfc bank</td>\n",
       "      <td>https://en.wikipedia.org/wiki/HDFC_Bank</td>\n",
       "      <td>HDFC Bank Limited (Housing Development Finance...</td>\n",
       "    </tr>\n",
       "    <tr>\n",
       "      <th>13</th>\n",
       "      <td>HSBC</td>\n",
       "      <td>https://www.hsbc.co.in/</td>\n",
       "      <td>hsbc</td>\n",
       "      <td>https://en.wikipedia.org/wiki/HSBC</td>\n",
       "      <td>HSBC Holdings plc  is a British[6] multination...</td>\n",
       "    </tr>\n",
       "    <tr>\n",
       "      <th>14</th>\n",
       "      <td>IBKL</td>\n",
       "      <td>https://www.idbi.com/index.asp</td>\n",
       "      <td>idbi</td>\n",
       "      <td>https://en.wikipedia.org/wiki/IDBI_Bank</td>\n",
       "      <td>Industrial Development Bank of India (IDBI) wa...</td>\n",
       "    </tr>\n",
       "    <tr>\n",
       "      <th>15</th>\n",
       "      <td>ICIC</td>\n",
       "      <td>https://www.icicibank.com/</td>\n",
       "      <td>icici</td>\n",
       "      <td>https://en.wikipedia.org/wiki/ICICI_Bank</td>\n",
       "      <td>ICICI Bank Limited is an Indian multinational ...</td>\n",
       "    </tr>\n",
       "    <tr>\n",
       "      <th>16</th>\n",
       "      <td>IDIB</td>\n",
       "      <td>https://www.indianbank.net.in/</td>\n",
       "      <td>indian bank</td>\n",
       "      <td>https://en.wikipedia.org/wiki/Indian_Bank</td>\n",
       "      <td>Indian Bank[2][3][4] is an Indian state-owned ...</td>\n",
       "    </tr>\n",
       "    <tr>\n",
       "      <th>17</th>\n",
       "      <td>IOBA</td>\n",
       "      <td>https://www.iob.in/</td>\n",
       "      <td>indian overseas bank</td>\n",
       "      <td>https://en.wikipedia.org/wiki/Indian_Overseas_...</td>\n",
       "      <td>Indian Overseas Bank (IOB) is a major public s...</td>\n",
       "    </tr>\n",
       "    <tr>\n",
       "      <th>18</th>\n",
       "      <td>KKBK</td>\n",
       "      <td>https://www.kotak.com/en.html</td>\n",
       "      <td>kotak bank</td>\n",
       "      <td>https://en.wikipedia.org/wiki/Kotak_Mahindra_Bank</td>\n",
       "      <td>Kotak Mahindra Bank is an Indian private secto...</td>\n",
       "    </tr>\n",
       "    <tr>\n",
       "      <th>19</th>\n",
       "      <td>MAHB</td>\n",
       "      <td>https://www.bankofmaharashtra.in/</td>\n",
       "      <td>bank of maharashtra</td>\n",
       "      <td>https://en.wikipedia.org/wiki/Bank_of_Maharashtra</td>\n",
       "      <td>Bank of Maharashtra is a major public sector b...</td>\n",
       "    </tr>\n",
       "    <tr>\n",
       "      <th>20</th>\n",
       "      <td>ORBC</td>\n",
       "      <td>https://www.obcindia.co.in/</td>\n",
       "      <td>oriental bank of commerce</td>\n",
       "      <td>https://en.wikipedia.org/wiki/Oriental_Bank_of...</td>\n",
       "      <td>Oriental Bank of Commerce is an India-based ba...</td>\n",
       "    </tr>\n",
       "    <tr>\n",
       "      <th>21</th>\n",
       "      <td>PSIB</td>\n",
       "      <td>https://www.psbindia.com/</td>\n",
       "      <td>punjab and sind bank</td>\n",
       "      <td>https://en.wikipedia.org/wiki/Punjab_%26_Sind_...</td>\n",
       "      <td>Punjab &amp; Sind Bank is a government-owned bank ...</td>\n",
       "    </tr>\n",
       "    <tr>\n",
       "      <th>22</th>\n",
       "      <td>SBIN</td>\n",
       "      <td>https://www.onlinesbi.com/</td>\n",
       "      <td>sbi</td>\n",
       "      <td>https://en.wikipedia.org/wiki/State_Bank_of_India</td>\n",
       "      <td>The State Bank of India (SBI) is an Indian mul...</td>\n",
       "    </tr>\n",
       "    <tr>\n",
       "      <th>23</th>\n",
       "      <td>SBTR</td>\n",
       "      <td>https://bankifsccode.com/STATE_BANK_OF_TRAVANCORE</td>\n",
       "      <td>state bank of travancore</td>\n",
       "      <td>https://en.wikipedia.org/wiki/State_Bank_of_Tr...</td>\n",
       "      <td>State Bank of Travancore (SBT) was a major Ind...</td>\n",
       "    </tr>\n",
       "    <tr>\n",
       "      <th>24</th>\n",
       "      <td>SCBL</td>\n",
       "      <td>https://www.sc.com/in/</td>\n",
       "      <td>standard chartered bank</td>\n",
       "      <td>https://en.wikipedia.org/wiki/Standard_Chartered</td>\n",
       "      <td>Standard Chartered PLC is a British multinatio...</td>\n",
       "    </tr>\n",
       "    <tr>\n",
       "      <th>25</th>\n",
       "      <td>SIBL</td>\n",
       "      <td>https://www.southindianbank.com/</td>\n",
       "      <td>south indian bank</td>\n",
       "      <td>https://en.wikipedia.org/wiki/South_Indian_Bank</td>\n",
       "      <td>South Indian Bank Limited (SIB) (BSE: 532218, ...</td>\n",
       "    </tr>\n",
       "    <tr>\n",
       "      <th>26</th>\n",
       "      <td>SYNB</td>\n",
       "      <td>https://www.syndicatebank.in/</td>\n",
       "      <td>syndicate bank</td>\n",
       "      <td>https://en.wikipedia.org/wiki/Syndicate_Bank</td>\n",
       "      <td>Syndicate Bank is one of the oldest and major ...</td>\n",
       "    </tr>\n",
       "    <tr>\n",
       "      <th>27</th>\n",
       "      <td>UBIN</td>\n",
       "      <td>https://www.unionbankofindia.co.in/</td>\n",
       "      <td>union bank</td>\n",
       "      <td>https://en.wikipedia.org/wiki/Union_Bank_of_India</td>\n",
       "      <td>Union Bank of India (UBI; BSE: 532477) is one ...</td>\n",
       "    </tr>\n",
       "    <tr>\n",
       "      <th>28</th>\n",
       "      <td>UCBA</td>\n",
       "      <td>https://www.ucobank.com/</td>\n",
       "      <td>uco bank</td>\n",
       "      <td>https://en.wikipedia.org/wiki/UCO_Bank</td>\n",
       "      <td>UCO Bank, formerly United Commercial Bank, est...</td>\n",
       "    </tr>\n",
       "    <tr>\n",
       "      <th>29</th>\n",
       "      <td>UTIB</td>\n",
       "      <td>https://www.axisbank.com/</td>\n",
       "      <td>axis bank</td>\n",
       "      <td>https://en.wikipedia.org/wiki/Axis_Bank</td>\n",
       "      <td>Axis Bank is the third-largest of the private-...</td>\n",
       "    </tr>\n",
       "    <tr>\n",
       "      <th>30</th>\n",
       "      <td>VIJB</td>\n",
       "      <td>https://www.vijayabank.com/</td>\n",
       "      <td>vijaya bank</td>\n",
       "      <td>https://en.wikipedia.org/wiki/Vijaya_Bank</td>\n",
       "      <td>Vijaya Bank[2][3][4] was a public sector bank ...</td>\n",
       "    </tr>\n",
       "    <tr>\n",
       "      <th>31</th>\n",
       "      <td>YESB</td>\n",
       "      <td>https://www.yesbank.in/</td>\n",
       "      <td>yes bank</td>\n",
       "      <td>https://en.wikipedia.org/wiki/Yes_Bank</td>\n",
       "      <td>Yes Bank Limited is India's fourth largest pri...</td>\n",
       "    </tr>\n",
       "  </tbody>\n",
       "</table>\n",
       "</div>"
      ],
      "text/plain": [
       "                 Company                                               Link  \\\n",
       "0   AADHAR HOUSING FINAN                         https://aadharhousing.com/   \n",
       "1          AAMAADMIPARTY                         https://aamaadmiparty.org/   \n",
       "2   Aavas Financiers Lim                              https://www.aavas.in/   \n",
       "3    ABHIPRA CAPITAL LTD                           https://www.abhipra.com/   \n",
       "4                  ANDB                          https://www.andhrabank.in/   \n",
       "5                  BARB                        https://www.bankofbaroda.in/   \n",
       "6                  BKID                      https://www.bankofindia.co.in/   \n",
       "7                  CITI                  https://www.online.citibank.co.in/   \n",
       "8                  CNRB                          https://www.canarabank.in/   \n",
       "9                  CORP                           https://www.corpbank.com/   \n",
       "10          DR FILE DTD   https://web-in-security.blogspot.com/2016/03/x...   \n",
       "11            DR TPZ DT   https://www.flipkart.com/dynosure-doctor-dt-si...   \n",
       "12                 HDFC                           https://www.hdfcbank.com/   \n",
       "13                 HSBC                             https://www.hsbc.co.in/   \n",
       "14                 IBKL                      https://www.idbi.com/index.asp   \n",
       "15                 ICIC                          https://www.icicibank.com/   \n",
       "16                 IDIB                      https://www.indianbank.net.in/   \n",
       "17                 IOBA                                 https://www.iob.in/   \n",
       "18                 KKBK                       https://www.kotak.com/en.html   \n",
       "19                 MAHB                   https://www.bankofmaharashtra.in/   \n",
       "20                 ORBC                         https://www.obcindia.co.in/   \n",
       "21                 PSIB                           https://www.psbindia.com/   \n",
       "22                 SBIN                          https://www.onlinesbi.com/   \n",
       "23                 SBTR   https://bankifsccode.com/STATE_BANK_OF_TRAVANCORE   \n",
       "24                 SCBL                              https://www.sc.com/in/   \n",
       "25                 SIBL                    https://www.southindianbank.com/   \n",
       "26                 SYNB                       https://www.syndicatebank.in/   \n",
       "27                 UBIN                 https://www.unionbankofindia.co.in/   \n",
       "28                 UCBA                            https://www.ucobank.com/   \n",
       "29                 UTIB                           https://www.axisbank.com/   \n",
       "30                 VIJB                         https://www.vijayabank.com/   \n",
       "31                 YESB                             https://www.yesbank.in/   \n",
       "\n",
       "                                                Title  \\\n",
       "0   Aadhar Housing Finance Ltd: Home Loan | House ...   \n",
       "1   Aam Aadmi Party – भ्रष्टाचार मुक्त भारत हमारी ...   \n",
       "2   Aavas Financiers Limited - Home Loan, Home Loa...   \n",
       "3                    Abhipra - One stop Financial Hub   \n",
       "4                                         andhra bank   \n",
       "5                                      bank of baroda   \n",
       "6                                       bank of india   \n",
       "7                                            citibank   \n",
       "8                                         canara bank   \n",
       "9                                                   0   \n",
       "10                                    DTD Cheat Sheet   \n",
       "11  Dynosure Doctor Dt Sino Japan Bp Monitor - Dyn...   \n",
       "12                                          hdfc bank   \n",
       "13                                               hsbc   \n",
       "14                                               idbi   \n",
       "15                                              icici   \n",
       "16                                        indian bank   \n",
       "17                               indian overseas bank   \n",
       "18                                         kotak bank   \n",
       "19                                bank of maharashtra   \n",
       "20                          oriental bank of commerce   \n",
       "21                               punjab and sind bank   \n",
       "22                                                sbi   \n",
       "23                           state bank of travancore   \n",
       "24                            standard chartered bank   \n",
       "25                                  south indian bank   \n",
       "26                                     syndicate bank   \n",
       "27                                         union bank   \n",
       "28                                           uco bank   \n",
       "29                                          axis bank   \n",
       "30                                        vijaya bank   \n",
       "31                                           yes bank   \n",
       "\n",
       "                                                 WIKI  \\\n",
       "0                          https://aadharhousing.com/   \n",
       "1                          https://aamaadmiparty.org/   \n",
       "2                               https://www.aavas.in/   \n",
       "3                            https://www.abhipra.com/   \n",
       "4           https://en.wikipedia.org/wiki/Andhra_Bank   \n",
       "5        https://en.wikipedia.org/wiki/Bank_of_Baroda   \n",
       "6         https://en.wikipedia.org/wiki/Bank_of_India   \n",
       "7              https://en.wikipedia.org/wiki/Citibank   \n",
       "8           https://en.wikipedia.org/wiki/Canara_Bank   \n",
       "9                           https://www.corpbank.com/   \n",
       "10  https://en.wikipedia.org/wiki/Document_type_de...   \n",
       "11  https://www.flipkart.com/dynosure-doctor-dt-si...   \n",
       "12            https://en.wikipedia.org/wiki/HDFC_Bank   \n",
       "13                 https://en.wikipedia.org/wiki/HSBC   \n",
       "14            https://en.wikipedia.org/wiki/IDBI_Bank   \n",
       "15           https://en.wikipedia.org/wiki/ICICI_Bank   \n",
       "16          https://en.wikipedia.org/wiki/Indian_Bank   \n",
       "17  https://en.wikipedia.org/wiki/Indian_Overseas_...   \n",
       "18  https://en.wikipedia.org/wiki/Kotak_Mahindra_Bank   \n",
       "19  https://en.wikipedia.org/wiki/Bank_of_Maharashtra   \n",
       "20  https://en.wikipedia.org/wiki/Oriental_Bank_of...   \n",
       "21  https://en.wikipedia.org/wiki/Punjab_%26_Sind_...   \n",
       "22  https://en.wikipedia.org/wiki/State_Bank_of_India   \n",
       "23  https://en.wikipedia.org/wiki/State_Bank_of_Tr...   \n",
       "24   https://en.wikipedia.org/wiki/Standard_Chartered   \n",
       "25    https://en.wikipedia.org/wiki/South_Indian_Bank   \n",
       "26       https://en.wikipedia.org/wiki/Syndicate_Bank   \n",
       "27  https://en.wikipedia.org/wiki/Union_Bank_of_India   \n",
       "28             https://en.wikipedia.org/wiki/UCO_Bank   \n",
       "29            https://en.wikipedia.org/wiki/Axis_Bank   \n",
       "30          https://en.wikipedia.org/wiki/Vijaya_Bank   \n",
       "31             https://en.wikipedia.org/wiki/Yes_Bank   \n",
       "\n",
       "                                              Content  \n",
       "0   Copyright 2017. Aadhar Housing Finance Limited...  \n",
       "1   ले कर रहेंगे पूर्ण राज्य ! With full statehood...  \n",
       "2   \\n\\nCARE ratings has upgraded the Long term ra...  \n",
       "3   Complete Financial Market Services under one roof  \n",
       "4   Andhra Bank (BSE: 532418, NSE: ANDHRABANK)  is...  \n",
       "5   Bank of Baroda (BoB) is an Indian multinationa...  \n",
       "6   Bank of India (BOI) is commercial bank with he...  \n",
       "7   Citibank is the consumer division of financial...  \n",
       "8   Canara Bank is one of the largest public secto...  \n",
       "9                                                 NaN  \n",
       "10  A DTD defines the valid building blocks of an ...  \n",
       "11   Dynosure Doctor Dt Sino Japan Bp Monitor (Black)  \n",
       "12  HDFC Bank Limited (Housing Development Finance...  \n",
       "13  HSBC Holdings plc  is a British[6] multination...  \n",
       "14  Industrial Development Bank of India (IDBI) wa...  \n",
       "15  ICICI Bank Limited is an Indian multinational ...  \n",
       "16  Indian Bank[2][3][4] is an Indian state-owned ...  \n",
       "17  Indian Overseas Bank (IOB) is a major public s...  \n",
       "18  Kotak Mahindra Bank is an Indian private secto...  \n",
       "19  Bank of Maharashtra is a major public sector b...  \n",
       "20  Oriental Bank of Commerce is an India-based ba...  \n",
       "21  Punjab & Sind Bank is a government-owned bank ...  \n",
       "22  The State Bank of India (SBI) is an Indian mul...  \n",
       "23  State Bank of Travancore (SBT) was a major Ind...  \n",
       "24  Standard Chartered PLC is a British multinatio...  \n",
       "25  South Indian Bank Limited (SIB) (BSE: 532218, ...  \n",
       "26  Syndicate Bank is one of the oldest and major ...  \n",
       "27  Union Bank of India (UBI; BSE: 532477) is one ...  \n",
       "28  UCO Bank, formerly United Commercial Bank, est...  \n",
       "29  Axis Bank is the third-largest of the private-...  \n",
       "30  Vijaya Bank[2][3][4] was a public sector bank ...  \n",
       "31  Yes Bank Limited is India's fourth largest pri...  "
      ]
     },
     "execution_count": 10,
     "metadata": {},
     "output_type": "execute_result"
    }
   ],
   "source": [
    "finaldf = pd.read_csv('finaldf.csv')\n",
    "finaldf"
   ]
  },
  {
   "cell_type": "code",
   "execution_count": 15,
   "metadata": {
    "collapsed": false,
    "scrolled": false
   },
   "outputs": [],
   "source": [
    "def data_clean(content):\n",
    "    # 1. SPLITTING INTO WORDS\n",
    "    from nltk.tokenize import word_tokenize\n",
    "    tokens = word_tokenize(str(content))\n",
    "    # 2. CONVERT WORDS TO LOWERCASE\n",
    "    words_punc=list()\n",
    "    for i in tokens:\n",
    "        words_punc.append(i.lower())\n",
    "    # 3. REMOVE PUNCTUATIONS\n",
    "    import string\n",
    "    table = str.maketrans('','',string.punctuation)\n",
    "    alphanum = [i.translate(table) for i in words_punc ]\n",
    "    # 4. REMOVE NOT CHAR TOKENS\n",
    "    alphaonly = [i for i in alphanum if i.isalpha() ]\n",
    "    # 5. REMOVE STOPWORDS\n",
    "    from nltk.corpus import stopwords\n",
    "    stop_words = set(stopwords.words('english'))\n",
    "    words = [i for i in alphaonly if not i in stop_words]\n",
    "\n",
    "    ### Lemmatizing OF WORDS\n",
    "    #!!!!! ---- NOT STEMMING BECAUSE IT CUTS SHORT THE IMPORTANT WORDS -----!!!!#\n",
    "    # NEED TO TRY WITH STEMMING #\n",
    "\n",
    "    from nltk.stem import WordNetLemmatizer\n",
    "    lemmatizer = WordNetLemmatizer()\n",
    "\n",
    "    word = list()\n",
    "    for i in words:\n",
    "        word.append(lemmatizer.lemmatize(i,'v'))\n",
    "\n",
    "    return(word)"
   ]
  },
  {
   "cell_type": "markdown",
   "metadata": {},
   "source": [
    "#### TESTDATA"
   ]
  },
  {
   "cell_type": "code",
   "execution_count": 16,
   "metadata": {
    "collapsed": true
   },
   "outputs": [],
   "source": [
    "def dummy_fun(doc):\n",
    "    return doc"
   ]
  },
  {
   "cell_type": "code",
   "execution_count": 19,
   "metadata": {
    "collapsed": false
   },
   "outputs": [],
   "source": [
    "lst = list()\n",
    "for i in range(len(finaldf['Content'])):\n",
    "    lst.append(data_clean(finaldf['Content'][i]))"
   ]
  },
  {
   "cell_type": "markdown",
   "metadata": {
    "collapsed": true
   },
   "source": [
    "# Processing Textual Data using TF-IDF"
   ]
  },
  {
   "cell_type": "code",
   "execution_count": 20,
   "metadata": {
    "collapsed": true
   },
   "outputs": [],
   "source": [
    "from sklearn.feature_extraction.text import TfidfVectorizer"
   ]
  },
  {
   "cell_type": "code",
   "execution_count": 21,
   "metadata": {
    "collapsed": true
   },
   "outputs": [],
   "source": [
    "vectorizer = TfidfVectorizer(use_idf = True,sublinear_tf=True,preprocessor=dummy_fun,analyzer='word',tokenizer=dummy_fun,token_pattern=None)"
   ]
  },
  {
   "cell_type": "code",
   "execution_count": 22,
   "metadata": {
    "collapsed": false
   },
   "outputs": [
    {
     "data": {
      "text/plain": [
       "TfidfVectorizer(analyzer='word', binary=False, decode_error='strict',\n",
       "        dtype=<class 'numpy.int64'>, encoding='utf-8', input='content',\n",
       "        lowercase=True, max_df=1.0, max_features=None, min_df=1,\n",
       "        ngram_range=(1, 1), norm='l2',\n",
       "        preprocessor=<function dummy_fun at 0x7f29b1498a60>,\n",
       "        smooth_idf=True, stop_words=None, strip_accents=None,\n",
       "        sublinear_tf=True, token_pattern=None,\n",
       "        tokenizer=<function dummy_fun at 0x7f29b1498a60>, use_idf=True,\n",
       "        vocabulary=None)"
      ]
     },
     "execution_count": 22,
     "metadata": {},
     "output_type": "execute_result"
    }
   ],
   "source": [
    "vectorizer.fit(lst)"
   ]
  },
  {
   "cell_type": "code",
   "execution_count": 23,
   "metadata": {
    "collapsed": false
   },
   "outputs": [
    {
     "data": {
      "text/plain": [
       "{'aadhar': 0,\n",
       " 'aastable': 1,\n",
       " 'aavas': 2,\n",
       " 'abroad': 3,\n",
       " 'abu': 4,\n",
       " 'acceptorcash': 5,\n",
       " 'accord': 6,\n",
       " 'achieve': 7,\n",
       " 'across': 8,\n",
       " 'act': 9,\n",
       " 'advisory': 10,\n",
       " 'africa': 11,\n",
       " 'along': 12,\n",
       " 'also': 13,\n",
       " 'ammembal': 14,\n",
       " 'among': 15,\n",
       " 'andhra': 16,\n",
       " 'andhrabank': 17,\n",
       " 'antwerp': 18,\n",
       " 'apositive': 19,\n",
       " 'approximately': 20,\n",
       " 'april': 21,\n",
       " 'areas': 22,\n",
       " 'around': 23,\n",
       " 'ashok': 24,\n",
       " 'asia': 25,\n",
       " 'asset': 26,\n",
       " 'assets': 27,\n",
       " 'associate': 28,\n",
       " 'atms': 29,\n",
       " 'attribute': 30,\n",
       " 'automate': 31,\n",
       " 'axis': 32,\n",
       " 'back': 33,\n",
       " 'bad': 34,\n",
       " 'bahrain': 35,\n",
       " 'bandra': 36,\n",
       " 'bangkok': 37,\n",
       " 'bank': 38,\n",
       " 'baroda': 39,\n",
       " 'base': 40,\n",
       " 'become': 41,\n",
       " 'beijing': 42,\n",
       " 'bengaluru': 43,\n",
       " 'besides': 44,\n",
       " 'biggest': 45,\n",
       " 'billion': 46,\n",
       " 'black': 47,\n",
       " 'block': 48,\n",
       " 'bob': 49,\n",
       " 'body': 50,\n",
       " 'boi': 51,\n",
       " 'bond': 52,\n",
       " 'bounce': 53,\n",
       " 'bp': 54,\n",
       " 'branch': 55,\n",
       " 'brand': 56,\n",
       " 'brandz': 57,\n",
       " 'breadth': 58,\n",
       " 'british': 59,\n",
       " 'bse': 60,\n",
       " 'btm': 61,\n",
       " 'build': 62,\n",
       " 'bulk': 63,\n",
       " 'business': 64,\n",
       " 'businesses': 65,\n",
       " 'canara': 66,\n",
       " 'capital': 67,\n",
       " 'capitalisation': 68,\n",
       " 'capitalization': 69,\n",
       " 'card': 70,\n",
       " 'care': 71,\n",
       " 'carry': 72,\n",
       " 'cash': 73,\n",
       " 'cbs': 74,\n",
       " 'cdc': 75,\n",
       " 'center': 76,\n",
       " 'certify': 77,\n",
       " 'channel': 78,\n",
       " 'charter': 79,\n",
       " 'chennai': 80,\n",
       " 'citibank': 81,\n",
       " 'citigroup': 82,\n",
       " 'city': 83,\n",
       " 'colombo': 84,\n",
       " 'come': 85,\n",
       " 'commerce': 86,\n",
       " 'commercial': 87,\n",
       " 'communication': 88,\n",
       " 'company': 89,\n",
       " 'compare': 90,\n",
       " 'complete': 91,\n",
       " 'complex': 92,\n",
       " 'comprehensive': 93,\n",
       " 'conduct': 94,\n",
       " 'consider': 95,\n",
       " 'consumer': 96,\n",
       " 'continue': 97,\n",
       " 'copyright': 98,\n",
       " 'corporate': 99,\n",
       " 'corporates': 100,\n",
       " 'corporation': 101,\n",
       " 'corporations': 102,\n",
       " 'correspond': 103,\n",
       " 'correspondent': 104,\n",
       " 'costeffective': 105,\n",
       " 'counter': 106,\n",
       " 'countries': 107,\n",
       " 'country': 108,\n",
       " 'credit': 109,\n",
       " 'crore': 110,\n",
       " 'crores': 111,\n",
       " 'cry': 112,\n",
       " 'currency': 113,\n",
       " 'current': 114,\n",
       " 'currently': 115,\n",
       " 'customer': 116,\n",
       " 'customers': 117,\n",
       " 'data': 118,\n",
       " 'december': 119,\n",
       " 'declare': 120,\n",
       " 'define': 121,\n",
       " 'delhi': 122,\n",
       " 'delivery': 123,\n",
       " 'denominate': 124,\n",
       " 'department': 125,\n",
       " 'deposit': 126,\n",
       " 'derive': 127,\n",
       " 'despite': 128,\n",
       " 'develop': 129,\n",
       " 'development': 130,\n",
       " 'dhabi': 131,\n",
       " 'division': 132,\n",
       " 'doctor': 133,\n",
       " 'document': 134,\n",
       " 'domestic': 135,\n",
       " 'dream': 136,\n",
       " 'dt': 137,\n",
       " 'dtd': 138,\n",
       " 'dubai': 139,\n",
       " 'dynosure': 140,\n",
       " 'earlier': 141,\n",
       " 'east': 142,\n",
       " 'elements': 143,\n",
       " 'employ': 144,\n",
       " 'employees': 145,\n",
       " 'end': 146,\n",
       " 'england': 147,\n",
       " 'enter': 148,\n",
       " 'establish': 149,\n",
       " 'establishment': 150,\n",
       " 'europe': 151,\n",
       " 'exim': 152,\n",
       " 'expect': 153,\n",
       " 'extcounters': 154,\n",
       " 'extension': 155,\n",
       " 'extent': 156,\n",
       " 'external': 157,\n",
       " 'facilitate': 158,\n",
       " 'facilities': 159,\n",
       " 'february': 160,\n",
       " 'finance': 161,\n",
       " 'financial': 162,\n",
       " 'financialprocessing': 163,\n",
       " 'financier': 164,\n",
       " 'find': 165,\n",
       " 'first': 166,\n",
       " 'five': 167,\n",
       " 'flagship': 168,\n",
       " 'fledgling': 169,\n",
       " 'forbes': 170,\n",
       " 'foreign': 171,\n",
       " 'form': 172,\n",
       " 'formally': 173,\n",
       " 'formerly': 174,\n",
       " 'fortune': 175,\n",
       " 'found': 176,\n",
       " 'founder': 177,\n",
       " 'four': 178,\n",
       " 'fourth': 179,\n",
       " 'full': 180,\n",
       " 'function': 181,\n",
       " 'fy': 182,\n",
       " 'global': 183,\n",
       " 'goi': 184,\n",
       " 'government': 185,\n",
       " 'governmentowned': 186,\n",
       " 'group': 187,\n",
       " 'guangzhou': 188,\n",
       " 'gujarat': 189,\n",
       " 'gurugram': 190,\n",
       " 'hdfc': 191,\n",
       " 'head': 192,\n",
       " 'headquarter': 193,\n",
       " 'himachal': 194,\n",
       " 'hold': 195,\n",
       " 'hong': 196,\n",
       " 'hongkong': 197,\n",
       " 'house': 198,\n",
       " 'hsbc': 199,\n",
       " 'hyderabad': 200,\n",
       " 'icici': 201,\n",
       " 'idbi': 202,\n",
       " 'importance': 203,\n",
       " 'include': 204,\n",
       " 'incorporate': 205,\n",
       " 'india': 206,\n",
       " 'indiabased': 207,\n",
       " 'indian': 208,\n",
       " 'industrial': 209,\n",
       " 'industry': 210,\n",
       " 'information': 211,\n",
       " 'inhouse': 212,\n",
       " 'initial': 213,\n",
       " 'initially': 214,\n",
       " 'inline': 215,\n",
       " 'inr': 216,\n",
       " 'inside': 217,\n",
       " 'institute': 218,\n",
       " 'institutional': 219,\n",
       " 'insurance': 220,\n",
       " 'inter': 221,\n",
       " 'international': 222,\n",
       " 'investment': 223,\n",
       " 'iob': 224,\n",
       " 'iso': 225,\n",
       " 'issuance': 226,\n",
       " 'issue': 227,\n",
       " 'jaffna': 228,\n",
       " 'january': 229,\n",
       " 'japan': 230,\n",
       " 'joint': 231,\n",
       " 'jointventure': 232,\n",
       " 'july': 233,\n",
       " 'kapoor': 234,\n",
       " 'kapur': 235,\n",
       " 'karnataka': 236,\n",
       " 'kerala': 237,\n",
       " 'kingdom': 238,\n",
       " 'know': 239,\n",
       " 'kolkata': 240,\n",
       " 'kong': 241,\n",
       " 'kotak': 242,\n",
       " 'kudva': 243,\n",
       " 'kurla': 244,\n",
       " 'lahore': 245,\n",
       " 'lakh': 246,\n",
       " 'large': 247,\n",
       " 'largest': 248,\n",
       " 'last': 249,\n",
       " 'lastly': 250,\n",
       " 'later': 251,\n",
       " 'lender': 252,\n",
       " 'length': 253,\n",
       " 'lesser': 254,\n",
       " 'licence': 255,\n",
       " 'lie': 256,\n",
       " 'life': 257,\n",
       " 'like': 258,\n",
       " 'limit': 259,\n",
       " 'line': 260,\n",
       " 'list': 261,\n",
       " 'loan': 262,\n",
       " 'london': 263,\n",
       " 'long': 264,\n",
       " 'loss': 265,\n",
       " 'lower': 266,\n",
       " 'ltd': 267,\n",
       " 'machine': 268,\n",
       " 'maharashtra': 269,\n",
       " 'mahindra': 270,\n",
       " 'mainly': 271,\n",
       " 'major': 272,\n",
       " 'malaysia': 273,\n",
       " 'management': 274,\n",
       " 'mangalore': 275,\n",
       " 'manipal': 276,\n",
       " 'many': 277,\n",
       " 'march': 278,\n",
       " 'market': 279,\n",
       " 'masala': 280,\n",
       " 'mediumsized': 281,\n",
       " 'member': 282,\n",
       " 'middle': 283,\n",
       " 'midsize': 284,\n",
       " 'million': 285,\n",
       " 'monitor': 286,\n",
       " 'mortgage': 287,\n",
       " 'moscow': 288,\n",
       " 'multinational': 289,\n",
       " 'mumbai': 290,\n",
       " 'nadu': 291,\n",
       " 'name': 292,\n",
       " 'nan': 293,\n",
       " 'national': 294,\n",
       " 'nationalisation': 295,\n",
       " 'nationalise': 296,\n",
       " 'nationalize': 297,\n",
       " 'net': 298,\n",
       " 'network': 299,\n",
       " 'new': 300,\n",
       " 'nine': 301,\n",
       " 'nonlife': 302,\n",
       " 'note': 303,\n",
       " 'npa': 304,\n",
       " 'nsdl': 305,\n",
       " 'nse': 306,\n",
       " 'october': 307,\n",
       " 'offer': 308,\n",
       " 'office': 309,\n",
       " 'offices': 310,\n",
       " 'oldest': 311,\n",
       " 'one': 312,\n",
       " 'onefourth': 313,\n",
       " 'online': 314,\n",
       " 'open': 315,\n",
       " 'operate': 316,\n",
       " 'operations': 317,\n",
       " 'oriental': 318,\n",
       " 'origin': 319,\n",
       " 'origins': 320,\n",
       " 'outlets': 321,\n",
       " 'outside': 322,\n",
       " 'overseas': 323,\n",
       " 'own': 324,\n",
       " 'pai': 325,\n",
       " 'pakistan': 326,\n",
       " 'pan': 327,\n",
       " 'partowner': 328,\n",
       " 'people': 329,\n",
       " 'percent': 330,\n",
       " 'perform': 331,\n",
       " 'period': 332,\n",
       " 'permanent': 333,\n",
       " 'personal': 334,\n",
       " 'plc': 335,\n",
       " 'plus': 336,\n",
       " 'point': 337,\n",
       " 'policy': 338,\n",
       " 'position': 339,\n",
       " 'pradesh': 340,\n",
       " 'precede': 341,\n",
       " 'presence': 342,\n",
       " 'present': 343,\n",
       " 'previous': 344,\n",
       " 'primarily': 345,\n",
       " 'privacy': 346,\n",
       " 'private': 347,\n",
       " 'privatesector': 348,\n",
       " 'process': 349,\n",
       " 'products': 350,\n",
       " 'profit': 351,\n",
       " 'promise': 352,\n",
       " 'provide': 353,\n",
       " 'provision': 354,\n",
       " 'psb': 355,\n",
       " 'public': 356,\n",
       " 'punjab': 357,\n",
       " 'quarter': 358,\n",
       " 'raise': 359,\n",
       " 'rana': 360,\n",
       " 'range': 361,\n",
       " 'rank': 362,\n",
       " 'rao': 363,\n",
       " 'rat': 364,\n",
       " 'rbi': 365,\n",
       " 'read': 366,\n",
       " 'realize': 367,\n",
       " 'recyclers': 368,\n",
       " 'reduce': 369,\n",
       " 'reference': 370,\n",
       " 'reform': 371,\n",
       " 'regional': 372,\n",
       " 'register': 373,\n",
       " 'report': 374,\n",
       " 'representative': 375,\n",
       " 'research': 376,\n",
       " 'reserve': 377,\n",
       " 'retail': 378,\n",
       " 'return': 379,\n",
       " 'right': 380,\n",
       " 'rise': 381,\n",
       " 'roof': 382,\n",
       " 'root': 383,\n",
       " 'rs': 384,\n",
       " 'rupee': 385,\n",
       " 'sarani': 386,\n",
       " 'satellite': 387,\n",
       " 'saw': 388,\n",
       " 'sbi': 389,\n",
       " 'sbt': 390,\n",
       " 'second': 391,\n",
       " 'sector': 392,\n",
       " 'security': 393,\n",
       " 'sell': 394,\n",
       " 'seoul': 395,\n",
       " 'september': 396,\n",
       " 'serve': 397,\n",
       " 'service': 398,\n",
       " 'set': 399,\n",
       " 'several': 400,\n",
       " 'shanghai': 401,\n",
       " 'share': 402,\n",
       " 'sib': 403,\n",
       " 'sidbi': 404,\n",
       " 'since': 405,\n",
       " 'sind': 406,\n",
       " 'singapore': 407,\n",
       " 'sino': 408,\n",
       " 'sme': 409,\n",
       " 'society': 410,\n",
       " 'software': 411,\n",
       " 'south': 412,\n",
       " 'southbank': 413,\n",
       " 'space': 414,\n",
       " 'specialise': 415,\n",
       " 'spread': 416,\n",
       " 'stake': 417,\n",
       " 'standard': 418,\n",
       " 'state': 419,\n",
       " 'statehood': 420,\n",
       " 'stateowned': 421,\n",
       " 'status': 422,\n",
       " 'statutory': 423,\n",
       " 'structure': 424,\n",
       " 'study': 425,\n",
       " 'subba': 426,\n",
       " 'subsidiaries': 427,\n",
       " 'subsidiary': 428,\n",
       " 'suite': 429,\n",
       " 'surge': 430,\n",
       " 'swift': 431,\n",
       " 'sydney': 432,\n",
       " 'syndicate': 433,\n",
       " 'systems': 434,\n",
       " 'tamil': 435,\n",
       " 'tanzania': 436,\n",
       " 'technology': 437,\n",
       " 'telangana': 438,\n",
       " 'telecommunications': 439,\n",
       " 'teller': 440,\n",
       " 'term': 441,\n",
       " 'territories': 442,\n",
       " 'thirdlargest': 443,\n",
       " 'thiruvananthapuram': 444,\n",
       " 'three': 445,\n",
       " 'thrissur': 446,\n",
       " 'throughout': 447,\n",
       " 'time': 448,\n",
       " 'top': 449,\n",
       " 'total': 450,\n",
       " 'touch': 451,\n",
       " 'town': 452,\n",
       " 'trace': 453,\n",
       " 'transfer': 454,\n",
       " 'travancore': 455,\n",
       " 'treasury': 456,\n",
       " 'trillion': 457,\n",
       " 'tripura': 458,\n",
       " 'trust': 459,\n",
       " 'two': 460,\n",
       " 'ubi': 461,\n",
       " 'uco': 462,\n",
       " 'uk': 463,\n",
       " 'union': 464,\n",
       " 'unit': 465,\n",
       " 'unite': 466,\n",
       " 'units': 467,\n",
       " 'universal': 468,\n",
       " 'university': 469,\n",
       " 'upcoming': 470,\n",
       " 'update': 471,\n",
       " 'upendra': 472,\n",
       " 'upgrade': 473,\n",
       " 'us': 474,\n",
       " 'use': 475,\n",
       " 'vadodara': 476,\n",
       " 'valid': 477,\n",
       " 'validate': 478,\n",
       " 'valuable': 479,\n",
       " 'vaman': 480,\n",
       " 'variety': 481,\n",
       " 'various': 482,\n",
       " 'venture': 483,\n",
       " 'vietnam': 484,\n",
       " 'vijaya': 485,\n",
       " 'war': 486,\n",
       " 'well': 487,\n",
       " 'wholly': 488,\n",
       " 'wide': 489,\n",
       " 'world': 490,\n",
       " 'worldwide': 491,\n",
       " 'worth': 492,\n",
       " 'xml': 493,\n",
       " 'year': 494,\n",
       " 'yes': 495,\n",
       " 'york': 496,\n",
       " 'zonal': 497,\n",
       " 'कर': 498}"
      ]
     },
     "execution_count": 23,
     "metadata": {},
     "output_type": "execute_result"
    }
   ],
   "source": [
    "vectorizer.vocabulary_"
   ]
  },
  {
   "cell_type": "code",
   "execution_count": 24,
   "metadata": {
    "collapsed": false
   },
   "outputs": [
    {
     "name": "stderr",
     "output_type": "stream",
     "text": [
      "/home/roshan/anaconda3/lib/python3.5/site-packages/sklearn/feature_extraction/text.py:1059: FutureWarning: Conversion of the second argument of issubdtype from `float` to `np.floating` is deprecated. In future, it will be treated as `np.float64 == np.dtype(float).type`.\n",
      "  if hasattr(X, 'dtype') and np.issubdtype(X.dtype, np.float):\n"
     ]
    }
   ],
   "source": [
    "vec_1 = vectorizer.transform(lst)"
   ]
  },
  {
   "cell_type": "code",
   "execution_count": 25,
   "metadata": {
    "collapsed": false
   },
   "outputs": [
    {
     "data": {
      "text/plain": [
       "(32, 499)"
      ]
     },
     "execution_count": 25,
     "metadata": {},
     "output_type": "execute_result"
    }
   ],
   "source": [
    "vec_1.shape"
   ]
  },
  {
   "cell_type": "code",
   "execution_count": 26,
   "metadata": {
    "collapsed": false
   },
   "outputs": [],
   "source": [
    "terms = vectorizer.get_feature_names()"
   ]
  },
  {
   "cell_type": "code",
   "execution_count": 29,
   "metadata": {
    "collapsed": false
   },
   "outputs": [
    {
     "data": {
      "text/plain": [
       "499"
      ]
     },
     "execution_count": 29,
     "metadata": {},
     "output_type": "execute_result"
    }
   ],
   "source": [
    "len(terms)"
   ]
  },
  {
   "cell_type": "markdown",
   "metadata": {},
   "source": [
    "# ----------------------------------------------------------------------------------------------------------\n",
    "## Is Document Similiraity needed?\n",
    "### Each company need not be cross checked with each other for similarity. Although, there could be a possibility that algorithm may improve if similar documents are clubbed together into a corresponding segment.\n",
    "\n",
    "# Need to Test Doc Similarity\n",
    "# ----------------------------------------------------------------------------------------------------------"
   ]
  },
  {
   "cell_type": "markdown",
   "metadata": {},
   "source": [
    "# Performing Clustering..\n"
   ]
  },
  {
   "cell_type": "code",
   "execution_count": 31,
   "metadata": {
    "collapsed": true
   },
   "outputs": [],
   "source": [
    "from sklearn.cluster import KMeans"
   ]
  },
  {
   "cell_type": "code",
   "execution_count": 33,
   "metadata": {
    "collapsed": false
   },
   "outputs": [],
   "source": [
    "true_k = 2\n",
    "km = KMeans(n_clusters=true_k)"
   ]
  },
  {
   "cell_type": "code",
   "execution_count": null,
   "metadata": {
    "collapsed": true
   },
   "outputs": [],
   "source": [
    "km.fit(vec_1)"
   ]
  },
  {
   "cell_type": "code",
   "execution_count": null,
   "metadata": {
    "collapsed": true
   },
   "outputs": [],
   "source": []
  }
 ],
 "metadata": {
  "anaconda-cloud": {},
  "kernelspec": {
   "display_name": "Python [conda env:anaconda3]",
   "language": "python",
   "name": "conda-env-anaconda3-py"
  },
  "language_info": {
   "codemirror_mode": {
    "name": "ipython",
    "version": 3
   },
   "file_extension": ".py",
   "mimetype": "text/x-python",
   "name": "python",
   "nbconvert_exporter": "python",
   "pygments_lexer": "ipython3",
   "version": "3.5.2"
  }
 },
 "nbformat": 4,
 "nbformat_minor": 1
}
