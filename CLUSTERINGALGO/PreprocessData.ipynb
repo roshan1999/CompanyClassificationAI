{
 "cells": [
  {
   "cell_type": "markdown",
   "metadata": {},
   "source": [
    "# COMPANY CLASSIFICATION - **using clustering Algo** #\n",
    "## ---------START OF DATA PROCESSING------- #"
   ]
  },
  {
   "cell_type": "code",
   "execution_count": 1,
   "metadata": {
    "collapsed": true
   },
   "outputs": [],
   "source": [
    "import pandas as pd"
   ]
  },
  {
   "cell_type": "code",
   "execution_count": 2,
   "metadata": {
    "collapsed": true
   },
   "outputs": [],
   "source": [
    "df = pd.read_csv('testdata.csv')"
   ]
  },
  {
   "cell_type": "code",
   "execution_count": 3,
   "metadata": {
    "collapsed": false,
    "scrolled": true
   },
   "outputs": [
    {
     "data": {
      "text/html": [
       "<div>\n",
       "<table border=\"1\" class=\"dataframe\">\n",
       "  <thead>\n",
       "    <tr style=\"text-align: right;\">\n",
       "      <th></th>\n",
       "      <th>housing_flg</th>\n",
       "      <th>Google’s First Url</th>\n",
       "      <th>Unnamed: 2</th>\n",
       "      <th>Unnamed: 3</th>\n",
       "      <th>Unnamed: 4</th>\n",
       "      <th>Unnamed: 5</th>\n",
       "    </tr>\n",
       "  </thead>\n",
       "  <tbody>\n",
       "    <tr>\n",
       "      <th>0</th>\n",
       "      <td>NaN</td>\n",
       "      <td>NaN</td>\n",
       "      <td>NaN</td>\n",
       "      <td>NaN</td>\n",
       "      <td>NaN</td>\n",
       "      <td>NaN</td>\n",
       "    </tr>\n",
       "    <tr>\n",
       "      <th>1</th>\n",
       "      <td>AADHAR HOUSING FINAN</td>\n",
       "      <td>https://aadharhousing.com/</td>\n",
       "      <td>NaN</td>\n",
       "      <td>NaN</td>\n",
       "      <td>NaN</td>\n",
       "      <td>NaN</td>\n",
       "    </tr>\n",
       "    <tr>\n",
       "      <th>2</th>\n",
       "      <td>AAMAADMIPARTY</td>\n",
       "      <td>https://aamaadmiparty.org/</td>\n",
       "      <td>NaN</td>\n",
       "      <td>NaN</td>\n",
       "      <td>NaN</td>\n",
       "      <td>NaN</td>\n",
       "    </tr>\n",
       "    <tr>\n",
       "      <th>3</th>\n",
       "      <td>Aavas Financiers Lim</td>\n",
       "      <td>https://www.aavas.in/</td>\n",
       "      <td>NaN</td>\n",
       "      <td>NaN</td>\n",
       "      <td>NaN</td>\n",
       "      <td>NaN</td>\n",
       "    </tr>\n",
       "    <tr>\n",
       "      <th>4</th>\n",
       "      <td>ABHIPRA CAPITAL LTD</td>\n",
       "      <td>https://www.abhipra.com/</td>\n",
       "      <td>NaN</td>\n",
       "      <td>NaN</td>\n",
       "      <td>NaN</td>\n",
       "      <td>NaN</td>\n",
       "    </tr>\n",
       "  </tbody>\n",
       "</table>\n",
       "</div>"
      ],
      "text/plain": [
       "            housing_flg          Google’s First Url Unnamed: 2 Unnamed: 3  \\\n",
       "0                   NaN                         NaN        NaN        NaN   \n",
       "1  AADHAR HOUSING FINAN  https://aadharhousing.com/        NaN        NaN   \n",
       "2         AAMAADMIPARTY  https://aamaadmiparty.org/        NaN        NaN   \n",
       "3  Aavas Financiers Lim       https://www.aavas.in/        NaN        NaN   \n",
       "4   ABHIPRA CAPITAL LTD    https://www.abhipra.com/        NaN        NaN   \n",
       "\n",
       "  Unnamed: 4 Unnamed: 5  \n",
       "0        NaN        NaN  \n",
       "1        NaN        NaN  \n",
       "2        NaN        NaN  \n",
       "3        NaN        NaN  \n",
       "4        NaN        NaN  "
      ]
     },
     "execution_count": 3,
     "metadata": {},
     "output_type": "execute_result"
    }
   ],
   "source": [
    "df.head()"
   ]
  },
  {
   "cell_type": "code",
   "execution_count": 4,
   "metadata": {
    "collapsed": false,
    "scrolled": false
   },
   "outputs": [
    {
     "data": {
      "text/html": [
       "<div>\n",
       "<table border=\"1\" class=\"dataframe\">\n",
       "  <thead>\n",
       "    <tr style=\"text-align: right;\">\n",
       "      <th></th>\n",
       "      <th>housing_flg</th>\n",
       "      <th>Google’s First Url</th>\n",
       "      <th>Unnamed: 2</th>\n",
       "      <th>Unnamed: 3</th>\n",
       "      <th>Unnamed: 4</th>\n",
       "      <th>Unnamed: 5</th>\n",
       "    </tr>\n",
       "  </thead>\n",
       "  <tbody>\n",
       "    <tr>\n",
       "      <th>count</th>\n",
       "      <td>1375</td>\n",
       "      <td>1326</td>\n",
       "      <td>4</td>\n",
       "      <td>2</td>\n",
       "      <td>2</td>\n",
       "      <td>2</td>\n",
       "    </tr>\n",
       "    <tr>\n",
       "      <th>unique</th>\n",
       "      <td>1355</td>\n",
       "      <td>748</td>\n",
       "      <td>3</td>\n",
       "      <td>1</td>\n",
       "      <td>1</td>\n",
       "      <td>1</td>\n",
       "    </tr>\n",
       "    <tr>\n",
       "      <th>top</th>\n",
       "      <td>KKBK</td>\n",
       "      <td>https://www.herofincorp.com/</td>\n",
       "      <td>state-delhi</td>\n",
       "      <td>district-new-delhi</td>\n",
       "      <td>branch-racpc-delhi</td>\n",
       "      <td>ifsccode-SBIN0004492.cms</td>\n",
       "    </tr>\n",
       "    <tr>\n",
       "      <th>freq</th>\n",
       "      <td>3</td>\n",
       "      <td>12</td>\n",
       "      <td>2</td>\n",
       "      <td>2</td>\n",
       "      <td>2</td>\n",
       "      <td>2</td>\n",
       "    </tr>\n",
       "  </tbody>\n",
       "</table>\n",
       "</div>"
      ],
      "text/plain": [
       "       housing_flg            Google’s First Url   Unnamed: 2  \\\n",
       "count         1375                          1326            4   \n",
       "unique        1355                           748            3   \n",
       "top          KKBK   https://www.herofincorp.com/  state-delhi   \n",
       "freq             3                            12            2   \n",
       "\n",
       "                Unnamed: 3          Unnamed: 4                Unnamed: 5  \n",
       "count                    2                   2                         2  \n",
       "unique                   1                   1                         1  \n",
       "top     district-new-delhi  branch-racpc-delhi  ifsccode-SBIN0004492.cms  \n",
       "freq                     2                   2                         2  "
      ]
     },
     "execution_count": 4,
     "metadata": {},
     "output_type": "execute_result"
    }
   ],
   "source": [
    "df.describe()"
   ]
  },
  {
   "cell_type": "code",
   "execution_count": 5,
   "metadata": {
    "collapsed": false
   },
   "outputs": [],
   "source": [
    "td = df.columns.str.contains('^Unnamed')"
   ]
  },
  {
   "cell_type": "code",
   "execution_count": 6,
   "metadata": {
    "collapsed": false
   },
   "outputs": [],
   "source": [
    "df = df.loc[:,~td]"
   ]
  },
  {
   "cell_type": "code",
   "execution_count": 7,
   "metadata": {
    "collapsed": false,
    "scrolled": true
   },
   "outputs": [
    {
     "data": {
      "text/html": [
       "<div>\n",
       "<table border=\"1\" class=\"dataframe\">\n",
       "  <thead>\n",
       "    <tr style=\"text-align: right;\">\n",
       "      <th></th>\n",
       "      <th>housing_flg</th>\n",
       "      <th>Google’s First Url</th>\n",
       "    </tr>\n",
       "  </thead>\n",
       "  <tbody>\n",
       "    <tr>\n",
       "      <th>0</th>\n",
       "      <td>NaN</td>\n",
       "      <td>NaN</td>\n",
       "    </tr>\n",
       "    <tr>\n",
       "      <th>1</th>\n",
       "      <td>AADHAR HOUSING FINAN</td>\n",
       "      <td>https://aadharhousing.com/</td>\n",
       "    </tr>\n",
       "    <tr>\n",
       "      <th>2</th>\n",
       "      <td>AAMAADMIPARTY</td>\n",
       "      <td>https://aamaadmiparty.org/</td>\n",
       "    </tr>\n",
       "    <tr>\n",
       "      <th>3</th>\n",
       "      <td>Aavas Financiers Lim</td>\n",
       "      <td>https://www.aavas.in/</td>\n",
       "    </tr>\n",
       "    <tr>\n",
       "      <th>4</th>\n",
       "      <td>ABHIPRA CAPITAL LTD</td>\n",
       "      <td>https://www.abhipra.com/</td>\n",
       "    </tr>\n",
       "  </tbody>\n",
       "</table>\n",
       "</div>"
      ],
      "text/plain": [
       "            housing_flg          Google’s First Url\n",
       "0                   NaN                         NaN\n",
       "1  AADHAR HOUSING FINAN  https://aadharhousing.com/\n",
       "2         AAMAADMIPARTY  https://aamaadmiparty.org/\n",
       "3  Aavas Financiers Lim       https://www.aavas.in/\n",
       "4   ABHIPRA CAPITAL LTD    https://www.abhipra.com/"
      ]
     },
     "execution_count": 7,
     "metadata": {},
     "output_type": "execute_result"
    }
   ],
   "source": [
    "df.head()"
   ]
  },
  {
   "cell_type": "code",
   "execution_count": 8,
   "metadata": {
    "collapsed": false
   },
   "outputs": [
    {
     "data": {
      "text/html": [
       "<div>\n",
       "<table border=\"1\" class=\"dataframe\">\n",
       "  <thead>\n",
       "    <tr style=\"text-align: right;\">\n",
       "      <th></th>\n",
       "      <th>housing_flg</th>\n",
       "      <th>Google’s First Url</th>\n",
       "    </tr>\n",
       "  </thead>\n",
       "  <tbody>\n",
       "    <tr>\n",
       "      <th>count</th>\n",
       "      <td>1375</td>\n",
       "      <td>1326</td>\n",
       "    </tr>\n",
       "    <tr>\n",
       "      <th>unique</th>\n",
       "      <td>1355</td>\n",
       "      <td>748</td>\n",
       "    </tr>\n",
       "    <tr>\n",
       "      <th>top</th>\n",
       "      <td>KKBK</td>\n",
       "      <td>https://www.herofincorp.com/</td>\n",
       "    </tr>\n",
       "    <tr>\n",
       "      <th>freq</th>\n",
       "      <td>3</td>\n",
       "      <td>12</td>\n",
       "    </tr>\n",
       "  </tbody>\n",
       "</table>\n",
       "</div>"
      ],
      "text/plain": [
       "       housing_flg            Google’s First Url\n",
       "count         1375                          1326\n",
       "unique        1355                           748\n",
       "top          KKBK   https://www.herofincorp.com/\n",
       "freq             3                            12"
      ]
     },
     "execution_count": 8,
     "metadata": {},
     "output_type": "execute_result"
    }
   ],
   "source": [
    "df.describe()"
   ]
  },
  {
   "cell_type": "code",
   "execution_count": 9,
   "metadata": {
    "collapsed": false
   },
   "outputs": [],
   "source": [
    "df = df.dropna(subset=['housing_flg'])"
   ]
  },
  {
   "cell_type": "code",
   "execution_count": 10,
   "metadata": {
    "collapsed": false,
    "scrolled": false
   },
   "outputs": [
    {
     "data": {
      "text/html": [
       "<div>\n",
       "<table border=\"1\" class=\"dataframe\">\n",
       "  <thead>\n",
       "    <tr style=\"text-align: right;\">\n",
       "      <th></th>\n",
       "      <th>housing_flg</th>\n",
       "      <th>Google’s First Url</th>\n",
       "    </tr>\n",
       "  </thead>\n",
       "  <tbody>\n",
       "    <tr>\n",
       "      <th>1</th>\n",
       "      <td>False</td>\n",
       "      <td>False</td>\n",
       "    </tr>\n",
       "    <tr>\n",
       "      <th>2</th>\n",
       "      <td>False</td>\n",
       "      <td>False</td>\n",
       "    </tr>\n",
       "    <tr>\n",
       "      <th>3</th>\n",
       "      <td>False</td>\n",
       "      <td>False</td>\n",
       "    </tr>\n",
       "    <tr>\n",
       "      <th>4</th>\n",
       "      <td>False</td>\n",
       "      <td>False</td>\n",
       "    </tr>\n",
       "    <tr>\n",
       "      <th>5</th>\n",
       "      <td>False</td>\n",
       "      <td>False</td>\n",
       "    </tr>\n",
       "  </tbody>\n",
       "</table>\n",
       "</div>"
      ],
      "text/plain": [
       "  housing_flg Google’s First Url\n",
       "1       False              False\n",
       "2       False              False\n",
       "3       False              False\n",
       "4       False              False\n",
       "5       False              False"
      ]
     },
     "execution_count": 10,
     "metadata": {},
     "output_type": "execute_result"
    }
   ],
   "source": [
    "df.isnull().head()"
   ]
  },
  {
   "cell_type": "code",
   "execution_count": 11,
   "metadata": {
    "collapsed": false
   },
   "outputs": [],
   "source": [
    "col1 = df.iloc[:,0]"
   ]
  },
  {
   "cell_type": "code",
   "execution_count": 12,
   "metadata": {
    "collapsed": true
   },
   "outputs": [],
   "source": [
    "col1 = pd.DataFrame(col1)"
   ]
  },
  {
   "cell_type": "code",
   "execution_count": 13,
   "metadata": {
    "collapsed": false
   },
   "outputs": [
    {
     "data": {
      "text/html": [
       "<div>\n",
       "<table border=\"1\" class=\"dataframe\">\n",
       "  <thead>\n",
       "    <tr style=\"text-align: right;\">\n",
       "      <th></th>\n",
       "      <th>housing_flg</th>\n",
       "    </tr>\n",
       "  </thead>\n",
       "  <tbody>\n",
       "    <tr>\n",
       "      <th>1</th>\n",
       "      <td>AADHAR HOUSING FINAN</td>\n",
       "    </tr>\n",
       "    <tr>\n",
       "      <th>2</th>\n",
       "      <td>AAMAADMIPARTY</td>\n",
       "    </tr>\n",
       "    <tr>\n",
       "      <th>3</th>\n",
       "      <td>Aavas Financiers Lim</td>\n",
       "    </tr>\n",
       "    <tr>\n",
       "      <th>4</th>\n",
       "      <td>ABHIPRA CAPITAL LTD</td>\n",
       "    </tr>\n",
       "    <tr>\n",
       "      <th>5</th>\n",
       "      <td>ANDB</td>\n",
       "    </tr>\n",
       "  </tbody>\n",
       "</table>\n",
       "</div>"
      ],
      "text/plain": [
       "            housing_flg\n",
       "1  AADHAR HOUSING FINAN\n",
       "2         AAMAADMIPARTY\n",
       "3  Aavas Financiers Lim\n",
       "4   ABHIPRA CAPITAL LTD\n",
       "5                 ANDB "
      ]
     },
     "execution_count": 13,
     "metadata": {},
     "output_type": "execute_result"
    }
   ],
   "source": [
    "col1.head()"
   ]
  },
  {
   "cell_type": "code",
   "execution_count": 14,
   "metadata": {
    "collapsed": false
   },
   "outputs": [],
   "source": [
    "df = df.rename( columns = {df.columns[1]:\"Link\"})"
   ]
  },
  {
   "cell_type": "code",
   "execution_count": 15,
   "metadata": {
    "collapsed": true
   },
   "outputs": [],
   "source": [
    "from googlesearch import search"
   ]
  },
  {
   "cell_type": "code",
   "execution_count": 18,
   "metadata": {
    "collapsed": false
   },
   "outputs": [
    {
     "name": "stdout",
     "output_type": "stream",
     "text": [
      "ADITYABIRLAHOSFINLTD\n",
      "ALANKITASSMTLTD\n",
      "BD BSESRAJE\n",
      "BD KARVYSTBRL\n",
      "BD SBICCMB PYMT\n",
      "SBIELRC TVM\n",
      "https://www.bankbazaar.com/ifsc-code/state-bank-of-india/kerala/trivandrum/sarc-thiruvananthapuram-branch.html\n",
      "https://www.bankbazaar.com/ifsc-code/state-bank-of-india/kerala/trivandrum/sarc-thiruvananthapuram-branch.html\n",
      "SCBAMEX\n",
      "https://www.theguardian.com/business/2007/sep/18/9\n",
      "https://www.theguardian.com/business/2007/sep/18/9\n",
      "StarUnionDai\n",
      "https://www.sudlife.in/home\n",
      "https://www.sudlife.in/home\n",
      "CBIMHAEMPLOYEECOOPTH\n",
      "CTDAIMLFIE\n",
      "CTEDELHOUE\n",
      "CTRELIANEE\n",
      "DELHICOOPOPHOFICORLD\n",
      "DRIVEHIMALAYANTHDVLP\n",
      "EquitableRetailAdvan\n",
      "INDBULLSHOUFINLTD\n",
      "INDUSEASYFUNDS\n",
      "LOANDEPTCENPAHUUTBI\n",
      "MAHINAMAHINFINSERLD\n",
      "MAHNIMAHINFINSERLD\n",
      "OHEALERHEALTHCARESER\n",
      "Realigarehousingdevl\n",
      "RETAILASSTOPSIDFB\n",
      "ADITYA BIRLA HOUSING \n",
      "https://homefinance.adityabirlacapital.com/\n",
      "https://homefinance.adityabirlacapital.com/\n",
      "ADITYABIRLAHOSFINLTD \n",
      "AEGOLIFINSCOMPLTD \n",
      "EDELWETOKLIFINSCOLTD \n",
      "EquitableRetailAdvan \n",
      "MAHINAMAHINFINSERLD \n",
      "MAHNIMAHINFINSERLD \n",
      "OHEALERHEALTHCARESER \n",
      "RETASSTOPIDFB \n",
      "INDOSTRACAPT \n",
      "WEALTHINDFINSERPLD \n",
      "BJAJALZLICINH\n",
      "INDOSTRACAPT\n",
      "IPRUESIGN\n",
      "SNAPINCREDFIN\n",
      "http://mrshisha.com.au/jgb4/i5k4.php?xxx=5&pf205=who-is-the-woman-in-the-redfin-commercial-2019\n",
      "http://mrshisha.com.au/jgb4/i5k4.php?xxx=5&pf205=who-is-the-woman-in-the-redfin-commercial-2019\n",
      "SNAPVISULEAS\n",
      "TPAMAGMAEMI\n",
      "https://magma.co.in/loans/\n",
      "https://magma.co.in/loans/\n",
      "TPAXIS CRYOBANK ECS\n",
      "WEALTHINDFINSERPLD\n"
     ]
    }
   ],
   "source": [
    "#performs a final search for the nan values and replaces in the columns.\n",
    "#only 36 nan remaining.\n",
    "count = 0\n",
    "for val,row in df.iterrows():\n",
    "        if(str(row[df.columns[1]])==('nan')):\n",
    "            query = str(row[df.columns[0]])\n",
    "            print(query)\n",
    "            for j in search(query,tld = 'com',num = 10, stop =1,pause = 2):\n",
    "                row[df.columns[1]]= j\n",
    "                print(j)\n",
    "                count = count+1\n",
    "                print(row[df.columns[1]])"
   ]
  },
  {
   "cell_type": "code",
   "execution_count": 19,
   "metadata": {
    "collapsed": false
   },
   "outputs": [],
   "source": [
    "col3 = pd.DataFrame()"
   ]
  },
  {
   "cell_type": "code",
   "execution_count": 20,
   "metadata": {
    "collapsed": false
   },
   "outputs": [],
   "source": [
    "lst = list()\n",
    "for val,row in df.iterrows():\n",
    "    if(str(row[df.columns[1]])=='nan'):\n",
    "        lst.append(row[df.columns[0]])"
   ]
  },
  {
   "cell_type": "code",
   "execution_count": 21,
   "metadata": {
    "collapsed": false
   },
   "outputs": [
    {
     "data": {
      "text/html": [
       "<div>\n",
       "<table border=\"1\" class=\"dataframe\">\n",
       "  <thead>\n",
       "    <tr style=\"text-align: right;\">\n",
       "      <th></th>\n",
       "      <th>No LINK Company</th>\n",
       "    </tr>\n",
       "  </thead>\n",
       "  <tbody>\n",
       "    <tr>\n",
       "      <th>0</th>\n",
       "      <td>ADITYABIRLAHOSFINLTD</td>\n",
       "    </tr>\n",
       "    <tr>\n",
       "      <th>1</th>\n",
       "      <td>ALANKITASSMTLTD</td>\n",
       "    </tr>\n",
       "    <tr>\n",
       "      <th>2</th>\n",
       "      <td>BD BSESRAJE</td>\n",
       "    </tr>\n",
       "    <tr>\n",
       "      <th>3</th>\n",
       "      <td>BD KARVYSTBRL</td>\n",
       "    </tr>\n",
       "    <tr>\n",
       "      <th>4</th>\n",
       "      <td>BD SBICCMB PYMT</td>\n",
       "    </tr>\n",
       "  </tbody>\n",
       "</table>\n",
       "</div>"
      ],
      "text/plain": [
       "        No LINK Company\n",
       "0  ADITYABIRLAHOSFINLTD\n",
       "1       ALANKITASSMTLTD\n",
       "2           BD BSESRAJE\n",
       "3         BD KARVYSTBRL\n",
       "4       BD SBICCMB PYMT"
      ]
     },
     "execution_count": 21,
     "metadata": {},
     "output_type": "execute_result"
    }
   ],
   "source": [
    "col3 = pd.DataFrame(lst)\n",
    "\n",
    "col3.rename(columns={0:'No LINK Company'}).head()\n",
    "#col3 holds all nan linked companies"
   ]
  },
  {
   "cell_type": "code",
   "execution_count": 22,
   "metadata": {
    "collapsed": false
   },
   "outputs": [
    {
     "data": {
      "text/html": [
       "<div>\n",
       "<table border=\"1\" class=\"dataframe\">\n",
       "  <thead>\n",
       "    <tr style=\"text-align: right;\">\n",
       "      <th></th>\n",
       "      <th>housing_flg</th>\n",
       "      <th>Link</th>\n",
       "    </tr>\n",
       "  </thead>\n",
       "  <tbody>\n",
       "    <tr>\n",
       "      <th>count</th>\n",
       "      <td>1339</td>\n",
       "      <td>1339</td>\n",
       "    </tr>\n",
       "    <tr>\n",
       "      <th>unique</th>\n",
       "      <td>1319</td>\n",
       "      <td>757</td>\n",
       "    </tr>\n",
       "    <tr>\n",
       "      <th>top</th>\n",
       "      <td>CNRB</td>\n",
       "      <td>https://www.herofincorp.com/</td>\n",
       "    </tr>\n",
       "    <tr>\n",
       "      <th>freq</th>\n",
       "      <td>3</td>\n",
       "      <td>12</td>\n",
       "    </tr>\n",
       "  </tbody>\n",
       "</table>\n",
       "</div>"
      ],
      "text/plain": [
       "       housing_flg                          Link\n",
       "count         1339                          1339\n",
       "unique        1319                           757\n",
       "top          CNRB   https://www.herofincorp.com/\n",
       "freq             3                            12"
      ]
     },
     "execution_count": 22,
     "metadata": {},
     "output_type": "execute_result"
    }
   ],
   "source": [
    "df = df.dropna(subset=[df.columns[1]])\n",
    "df.describe()\n",
    "#dropped all nan links with rows"
   ]
  },
  {
   "cell_type": "markdown",
   "metadata": {},
   "source": [
    "## Data is removed of missing links\n",
    "### *col3* holds the rows with missing links.\n",
    "### df holds the rows with valid links."
   ]
  },
  {
   "cell_type": "markdown",
   "metadata": {},
   "source": [
    "# USING WORDNINJA ON COL3 :3"
   ]
  },
  {
   "cell_type": "code",
   "execution_count": 23,
   "metadata": {
    "collapsed": true
   },
   "outputs": [],
   "source": [
    "import wordninja"
   ]
  },
  {
   "cell_type": "code",
   "execution_count": 24,
   "metadata": {
    "collapsed": false
   },
   "outputs": [
    {
     "data": {
      "text/html": [
       "<div>\n",
       "<table border=\"1\" class=\"dataframe\">\n",
       "  <thead>\n",
       "    <tr style=\"text-align: right;\">\n",
       "      <th></th>\n",
       "      <th>0</th>\n",
       "    </tr>\n",
       "  </thead>\n",
       "  <tbody>\n",
       "    <tr>\n",
       "      <th>0</th>\n",
       "      <td>ADITYABIRLAHOSFINLTD</td>\n",
       "    </tr>\n",
       "    <tr>\n",
       "      <th>1</th>\n",
       "      <td>ALANKITASSMTLTD</td>\n",
       "    </tr>\n",
       "    <tr>\n",
       "      <th>2</th>\n",
       "      <td>BD BSESRAJE</td>\n",
       "    </tr>\n",
       "    <tr>\n",
       "      <th>3</th>\n",
       "      <td>BD KARVYSTBRL</td>\n",
       "    </tr>\n",
       "    <tr>\n",
       "      <th>4</th>\n",
       "      <td>BD SBICCMB PYMT</td>\n",
       "    </tr>\n",
       "  </tbody>\n",
       "</table>\n",
       "</div>"
      ],
      "text/plain": [
       "                      0\n",
       "0  ADITYABIRLAHOSFINLTD\n",
       "1       ALANKITASSMTLTD\n",
       "2           BD BSESRAJE\n",
       "3         BD KARVYSTBRL\n",
       "4       BD SBICCMB PYMT"
      ]
     },
     "execution_count": 24,
     "metadata": {},
     "output_type": "execute_result"
    }
   ],
   "source": [
    "col3.head()"
   ]
  },
  {
   "cell_type": "code",
   "execution_count": 25,
   "metadata": {
    "collapsed": false
   },
   "outputs": [],
   "source": [
    "lst = list()\n",
    "for val,row in col3.iterrows():\n",
    "    lst.append(row[col3.columns[0]])"
   ]
  },
  {
   "cell_type": "code",
   "execution_count": 26,
   "metadata": {
    "collapsed": false
   },
   "outputs": [],
   "source": [
    "lst2 = list();\n",
    "for i in lst:\n",
    "    lst2.append(wordninja.split(i))"
   ]
  },
  {
   "cell_type": "code",
   "execution_count": 27,
   "metadata": {
    "collapsed": false,
    "scrolled": true
   },
   "outputs": [],
   "source": [
    "lst3 = list()\n",
    "for i in lst2:\n",
    "    str = ''\n",
    "    for j in i:\n",
    "        str+=j+' '\n",
    "    lst3.append(str)"
   ]
  },
  {
   "cell_type": "code",
   "execution_count": 28,
   "metadata": {
    "collapsed": false
   },
   "outputs": [],
   "source": [
    "altmiss = pd.DataFrame(lst3)"
   ]
  },
  {
   "cell_type": "code",
   "execution_count": 29,
   "metadata": {
    "collapsed": true
   },
   "outputs": [],
   "source": [
    "altmiss['link']=' '"
   ]
  },
  {
   "cell_type": "code",
   "execution_count": 30,
   "metadata": {
    "collapsed": false
   },
   "outputs": [
    {
     "name": "stdout",
     "output_type": "stream",
     "text": [
      "ADITYA BIR LA HOS FIN LTD \n",
      "https://abfl.adityabirlacapital.com/Pages/Individual/Contact-Us/Locate-Us.aspx\n",
      "https://abfl.adityabirlacapital.com/Pages/Individual/Contact-Us/Locate-Us.aspx\n",
      "ALAN KIT AS SMT LTD \n",
      "https://www.alankit.in/company-overview.aspx\n",
      "https://www.alankit.in/company-overview.aspx\n",
      "BD BSE S RAJE \n",
      "https://www.bseindia.com/markets/equity/EQReports/bulk_deals.aspx\n",
      "https://www.bseindia.com/markets/equity/EQReports/bulk_deals.aspx\n",
      "BD KAR VY ST BR L \n",
      "http://www.espncricinfo.com/team/_/id/25/bangladesh/\n",
      "http://www.espncricinfo.com/team/_/id/25/bangladesh/\n",
      "BD S BIC CMB PY MT \n",
      "https://www.ibm.com/support/docview.wss?uid=ibm10883500\n",
      "https://www.ibm.com/support/docview.wss?uid=ibm10883500\n",
      "CB IMH A EMPLOYEE COOP TH \n",
      "https://www.sncf.coop/affiliates-directory/110-singapore-statutory-boards-employees-co-operative-thrift-loan-society-limited\n",
      "https://www.sncf.coop/affiliates-directory/110-singapore-statutory-boards-employees-co-operative-thrift-loan-society-limited\n",
      "C TD AIM L FIE \n",
      "https://www.regulatoryprofessionals.com/resources/regulatory-glossary/\n",
      "https://www.regulatoryprofessionals.com/resources/regulatory-glossary/\n",
      "CTE DEL HOU E \n",
      "https://www.sfdr-cisd.org/\n",
      "https://www.sfdr-cisd.org/\n",
      "C TR ELIANE E \n",
      "https://www.youtube.com/channel/UCE3B9LRIBIeaW2jk2RW7bUg\n",
      "https://www.youtube.com/channel/UCE3B9LRIBIeaW2jk2RW7bUg\n",
      "DELHI COOP OPH OF IC OR LD \n",
      "https://www.casemine.com/search/in?q=delhi+co-operative+tribunal\n",
      "https://www.casemine.com/search/in?q=delhi+co-operative+tribunal\n",
      "DRIVE HIMALAYAN TH DV LP \n",
      "https://jktyremotorsport.com/rally/jk-tyre-himalayan-drive\n",
      "https://jktyremotorsport.com/rally/jk-tyre-himalayan-drive\n",
      "Equitable Retail Adv an \n",
      "https://www.zaubacorp.com/company/EQUITABLE-RETAIL-ADVANTAGE-PRIVATE-LIMITED/U52590DL2016PTC306058\n",
      "https://www.zaubacorp.com/company/EQUITABLE-RETAIL-ADVANTAGE-PRIVATE-LIMITED/U52590DL2016PTC306058\n",
      "IN D BULL SHOU FIN LTD \n",
      "https://www.glassdoor.com/Reviews/Red-Bull-Finance-Reviews-EI_IE12190.0,8_KO9,16.htm\n",
      "https://www.glassdoor.com/Reviews/Red-Bull-Finance-Reviews-EI_IE12190.0,8_KO9,16.htm\n",
      "INDUS EASY FUNDS \n",
      "https://www.indusind.com/\n",
      "https://www.indusind.com/\n",
      "LOAN DEPT C EN PAH UUT BI \n",
      "https://www.diversivore.com/smoky-dried-chili-salsa-kuut-bi-ik/\n",
      "https://www.diversivore.com/smoky-dried-chili-salsa-kuut-bi-ik/\n",
      "MAH IN A MAH IN FINS ER LD \n",
      "https://www.intercel.eu/questions-and-answers/what-is-amp-hour-milliamp-hour/\n",
      "https://www.intercel.eu/questions-and-answers/what-is-amp-hour-milliamp-hour/\n",
      "MAH NI MAH IN FINS ER LD \n",
      "https://www.seekersguidance.org/answers/general-counsel/what-is-the-difference-between-barakah-hasanah-and-nimah/\n",
      "https://www.seekersguidance.org/answers/general-counsel/what-is-the-difference-between-barakah-hasanah-and-nimah/\n",
      "O HEALER HEALTHCARE SER \n",
      "https://www.portea.com/\n",
      "https://www.portea.com/\n",
      "Real ig are housing dev l \n",
      "https://www.hud.gov/\n",
      "https://www.hud.gov/\n",
      "RETAIL AS STOPS I DFB \n",
      "https://www.retaildive.com/\n",
      "https://www.retaildive.com/\n",
      "ADITYA BIR LA HOS FIN LTD \n",
      "https://abfl.adityabirlacapital.com/Pages/Individual/Contact-Us/Locate-Us.aspx\n",
      "https://abfl.adityabirlacapital.com/Pages/Individual/Contact-Us/Locate-Us.aspx\n",
      "A EGOLI FINS COMP LTD \n",
      "https://www.alamy.com/prod-db-subzero-film-entertainment-altitude-film-entertainment-egoli-tossell-film-dr-big-game-de-jalmari-helander-2014-fingbusa-avec-ray-stevenson-action-image219284992.html\n",
      "https://www.alamy.com/prod-db-subzero-film-entertainment-altitude-film-entertainment-egoli-tossell-film-dr-big-game-de-jalmari-helander-2014-fingbusa-avec-ray-stevenson-action-image219284992.html\n",
      "EDEL WE TO KLI FINS COLT D \n",
      "http://www.coltgroupamerica.com/solarfin-metal-louvers.html\n",
      "http://www.coltgroupamerica.com/solarfin-metal-louvers.html\n",
      "Equitable Retail Adv an \n",
      "https://www.zaubacorp.com/company/EQUITABLE-RETAIL-ADVANTAGE-PRIVATE-LIMITED/U52590DL2016PTC306058\n",
      "https://www.zaubacorp.com/company/EQUITABLE-RETAIL-ADVANTAGE-PRIVATE-LIMITED/U52590DL2016PTC306058\n",
      "MAH IN A MAH IN FINS ER LD \n",
      "https://www.intercel.eu/questions-and-answers/what-is-amp-hour-milliamp-hour/\n",
      "https://www.intercel.eu/questions-and-answers/what-is-amp-hour-milliamp-hour/\n",
      "MAH NI MAH IN FINS ER LD \n",
      "https://www.seekersguidance.org/answers/general-counsel/what-is-the-difference-between-barakah-hasanah-and-nimah/\n",
      "https://www.seekersguidance.org/answers/general-counsel/what-is-the-difference-between-barakah-hasanah-and-nimah/\n",
      "O HEALER HEALTHCARE SER \n",
      "https://www.portea.com/\n",
      "https://www.portea.com/\n",
      "RET AS STOP I DFB \n",
      "https://webstaff.kmutt.ac.th/~dejwoot.kha/CalenderYear/Year2554/ene335/LabFiles/LAB5-EX3.ASM\n",
      "https://webstaff.kmutt.ac.th/~dejwoot.kha/CalenderYear/Year2554/ene335/LabFiles/LAB5-EX3.ASM\n",
      "INDO STRA CAPT \n",
      "https://www.indostarcapital.com/\n",
      "https://www.indostarcapital.com/\n",
      "WEALTH IN D FINS ERP LD \n",
      "https://www.intellectdesign.com/\n",
      "https://www.intellectdesign.com/\n",
      "BJ AJA LZL IC IN H \n",
      "https://www.youtube.com/watch?v=zhAWof-aMs8\n",
      "https://www.youtube.com/watch?v=zhAWof-aMs8\n",
      "INDO STRA CAPT \n",
      "https://www.indostarcapital.com/\n",
      "https://www.indostarcapital.com/\n",
      "I PRUE SIGN \n",
      "https://www.iciciprulife.com/\n",
      "https://www.iciciprulife.com/\n",
      "SNAP VIS ULE AS \n",
      "https://www.epa.gov/snap\n",
      "https://www.epa.gov/snap\n",
      "TP AXIS CRY O BANK EC S \n",
      "https://www.axisbank.com/bank-smart/internet-banking/transfer-funds/electronic-clearing-service/about-this-service\n",
      "https://www.axisbank.com/bank-smart/internet-banking/transfer-funds/electronic-clearing-service/about-this-service\n",
      "WEALTH IN D FINS ERP LD \n",
      "https://www.intellectdesign.com/\n",
      "https://www.intellectdesign.com/\n"
     ]
    }
   ],
   "source": [
    "for val,row in altmiss.iterrows():\n",
    "    query = row[altmiss.columns[0]]\n",
    "    print(query)\n",
    "    for j in search(query,tld = 'com',num = 10, stop =1,pause = 2):\n",
    "        row[altmiss.columns[1]]= j\n",
    "        print(j)\n",
    "        count = count+1\n",
    "        print(row[altmiss.columns[1]])"
   ]
  },
  {
   "cell_type": "code",
   "execution_count": 31,
   "metadata": {
    "collapsed": false
   },
   "outputs": [
    {
     "data": {
      "text/html": [
       "<div>\n",
       "<table border=\"1\" class=\"dataframe\">\n",
       "  <thead>\n",
       "    <tr style=\"text-align: right;\">\n",
       "      <th></th>\n",
       "      <th>Company</th>\n",
       "      <th>Link</th>\n",
       "    </tr>\n",
       "  </thead>\n",
       "  <tbody>\n",
       "    <tr>\n",
       "      <th>count</th>\n",
       "      <td>36</td>\n",
       "      <td>36</td>\n",
       "    </tr>\n",
       "    <tr>\n",
       "      <th>unique</th>\n",
       "      <td>29</td>\n",
       "      <td>29</td>\n",
       "    </tr>\n",
       "    <tr>\n",
       "      <th>top</th>\n",
       "      <td>WEALTH IN D FINS ERP LD</td>\n",
       "      <td>https://www.portea.com/</td>\n",
       "    </tr>\n",
       "    <tr>\n",
       "      <th>freq</th>\n",
       "      <td>2</td>\n",
       "      <td>2</td>\n",
       "    </tr>\n",
       "  </tbody>\n",
       "</table>\n",
       "</div>"
      ],
      "text/plain": [
       "                         Company                     Link\n",
       "count                         36                       36\n",
       "unique                        29                       29\n",
       "top     WEALTH IN D FINS ERP LD   https://www.portea.com/\n",
       "freq                           2                        2"
      ]
     },
     "execution_count": 31,
     "metadata": {},
     "output_type": "execute_result"
    }
   ],
   "source": [
    "altmiss = altmiss.rename(columns = {altmiss.columns[0]:'Company',altmiss.columns[1]:'Link'})\n",
    "\n",
    "altmiss.describe()"
   ]
  },
  {
   "cell_type": "code",
   "execution_count": 32,
   "metadata": {
    "collapsed": false
   },
   "outputs": [
    {
     "data": {
      "text/html": [
       "<div>\n",
       "<table border=\"1\" class=\"dataframe\">\n",
       "  <thead>\n",
       "    <tr style=\"text-align: right;\">\n",
       "      <th></th>\n",
       "      <th>Company</th>\n",
       "      <th>Link</th>\n",
       "    </tr>\n",
       "  </thead>\n",
       "  <tbody>\n",
       "    <tr>\n",
       "      <th>count</th>\n",
       "      <td>1339</td>\n",
       "      <td>1339</td>\n",
       "    </tr>\n",
       "    <tr>\n",
       "      <th>unique</th>\n",
       "      <td>1319</td>\n",
       "      <td>757</td>\n",
       "    </tr>\n",
       "    <tr>\n",
       "      <th>top</th>\n",
       "      <td>CNRB</td>\n",
       "      <td>https://www.herofincorp.com/</td>\n",
       "    </tr>\n",
       "    <tr>\n",
       "      <th>freq</th>\n",
       "      <td>3</td>\n",
       "      <td>12</td>\n",
       "    </tr>\n",
       "  </tbody>\n",
       "</table>\n",
       "</div>"
      ],
      "text/plain": [
       "       Company                          Link\n",
       "count     1339                          1339\n",
       "unique    1319                           757\n",
       "top      CNRB   https://www.herofincorp.com/\n",
       "freq         3                            12"
      ]
     },
     "execution_count": 32,
     "metadata": {},
     "output_type": "execute_result"
    }
   ],
   "source": [
    "df = df.rename(columns = {df.columns[0]:'Company',df.columns[1]:'Link'})\n",
    "df.describe()"
   ]
  },
  {
   "cell_type": "code",
   "execution_count": 33,
   "metadata": {
    "collapsed": false
   },
   "outputs": [
    {
     "data": {
      "text/html": [
       "<div>\n",
       "<table border=\"1\" class=\"dataframe\">\n",
       "  <thead>\n",
       "    <tr style=\"text-align: right;\">\n",
       "      <th></th>\n",
       "      <th>Company</th>\n",
       "      <th>Link</th>\n",
       "    </tr>\n",
       "  </thead>\n",
       "  <tbody>\n",
       "    <tr>\n",
       "      <th>count</th>\n",
       "      <td>1375</td>\n",
       "      <td>1375</td>\n",
       "    </tr>\n",
       "    <tr>\n",
       "      <th>unique</th>\n",
       "      <td>1348</td>\n",
       "      <td>784</td>\n",
       "    </tr>\n",
       "    <tr>\n",
       "      <th>top</th>\n",
       "      <td>KKBK</td>\n",
       "      <td>https://www.herofincorp.com/</td>\n",
       "    </tr>\n",
       "    <tr>\n",
       "      <th>freq</th>\n",
       "      <td>3</td>\n",
       "      <td>12</td>\n",
       "    </tr>\n",
       "  </tbody>\n",
       "</table>\n",
       "</div>"
      ],
      "text/plain": [
       "       Company                          Link\n",
       "count     1375                          1375\n",
       "unique    1348                           784\n",
       "top      KKBK   https://www.herofincorp.com/\n",
       "freq         3                            12"
      ]
     },
     "execution_count": 33,
     "metadata": {},
     "output_type": "execute_result"
    }
   ],
   "source": [
    "mp = df.append(altmiss)\n",
    "#MP HOLDS FINAL VALUES ALONG WITH ALTERED MISSING VALUES\n",
    "\n",
    "mp.describe()"
   ]
  },
  {
   "cell_type": "markdown",
   "metadata": {},
   "source": [
    "## FOUND MISSING VALUES - LINK with 100% rate -\n",
    "### STORED IN MP"
   ]
  },
  {
   "cell_type": "code",
   "execution_count": 42,
   "metadata": {
    "collapsed": false
   },
   "outputs": [],
   "source": [
    "duplicateColsDF = mp[mp.duplicated(subset = [mp.columns[1]])] #GETTING ALL DUPLICATES WITH RESPECT TO ONLY COLUMNS\n",
    "duplicateColsDF.describe()\n",
    "#value = 591\n",
    "duplicateRowsDF = mp[mp.duplicated(subset = [mp.columns[0]])] #GETTING ALL DUPLICATES WITH RESPECT TO ONLY ROWS\n",
    "#value = 27\n",
    "duplicateDF = mp[mp.duplicated()] #GETTING ALL DUPLICATES WITH RESPECT TO COLUMN AND ROWS\n",
    "#value = 20"
   ]
  },
  {
   "cell_type": "code",
   "execution_count": 43,
   "metadata": {
    "collapsed": false,
    "scrolled": true
   },
   "outputs": [
    {
     "data": {
      "text/html": [
       "<div>\n",
       "<table border=\"1\" class=\"dataframe\">\n",
       "  <thead>\n",
       "    <tr style=\"text-align: right;\">\n",
       "      <th></th>\n",
       "      <th>Company</th>\n",
       "      <th>Link</th>\n",
       "    </tr>\n",
       "  </thead>\n",
       "  <tbody>\n",
       "    <tr>\n",
       "      <th>count</th>\n",
       "      <td>1355</td>\n",
       "      <td>1355</td>\n",
       "    </tr>\n",
       "    <tr>\n",
       "      <th>unique</th>\n",
       "      <td>1348</td>\n",
       "      <td>784</td>\n",
       "    </tr>\n",
       "    <tr>\n",
       "      <th>top</th>\n",
       "      <td>HERO FINCORP</td>\n",
       "      <td>https://www.herofincorp.com/</td>\n",
       "    </tr>\n",
       "    <tr>\n",
       "      <th>freq</th>\n",
       "      <td>2</td>\n",
       "      <td>12</td>\n",
       "    </tr>\n",
       "  </tbody>\n",
       "</table>\n",
       "</div>"
      ],
      "text/plain": [
       "             Company                          Link\n",
       "count           1355                          1355\n",
       "unique          1348                           784\n",
       "top     HERO FINCORP  https://www.herofincorp.com/\n",
       "freq               2                            12"
      ]
     },
     "execution_count": 43,
     "metadata": {},
     "output_type": "execute_result"
    }
   ],
   "source": [
    "mp2 = mp.drop_duplicates()\n",
    "mp2.describe()"
   ]
  },
  {
   "cell_type": "markdown",
   "metadata": {},
   "source": [
    "# REMOVED DUPLICATE VALUES AND STORED IN MP2"
   ]
  },
  {
   "cell_type": "markdown",
   "metadata": {},
   "source": [
    "# ----------END OF PROCESSING OF DATA ----------#"
   ]
  },
  {
   "cell_type": "code",
   "execution_count": null,
   "metadata": {
    "collapsed": true
   },
   "outputs": [],
   "source": []
  }
 ],
 "metadata": {
  "anaconda-cloud": {},
  "kernelspec": {
   "display_name": "Python [conda env:anaconda3]",
   "language": "python",
   "name": "conda-env-anaconda3-py"
  },
  "language_info": {
   "codemirror_mode": {
    "name": "ipython",
    "version": 3
   },
   "file_extension": ".py",
   "mimetype": "text/x-python",
   "name": "python",
   "nbconvert_exporter": "python",
   "pygments_lexer": "ipython3",
   "version": "3.5.2"
  }
 },
 "nbformat": 4,
 "nbformat_minor": 1
}
