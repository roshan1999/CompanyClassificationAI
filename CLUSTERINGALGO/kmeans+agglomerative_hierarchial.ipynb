{
 "cells": [
  {
   "cell_type": "markdown",
   "metadata": {
    "colab_type": "text",
    "id": "HUfuy6YWKx-q"
   },
   "source": [
    "# COMPANY CLASSIFICATION - **using clustering Algo** #\n",
    "## ---------START OF DATA PROCESSING------- #"
   ]
  },
  {
   "cell_type": "code",
   "execution_count": 1,
   "metadata": {
    "colab": {},
    "colab_type": "code",
    "collapsed": true,
    "id": "pGdJtHuEKx-v"
   },
   "outputs": [],
   "source": [
    "import pandas as pd"
   ]
  },
  {
   "cell_type": "code",
   "execution_count": 2,
   "metadata": {
    "colab": {
     "base_uri": "https://localhost:8080/",
     "height": 374
    },
    "colab_type": "code",
    "collapsed": false,
    "id": "FeUgyqNSKx-6",
    "outputId": "8fd0ecdf-dc2e-4dcc-8557-85f6cafe2567"
   },
   "outputs": [],
   "source": [
    "df = pd.read_csv('testdata.csv')"
   ]
  },
  {
   "cell_type": "code",
   "execution_count": 0,
   "metadata": {
    "colab": {},
    "colab_type": "code",
    "collapsed": true,
    "id": "3AfPwDzLKx_B",
    "scrolled": true
   },
   "outputs": [],
   "source": [
    "df.head()"
   ]
  },
  {
   "cell_type": "code",
   "execution_count": 0,
   "metadata": {
    "colab": {},
    "colab_type": "code",
    "collapsed": true,
    "id": "M9uSd3h5Kx_M",
    "scrolled": false
   },
   "outputs": [],
   "source": [
    "df.describe()"
   ]
  },
  {
   "cell_type": "code",
   "execution_count": 0,
   "metadata": {
    "colab": {},
    "colab_type": "code",
    "collapsed": true,
    "id": "cKd4lSD9Kx_T"
   },
   "outputs": [],
   "source": [
    "td = df.columns.str.contains('^Unnamed')"
   ]
  },
  {
   "cell_type": "code",
   "execution_count": 0,
   "metadata": {
    "colab": {},
    "colab_type": "code",
    "collapsed": true,
    "id": "fKqw_QaYKx_Y"
   },
   "outputs": [],
   "source": [
    "df = df.loc[:,~td]"
   ]
  },
  {
   "cell_type": "code",
   "execution_count": 0,
   "metadata": {
    "colab": {},
    "colab_type": "code",
    "collapsed": true,
    "id": "s802loHFKx_e",
    "scrolled": true
   },
   "outputs": [],
   "source": [
    "df.head()"
   ]
  },
  {
   "cell_type": "code",
   "execution_count": 0,
   "metadata": {
    "colab": {},
    "colab_type": "code",
    "collapsed": true,
    "id": "ubUFGXjkKx_m"
   },
   "outputs": [],
   "source": [
    "df.describe()"
   ]
  },
  {
   "cell_type": "code",
   "execution_count": 0,
   "metadata": {
    "colab": {},
    "colab_type": "code",
    "collapsed": true,
    "id": "nkmho-nHKx_v"
   },
   "outputs": [],
   "source": [
    "df = df.dropna(subset=['housing_flg'])"
   ]
  },
  {
   "cell_type": "code",
   "execution_count": 0,
   "metadata": {
    "colab": {},
    "colab_type": "code",
    "collapsed": true,
    "id": "tbKPSuXDKx_2",
    "scrolled": false
   },
   "outputs": [],
   "source": [
    "df.isnull().head()"
   ]
  },
  {
   "cell_type": "code",
   "execution_count": 0,
   "metadata": {
    "colab": {},
    "colab_type": "code",
    "collapsed": true,
    "id": "LxeT0I4ZKx_9"
   },
   "outputs": [],
   "source": [
    "col1 = df.iloc[:,0]"
   ]
  },
  {
   "cell_type": "code",
   "execution_count": 0,
   "metadata": {
    "colab": {},
    "colab_type": "code",
    "collapsed": true,
    "id": "L_GUUi-dKyAD"
   },
   "outputs": [],
   "source": [
    "col1 = pd.DataFrame(col1)"
   ]
  },
  {
   "cell_type": "code",
   "execution_count": 0,
   "metadata": {
    "colab": {},
    "colab_type": "code",
    "collapsed": true,
    "id": "j_MbXnThKyAI"
   },
   "outputs": [],
   "source": [
    "col1.head()"
   ]
  },
  {
   "cell_type": "code",
   "execution_count": 0,
   "metadata": {
    "colab": {},
    "colab_type": "code",
    "collapsed": true,
    "id": "YOeqTyVLKyAO"
   },
   "outputs": [],
   "source": [
    "df = df.rename( columns = {df.columns[1]:\"Link\"})"
   ]
  },
  {
   "cell_type": "code",
   "execution_count": 0,
   "metadata": {
    "colab": {},
    "colab_type": "code",
    "collapsed": true,
    "id": "2Qp3suHpKyAU"
   },
   "outputs": [],
   "source": [
    "from googlesearch import search"
   ]
  },
  {
   "cell_type": "code",
   "execution_count": 0,
   "metadata": {
    "colab": {},
    "colab_type": "code",
    "collapsed": true,
    "id": "PPvLFRSBKyAY"
   },
   "outputs": [],
   "source": [
    "#performs a final search for the nan values and replaces in the columns.\n",
    "#only 36 nan remaining.\n",
    "count = 0\n",
    "for val,row in df.iterrows():\n",
    "        if(str(row[df.columns[1]])==('nan')):\n",
    "            query = str(row[df.columns[0]])\n",
    "            print(query)\n",
    "            for j in search(query,tld = 'com',num = 10, stop =1,pause = 2):\n",
    "                row[df.columns[1]]= j\n",
    "                print(j)\n",
    "                count = count+1\n",
    "                print(row[df.columns[1]])"
   ]
  },
  {
   "cell_type": "code",
   "execution_count": 0,
   "metadata": {
    "colab": {},
    "colab_type": "code",
    "collapsed": true,
    "id": "tySdcGDqKyAf"
   },
   "outputs": [],
   "source": [
    "col3 = pd.DataFrame()"
   ]
  },
  {
   "cell_type": "code",
   "execution_count": 0,
   "metadata": {
    "colab": {},
    "colab_type": "code",
    "collapsed": true,
    "id": "DwlN9WOUKyAk"
   },
   "outputs": [],
   "source": [
    "lst = list()\n",
    "for val,row in df.iterrows():\n",
    "    if(str(row[df.columns[1]])=='nan'):\n",
    "        lst.append(row[df.columns[0]])"
   ]
  },
  {
   "cell_type": "code",
   "execution_count": 0,
   "metadata": {
    "colab": {},
    "colab_type": "code",
    "collapsed": true,
    "id": "PfxKutx0KyAn"
   },
   "outputs": [],
   "source": [
    "col3 = pd.DataFrame(lst)\n",
    "\n",
    "col3.rename(columns={0:'No LINK Company'}).head()\n",
    "#col3 holds all nan linked companies"
   ]
  },
  {
   "cell_type": "code",
   "execution_count": 0,
   "metadata": {
    "colab": {},
    "colab_type": "code",
    "collapsed": true,
    "id": "OjNi_1klKyAu"
   },
   "outputs": [],
   "source": [
    "df = df.dropna(subset=[df.columns[1]])\n",
    "df.describe()\n",
    "#dropped all nan links with rows"
   ]
  },
  {
   "cell_type": "markdown",
   "metadata": {
    "colab_type": "text",
    "id": "zzyS5Q40KyA7"
   },
   "source": [
    "## Data is removed of missing links\n",
    "### *col3* holds the rows with missing links.\n",
    "### df holds the rows with valid links."
   ]
  },
  {
   "cell_type": "markdown",
   "metadata": {
    "colab_type": "text",
    "id": "fknL1YYiKyA8"
   },
   "source": [
    "# USING WORDNINJA ON COL3 :3"
   ]
  },
  {
   "cell_type": "code",
   "execution_count": 0,
   "metadata": {
    "colab": {},
    "colab_type": "code",
    "collapsed": true,
    "id": "oZyZrDw3KyA-"
   },
   "outputs": [],
   "source": [
    "import wordninja"
   ]
  },
  {
   "cell_type": "code",
   "execution_count": 0,
   "metadata": {
    "colab": {},
    "colab_type": "code",
    "collapsed": true,
    "id": "JQVQgvEYKyBD"
   },
   "outputs": [],
   "source": [
    "col3.head()"
   ]
  },
  {
   "cell_type": "code",
   "execution_count": 0,
   "metadata": {
    "colab": {},
    "colab_type": "code",
    "collapsed": true,
    "id": "MxtR8mATKyBH"
   },
   "outputs": [],
   "source": [
    "lst = list()\n",
    "for val,row in col3.iterrows():\n",
    "    lst.append(row[col3.columns[0]])"
   ]
  },
  {
   "cell_type": "code",
   "execution_count": 0,
   "metadata": {
    "colab": {},
    "colab_type": "code",
    "collapsed": true,
    "id": "Kia4c7UZKyBK"
   },
   "outputs": [],
   "source": [
    "lst2 = list();\n",
    "for i in lst:\n",
    "    lst2.append(wordninja.split(i))"
   ]
  },
  {
   "cell_type": "code",
   "execution_count": 0,
   "metadata": {
    "colab": {},
    "colab_type": "code",
    "collapsed": true,
    "id": "PCFuuSUbKyBP",
    "scrolled": true
   },
   "outputs": [],
   "source": [
    "lst3 = list()\n",
    "for i in lst2:\n",
    "    str = ''\n",
    "    for j in i:\n",
    "        str+=j+' '\n",
    "    lst3.append(str)"
   ]
  },
  {
   "cell_type": "code",
   "execution_count": 0,
   "metadata": {
    "colab": {},
    "colab_type": "code",
    "collapsed": true,
    "id": "li4TWNWCKyBT"
   },
   "outputs": [],
   "source": [
    "altmiss = pd.DataFrame(lst3)"
   ]
  },
  {
   "cell_type": "code",
   "execution_count": 0,
   "metadata": {
    "colab": {},
    "colab_type": "code",
    "collapsed": true,
    "id": "oWphKxceKyBV"
   },
   "outputs": [],
   "source": [
    "altmiss['link']=' '"
   ]
  },
  {
   "cell_type": "code",
   "execution_count": 0,
   "metadata": {
    "colab": {},
    "colab_type": "code",
    "collapsed": true,
    "id": "lG6YVEenKyBY",
    "scrolled": true
   },
   "outputs": [],
   "source": [
    "for val,row in altmiss.iterrows():\n",
    "    query = row[altmiss.columns[0]]\n",
    "    print(query)\n",
    "    for j in search(query,tld = 'com',num = 10, stop =1,pause = 2):\n",
    "        row[altmiss.columns[1]]= j\n",
    "        print(j)\n",
    "        count = count+1\n",
    "        print(row[altmiss.columns[1]])"
   ]
  },
  {
   "cell_type": "code",
   "execution_count": 0,
   "metadata": {
    "colab": {},
    "colab_type": "code",
    "collapsed": true,
    "id": "NRkcalFxKyBe"
   },
   "outputs": [],
   "source": [
    "altmiss = altmiss.rename(columns = {altmiss.columns[0]:'Company',altmiss.columns[1]:'Link'})\n",
    "\n",
    "altmiss.describe()"
   ]
  },
  {
   "cell_type": "code",
   "execution_count": 0,
   "metadata": {
    "colab": {},
    "colab_type": "code",
    "collapsed": true,
    "id": "moEcPmISKyBh"
   },
   "outputs": [],
   "source": [
    "df = df.rename(columns = {df.columns[0]:'Company',df.columns[1]:'Link'})\n",
    "df.describe()"
   ]
  },
  {
   "cell_type": "code",
   "execution_count": 0,
   "metadata": {
    "colab": {},
    "colab_type": "code",
    "collapsed": true,
    "id": "BUji8eTaKyBm"
   },
   "outputs": [],
   "source": [
    "mp = df.append(altmiss)\n",
    "#MP HOLDS FINAL VALUES ALONG WITH ALTERED MISSING VALUES\n",
    "\n",
    "mp.describe()"
   ]
  },
  {
   "cell_type": "markdown",
   "metadata": {
    "colab_type": "text",
    "id": "SYPY1-QPKyBp"
   },
   "source": [
    "## FOUND MISSING VALUES - LINK with 100% rate -\n",
    "### STORED IN MP"
   ]
  },
  {
   "cell_type": "code",
   "execution_count": 0,
   "metadata": {
    "colab": {},
    "colab_type": "code",
    "collapsed": true,
    "id": "RqBPqH46KyBq"
   },
   "outputs": [],
   "source": [
    "duplicateColsDF = mp[mp.duplicated(subset = [mp.columns[1]])] #GETTING ALL DUPLICATES WITH RESPECT TO ONLY COLUMNS\n",
    "duplicateColsDF.describe()\n",
    "#value = 591\n",
    "duplicateRowsDF = mp[mp.duplicated(subset = [mp.columns[0]])] #GETTING ALL DUPLICATES WITH RESPECT TO ONLY ROWS\n",
    "#value = 27\n",
    "duplicateDF = mp[mp.duplicated()] #GETTING ALL DUPLICATES WITH RESPECT TO COLUMN AND ROWS\n",
    "#value = 20"
   ]
  },
  {
   "cell_type": "code",
   "execution_count": 0,
   "metadata": {
    "colab": {},
    "colab_type": "code",
    "collapsed": true,
    "id": "90B1HrMCKyBt",
    "scrolled": true
   },
   "outputs": [],
   "source": [
    "mp2 = mp.drop_duplicates()\n",
    "mp2.sort_index(axis = 1,inplace = True)"
   ]
  },
  {
   "cell_type": "code",
   "execution_count": 0,
   "metadata": {
    "colab": {},
    "colab_type": "code",
    "collapsed": true,
    "id": "hkxS6TQTKyBx"
   },
   "outputs": [],
   "source": [
    "mp2.to_csv(path_or_buf='/home/roshan/Desktop/INTERNSHIP/CLUSTERINGALGO/missing_replaced_rem_dup.csv',columns=['Company','Link'],index=False)"
   ]
  },
  {
   "cell_type": "markdown",
   "metadata": {
    "colab_type": "text",
    "id": "NstBw4t-KyB1"
   },
   "source": [
    "# REMOVED DUPLICATE VALUES AND STORED IN MP2 CONVERTED TO csv FORMAT"
   ]
  },
  {
   "cell_type": "markdown",
   "metadata": {
    "colab_type": "text",
    "id": "m61JC-S6KyB2"
   },
   "source": [
    "# Retrieving RELiABLE content"
   ]
  },
  {
   "cell_type": "code",
   "execution_count": 0,
   "metadata": {
    "colab": {},
    "colab_type": "code",
    "collapsed": true,
    "id": "i93YpOYmKyB4"
   },
   "outputs": [],
   "source": [
    "import pandas as pd"
   ]
  },
  {
   "cell_type": "code",
   "execution_count": 0,
   "metadata": {
    "colab": {},
    "colab_type": "code",
    "collapsed": true,
    "id": "9CGHyxZZKyB7"
   },
   "outputs": [],
   "source": [
    "newdf = pd.read_csv('missing_replaced_rem_dup.csv')"
   ]
  },
  {
   "cell_type": "code",
   "execution_count": 0,
   "metadata": {
    "colab": {},
    "colab_type": "code",
    "collapsed": true,
    "id": "_97kZN6ZKyB9",
    "scrolled": true
   },
   "outputs": [],
   "source": [
    "newdf.head()"
   ]
  },
  {
   "cell_type": "code",
   "execution_count": 0,
   "metadata": {
    "colab": {},
    "colab_type": "code",
    "collapsed": true,
    "id": "edytSNgSKyCB"
   },
   "outputs": [],
   "source": [
    "newdf.insert(2,'Title',0)"
   ]
  },
  {
   "cell_type": "code",
   "execution_count": 0,
   "metadata": {
    "colab": {},
    "colab_type": "code",
    "collapsed": true,
    "id": "5ZiAPpEEKyCD",
    "scrolled": false
   },
   "outputs": [],
   "source": [
    "newdf.head()"
   ]
  },
  {
   "cell_type": "code",
   "execution_count": 0,
   "metadata": {
    "colab": {},
    "colab_type": "code",
    "collapsed": true,
    "id": "oIIpUVZcKyCH"
   },
   "outputs": [],
   "source": [
    "workdf = newdf.head(50)\n",
    "workdf.head()"
   ]
  },
  {
   "cell_type": "code",
   "execution_count": 0,
   "metadata": {
    "colab": {},
    "colab_type": "code",
    "collapsed": true,
    "id": "66SxkOMrKyCL"
   },
   "outputs": [],
   "source": [
    "from urllib.parse import urlparse"
   ]
  },
  {
   "cell_type": "markdown",
   "metadata": {
    "colab_type": "text",
    "id": "x8v_y6JLKyCO"
   },
   "source": [
    "### OBTAINING NAME FROM ACRONYM (LIMITATION: WORKS ONLY FOR THE ACROnYMS that are IFSC code)"
   ]
  },
  {
   "cell_type": "code",
   "execution_count": 0,
   "metadata": {
    "colab": {},
    "colab_type": "code",
    "collapsed": true,
    "id": "giEyGi8CKyCP",
    "scrolled": true
   },
   "outputs": [],
   "source": [
    "from googlesearch import search\n",
    "from bs4 import BeautifulSoup\n",
    "import requests\n",
    "import urllib.request"
   ]
  },
  {
   "cell_type": "code",
   "execution_count": 0,
   "metadata": {
    "colab": {},
    "colab_type": "code",
    "collapsed": true,
    "id": "L_cskHfJKyCR"
   },
   "outputs": [],
   "source": [
    "for i,j in workdf.iterrows():\n",
    "    if(len(workdf['Company'][i]))<=5:\n",
    "        str_list = list('https://www.ifsccodebank.com/search-by-IFSC-code.aspx?IFSCCode=')\n",
    "        link2 = workdf['Company'][i]\n",
    "        print(link2,type(link2))\n",
    "        str_list.append(link2)\n",
    "        url = ''.join(str_list)\n",
    "        print(url)\n",
    "        response = requests.get(''.join(str_list))\n",
    "        soup = BeautifulSoup(response.text,'html.parser')\n",
    "        t = soup.get_text()\n",
    "        r = t[t.find(link2)+7:]\n",
    "        workdf['Title'][i] = (r[:r.find('-')-5].strip())\n",
    "        for j in search(str(workdf['Title'][i]),stop = 1):\n",
    "            workdf['Link'][i] = j\n",
    "    else:\n",
    "        workdf['Title'][i] = 'err'\n"
   ]
  },
  {
   "cell_type": "code",
   "execution_count": 0,
   "metadata": {
    "colab": {},
    "colab_type": "code",
    "collapsed": true,
    "id": "zyOJeFvOKyCU",
    "scrolled": true
   },
   "outputs": [],
   "source": [
    "workdf"
   ]
  },
  {
   "cell_type": "markdown",
   "metadata": {
    "colab_type": "text",
    "id": "f-TlMxFQKyCX"
   },
   "source": [
    "### FOR non-acronym companies --- OBTAINING TITLE from LINK(column - WEBPAGE) TITLE"
   ]
  },
  {
   "cell_type": "code",
   "execution_count": 0,
   "metadata": {
    "colab": {},
    "colab_type": "code",
    "collapsed": true,
    "id": "QH2q-g71KyCY"
   },
   "outputs": [],
   "source": [
    "count = 0\n",
    "for i,j in workdf.iterrows():\n",
    "    if workdf['Title'][i]=='err' or workdf['Title'][i].startswith('ifsccode') or workdf['Title'][i]=='0':\n",
    "        url = workdf['Link'][i]\n",
    "        print(url)\n",
    "        try:\n",
    "            response = requests.get(url,verify = False)\n",
    "            soup = BeautifulSoup(response.text,\"html.parser\")\n",
    "            print(soup.title.text)\n",
    "            workdf['Title'][i]= soup.title.text\n",
    "            count = count+1\n",
    "            print(count)\n",
    "        except:\n",
    "            workdf['Title'][i]= '-1'\n",
    "            continue\n",
    "print(count)"
   ]
  },
  {
   "cell_type": "markdown",
   "metadata": {
    "colab_type": "text",
    "id": "m5ep8jecKyCb"
   },
   "source": [
    "### OBTAINING BANK NAME FROM LINKS THAT HAVE TITLE 'IFSC'"
   ]
  },
  {
   "cell_type": "code",
   "execution_count": 0,
   "metadata": {
    "colab": {},
    "colab_type": "code",
    "collapsed": true,
    "id": "U0i9Ov4TKyCc",
    "scrolled": false
   },
   "outputs": [],
   "source": [
    "for i,j in workdf.iterrows():\n",
    "    if 'IFSC' in str(workdf['Title'][i]) or workdf['Title'][i]==-1:\n",
    "        query = workdf['Company'][i] + 'Bank'\n",
    "        for j in search(query,stop = 1):\n",
    "            workdf['Link'][i] = j\n",
    "        workdf['Title'][i] = '0'"
   ]
  },
  {
   "cell_type": "code",
   "execution_count": 0,
   "metadata": {
    "colab": {},
    "colab_type": "code",
    "collapsed": true,
    "id": "tlQv61YsKyCh",
    "scrolled": false
   },
   "outputs": [],
   "source": [
    "workdf"
   ]
  },
  {
   "cell_type": "markdown",
   "metadata": {
    "colab_type": "text",
    "id": "KJCB0Nq2KyCk"
   },
   "source": [
    "### ACCURACY - approx(30/50)"
   ]
  },
  {
   "cell_type": "code",
   "execution_count": 0,
   "metadata": {
    "colab": {},
    "colab_type": "code",
    "collapsed": true,
    "id": "M-tdYkvhKyCp",
    "scrolled": true
   },
   "outputs": [],
   "source": [
    "work2df = workdf.head(32)\n",
    "\n",
    "work2df"
   ]
  },
  {
   "cell_type": "markdown",
   "metadata": {
    "colab_type": "text",
    "id": "CNLiqa7RKyCt"
   },
   "source": [
    "## FOR BETTER DATA -- OBTAINING INFO FROM WIKI.. WHEREVER POSSIBLE"
   ]
  },
  {
   "cell_type": "code",
   "execution_count": 0,
   "metadata": {
    "colab": {},
    "colab_type": "code",
    "collapsed": true,
    "id": "pP-dD6qMKyCt",
    "scrolled": false
   },
   "outputs": [],
   "source": [
    "work2df['WIKI']=0\n",
    "for i,j in work2df.iterrows():\n",
    "    query=work2df['Title'][i] + 'Wikipedia'\n",
    "    for j in search(query,stop = 1):\n",
    "        work2df['WIKI'][i] = j\n",
    "    if('wikipedia' not in str(work2df['WIKI'][i])):\n",
    "        work2df['WIKI'][i] = work2df['Link'][i]\n",
    "work2df"
   ]
  },
  {
   "cell_type": "markdown",
   "metadata": {
    "colab_type": "text",
    "id": "10PNfX4wKyCw"
   },
   "source": [
    "## OBTAINING CONTENT FROM WIKI ==> or if not available ==> from OFFICIAL LINK"
   ]
  },
  {
   "cell_type": "code",
   "execution_count": 0,
   "metadata": {
    "colab": {},
    "colab_type": "code",
    "collapsed": true,
    "id": "EfjlaU-cKyCw"
   },
   "outputs": [],
   "source": [
    "work2df['Content'] = 0\n",
    "for i,j in work2df.iterrows():\n",
    "    url = work2df['WIKI'][i]\n",
    "    print(url)\n",
    "    response = requests.get(url,verify = False)\n",
    "    soup = BeautifulSoup(response.text,'html.parser')\n",
    "    t= soup.find('p')\n",
    "    r = t.find_next_sibling('p')\n",
    "    if 'NoneType'in str(type(r)):\n",
    "        work2df['Content'][i] = t.text\n",
    "    else:\n",
    "        if r.text.strip() == '':\n",
    "            y=r.find_next_sibling('p')\n",
    "            print(y.text)\n",
    "            work2df['Content'][i] = y.text\n",
    "        else:\n",
    "            print(r.text)\n",
    "            work2df['Content'][i] = r.text"
   ]
  },
  {
   "cell_type": "code",
   "execution_count": 0,
   "metadata": {
    "colab": {},
    "colab_type": "code",
    "collapsed": true,
    "id": "bTnCRM2-KyCz",
    "scrolled": true
   },
   "outputs": [],
   "source": [
    "\n",
    "work2df"
   ]
  },
  {
   "cell_type": "code",
   "execution_count": 0,
   "metadata": {
    "colab": {},
    "colab_type": "code",
    "collapsed": true,
    "id": "-cnsDB2-KyC3"
   },
   "outputs": [],
   "source": [
    "work2df.to_csv(path_or_buf='/home/roshan/Desktop/INTERNSHIP/CLUSTERINGALGO/.csv',columns=['Company','Link'],index=False)"
   ]
  },
  {
   "cell_type": "markdown",
   "metadata": {
    "colab_type": "text",
    "id": "ZELa4ltZKyC7"
   },
   "source": [
    "#  Data_Cleaning ==>"
   ]
  },
  {
   "cell_type": "markdown",
   "metadata": {
    "colab_type": "text",
    "id": "IZAiGtf0KyC7"
   },
   "source": [
    "#### CREATING FUNCTION because all document must be cleaned (here document is same as content column of DATAFRAME "
   ]
  },
  {
   "cell_type": "code",
   "execution_count": 0,
   "metadata": {
    "colab": {},
    "colab_type": "code",
    "collapsed": true,
    "id": "zJOaf4PWKyC7"
   },
   "outputs": [],
   "source": [
    "import pandas as pd"
   ]
  },
  {
   "cell_type": "code",
   "execution_count": 2,
   "metadata": {
    "colab": {
     "base_uri": "https://localhost:8080/",
     "height": 74,
     "resources": {
      "http://localhost:8080/nbextensions/google.colab/files.js": {
       "data": "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",
       "headers": [
        [
         "content-type",
         "application/javascript"
        ]
       ],
       "ok": true,
       "status": 200,
       "status_text": ""
      }
     }
    },
    "colab_type": "code",
    "collapsed": false,
    "id": "-wPt9Wkc3lKD",
    "outputId": "ed860732-6549-4bf2-8637-b1cd25382bd6"
   },
   "outputs": [
    {
     "data": {
      "text/html": [
       "\n",
       "     <input type=\"file\" id=\"files-674a76ba-d443-4edf-b956-46a7cda0d9bd\" name=\"files[]\" multiple disabled />\n",
       "     <output id=\"result-674a76ba-d443-4edf-b956-46a7cda0d9bd\">\n",
       "      Upload widget is only available when the cell has been executed in the\n",
       "      current browser session. Please rerun this cell to enable.\n",
       "      </output>\n",
       "      <script src=\"/nbextensions/google.colab/files.js\"></script> "
      ],
      "text/plain": [
       "<IPython.core.display.HTML object>"
      ]
     },
     "metadata": {
      "tags": []
     },
     "output_type": "display_data"
    },
    {
     "name": "stdout",
     "output_type": "stream",
     "text": [
      "Saving finaldf2.csv to finaldf2 (2).csv\n"
     ]
    }
   ],
   "source": [
    "from google.colab import files\n",
    "uploaded = files.upload()"
   ]
  },
  {
   "cell_type": "code",
   "execution_count": 304,
   "metadata": {
    "colab": {
     "base_uri": "https://localhost:8080/",
     "height": 34
    },
    "colab_type": "code",
    "collapsed": false,
    "id": "gK4l-chUKyC-",
    "outputId": "bd346126-579e-4c50-f159-eeb0152c5a81"
   },
   "outputs": [
    {
     "data": {
      "text/plain": [
       "(100, 3)"
      ]
     },
     "execution_count": 304,
     "metadata": {
      "tags": []
     },
     "output_type": "execute_result"
    }
   ],
   "source": [
    "finaldf = pd.read_csv('finaldf2 (2).csv')\n",
    "finaldf.shape"
   ]
  },
  {
   "cell_type": "code",
   "execution_count": 0,
   "metadata": {
    "colab": {},
    "colab_type": "code",
    "collapsed": true,
    "id": "duMIp0LwKyDB",
    "scrolled": false
   },
   "outputs": [],
   "source": [
    "def data_clean(content):\n",
    "    # 1. SPLITTING INTO WORDS\n",
    "    from nltk.tokenize import word_tokenize\n",
    "    tokens = word_tokenize(str(content))\n",
    "    # 2. CONVERT WORDS TO LOWERCASE\n",
    "    words_punc=list()\n",
    "    for i in tokens:\n",
    "        words_punc.append(i.lower())\n",
    "    # 3. REMOVE PUNCTUATIONS\n",
    "    import string\n",
    "    table = str.maketrans('','',string.punctuation)\n",
    "    alphanum = [i.translate(table) for i in words_punc ]\n",
    "    # 4. REMOVE NOT CHAR TOKENS\n",
    "    alphaonly = [i for i in alphanum if i.isalpha() ]\n",
    "    # 5. REMOVE STOPWORDS\n",
    "    from nltk.corpus import stopwords\n",
    "    stop_words = set(stopwords.words('english'))\n",
    "    words = [i for i in alphaonly if not i in stop_words]\n",
    "\n",
    "    ### Lemmatizing OF WORDS\n",
    "    #!!!!! ---- NOT STEMMING BECAUSE IT CUTS SHORT THE IMPORTANT WORDS -----!!!!#\n",
    "    # NEED TO TRY WITH STEMMING #\n",
    "\n",
    "    from nltk.stem import WordNetLemmatizer\n",
    "    lemmatizer = WordNetLemmatizer()\n",
    "\n",
    "    word = list()\n",
    "    for i in words:\n",
    "        word.append(lemmatizer.lemmatize(i,'v'))\n",
    "\n",
    "    return(word)"
   ]
  },
  {
   "cell_type": "markdown",
   "metadata": {
    "colab_type": "text",
    "id": "5gXf9HDFKyDD"
   },
   "source": [
    "#### TESTDATA"
   ]
  },
  {
   "cell_type": "code",
   "execution_count": 0,
   "metadata": {
    "colab": {},
    "colab_type": "code",
    "collapsed": true,
    "id": "tErY3Z4yKyDE"
   },
   "outputs": [],
   "source": [
    "def dummy_fun(doc):\n",
    "    return doc"
   ]
  },
  {
   "cell_type": "code",
   "execution_count": 307,
   "metadata": {
    "colab": {
     "base_uri": "https://localhost:8080/",
     "height": 34
    },
    "colab_type": "code",
    "collapsed": false,
    "id": "aBfRoyVi8n29",
    "outputId": "3e1daef6-b738-411e-902f-8f519825a4c1"
   },
   "outputs": [
    {
     "data": {
      "text/plain": [
       "100"
      ]
     },
     "execution_count": 307,
     "metadata": {
      "tags": []
     },
     "output_type": "execute_result"
    }
   ],
   "source": [
    "finaldf.shape[0]"
   ]
  },
  {
   "cell_type": "code",
   "execution_count": 0,
   "metadata": {
    "colab": {},
    "colab_type": "code",
    "collapsed": true,
    "id": "SVK9wEXpKyDJ"
   },
   "outputs": [],
   "source": [
    "lst = list()\n",
    "for i in range(finaldf.shape[0]):\n",
    "  if str(finaldf['WIKI'][i]).__contains__('wiki'):\n",
    "    lst.append(data_clean(finaldf['Content'][i]))\n",
    "    "
   ]
  },
  {
   "cell_type": "code",
   "execution_count": 309,
   "metadata": {
    "colab": {
     "base_uri": "https://localhost:8080/",
     "height": 129
    },
    "colab_type": "code",
    "collapsed": false,
    "id": "YrQJR5LHN0Mk",
    "outputId": "1539fc10-67bb-4900-b4a1-c0113f836c5c"
   },
   "outputs": [
    {
     "ename": "IndentationError",
     "evalue": "ignored",
     "output_type": "error",
     "traceback": [
      "\u001b[0;36m  File \u001b[0;32m\"<ipython-input-309-f40661741d14>\"\u001b[0;36m, line \u001b[0;32m2\u001b[0m\n\u001b[0;31m    nltk.download('stopwords')\u001b[0m\n\u001b[0m    ^\u001b[0m\n\u001b[0;31mIndentationError\u001b[0m\u001b[0;31m:\u001b[0m unexpected indent\n"
     ]
    }
   ],
   "source": [
    "import nltk\n",
    " nltk.download('stopwords')"
   ]
  },
  {
   "cell_type": "code",
   "execution_count": 310,
   "metadata": {
    "colab": {
     "base_uri": "https://localhost:8080/",
     "height": 34
    },
    "colab_type": "code",
    "collapsed": false,
    "id": "OtsTIclTKyDL",
    "outputId": "bb825816-2001-4462-deb4-5c1ef59d040a"
   },
   "outputs": [
    {
     "data": {
      "text/plain": [
       "56"
      ]
     },
     "execution_count": 310,
     "metadata": {
      "tags": []
     },
     "output_type": "execute_result"
    }
   ],
   "source": [
    "len(lst)"
   ]
  },
  {
   "cell_type": "markdown",
   "metadata": {
    "colab_type": "text",
    "id": "5jKDKWBgS-TU"
   },
   "source": [
    "# Processing Textual Data using Count Vectorizer"
   ]
  },
  {
   "cell_type": "code",
   "execution_count": 311,
   "metadata": {
    "colab": {
     "base_uri": "https://localhost:8080/",
     "height": 204
    },
    "colab_type": "code",
    "collapsed": false,
    "id": "dcwFtXcYLKOt",
    "outputId": "211372b7-fc88-44ea-a717-9fa5dd9379b7"
   },
   "outputs": [
    {
     "data": {
      "text/html": [
       "<div>\n",
       "<style scoped>\n",
       "    .dataframe tbody tr th:only-of-type {\n",
       "        vertical-align: middle;\n",
       "    }\n",
       "\n",
       "    .dataframe tbody tr th {\n",
       "        vertical-align: top;\n",
       "    }\n",
       "\n",
       "    .dataframe thead th {\n",
       "        text-align: right;\n",
       "    }\n",
       "</style>\n",
       "<table border=\"1\" class=\"dataframe\">\n",
       "  <thead>\n",
       "    <tr style=\"text-align: right;\">\n",
       "      <th></th>\n",
       "      <th>Company</th>\n",
       "      <th>WIKI</th>\n",
       "      <th>Content</th>\n",
       "    </tr>\n",
       "  </thead>\n",
       "  <tbody>\n",
       "    <tr>\n",
       "      <th>0</th>\n",
       "      <td>AADHAR HOUSING FINAN</td>\n",
       "      <td>https://aadharhousing.com/</td>\n",
       "      <td>Copyright 2017. Aadhar Housing Finance Limited...</td>\n",
       "    </tr>\n",
       "    <tr>\n",
       "      <th>1</th>\n",
       "      <td>AAMAADMIPARTY</td>\n",
       "      <td>https://aamaadmiparty.org/</td>\n",
       "      <td>ले कर रहेंगे पूर्ण राज्य ! With full statehood...</td>\n",
       "    </tr>\n",
       "    <tr>\n",
       "      <th>2</th>\n",
       "      <td>Aavas Financiers Lim</td>\n",
       "      <td>https://www.aavas.in/</td>\n",
       "      <td>\\n\\nCARE ratings has upgraded the Long term ra...</td>\n",
       "    </tr>\n",
       "    <tr>\n",
       "      <th>3</th>\n",
       "      <td>ABHIPRA CAPITAL LTD</td>\n",
       "      <td>https://www.abhipra.com/</td>\n",
       "      <td>Complete Financial Market Services under one roof</td>\n",
       "    </tr>\n",
       "    <tr>\n",
       "      <th>4</th>\n",
       "      <td>ANDB</td>\n",
       "      <td>https://en.wikipedia.org/wiki/Andhra_Bank</td>\n",
       "      <td>Andhra Bank (BSE: 532418, NSE: ANDHRABANK)  is...</td>\n",
       "    </tr>\n",
       "  </tbody>\n",
       "</table>\n",
       "</div>"
      ],
      "text/plain": [
       "                Company  ...                                            Content\n",
       "0  AADHAR HOUSING FINAN  ...  Copyright 2017. Aadhar Housing Finance Limited...\n",
       "1         AAMAADMIPARTY  ...  ले कर रहेंगे पूर्ण राज्य ! With full statehood...\n",
       "2  Aavas Financiers Lim  ...  \\n\\nCARE ratings has upgraded the Long term ra...\n",
       "3   ABHIPRA CAPITAL LTD  ...  Complete Financial Market Services under one roof\n",
       "4                 ANDB   ...  Andhra Bank (BSE: 532418, NSE: ANDHRABANK)  is...\n",
       "\n",
       "[5 rows x 3 columns]"
      ]
     },
     "execution_count": 311,
     "metadata": {
      "tags": []
     },
     "output_type": "execute_result"
    }
   ],
   "source": [
    "finaldf.head()"
   ]
  },
  {
   "cell_type": "code",
   "execution_count": 0,
   "metadata": {
    "colab": {},
    "colab_type": "code",
    "collapsed": true,
    "id": "jCZGRUOjLPhQ"
   },
   "outputs": [],
   "source": [
    "from sklearn.feature_extraction.text import CountVectorizer"
   ]
  },
  {
   "cell_type": "code",
   "execution_count": 0,
   "metadata": {
    "colab": {},
    "colab_type": "code",
    "collapsed": true,
    "id": "rbawNBSwLP1c"
   },
   "outputs": [],
   "source": [
    "vect_count = CountVectorizer(lowercase=False,preprocessor=dummy_fun, tokenizer= dummy_fun)"
   ]
  },
  {
   "cell_type": "code",
   "execution_count": 0,
   "metadata": {
    "colab": {},
    "colab_type": "code",
    "collapsed": true,
    "id": "g-XKmgu1b3u8"
   },
   "outputs": [],
   "source": [
    "vect_matrix = vect_count.fit_transform(lst)"
   ]
  },
  {
   "cell_type": "code",
   "execution_count": 0,
   "metadata": {
    "colab": {},
    "colab_type": "code",
    "collapsed": true,
    "id": "ffPqOey1b6hm"
   },
   "outputs": [],
   "source": [
    "vect2_df = pd.DataFrame(vect_matrix.toarray(),columns = vect_count.get_feature_names())"
   ]
  },
  {
   "cell_type": "code",
   "execution_count": 0,
   "metadata": {
    "colab": {},
    "colab_type": "code",
    "collapsed": true,
    "id": "1DGpDQszb8bn"
   },
   "outputs": [],
   "source": [
    "for i in vect2_df.columns:\n",
    "  count = 0\n",
    "  for j,k in vect2_df.iterrows():\n",
    "    if(vect2_df[i][j])!=0:\n",
    "      count = count+1\n",
    "  if(count ==1):\n",
    "    del vect2_df[i]"
   ]
  },
  {
   "cell_type": "code",
   "execution_count": 0,
   "metadata": {
    "colab": {},
    "colab_type": "code",
    "collapsed": true,
    "id": "JiAdolhJbbt8"
   },
   "outputs": [],
   "source": []
  },
  {
   "cell_type": "markdown",
   "metadata": {
    "colab_type": "text",
    "collapsed": true,
    "id": "3Zl26tJRKyDN"
   },
   "source": [
    "# Processing Textual Data using TF-IDF"
   ]
  },
  {
   "cell_type": "code",
   "execution_count": 0,
   "metadata": {
    "colab": {},
    "colab_type": "code",
    "collapsed": true,
    "id": "5wFPgsE0KyDP"
   },
   "outputs": [],
   "source": [
    "from sklearn.feature_extraction.text import TfidfVectorizer"
   ]
  },
  {
   "cell_type": "code",
   "execution_count": 0,
   "metadata": {
    "colab": {},
    "colab_type": "code",
    "collapsed": true,
    "id": "ARGg8DFdKyDR"
   },
   "outputs": [],
   "source": [
    "\n",
    "vectorizer = TfidfVectorizer(use_idf = True,sublinear_tf=True,analyzer='word',preprocessor=dummy_fun,tokenizer=dummy_fun,norm='l2')"
   ]
  },
  {
   "cell_type": "code",
   "execution_count": 92,
   "metadata": {
    "colab": {
     "base_uri": "https://localhost:8080/",
     "height": 34
    },
    "colab_type": "code",
    "collapsed": false,
    "id": "uo3parWTKyDU",
    "outputId": "8e704962-5fdd-4b7f-d8b2-6ed7f6deff95"
   },
   "outputs": [
    {
     "data": {
      "text/plain": [
       "scipy.sparse.csr.csr_matrix"
      ]
     },
     "execution_count": 92,
     "metadata": {
      "tags": []
     },
     "output_type": "execute_result"
    }
   ],
   "source": [
    "vec_1 = vectorizer.fit_transform(lst)\n",
    "type(vec_1)"
   ]
  },
  {
   "cell_type": "code",
   "execution_count": 93,
   "metadata": {
    "colab": {
     "base_uri": "https://localhost:8080/",
     "height": 34
    },
    "colab_type": "code",
    "collapsed": false,
    "id": "xXyBwW9GKyDh",
    "outputId": "08d0242f-bf01-4961-bdad-2c0a0acf3d68"
   },
   "outputs": [
    {
     "data": {
      "text/plain": [
       "698"
      ]
     },
     "execution_count": 93,
     "metadata": {
      "tags": []
     },
     "output_type": "execute_result"
    }
   ],
   "source": [
    "len(vectorizer.get_feature_names())"
   ]
  },
  {
   "cell_type": "code",
   "execution_count": 94,
   "metadata": {
    "colab": {
     "base_uri": "https://localhost:8080/",
     "height": 34
    },
    "colab_type": "code",
    "collapsed": false,
    "id": "I8ahc6lKpZed",
    "outputId": "32799205-2d9d-4bef-ec0d-58eecc3d4142"
   },
   "outputs": [
    {
     "data": {
      "text/plain": [
       "(56, 698)"
      ]
     },
     "execution_count": 94,
     "metadata": {
      "tags": []
     },
     "output_type": "execute_result"
    }
   ],
   "source": [
    "vec_1.shape"
   ]
  },
  {
   "cell_type": "code",
   "execution_count": 0,
   "metadata": {
    "colab": {},
    "colab_type": "code",
    "collapsed": true,
    "id": "3w0Fx52-KyDl"
   },
   "outputs": [],
   "source": [
    "vect_df = pd.DataFrame(vec_1.toarray(),columns = vectorizer.get_feature_names())"
   ]
  },
  {
   "cell_type": "code",
   "execution_count": 0,
   "metadata": {
    "colab": {},
    "colab_type": "code",
    "collapsed": true,
    "id": "EyJ6bYGtq2TY"
   },
   "outputs": [],
   "source": [
    "for i in vect_df.columns:\n",
    "  count = 0\n",
    "  for j,k in vect_df.iterrows():\n",
    "    if(vect_df[i][j])!=0:\n",
    "      count = count+1\n",
    "  if(count ==1):\n",
    "    del vect_df[i]"
   ]
  },
  {
   "cell_type": "code",
   "execution_count": 97,
   "metadata": {
    "colab": {
     "base_uri": "https://localhost:8080/",
     "height": 34
    },
    "colab_type": "code",
    "collapsed": false,
    "id": "1suAMJAEs0By",
    "outputId": "1cc673a9-949d-4c69-ab2b-3cdd4b12c3ad"
   },
   "outputs": [
    {
     "data": {
      "text/plain": [
       "(56, 354)"
      ]
     },
     "execution_count": 97,
     "metadata": {
      "tags": []
     },
     "output_type": "execute_result"
    }
   ],
   "source": [
    "vect_df.shape"
   ]
  },
  {
   "cell_type": "code",
   "execution_count": 0,
   "metadata": {
    "colab": {},
    "colab_type": "code",
    "collapsed": true,
    "id": "dSBnZPmSKZYq"
   },
   "outputs": [],
   "source": [
    "vect2_df = vect_df"
   ]
  },
  {
   "cell_type": "code",
   "execution_count": 255,
   "metadata": {
    "colab": {
     "base_uri": "https://localhost:8080/",
     "height": 253
    },
    "colab_type": "code",
    "collapsed": false,
    "id": "nmLfCSz0KbYm",
    "outputId": "5281a02b-c731-4390-99bc-314c5a47c1b1"
   },
   "outputs": [
    {
     "data": {
      "text/html": [
       "<div>\n",
       "<style scoped>\n",
       "    .dataframe tbody tr th:only-of-type {\n",
       "        vertical-align: middle;\n",
       "    }\n",
       "\n",
       "    .dataframe tbody tr th {\n",
       "        vertical-align: top;\n",
       "    }\n",
       "\n",
       "    .dataframe thead th {\n",
       "        text-align: right;\n",
       "    }\n",
       "</style>\n",
       "<table border=\"1\" class=\"dataframe\">\n",
       "  <thead>\n",
       "    <tr style=\"text-align: right;\">\n",
       "      <th></th>\n",
       "      <th>abu</th>\n",
       "      <th>accept</th>\n",
       "      <th>access</th>\n",
       "      <th>account</th>\n",
       "      <th>across</th>\n",
       "      <th>act</th>\n",
       "      <th>additive</th>\n",
       "      <th>adjacent</th>\n",
       "      <th>advice</th>\n",
       "      <th>algebraic</th>\n",
       "      <th>allahabad</th>\n",
       "      <th>along</th>\n",
       "      <th>also</th>\n",
       "      <th>among</th>\n",
       "      <th>analytics</th>\n",
       "      <th>antwerp</th>\n",
       "      <th>april</th>\n",
       "      <th>around</th>\n",
       "      <th>asset</th>\n",
       "      <th>assets</th>\n",
       "      <th>associate</th>\n",
       "      <th>association</th>\n",
       "      <th>atms</th>\n",
       "      <th>au</th>\n",
       "      <th>aught</th>\n",
       "      <th>authenticate</th>\n",
       "      <th>authentication</th>\n",
       "      <th>available</th>\n",
       "      <th>back</th>\n",
       "      <th>bal</th>\n",
       "      <th>bank</th>\n",
       "      <th>base</th>\n",
       "      <th>bbps</th>\n",
       "      <th>become</th>\n",
       "      <th>beijing</th>\n",
       "      <th>bengaluru</th>\n",
       "      <th>bharati</th>\n",
       "      <th>billion</th>\n",
       "      <th>birth</th>\n",
       "      <th>block</th>\n",
       "      <th>...</th>\n",
       "      <th>taxation</th>\n",
       "      <th>technology</th>\n",
       "      <th>term</th>\n",
       "      <th>territories</th>\n",
       "      <th>throughout</th>\n",
       "      <th>time</th>\n",
       "      <th>top</th>\n",
       "      <th>total</th>\n",
       "      <th>touch</th>\n",
       "      <th>trillion</th>\n",
       "      <th>ubi</th>\n",
       "      <th>uk</th>\n",
       "      <th>union</th>\n",
       "      <th>unite</th>\n",
       "      <th>update</th>\n",
       "      <th>us</th>\n",
       "      <th>use</th>\n",
       "      <th>valid</th>\n",
       "      <th>value</th>\n",
       "      <th>various</th>\n",
       "      <th>vehicle</th>\n",
       "      <th>vehicles</th>\n",
       "      <th>venture</th>\n",
       "      <th>vibhushan</th>\n",
       "      <th>war</th>\n",
       "      <th>wealth</th>\n",
       "      <th>well</th>\n",
       "      <th>wholly</th>\n",
       "      <th>wide</th>\n",
       "      <th>within</th>\n",
       "      <th>work</th>\n",
       "      <th>world</th>\n",
       "      <th>worldwide</th>\n",
       "      <th>year</th>\n",
       "      <th>york</th>\n",
       "      <th>zero</th>\n",
       "      <th>zilch</th>\n",
       "      <th>zip</th>\n",
       "      <th>ɔːt</th>\n",
       "      <th>ರ</th>\n",
       "    </tr>\n",
       "  </thead>\n",
       "  <tbody>\n",
       "    <tr>\n",
       "      <th>0</th>\n",
       "      <td>0.0</td>\n",
       "      <td>0.0</td>\n",
       "      <td>0.0</td>\n",
       "      <td>0.0</td>\n",
       "      <td>0.000000</td>\n",
       "      <td>0.0</td>\n",
       "      <td>0.0</td>\n",
       "      <td>0.0</td>\n",
       "      <td>0.0</td>\n",
       "      <td>0.0</td>\n",
       "      <td>0.0</td>\n",
       "      <td>0.0</td>\n",
       "      <td>0.000000</td>\n",
       "      <td>0.0</td>\n",
       "      <td>0.0</td>\n",
       "      <td>0.0</td>\n",
       "      <td>0.0</td>\n",
       "      <td>0.0</td>\n",
       "      <td>0.0</td>\n",
       "      <td>0.0</td>\n",
       "      <td>0.0</td>\n",
       "      <td>0.0</td>\n",
       "      <td>0.123075</td>\n",
       "      <td>0.0</td>\n",
       "      <td>0.0</td>\n",
       "      <td>0.0</td>\n",
       "      <td>0.0</td>\n",
       "      <td>0.0</td>\n",
       "      <td>0.0</td>\n",
       "      <td>0.0</td>\n",
       "      <td>0.181240</td>\n",
       "      <td>0.0</td>\n",
       "      <td>0.0</td>\n",
       "      <td>0.000000</td>\n",
       "      <td>0.0</td>\n",
       "      <td>0.000000</td>\n",
       "      <td>0.0</td>\n",
       "      <td>0.0</td>\n",
       "      <td>0.0</td>\n",
       "      <td>0.0</td>\n",
       "      <td>...</td>\n",
       "      <td>0.0</td>\n",
       "      <td>0.0</td>\n",
       "      <td>0.0</td>\n",
       "      <td>0.177146</td>\n",
       "      <td>0.0</td>\n",
       "      <td>0.0</td>\n",
       "      <td>0.000000</td>\n",
       "      <td>0.0</td>\n",
       "      <td>0.0</td>\n",
       "      <td>0.0</td>\n",
       "      <td>0.0</td>\n",
       "      <td>0.0</td>\n",
       "      <td>0.154204</td>\n",
       "      <td>0.0</td>\n",
       "      <td>0.0</td>\n",
       "      <td>0.0</td>\n",
       "      <td>0.0</td>\n",
       "      <td>0.0</td>\n",
       "      <td>0.0</td>\n",
       "      <td>0.0</td>\n",
       "      <td>0.0</td>\n",
       "      <td>0.0</td>\n",
       "      <td>0.000000</td>\n",
       "      <td>0.0</td>\n",
       "      <td>0.0</td>\n",
       "      <td>0.0</td>\n",
       "      <td>0.0</td>\n",
       "      <td>0.0</td>\n",
       "      <td>0.0</td>\n",
       "      <td>0.0</td>\n",
       "      <td>0.0</td>\n",
       "      <td>0.0</td>\n",
       "      <td>0.00000</td>\n",
       "      <td>0.0</td>\n",
       "      <td>0.000000</td>\n",
       "      <td>0.0</td>\n",
       "      <td>0.0</td>\n",
       "      <td>0.0</td>\n",
       "      <td>0.0</td>\n",
       "      <td>0.0</td>\n",
       "    </tr>\n",
       "    <tr>\n",
       "      <th>1</th>\n",
       "      <td>0.0</td>\n",
       "      <td>0.0</td>\n",
       "      <td>0.0</td>\n",
       "      <td>0.0</td>\n",
       "      <td>0.000000</td>\n",
       "      <td>0.0</td>\n",
       "      <td>0.0</td>\n",
       "      <td>0.0</td>\n",
       "      <td>0.0</td>\n",
       "      <td>0.0</td>\n",
       "      <td>0.0</td>\n",
       "      <td>0.0</td>\n",
       "      <td>0.000000</td>\n",
       "      <td>0.0</td>\n",
       "      <td>0.0</td>\n",
       "      <td>0.0</td>\n",
       "      <td>0.0</td>\n",
       "      <td>0.0</td>\n",
       "      <td>0.0</td>\n",
       "      <td>0.0</td>\n",
       "      <td>0.0</td>\n",
       "      <td>0.0</td>\n",
       "      <td>0.000000</td>\n",
       "      <td>0.0</td>\n",
       "      <td>0.0</td>\n",
       "      <td>0.0</td>\n",
       "      <td>0.0</td>\n",
       "      <td>0.0</td>\n",
       "      <td>0.0</td>\n",
       "      <td>0.0</td>\n",
       "      <td>0.253741</td>\n",
       "      <td>0.0</td>\n",
       "      <td>0.0</td>\n",
       "      <td>0.000000</td>\n",
       "      <td>0.0</td>\n",
       "      <td>0.000000</td>\n",
       "      <td>0.0</td>\n",
       "      <td>0.0</td>\n",
       "      <td>0.0</td>\n",
       "      <td>0.0</td>\n",
       "      <td>...</td>\n",
       "      <td>0.0</td>\n",
       "      <td>0.0</td>\n",
       "      <td>0.0</td>\n",
       "      <td>0.000000</td>\n",
       "      <td>0.0</td>\n",
       "      <td>0.0</td>\n",
       "      <td>0.000000</td>\n",
       "      <td>0.0</td>\n",
       "      <td>0.0</td>\n",
       "      <td>0.0</td>\n",
       "      <td>0.0</td>\n",
       "      <td>0.0</td>\n",
       "      <td>0.000000</td>\n",
       "      <td>0.0</td>\n",
       "      <td>0.0</td>\n",
       "      <td>0.0</td>\n",
       "      <td>0.0</td>\n",
       "      <td>0.0</td>\n",
       "      <td>0.0</td>\n",
       "      <td>0.0</td>\n",
       "      <td>0.0</td>\n",
       "      <td>0.0</td>\n",
       "      <td>0.000000</td>\n",
       "      <td>0.0</td>\n",
       "      <td>0.0</td>\n",
       "      <td>0.0</td>\n",
       "      <td>0.0</td>\n",
       "      <td>0.0</td>\n",
       "      <td>0.0</td>\n",
       "      <td>0.0</td>\n",
       "      <td>0.0</td>\n",
       "      <td>0.0</td>\n",
       "      <td>0.00000</td>\n",
       "      <td>0.0</td>\n",
       "      <td>0.000000</td>\n",
       "      <td>0.0</td>\n",
       "      <td>0.0</td>\n",
       "      <td>0.0</td>\n",
       "      <td>0.0</td>\n",
       "      <td>0.0</td>\n",
       "    </tr>\n",
       "    <tr>\n",
       "      <th>2</th>\n",
       "      <td>0.0</td>\n",
       "      <td>0.0</td>\n",
       "      <td>0.0</td>\n",
       "      <td>0.0</td>\n",
       "      <td>0.000000</td>\n",
       "      <td>0.0</td>\n",
       "      <td>0.0</td>\n",
       "      <td>0.0</td>\n",
       "      <td>0.0</td>\n",
       "      <td>0.0</td>\n",
       "      <td>0.0</td>\n",
       "      <td>0.0</td>\n",
       "      <td>0.000000</td>\n",
       "      <td>0.0</td>\n",
       "      <td>0.0</td>\n",
       "      <td>0.0</td>\n",
       "      <td>0.0</td>\n",
       "      <td>0.0</td>\n",
       "      <td>0.0</td>\n",
       "      <td>0.0</td>\n",
       "      <td>0.0</td>\n",
       "      <td>0.0</td>\n",
       "      <td>0.000000</td>\n",
       "      <td>0.0</td>\n",
       "      <td>0.0</td>\n",
       "      <td>0.0</td>\n",
       "      <td>0.0</td>\n",
       "      <td>0.0</td>\n",
       "      <td>0.0</td>\n",
       "      <td>0.0</td>\n",
       "      <td>0.157774</td>\n",
       "      <td>0.0</td>\n",
       "      <td>0.0</td>\n",
       "      <td>0.000000</td>\n",
       "      <td>0.0</td>\n",
       "      <td>0.000000</td>\n",
       "      <td>0.0</td>\n",
       "      <td>0.0</td>\n",
       "      <td>0.0</td>\n",
       "      <td>0.0</td>\n",
       "      <td>...</td>\n",
       "      <td>0.0</td>\n",
       "      <td>0.0</td>\n",
       "      <td>0.0</td>\n",
       "      <td>0.000000</td>\n",
       "      <td>0.0</td>\n",
       "      <td>0.0</td>\n",
       "      <td>0.142963</td>\n",
       "      <td>0.0</td>\n",
       "      <td>0.0</td>\n",
       "      <td>0.0</td>\n",
       "      <td>0.0</td>\n",
       "      <td>0.0</td>\n",
       "      <td>0.000000</td>\n",
       "      <td>0.0</td>\n",
       "      <td>0.0</td>\n",
       "      <td>0.0</td>\n",
       "      <td>0.0</td>\n",
       "      <td>0.0</td>\n",
       "      <td>0.0</td>\n",
       "      <td>0.0</td>\n",
       "      <td>0.0</td>\n",
       "      <td>0.0</td>\n",
       "      <td>0.142963</td>\n",
       "      <td>0.0</td>\n",
       "      <td>0.0</td>\n",
       "      <td>0.0</td>\n",
       "      <td>0.0</td>\n",
       "      <td>0.0</td>\n",
       "      <td>0.0</td>\n",
       "      <td>0.0</td>\n",
       "      <td>0.0</td>\n",
       "      <td>0.0</td>\n",
       "      <td>0.15421</td>\n",
       "      <td>0.0</td>\n",
       "      <td>0.000000</td>\n",
       "      <td>0.0</td>\n",
       "      <td>0.0</td>\n",
       "      <td>0.0</td>\n",
       "      <td>0.0</td>\n",
       "      <td>0.0</td>\n",
       "    </tr>\n",
       "    <tr>\n",
       "      <th>3</th>\n",
       "      <td>0.0</td>\n",
       "      <td>0.0</td>\n",
       "      <td>0.0</td>\n",
       "      <td>0.0</td>\n",
       "      <td>0.000000</td>\n",
       "      <td>0.0</td>\n",
       "      <td>0.0</td>\n",
       "      <td>0.0</td>\n",
       "      <td>0.0</td>\n",
       "      <td>0.0</td>\n",
       "      <td>0.0</td>\n",
       "      <td>0.0</td>\n",
       "      <td>0.000000</td>\n",
       "      <td>0.0</td>\n",
       "      <td>0.0</td>\n",
       "      <td>0.0</td>\n",
       "      <td>0.0</td>\n",
       "      <td>0.0</td>\n",
       "      <td>0.0</td>\n",
       "      <td>0.0</td>\n",
       "      <td>0.0</td>\n",
       "      <td>0.0</td>\n",
       "      <td>0.000000</td>\n",
       "      <td>0.0</td>\n",
       "      <td>0.0</td>\n",
       "      <td>0.0</td>\n",
       "      <td>0.0</td>\n",
       "      <td>0.0</td>\n",
       "      <td>0.0</td>\n",
       "      <td>0.0</td>\n",
       "      <td>0.113558</td>\n",
       "      <td>0.0</td>\n",
       "      <td>0.0</td>\n",
       "      <td>0.171059</td>\n",
       "      <td>0.0</td>\n",
       "      <td>0.000000</td>\n",
       "      <td>0.0</td>\n",
       "      <td>0.0</td>\n",
       "      <td>0.0</td>\n",
       "      <td>0.0</td>\n",
       "      <td>...</td>\n",
       "      <td>0.0</td>\n",
       "      <td>0.0</td>\n",
       "      <td>0.0</td>\n",
       "      <td>0.000000</td>\n",
       "      <td>0.0</td>\n",
       "      <td>0.0</td>\n",
       "      <td>0.000000</td>\n",
       "      <td>0.0</td>\n",
       "      <td>0.0</td>\n",
       "      <td>0.0</td>\n",
       "      <td>0.0</td>\n",
       "      <td>0.0</td>\n",
       "      <td>0.000000</td>\n",
       "      <td>0.0</td>\n",
       "      <td>0.0</td>\n",
       "      <td>0.0</td>\n",
       "      <td>0.0</td>\n",
       "      <td>0.0</td>\n",
       "      <td>0.0</td>\n",
       "      <td>0.0</td>\n",
       "      <td>0.0</td>\n",
       "      <td>0.0</td>\n",
       "      <td>0.000000</td>\n",
       "      <td>0.0</td>\n",
       "      <td>0.0</td>\n",
       "      <td>0.0</td>\n",
       "      <td>0.0</td>\n",
       "      <td>0.0</td>\n",
       "      <td>0.0</td>\n",
       "      <td>0.0</td>\n",
       "      <td>0.0</td>\n",
       "      <td>0.0</td>\n",
       "      <td>0.00000</td>\n",
       "      <td>0.0</td>\n",
       "      <td>0.289628</td>\n",
       "      <td>0.0</td>\n",
       "      <td>0.0</td>\n",
       "      <td>0.0</td>\n",
       "      <td>0.0</td>\n",
       "      <td>0.0</td>\n",
       "    </tr>\n",
       "    <tr>\n",
       "      <th>4</th>\n",
       "      <td>0.0</td>\n",
       "      <td>0.0</td>\n",
       "      <td>0.0</td>\n",
       "      <td>0.0</td>\n",
       "      <td>0.117902</td>\n",
       "      <td>0.0</td>\n",
       "      <td>0.0</td>\n",
       "      <td>0.0</td>\n",
       "      <td>0.0</td>\n",
       "      <td>0.0</td>\n",
       "      <td>0.0</td>\n",
       "      <td>0.0</td>\n",
       "      <td>0.126846</td>\n",
       "      <td>0.0</td>\n",
       "      <td>0.0</td>\n",
       "      <td>0.0</td>\n",
       "      <td>0.0</td>\n",
       "      <td>0.0</td>\n",
       "      <td>0.0</td>\n",
       "      <td>0.0</td>\n",
       "      <td>0.0</td>\n",
       "      <td>0.0</td>\n",
       "      <td>0.122150</td>\n",
       "      <td>0.0</td>\n",
       "      <td>0.0</td>\n",
       "      <td>0.0</td>\n",
       "      <td>0.0</td>\n",
       "      <td>0.0</td>\n",
       "      <td>0.0</td>\n",
       "      <td>0.0</td>\n",
       "      <td>0.192446</td>\n",
       "      <td>0.0</td>\n",
       "      <td>0.0</td>\n",
       "      <td>0.000000</td>\n",
       "      <td>0.0</td>\n",
       "      <td>0.175814</td>\n",
       "      <td>0.0</td>\n",
       "      <td>0.0</td>\n",
       "      <td>0.0</td>\n",
       "      <td>0.0</td>\n",
       "      <td>...</td>\n",
       "      <td>0.0</td>\n",
       "      <td>0.0</td>\n",
       "      <td>0.0</td>\n",
       "      <td>0.000000</td>\n",
       "      <td>0.0</td>\n",
       "      <td>0.0</td>\n",
       "      <td>0.000000</td>\n",
       "      <td>0.0</td>\n",
       "      <td>0.0</td>\n",
       "      <td>0.0</td>\n",
       "      <td>0.0</td>\n",
       "      <td>0.0</td>\n",
       "      <td>0.000000</td>\n",
       "      <td>0.0</td>\n",
       "      <td>0.0</td>\n",
       "      <td>0.0</td>\n",
       "      <td>0.0</td>\n",
       "      <td>0.0</td>\n",
       "      <td>0.0</td>\n",
       "      <td>0.0</td>\n",
       "      <td>0.0</td>\n",
       "      <td>0.0</td>\n",
       "      <td>0.000000</td>\n",
       "      <td>0.0</td>\n",
       "      <td>0.0</td>\n",
       "      <td>0.0</td>\n",
       "      <td>0.0</td>\n",
       "      <td>0.0</td>\n",
       "      <td>0.0</td>\n",
       "      <td>0.0</td>\n",
       "      <td>0.0</td>\n",
       "      <td>0.0</td>\n",
       "      <td>0.00000</td>\n",
       "      <td>0.0</td>\n",
       "      <td>0.175814</td>\n",
       "      <td>0.0</td>\n",
       "      <td>0.0</td>\n",
       "      <td>0.0</td>\n",
       "      <td>0.0</td>\n",
       "      <td>0.0</td>\n",
       "    </tr>\n",
       "  </tbody>\n",
       "</table>\n",
       "<p>5 rows × 354 columns</p>\n",
       "</div>"
      ],
      "text/plain": [
       "   abu  accept  access  account    across  ...  zero  zilch  zip  ɔːt    ರ\n",
       "0  0.0     0.0     0.0      0.0  0.000000  ...   0.0    0.0  0.0  0.0  0.0\n",
       "1  0.0     0.0     0.0      0.0  0.000000  ...   0.0    0.0  0.0  0.0  0.0\n",
       "2  0.0     0.0     0.0      0.0  0.000000  ...   0.0    0.0  0.0  0.0  0.0\n",
       "3  0.0     0.0     0.0      0.0  0.000000  ...   0.0    0.0  0.0  0.0  0.0\n",
       "4  0.0     0.0     0.0      0.0  0.117902  ...   0.0    0.0  0.0  0.0  0.0\n",
       "\n",
       "[5 rows x 354 columns]"
      ]
     },
     "execution_count": 255,
     "metadata": {
      "tags": []
     },
     "output_type": "execute_result"
    }
   ],
   "source": [
    "vect2_df.head()"
   ]
  },
  {
   "cell_type": "markdown",
   "metadata": {
    "colab_type": "text",
    "id": "HurrM8XwKyDt"
   },
   "source": [
    "# Performing K(2) means Clustering..\n"
   ]
  },
  {
   "cell_type": "code",
   "execution_count": 0,
   "metadata": {
    "colab": {},
    "colab_type": "code",
    "collapsed": true,
    "id": "h-D6WwAIKyDu"
   },
   "outputs": [],
   "source": [
    "from sklearn.cluster import KMeans"
   ]
  },
  {
   "cell_type": "code",
   "execution_count": 268,
   "metadata": {
    "colab": {
     "base_uri": "https://localhost:8080/",
     "height": 68
    },
    "colab_type": "code",
    "collapsed": false,
    "id": "vZrJmS5SQRXv",
    "outputId": "c628a16c-a3da-4ce5-bad4-75875d0d08dc"
   },
   "outputs": [
    {
     "data": {
      "text/plain": [
       "KMeans(algorithm='auto', copy_x=True, init='k-means++', max_iter=500,\n",
       "       n_clusters=2, n_init=1, n_jobs=None, precompute_distances='auto',\n",
       "       random_state=None, tol=0.0001, verbose=0)"
      ]
     },
     "execution_count": 268,
     "metadata": {
      "tags": []
     },
     "output_type": "execute_result"
    }
   ],
   "source": [
    "true_k = 2\n",
    "kmeans = KMeans(n_clusters = true_k,init = 'k-means++',max_iter = 500,n_init = 1)\n",
    "kmeans = kmeans.fit(vect2_df)\n",
    "kmeans"
   ]
  },
  {
   "cell_type": "code",
   "execution_count": 0,
   "metadata": {
    "colab": {},
    "colab_type": "code",
    "collapsed": true,
    "id": "Z3MYgEisWJrb"
   },
   "outputs": [],
   "source": [
    "from sklearn.decomposition import PCA\n",
    "clusters = kmeans.predict(vect2_df)\n",
    "pca = PCA(n_components=2)\n",
    "two_dim = pca.fit_transform(vect2_df.to_dense())"
   ]
  },
  {
   "cell_type": "code",
   "execution_count": 0,
   "metadata": {
    "colab": {},
    "colab_type": "code",
    "collapsed": true,
    "id": "XFT3LwIkvGeB"
   },
   "outputs": [],
   "source": [
    "scatter_x = two_dim[:,0]\n",
    "scatter_y = two_dim[:,1]"
   ]
  },
  {
   "cell_type": "code",
   "execution_count": 0,
   "metadata": {
    "colab": {},
    "colab_type": "code",
    "collapsed": true,
    "id": "uOz_CXuVvNc_"
   },
   "outputs": [],
   "source": [
    "import numpy as np\n",
    "import pandas as pd\n",
    "import matplotlib.pyplot as plt\n"
   ]
  },
  {
   "cell_type": "code",
   "execution_count": 272,
   "metadata": {
    "colab": {
     "base_uri": "https://localhost:8080/",
     "height": 680
    },
    "colab_type": "code",
    "collapsed": false,
    "id": "DhcuGAbbvWhe",
    "outputId": "1e5a5bb5-2141-4c02-f5a4-7ae9e8c579aa"
   },
   "outputs": [
    {
     "name": "stdout",
     "output_type": "stream",
     "text": [
      "(array([ 1,  3,  5,  6, 27, 28, 29, 30, 31, 33, 34, 35, 36, 39, 43, 44, 45,\n",
      "       46, 47, 48, 49, 50, 51, 52, 54, 55]),)\n",
      "(array([ 0,  2,  4,  7,  8,  9, 10, 11, 12, 13, 14, 15, 16, 17, 18, 19, 20,\n",
      "       21, 22, 23, 24, 25, 26, 32, 37, 38, 40, 41, 42, 53]),)\n"
     ]
    },
    {
     "data": {
      "image/png": "[encoded data removed]",
      "text/plain": [
       "<Figure size 1440x720 with 1 Axes>"
      ]
     },
     "metadata": {
      "tags": []
     },
     "output_type": "display_data"
    }
   ],
   "source": [
    "plt.style.use('ggplot')\n",
    "fig,ax = plt.subplots()\n",
    "fig.set_size_inches(20,10)\n",
    "cmap = {0:'green',1:'red',2:'yellow'}\n",
    "for group in np.unique(clusters):\n",
    "  ix = np.where(clusters == group)\n",
    "  print(ix)\n",
    "  ax.scatter(scatter_x[ix], scatter_y[ix], c=cmap[group], label=group)\n",
    "ax.legend()\n",
    "plt.xlabel('pCA 0')\n",
    "plt.ylabel('pca 1')\n",
    "plt.show()"
   ]
  },
  {
   "cell_type": "code",
   "execution_count": 0,
   "metadata": {
    "colab": {},
    "colab_type": "code",
    "collapsed": true,
    "id": "qX6uDsNKciPY"
   },
   "outputs": [],
   "source": [
    "order_centroids = kmeans.cluster_centers_.argsort()[:, ::-1]\n",
    "terms = vect2_df.columns"
   ]
  },
  {
   "cell_type": "code",
   "execution_count": 274,
   "metadata": {
    "colab": {
     "base_uri": "https://localhost:8080/",
     "height": 12121
    },
    "colab_type": "code",
    "collapsed": false,
    "id": "vfUHrVlLWmvk",
    "outputId": "412f87b3-3313-4995-b37f-396b921dd235"
   },
   "outputs": [
    {
     "name": "stdout",
     "output_type": "stream",
     "text": [
      "Cluster 0: \n",
      "school 12\n",
      "mutual 10\n",
      "use 11\n",
      "fund 10\n",
      "number 10\n",
      "india 72\n",
      "company 20\n",
      "indian 23\n",
      "insurance 10\n",
      "http 8\n",
      "public 20\n",
      "life 9\n",
      "contract 7\n",
      "term 8\n",
      "digit 6\n",
      "zero 6\n",
      "return 7\n",
      "include 13\n",
      "bharati 6\n",
      "bal 6\n",
      "provide 7\n",
      "found 13\n",
      "permanent 5\n",
      "declare 4\n",
      "limit 9\n",
      "despite 5\n",
      "investors 4\n",
      "plan 4\n",
      "publish 4\n",
      "rat 4\n",
      "analytics 4\n",
      "person 4\n",
      "client 4\n",
      "authenticate 4\n",
      "authentication 4\n",
      "bank 141\n",
      "financial 20\n",
      "across 10\n",
      "structure 3\n",
      "ರ 3\n",
      "rank 8\n",
      "body 5\n",
      "people 5\n",
      "management 5\n",
      "service 16\n",
      "group 5\n",
      "country 8\n",
      "member 4\n",
      "delhi 4\n",
      "institute 4\n",
      "society 4\n",
      "civil 3\n",
      "valid 3\n",
      "insure 3\n",
      "legal 3\n",
      "liability 3\n",
      "one 14\n",
      "lala 3\n",
      "institutions 3\n",
      "wealth 3\n",
      "vibhushan 3\n",
      "philanthropist 3\n",
      "govern 3\n",
      "hansraj 3\n",
      "child 3\n",
      "block 3\n",
      "education 3\n",
      "response 3\n",
      "bbps 3\n",
      "gupta 3\n",
      "premier 3\n",
      "parent 3\n",
      "padma 3\n",
      "among 6\n",
      "educate 3\n",
      "level 3\n",
      "commercial 10\n",
      "new 5\n",
      "loan 4\n",
      "also 8\n",
      "hold 8\n",
      "information 4\n",
      "stock 4\n",
      "end 6\n",
      "become 2\n",
      "market 7\n",
      "us 6\n",
      "finance 13\n",
      "report 7\n",
      "uk 6\n",
      "multinational 6\n",
      "highnetworth 2\n",
      "generally 2\n",
      "hedge 2\n",
      "occasional 2\n",
      "estate 2\n",
      "stockoption 2\n",
      "vehicles 2\n",
      "deliver 2\n",
      "businesssuccession 2\n",
      "derivatives 2\n",
      "advice 2\n",
      "boston 2\n",
      "last 3\n",
      "june 2\n",
      "future 2\n",
      "investments 2\n",
      "lack 2\n",
      "invest 2\n",
      "large 3\n",
      "less 2\n",
      "fix 2\n",
      "citation 2\n",
      "firm 2\n",
      "need 2\n",
      "increase 2\n",
      "name 3\n",
      "high 2\n",
      "households 2\n",
      "many 3\n",
      "money 2\n",
      "form 3\n",
      "due 2\n",
      "go 2\n",
      "consumer 3\n",
      "risk 2\n",
      "recent 2\n",
      "original 2\n",
      "different 2\n",
      "available 2\n",
      "back 3\n",
      "put 2\n",
      "slowly 2\n",
      "death 2\n",
      "private 6\n",
      "suggest 2\n",
      "systems 3\n",
      "along 3\n",
      "time 3\n",
      "well 3\n",
      "perform 3\n",
      "work 2\n",
      "various 3\n",
      "perceive 2\n",
      "research 3\n",
      "taxation 2\n",
      "resource 2\n",
      "responsibility 2\n",
      "york 3\n",
      "accept 2\n",
      "access 2\n",
      "case 2\n",
      "insufficient 2\n",
      "within 2\n",
      "account 2\n",
      "follow 2\n",
      "association 2\n",
      "create 2\n",
      "certificate 2\n",
      "incur 2\n",
      "imply 2\n",
      "successful 2\n",
      "credit 3\n",
      "law 2\n",
      "discharge 2\n",
      "birth 2\n",
      "permissions 2\n",
      "city 3\n",
      "permit 2\n",
      "persons 2\n",
      "policy 2\n",
      "members 2\n",
      "may 2\n",
      "distinct 2\n",
      "error 2\n",
      "publicly 2\n",
      "fail 2\n",
      "duty 2\n",
      "identity 2\n",
      "zip 2\n",
      "zilch 2\n",
      "ought 2\n",
      "nɔːt 2\n",
      "naught 2\n",
      "adjacent 2\n",
      "value 2\n",
      "numerical 2\n",
      "nought 2\n",
      "oʊ 2\n",
      "numerals 2\n",
      "additive 2\n",
      "contexts 2\n",
      "fulfill 2\n",
      "historically 2\n",
      "nil 2\n",
      "english 2\n",
      "informal 2\n",
      "mathematics 2\n",
      "letter 2\n",
      "role 2\n",
      "least 2\n",
      "real 2\n",
      "aught 2\n",
      "cipher 2\n",
      "slang 2\n",
      "algebraic 2\n",
      "ɔːt 2\n",
      "distinguish 2\n",
      "central 2\n",
      "placeholder 2\n",
      "integers 2\n",
      "place 2\n",
      "represent 2\n",
      "sector 18\n",
      "network 10\n",
      "government 10\n",
      "subsidiary 5\n",
      "total 8\n",
      "crores 4\n",
      "first 4\n",
      "national 2\n",
      "pakistan 2\n",
      "base 4\n",
      "office 4\n",
      "consider 2\n",
      "december 2\n",
      "mediumsized 2\n",
      "sme 2\n",
      "online 2\n",
      "technology 2\n",
      "war 2\n",
      "four 3\n",
      "small 7\n",
      "own 7\n",
      "list 6\n",
      "year 10\n",
      "customers 5\n",
      "state 9\n",
      "spread 5\n",
      "atms 9\n",
      "ubi 8\n",
      "dubai 5\n",
      "governmentowned 5\n",
      "overseas 8\n",
      "corporation 5\n",
      "kong 8\n",
      "hong 9\n",
      "march 9\n",
      "major 9\n",
      "maharashtra 9\n",
      "brand 5\n",
      "unite 4\n",
      "business 4\n",
      "around 4\n",
      "bse 4\n",
      "kolkata 4\n",
      "allahabad 4\n",
      "joint 4\n",
      "nationalise 4\n",
      "ltd 4\n",
      "representative 4\n",
      "profit 4\n",
      "corporate 4\n",
      "oldest 4\n",
      "retail 4\n",
      "act 2\n",
      "antwerp 2\n",
      "canara 2\n",
      "capitalization 2\n",
      "channel 2\n",
      "british 2\n",
      "conduct 2\n",
      "bengaluru 2\n",
      "breadth 2\n",
      "asset 2\n",
      "associate 2\n",
      "chennai 2\n",
      "beijing 2\n",
      "cash 2\n",
      "lakh 2\n",
      "abu 2\n",
      "million 2\n",
      "territories 2\n",
      "sydney 2\n",
      "kerala 2\n",
      "kingdom 2\n",
      "lastly 2\n",
      "length 2\n",
      "standard 2\n",
      "since 2\n",
      "fourth 2\n",
      "serve 2\n",
      "reserve 2\n",
      "counter 2\n",
      "rbi 2\n",
      "range 2\n",
      "plc 2\n",
      "presence 2\n",
      "throughout 2\n",
      "industrial 2\n",
      "employees 2\n",
      "touch 2\n",
      "worldwide 2\n",
      "delivery 2\n",
      "world 2\n",
      "wide 2\n",
      "dhabi 2\n",
      "wholly 2\n",
      "employ 2\n",
      "present 2\n",
      "extension 2\n",
      "february 2\n",
      "trillion 2\n",
      "april 7\n",
      "operate 7\n",
      "crore 7\n",
      "venture 3\n",
      "singapore 3\n",
      "vehicle 3\n",
      "update 3\n",
      "schedule 3\n",
      "subsidiaries 3\n",
      "products 3\n",
      "top 3\n",
      "convert 3\n",
      "pai 3\n",
      "london 3\n",
      "countries 3\n",
      "deposit 3\n",
      "development 3\n",
      "colombo 3\n",
      "enter 3\n",
      "establishment 3\n",
      "financier 3\n",
      "certify 3\n",
      "forbes 3\n",
      "global 3\n",
      "capital 3\n",
      "machine 3\n",
      "net 3\n",
      "nse 3\n",
      "billion 3\n",
      "offer 3\n",
      "offices 11\n",
      "assets 6\n",
      "mumbai 6\n",
      "union 6\n",
      "share 6\n",
      "establish 6\n",
      "shanghai 6\n",
      "au 6\n",
      "largest 12\n",
      "headquarter 17\n",
      "branch 27\n",
      "\n",
      "Cluster 1: \n",
      "bank 141\n",
      "india 72\n",
      "branch 27\n",
      "sector 18\n",
      "financial 20\n",
      "headquarter 17\n",
      "indian 23\n",
      "service 16\n",
      "public 20\n",
      "largest 12\n",
      "finance 13\n",
      "one 14\n",
      "offices 11\n",
      "company 20\n",
      "year 10\n",
      "march 9\n",
      "network 10\n",
      "hong 9\n",
      "state 9\n",
      "maharashtra 9\n",
      "major 9\n",
      "government 10\n",
      "atms 9\n",
      "ubi 8\n",
      "kong 8\n",
      "commercial 10\n",
      "overseas 8\n",
      "found 13\n",
      "total 8\n",
      "across 10\n",
      "april 7\n",
      "operate 7\n",
      "crore 7\n",
      "include 13\n",
      "hold 8\n",
      "small 7\n",
      "also 8\n",
      "own 7\n",
      "assets 6\n",
      "establish 6\n",
      "mumbai 6\n",
      "au 6\n",
      "share 6\n",
      "shanghai 6\n",
      "union 6\n",
      "customers 5\n",
      "country 8\n",
      "rank 8\n",
      "limit 9\n",
      "dubai 5\n",
      "market 7\n",
      "report 7\n",
      "list 6\n",
      "spread 5\n",
      "governmentowned 5\n",
      "brand 5\n",
      "corporation 5\n",
      "ltd 4\n",
      "oldest 4\n",
      "representative 4\n",
      "allahabad 4\n",
      "around 4\n",
      "nationalise 4\n",
      "retail 4\n",
      "us 6\n",
      "unite 4\n",
      "subsidiary 5\n",
      "uk 6\n",
      "private 6\n",
      "bse 4\n",
      "kolkata 4\n",
      "corporate 4\n",
      "joint 4\n",
      "business 4\n",
      "multinational 6\n",
      "end 6\n",
      "profit 4\n",
      "development 3\n",
      "colombo 3\n",
      "top 3\n",
      "certify 3\n",
      "new 5\n",
      "base 4\n",
      "among 6\n",
      "office 4\n",
      "net 3\n",
      "crores 4\n",
      "deposit 3\n",
      "enter 3\n",
      "subsidiaries 3\n",
      "capital 3\n",
      "vehicle 3\n",
      "london 3\n",
      "convert 3\n",
      "billion 3\n",
      "update 3\n",
      "offer 3\n",
      "venture 3\n",
      "pai 3\n",
      "singapore 3\n",
      "countries 3\n",
      "establishment 3\n",
      "financier 3\n",
      "schedule 3\n",
      "forbes 3\n",
      "products 3\n",
      "global 3\n",
      "machine 3\n",
      "nse 3\n",
      "first 4\n",
      "insurance 10\n",
      "life 9\n",
      "loan 4\n",
      "breadth 2\n",
      "stock 4\n",
      "million 2\n",
      "body 5\n",
      "length 2\n",
      "information 4\n",
      "serve 2\n",
      "people 5\n",
      "bengaluru 2\n",
      "asset 2\n",
      "antwerp 2\n",
      "wholly 2\n",
      "beijing 2\n",
      "abu 2\n",
      "touch 2\n",
      "dhabi 2\n",
      "capitalization 2\n",
      "cash 2\n",
      "kingdom 2\n",
      "sydney 2\n",
      "provide 7\n",
      "lastly 2\n",
      "group 5\n",
      "fourth 2\n",
      "management 5\n",
      "delivery 2\n",
      "conduct 2\n",
      "four 3\n",
      "channel 2\n",
      "industrial 2\n",
      "canara 2\n",
      "employ 2\n",
      "lakh 2\n",
      "trillion 2\n",
      "wide 2\n",
      "throughout 2\n",
      "range 2\n",
      "territories 2\n",
      "kerala 2\n",
      "british 2\n",
      "plc 2\n",
      "associate 2\n",
      "standard 2\n",
      "world 2\n",
      "chennai 2\n",
      "rbi 2\n",
      "counter 2\n",
      "reserve 2\n",
      "february 2\n",
      "extension 2\n",
      "since 2\n",
      "employees 2\n",
      "worldwide 2\n",
      "presence 2\n",
      "present 2\n",
      "act 2\n",
      "term 8\n",
      "despite 5\n",
      "member 4\n",
      "society 4\n",
      "delhi 4\n",
      "pakistan 2\n",
      "national 2\n",
      "institute 4\n",
      "permanent 5\n",
      "war 2\n",
      "mediumsized 2\n",
      "perform 3\n",
      "many 3\n",
      "consider 2\n",
      "back 3\n",
      "credit 3\n",
      "city 3\n",
      "sme 2\n",
      "december 2\n",
      "well 3\n",
      "last 3\n",
      "systems 3\n",
      "return 7\n",
      "technology 2\n",
      "online 2\n",
      "consumer 3\n",
      "research 3\n",
      "along 3\n",
      "time 3\n",
      "form 3\n",
      "name 3\n",
      "large 3\n",
      "various 3\n",
      "york 3\n",
      "use 11\n",
      "mutual 10\n",
      "http 8\n",
      "number 10\n",
      "fund 10\n",
      "declare 4\n",
      "plan 4\n",
      "analytics 4\n",
      "publish 4\n",
      "person 4\n",
      "client 4\n",
      "investors 4\n",
      "rat 4\n",
      "authenticate 4\n",
      "authentication 4\n",
      "work 2\n",
      "responsibility 2\n",
      "deliver 2\n",
      "derivatives 2\n",
      "resource 2\n",
      "different 2\n",
      "discharge 2\n",
      "distinct 2\n",
      "members 2\n",
      "stockoption 2\n",
      "death 2\n",
      "certificate 2\n",
      "become 2\n",
      "vehicles 2\n",
      "aught 2\n",
      "value 2\n",
      "birth 2\n",
      "boston 2\n",
      "businesssuccession 2\n",
      "taxation 2\n",
      "case 2\n",
      "central 2\n",
      "suggest 2\n",
      "risk 2\n",
      "successful 2\n",
      "association 2\n",
      "cipher 2\n",
      "citation 2\n",
      "contexts 2\n",
      "slowly 2\n",
      "slang 2\n",
      "within 2\n",
      "create 2\n",
      "role 2\n",
      "distinguish 2\n",
      "put 2\n",
      "due 2\n",
      "june 2\n",
      "original 2\n",
      "zip 2\n",
      "ɔːt 2\n",
      "lack 2\n",
      "ought 2\n",
      "oʊ 2\n",
      "investments 2\n",
      "least 2\n",
      "invest 2\n",
      "integers 2\n",
      "additive 2\n",
      "adjacent 2\n",
      "insufficient 2\n",
      "advice 2\n",
      "law 2\n",
      "account 2\n",
      "duty 2\n",
      "nought 2\n",
      "may 2\n",
      "mathematics 2\n",
      "money 2\n",
      "naught 2\n",
      "need 2\n",
      "nil 2\n",
      "numerals 2\n",
      "occasional 2\n",
      "numerical 2\n",
      "nɔːt 2\n",
      "accept 2\n",
      "access 2\n",
      "letter 2\n",
      "less 2\n",
      "perceive 2\n",
      "informal 2\n",
      "permissions 2\n",
      "firm 2\n",
      "future 2\n",
      "fulfill 2\n",
      "policy 2\n",
      "follow 2\n",
      "fix 2\n",
      "publicly 2\n",
      "fail 2\n",
      "incur 2\n",
      "estate 2\n",
      "error 2\n",
      "real 2\n",
      "english 2\n",
      "recent 2\n",
      "represent 2\n",
      "generally 2\n",
      "go 2\n",
      "placeholder 2\n",
      "place 2\n",
      "increase 2\n",
      "permit 2\n",
      "imply 2\n",
      "identity 2\n",
      "households 2\n",
      "persons 2\n",
      "historically 2\n",
      "highnetworth 2\n",
      "high 2\n",
      "hedge 2\n",
      "algebraic 2\n",
      "zilch 2\n",
      "available 2\n",
      "contract 7\n",
      "wealth 3\n",
      "educate 3\n",
      "govern 3\n",
      "vibhushan 3\n",
      "liability 3\n",
      "level 3\n",
      "legal 3\n",
      "lala 3\n",
      "padma 3\n",
      "insure 3\n",
      "parent 3\n",
      "institutions 3\n",
      "philanthropist 3\n",
      "hansraj 3\n",
      "gupta 3\n",
      "ರ 3\n",
      "premier 3\n",
      "education 3\n",
      "response 3\n",
      "structure 3\n",
      "civil 3\n",
      "child 3\n",
      "valid 3\n",
      "block 3\n",
      "bbps 3\n",
      "zero 6\n",
      "digit 6\n",
      "bharati 6\n",
      "bal 6\n",
      "school 12\n",
      "\n"
     ]
    }
   ],
   "source": [
    "for i in range (true_k):\n",
    "  print('Cluster %d: '%i)\n",
    "  for ind in order_centroids[i,:]:\n",
    "    print(terms[ind],sum(vect2_df[terms[ind]]))\n",
    "  print()"
   ]
  },
  {
   "cell_type": "code",
   "execution_count": 0,
   "metadata": {
    "colab": {},
    "colab_type": "code",
    "collapsed": true,
    "id": "evPiXO0zwp1K"
   },
   "outputs": [],
   "source": [
    "train_df = pd.DataFrame()"
   ]
  },
  {
   "cell_type": "code",
   "execution_count": 0,
   "metadata": {
    "colab": {},
    "colab_type": "code",
    "collapsed": true,
    "id": "Gkl7C3dS0XoH"
   },
   "outputs": [],
   "source": [
    "lst_comp = list()\n",
    "for i,j in finaldf.iterrows():\n",
    "  if 'wiki' in str(finaldf['WIKI'][i]):\n",
    "    lst_comp.append(finaldf['Company'][i])\n",
    "train_df['Title'] = lst_comp"
   ]
  },
  {
   "cell_type": "code",
   "execution_count": 0,
   "metadata": {
    "colab": {},
    "colab_type": "code",
    "collapsed": true,
    "id": "PhkuekBg2Mo-"
   },
   "outputs": [],
   "source": [
    "train_df['Cluster'] = kmeans.labels_.tolist()"
   ]
  },
  {
   "cell_type": "code",
   "execution_count": 278,
   "metadata": {
    "colab": {
     "base_uri": "https://localhost:8080/",
     "height": 1785
    },
    "colab_type": "code",
    "collapsed": false,
    "id": "jVYXRJhg2T5g",
    "outputId": "97031e73-c301-4d34-8a10-9ac97e1881c8"
   },
   "outputs": [
    {
     "data": {
      "text/html": [
       "<div>\n",
       "<style scoped>\n",
       "    .dataframe tbody tr th:only-of-type {\n",
       "        vertical-align: middle;\n",
       "    }\n",
       "\n",
       "    .dataframe tbody tr th {\n",
       "        vertical-align: top;\n",
       "    }\n",
       "\n",
       "    .dataframe thead th {\n",
       "        text-align: right;\n",
       "    }\n",
       "</style>\n",
       "<table border=\"1\" class=\"dataframe\">\n",
       "  <thead>\n",
       "    <tr style=\"text-align: right;\">\n",
       "      <th></th>\n",
       "      <th>Title</th>\n",
       "      <th>Cluster</th>\n",
       "    </tr>\n",
       "  </thead>\n",
       "  <tbody>\n",
       "    <tr>\n",
       "      <th>0</th>\n",
       "      <td>ANDB</td>\n",
       "      <td>1</td>\n",
       "    </tr>\n",
       "    <tr>\n",
       "      <th>1</th>\n",
       "      <td>BARB</td>\n",
       "      <td>0</td>\n",
       "    </tr>\n",
       "    <tr>\n",
       "      <th>2</th>\n",
       "      <td>BKID</td>\n",
       "      <td>1</td>\n",
       "    </tr>\n",
       "    <tr>\n",
       "      <th>3</th>\n",
       "      <td>CITI</td>\n",
       "      <td>0</td>\n",
       "    </tr>\n",
       "    <tr>\n",
       "      <th>4</th>\n",
       "      <td>CNRB</td>\n",
       "      <td>1</td>\n",
       "    </tr>\n",
       "    <tr>\n",
       "      <th>5</th>\n",
       "      <td>CORP</td>\n",
       "      <td>0</td>\n",
       "    </tr>\n",
       "    <tr>\n",
       "      <th>6</th>\n",
       "      <td>DR FILE DTD</td>\n",
       "      <td>0</td>\n",
       "    </tr>\n",
       "    <tr>\n",
       "      <th>7</th>\n",
       "      <td>HDFC</td>\n",
       "      <td>1</td>\n",
       "    </tr>\n",
       "    <tr>\n",
       "      <th>8</th>\n",
       "      <td>HSBC</td>\n",
       "      <td>1</td>\n",
       "    </tr>\n",
       "    <tr>\n",
       "      <th>9</th>\n",
       "      <td>IBKL</td>\n",
       "      <td>1</td>\n",
       "    </tr>\n",
       "    <tr>\n",
       "      <th>10</th>\n",
       "      <td>ICIC</td>\n",
       "      <td>1</td>\n",
       "    </tr>\n",
       "    <tr>\n",
       "      <th>11</th>\n",
       "      <td>IDIB</td>\n",
       "      <td>1</td>\n",
       "    </tr>\n",
       "    <tr>\n",
       "      <th>12</th>\n",
       "      <td>IOBA</td>\n",
       "      <td>1</td>\n",
       "    </tr>\n",
       "    <tr>\n",
       "      <th>13</th>\n",
       "      <td>KKBK</td>\n",
       "      <td>1</td>\n",
       "    </tr>\n",
       "    <tr>\n",
       "      <th>14</th>\n",
       "      <td>MAHB</td>\n",
       "      <td>1</td>\n",
       "    </tr>\n",
       "    <tr>\n",
       "      <th>15</th>\n",
       "      <td>ORBC</td>\n",
       "      <td>1</td>\n",
       "    </tr>\n",
       "    <tr>\n",
       "      <th>16</th>\n",
       "      <td>PSIB</td>\n",
       "      <td>1</td>\n",
       "    </tr>\n",
       "    <tr>\n",
       "      <th>17</th>\n",
       "      <td>SBIN</td>\n",
       "      <td>1</td>\n",
       "    </tr>\n",
       "    <tr>\n",
       "      <th>18</th>\n",
       "      <td>SBTR</td>\n",
       "      <td>1</td>\n",
       "    </tr>\n",
       "    <tr>\n",
       "      <th>19</th>\n",
       "      <td>SCBL</td>\n",
       "      <td>1</td>\n",
       "    </tr>\n",
       "    <tr>\n",
       "      <th>20</th>\n",
       "      <td>SIBL</td>\n",
       "      <td>1</td>\n",
       "    </tr>\n",
       "    <tr>\n",
       "      <th>21</th>\n",
       "      <td>SYNB</td>\n",
       "      <td>1</td>\n",
       "    </tr>\n",
       "    <tr>\n",
       "      <th>22</th>\n",
       "      <td>UBIN</td>\n",
       "      <td>1</td>\n",
       "    </tr>\n",
       "    <tr>\n",
       "      <th>23</th>\n",
       "      <td>UCBA</td>\n",
       "      <td>1</td>\n",
       "    </tr>\n",
       "    <tr>\n",
       "      <th>24</th>\n",
       "      <td>UTIB</td>\n",
       "      <td>1</td>\n",
       "    </tr>\n",
       "    <tr>\n",
       "      <th>25</th>\n",
       "      <td>VIJB</td>\n",
       "      <td>1</td>\n",
       "    </tr>\n",
       "    <tr>\n",
       "      <th>26</th>\n",
       "      <td>YESB</td>\n",
       "      <td>1</td>\n",
       "    </tr>\n",
       "    <tr>\n",
       "      <th>27</th>\n",
       "      <td>ACHAL</td>\n",
       "      <td>0</td>\n",
       "    </tr>\n",
       "    <tr>\n",
       "      <th>28</th>\n",
       "      <td>ACHAL CHIT O</td>\n",
       "      <td>0</td>\n",
       "    </tr>\n",
       "    <tr>\n",
       "      <th>29</th>\n",
       "      <td>ACHAL GOYAL</td>\n",
       "      <td>0</td>\n",
       "    </tr>\n",
       "    <tr>\n",
       "      <th>30</th>\n",
       "      <td>ACHALA KULSHRESTHA</td>\n",
       "      <td>0</td>\n",
       "    </tr>\n",
       "    <tr>\n",
       "      <th>31</th>\n",
       "      <td>ACHAY LAL</td>\n",
       "      <td>0</td>\n",
       "    </tr>\n",
       "    <tr>\n",
       "      <th>32</th>\n",
       "      <td>ACHIN</td>\n",
       "      <td>1</td>\n",
       "    </tr>\n",
       "    <tr>\n",
       "      <th>33</th>\n",
       "      <td>ACHIN</td>\n",
       "      <td>0</td>\n",
       "    </tr>\n",
       "    <tr>\n",
       "      <th>34</th>\n",
       "      <td>ACHIN GARG</td>\n",
       "      <td>0</td>\n",
       "    </tr>\n",
       "    <tr>\n",
       "      <th>35</th>\n",
       "      <td>ADITY BIRLA FINANCE</td>\n",
       "      <td>0</td>\n",
       "    </tr>\n",
       "    <tr>\n",
       "      <th>36</th>\n",
       "      <td>Aditya Birla Finance</td>\n",
       "      <td>0</td>\n",
       "    </tr>\n",
       "    <tr>\n",
       "      <th>37</th>\n",
       "      <td>ALLAHABAD BANK</td>\n",
       "      <td>1</td>\n",
       "    </tr>\n",
       "    <tr>\n",
       "      <th>38</th>\n",
       "      <td>ALLAHABADBANKLNRP</td>\n",
       "      <td>1</td>\n",
       "    </tr>\n",
       "    <tr>\n",
       "      <th>39</th>\n",
       "      <td>ANKUR TRADE LINKS PV</td>\n",
       "      <td>0</td>\n",
       "    </tr>\n",
       "    <tr>\n",
       "      <th>40</th>\n",
       "      <td>Au Financiers I Ltd</td>\n",
       "      <td>1</td>\n",
       "    </tr>\n",
       "    <tr>\n",
       "      <th>41</th>\n",
       "      <td>AuFinanciersIltd</td>\n",
       "      <td>1</td>\n",
       "    </tr>\n",
       "    <tr>\n",
       "      <th>42</th>\n",
       "      <td>AUSFB Consumer Durab</td>\n",
       "      <td>1</td>\n",
       "    </tr>\n",
       "    <tr>\n",
       "      <th>43</th>\n",
       "      <td>AVIVA LIFE INSURAMNC</td>\n",
       "      <td>0</td>\n",
       "    </tr>\n",
       "    <tr>\n",
       "      <th>44</th>\n",
       "      <td>AVIVA LIFE INSURANCE</td>\n",
       "      <td>0</td>\n",
       "    </tr>\n",
       "    <tr>\n",
       "      <th>45</th>\n",
       "      <td>AVIVALIFEINSURANCE</td>\n",
       "      <td>0</td>\n",
       "    </tr>\n",
       "    <tr>\n",
       "      <th>46</th>\n",
       "      <td>AXISMF</td>\n",
       "      <td>0</td>\n",
       "    </tr>\n",
       "    <tr>\n",
       "      <th>47</th>\n",
       "      <td>AXISMUTUALFUND</td>\n",
       "      <td>0</td>\n",
       "    </tr>\n",
       "    <tr>\n",
       "      <th>48</th>\n",
       "      <td>BAJAJ CAPITAL LIMITE</td>\n",
       "      <td>0</td>\n",
       "    </tr>\n",
       "    <tr>\n",
       "      <th>49</th>\n",
       "      <td>BAJAJ FINANCE LTD</td>\n",
       "      <td>0</td>\n",
       "    </tr>\n",
       "    <tr>\n",
       "      <th>50</th>\n",
       "      <td>BAJAJCAPITALLTD</td>\n",
       "      <td>0</td>\n",
       "    </tr>\n",
       "    <tr>\n",
       "      <th>51</th>\n",
       "      <td>BAJRANGINVPLTD</td>\n",
       "      <td>0</td>\n",
       "    </tr>\n",
       "    <tr>\n",
       "      <th>52</th>\n",
       "      <td>BAL BHARATI PUBLIC S</td>\n",
       "      <td>0</td>\n",
       "    </tr>\n",
       "    <tr>\n",
       "      <th>53</th>\n",
       "      <td>BANKOFMAHARASHTRA</td>\n",
       "      <td>1</td>\n",
       "    </tr>\n",
       "    <tr>\n",
       "      <th>54</th>\n",
       "      <td>BBPS DWARKA</td>\n",
       "      <td>0</td>\n",
       "    </tr>\n",
       "    <tr>\n",
       "      <th>55</th>\n",
       "      <td>BBPS ROHINI</td>\n",
       "      <td>0</td>\n",
       "    </tr>\n",
       "  </tbody>\n",
       "</table>\n",
       "</div>"
      ],
      "text/plain": [
       "                   Title  Cluster\n",
       "0                  ANDB         1\n",
       "1                  BARB         0\n",
       "2                  BKID         1\n",
       "3                  CITI         0\n",
       "4                  CNRB         1\n",
       "5                  CORP         0\n",
       "6           DR FILE DTD         0\n",
       "7                  HDFC         1\n",
       "8                  HSBC         1\n",
       "9                  IBKL         1\n",
       "10                 ICIC         1\n",
       "11                 IDIB         1\n",
       "12                 IOBA         1\n",
       "13                 KKBK         1\n",
       "14                 MAHB         1\n",
       "15                 ORBC         1\n",
       "16                 PSIB         1\n",
       "17                 SBIN         1\n",
       "18                 SBTR         1\n",
       "19                 SCBL         1\n",
       "20                 SIBL         1\n",
       "21                 SYNB         1\n",
       "22                 UBIN         1\n",
       "23                 UCBA         1\n",
       "24                 UTIB         1\n",
       "25                 VIJB         1\n",
       "26                 YESB         1\n",
       "27                 ACHAL        0\n",
       "28          ACHAL CHIT O        0\n",
       "29           ACHAL GOYAL        0\n",
       "30    ACHALA KULSHRESTHA        0\n",
       "31            ACHAY LAL         0\n",
       "32                 ACHIN        1\n",
       "33                ACHIN         0\n",
       "34           ACHIN GARG         0\n",
       "35   ADITY BIRLA FINANCE        0\n",
       "36  Aditya Birla Finance        0\n",
       "37        ALLAHABAD BANK        1\n",
       "38     ALLAHABADBANKLNRP        1\n",
       "39  ANKUR TRADE LINKS PV        0\n",
       "40   Au Financiers I Ltd        1\n",
       "41      AuFinanciersIltd        1\n",
       "42  AUSFB Consumer Durab        1\n",
       "43  AVIVA LIFE INSURAMNC        0\n",
       "44  AVIVA LIFE INSURANCE        0\n",
       "45    AVIVALIFEINSURANCE        0\n",
       "46                AXISMF        0\n",
       "47        AXISMUTUALFUND        0\n",
       "48  BAJAJ CAPITAL LIMITE        0\n",
       "49     BAJAJ FINANCE LTD        0\n",
       "50       BAJAJCAPITALLTD        0\n",
       "51        BAJRANGINVPLTD        0\n",
       "52  BAL BHARATI PUBLIC S        0\n",
       "53     BANKOFMAHARASHTRA        1\n",
       "54           BBPS DWARKA        0\n",
       "55           BBPS ROHINI        0"
      ]
     },
     "execution_count": 278,
     "metadata": {
      "tags": []
     },
     "output_type": "execute_result"
    }
   ],
   "source": [
    "train_df"
   ]
  },
  {
   "cell_type": "code",
   "execution_count": 0,
   "metadata": {
    "colab": {},
    "colab_type": "code",
    "collapsed": true,
    "id": "e661xEMr8lVY"
   },
   "outputs": [],
   "source": [
    "from sklearn.metrics import silhouette_score\n",
    "score = silhouette_score(vect2_df,clusters)"
   ]
  },
  {
   "cell_type": "code",
   "execution_count": 280,
   "metadata": {
    "colab": {
     "base_uri": "https://localhost:8080/",
     "height": 34
    },
    "colab_type": "code",
    "collapsed": false,
    "id": "Yw7KzlQ7KsYz",
    "outputId": "0764f92b-0be1-4f8b-d39e-ba9ae7257b17"
   },
   "outputs": [
    {
     "data": {
      "text/plain": [
       "0.1625031508827885"
      ]
     },
     "execution_count": 280,
     "metadata": {
      "tags": []
     },
     "output_type": "execute_result"
    }
   ],
   "source": [
    "score"
   ]
  },
  {
   "cell_type": "code",
   "execution_count": 0,
   "metadata": {
    "colab": {},
    "colab_type": "code",
    "collapsed": true,
    "id": "bg0ibolVKtJi"
   },
   "outputs": [],
   "source": []
  },
  {
   "cell_type": "markdown",
   "metadata": {
    "colab_type": "text",
    "id": "JLqJGWsAQAaa"
   },
   "source": [
    "# Performing agglomerative clustering algorithm"
   ]
  },
  {
   "cell_type": "code",
   "execution_count": 0,
   "metadata": {
    "colab": {},
    "colab_type": "code",
    "collapsed": true,
    "id": "ZJuv_De7QHNd"
   },
   "outputs": [],
   "source": [
    "import matplotlib.pyplot as plt  \n",
    "import pandas as pd  \n",
    "%matplotlib inline\n",
    "import numpy as np  "
   ]
  },
  {
   "cell_type": "code",
   "execution_count": 318,
   "metadata": {
    "colab": {
     "base_uri": "https://localhost:8080/",
     "height": 280
    },
    "colab_type": "code",
    "collapsed": false,
    "id": "85Vm8EdsSKRO",
    "outputId": "cfccda4b-61aa-432e-9a2f-770dfb6b1efc"
   },
   "outputs": [
    {
     "data": {
      "image/png": "[encoded data removed]",
      "text/plain": [
       "<Figure size 432x288 with 1 Axes>"
      ]
     },
     "metadata": {
      "tags": []
     },
     "output_type": "display_data"
    }
   ],
   "source": [
    "import scipy.cluster.hierarchy as shc \n",
    "plt.title(\"Company Dendograms\")  \n",
    "dend = shc.dendrogram(shc.linkage(vect2_df.values, method='ward'))  "
   ]
  },
  {
   "cell_type": "code",
   "execution_count": 325,
   "metadata": {
    "colab": {
     "base_uri": "https://localhost:8080/",
     "height": 68
    },
    "colab_type": "code",
    "collapsed": false,
    "id": "uRS205nkRruW",
    "outputId": "959e016e-90fb-4254-dce2-4e51cc6b9c8d"
   },
   "outputs": [
    {
     "data": {
      "text/plain": [
       "array([1, 1, 1, 0, 1, 0, 0, 1, 1, 1, 1, 1, 1, 1, 1, 1, 1, 1, 1, 1, 1, 1,\n",
       "       1, 1, 1, 1, 1, 0, 0, 0, 0, 0, 1, 0, 0, 0, 0, 1, 1, 0, 0, 0, 0, 0,\n",
       "       0, 0, 0, 0, 0, 0, 0, 0, 0, 1, 0, 0])"
      ]
     },
     "execution_count": 325,
     "metadata": {
      "tags": []
     },
     "output_type": "execute_result"
    }
   ],
   "source": [
    "from sklearn.cluster import AgglomerativeClustering\n",
    "\n",
    "aggcluster = AgglomerativeClustering(n_clusters=2, affinity='euclidean', linkage='ward')  \n",
    "aggcluster.fit_predict(vect2_df.values) "
   ]
  },
  {
   "cell_type": "code",
   "execution_count": 0,
   "metadata": {
    "colab": {},
    "colab_type": "code",
    "collapsed": true,
    "id": "u9h-uH6FTVec"
   },
   "outputs": [],
   "source": [
    "scatter_x = two_dim[:,0]\n",
    "scatter_y = two_dim[:,1]"
   ]
  },
  {
   "cell_type": "code",
   "execution_count": 327,
   "metadata": {
    "colab": {
     "base_uri": "https://localhost:8080/",
     "height": 286
    },
    "colab_type": "code",
    "collapsed": false,
    "id": "dwR_24z_T10N",
    "outputId": "bdd283af-1c9f-41d1-e741-1db6e32bddcd"
   },
   "outputs": [
    {
     "data": {
      "text/plain": [
       "<matplotlib.collections.PathCollection at 0x7fe55be2f588>"
      ]
     },
     "execution_count": 327,
     "metadata": {
      "tags": []
     },
     "output_type": "execute_result"
    },
    {
     "data": {
      "image/png": "[encoded data removed]",
      "text/plain": [
       "<Figure size 432x288 with 1 Axes>"
      ]
     },
     "metadata": {
      "tags": []
     },
     "output_type": "display_data"
    }
   ],
   "source": [
    "plt.scatter(scatter_x,scatter_y,c=aggcluster.labels_,cmap = 'rainbow')"
   ]
  },
  {
   "cell_type": "code",
   "execution_count": 0,
   "metadata": {
    "colab": {},
    "colab_type": "code",
    "collapsed": true,
    "id": "sEygOOFyUY0j"
   },
   "outputs": [],
   "source": []
  }
 ],
 "metadata": {
  "accelerator": "GPU",
  "anaconda-cloud": {},
  "colab": {
   "collapsed_sections": [
    "HUfuy6YWKx-q",
    "zzyS5Q40KyA7",
    "fknL1YYiKyA8",
    "SYPY1-QPKyBp",
    "NstBw4t-KyB1",
    "m61JC-S6KyB2",
    "x8v_y6JLKyCO",
    "f-TlMxFQKyCX",
    "m5ep8jecKyCb",
    "KJCB0Nq2KyCk",
    "CNLiqa7RKyCt",
    "ZELa4ltZKyC7",
    "5gXf9HDFKyDD",
    "5jKDKWBgS-TU",
    "3Zl26tJRKyDN",
    "HurrM8XwKyDt",
    "JLqJGWsAQAaa"
   ],
   "name": "COMPANY_PROCESSED_DATA(pipeline complete).ipynb",
   "provenance": [],
   "version": "0.3.2"
  },
  "kernelspec": {
   "display_name": "Python [default]",
   "language": "python",
   "name": "python3"
  },
  "language_info": {
   "codemirror_mode": {
    "name": "ipython",
    "version": 3
   },
   "file_extension": ".py",
   "mimetype": "text/x-python",
   "name": "python",
   "nbconvert_exporter": "python",
   "pygments_lexer": "ipython3",
   "version": "3.5.2"
  }
 },
 "nbformat": 4,
 "nbformat_minor": 0
}
