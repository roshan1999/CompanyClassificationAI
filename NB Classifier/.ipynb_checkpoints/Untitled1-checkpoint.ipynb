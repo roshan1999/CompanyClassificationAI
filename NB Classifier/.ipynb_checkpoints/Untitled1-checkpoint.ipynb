{
 "cells": [
  {
   "cell_type": "code",
   "execution_count": null,
   "metadata": {
    "collapsed": true
   },
   "outputs": [],
   "source": [
    "Xfin2 = pd.concat([X1,Y1],axis =1)\n",
    "\n",
    "X = Xfin2.Data0\n",
    "y = Xfin2.CategoryID\n",
    "X_train,X_test,Y_train,Y_test = train_test_split(X,y,test_size = 0.25,random_state = 25)\n",
    "\n",
    "Xsample = pd.concat([X_train,Y_train],axis = 1)\n",
    "bank = Xsample[Xsample.CategoryID == 1]\n",
    "other = Xsample[Xsample.CategoryID == 7]\n",
    "assmt = Xsample[Xsample.CategoryID == 0]\n",
    "LnInvest = Xsample[Xsample.CategoryID == 5]\n",
    "Investor = Xsample[Xsample.CategoryID == 4]\n",
    "Loan = Xsample[Xsample.CategoryID == 6]\n",
    "Finance = Xsample[Xsample.CategoryID == 2]\n",
    "HomeLoan = Xsample[Xsample.CategoryID == 3]\n",
    "\n",
    "other = resample(other,replace = True,n_samples = len(bank),random_state = 25)\n",
    "assmt = resample(assmt,replace = True,n_samples = len(bank),random_state = 25)\n",
    "LnInvest = resample(LnInvest,replace = True,n_samples = len(bank),random_state = 25)\n",
    "Investor = resample(Investor,replace = True,n_samples = len(bank),random_state = 25)\n",
    "Loan = resample(Loan,replace = True,n_samples = len(bank),random_state = 25)\n",
    "Finance = resample(Finance,replace = True,n_samples = len(bank),random_state = 25)\n",
    "HomeLoan = resample(HomeLoan,replace = True,n_samples = len(bank),random_state = 25)\n",
    "\n",
    "\n",
    "Xfin = pd.concat([bank,other,assmt,LnInvest,Investor,Loan,Finance,HomeLoan\n",
    "    ])\n",
    "\n",
    "X_train = pd.DataFrame(Xfin.Data0)\n",
    "Y_train = pd.DataFrame(Xfin.CategoryID)"
   ]
  }
 ],
 "metadata": {
  "kernelspec": {
   "display_name": "Python [conda env:anaconda3]",
   "language": "python",
   "name": "conda-env-anaconda3-py"
  },
  "language_info": {
   "codemirror_mode": {
    "name": "ipython",
    "version": 3
   },
   "file_extension": ".py",
   "mimetype": "text/x-python",
   "name": "python",
   "nbconvert_exporter": "python",
   "pygments_lexer": "ipython3",
   "version": "3.5.2"
  }
 },
 "nbformat": 4,
 "nbformat_minor": 1
}
